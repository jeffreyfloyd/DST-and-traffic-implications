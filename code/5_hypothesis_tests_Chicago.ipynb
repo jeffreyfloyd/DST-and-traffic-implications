{
 "cells": [
  {
   "cell_type": "code",
   "execution_count": 1,
   "id": "83bf3ecd-c5ec-464c-bf9a-b6e26db54a38",
   "metadata": {},
   "outputs": [],
   "source": [
    "#Standard python imports\n",
    "import pandas as pd \n",
    "import numpy as np\n",
    "import matplotlib.pyplot as plt\n",
    "import seaborn as sns\n",
    "\n",
    "#Stats imports\n",
    "import statsmodels.api as sm\n",
    "from statsmodels.formula.api import ols\n",
    "from statsmodels.stats.anova import anova_lm\n",
    "import statsmodels.stats.multicomp as mc\n",
    "import scipy.stats as stats\n",
    "\n",
    "#random seed for replicability\n",
    "np.random.seed(seed=42)"
   ]
  },
  {
   "cell_type": "code",
   "execution_count": 2,
   "id": "8e481a47-17f4-4969-a813-47946276e17a",
   "metadata": {},
   "outputs": [
    {
     "data": {
      "text/html": [
       "<div>\n",
       "<style scoped>\n",
       "    .dataframe tbody tr th:only-of-type {\n",
       "        vertical-align: middle;\n",
       "    }\n",
       "\n",
       "    .dataframe tbody tr th {\n",
       "        vertical-align: top;\n",
       "    }\n",
       "\n",
       "    .dataframe thead th {\n",
       "        text-align: right;\n",
       "    }\n",
       "</style>\n",
       "<table border=\"1\" class=\"dataframe\">\n",
       "  <thead>\n",
       "    <tr style=\"text-align: right;\">\n",
       "      <th></th>\n",
       "      <th>severity</th>\n",
       "      <th>start_lat</th>\n",
       "      <th>start_lng</th>\n",
       "      <th>end_lat</th>\n",
       "      <th>end_lng</th>\n",
       "      <th>distance(mi)</th>\n",
       "      <th>temperature(f)</th>\n",
       "      <th>wind_chill(f)</th>\n",
       "      <th>humidity(%)</th>\n",
       "      <th>pressure(in)</th>\n",
       "      <th>...</th>\n",
       "      <th>hour_22</th>\n",
       "      <th>hour_23</th>\n",
       "      <th>weather_condition_Light Snow with Thunder</th>\n",
       "      <th>weather_condition_Smoke / Windy</th>\n",
       "      <th>weather_condition_Light Snow and Sleet</th>\n",
       "      <th>weather_condition_Haze / Windy</th>\n",
       "      <th>weather_condition_Heavy Snow / Windy</th>\n",
       "      <th>weather_condition_Blowing Dust / Windy</th>\n",
       "      <th>weather_condition_Heavy Blowing Snow</th>\n",
       "      <th>is_DST</th>\n",
       "    </tr>\n",
       "  </thead>\n",
       "  <tbody>\n",
       "    <tr>\n",
       "      <th>0</th>\n",
       "      <td>2</td>\n",
       "      <td>42.30596</td>\n",
       "      <td>-87.96015</td>\n",
       "      <td>42.306916</td>\n",
       "      <td>-87.960918</td>\n",
       "      <td>0.077</td>\n",
       "      <td>37.0</td>\n",
       "      <td>31.0</td>\n",
       "      <td>79.0</td>\n",
       "      <td>29.59</td>\n",
       "      <td>...</td>\n",
       "      <td>0</td>\n",
       "      <td>0</td>\n",
       "      <td>0</td>\n",
       "      <td>0</td>\n",
       "      <td>0</td>\n",
       "      <td>0</td>\n",
       "      <td>0</td>\n",
       "      <td>0</td>\n",
       "      <td>0</td>\n",
       "      <td>0</td>\n",
       "    </tr>\n",
       "    <tr>\n",
       "      <th>1</th>\n",
       "      <td>2</td>\n",
       "      <td>42.17587</td>\n",
       "      <td>-88.13577</td>\n",
       "      <td>42.174620</td>\n",
       "      <td>-88.135794</td>\n",
       "      <td>0.086</td>\n",
       "      <td>37.0</td>\n",
       "      <td>28.1</td>\n",
       "      <td>76.0</td>\n",
       "      <td>29.62</td>\n",
       "      <td>...</td>\n",
       "      <td>0</td>\n",
       "      <td>0</td>\n",
       "      <td>0</td>\n",
       "      <td>0</td>\n",
       "      <td>0</td>\n",
       "      <td>0</td>\n",
       "      <td>0</td>\n",
       "      <td>0</td>\n",
       "      <td>0</td>\n",
       "      <td>0</td>\n",
       "    </tr>\n",
       "  </tbody>\n",
       "</table>\n",
       "<p>2 rows × 119 columns</p>\n",
       "</div>"
      ],
      "text/plain": [
       "   severity  start_lat  start_lng    end_lat    end_lng  distance(mi)  \\\n",
       "0         2   42.30596  -87.96015  42.306916 -87.960918         0.077   \n",
       "1         2   42.17587  -88.13577  42.174620 -88.135794         0.086   \n",
       "\n",
       "   temperature(f)  wind_chill(f)  humidity(%)  pressure(in)  ...  hour_22  \\\n",
       "0            37.0           31.0         79.0         29.59  ...        0   \n",
       "1            37.0           28.1         76.0         29.62  ...        0   \n",
       "\n",
       "   hour_23  weather_condition_Light Snow with Thunder  \\\n",
       "0        0                                          0   \n",
       "1        0                                          0   \n",
       "\n",
       "   weather_condition_Smoke / Windy  weather_condition_Light Snow and Sleet  \\\n",
       "0                                0                                       0   \n",
       "1                                0                                       0   \n",
       "\n",
       "   weather_condition_Haze / Windy  weather_condition_Heavy Snow / Windy  \\\n",
       "0                               0                                     0   \n",
       "1                               0                                     0   \n",
       "\n",
       "   weather_condition_Blowing Dust / Windy  \\\n",
       "0                                       0   \n",
       "1                                       0   \n",
       "\n",
       "   weather_condition_Heavy Blowing Snow  is_DST  \n",
       "0                                     0       0  \n",
       "1                                     0       0  \n",
       "\n",
       "[2 rows x 119 columns]"
      ]
     },
     "execution_count": 2,
     "metadata": {},
     "output_type": "execute_result"
    }
   ],
   "source": [
    "chi_df = pd.read_csv('../data/chi_df_cleaned.csv')\n",
    "chi_df.head(2)"
   ]
  },
  {
   "cell_type": "markdown",
   "id": "14bf27b8-dc09-41a7-b0d7-faa68571c778",
   "metadata": {},
   "source": [
    "## ANOVA on severity of accidents for Spring DST Time Change"
   ]
  },
  {
   "cell_type": "code",
   "execution_count": 3,
   "id": "e2596143-72e0-41d8-a0a2-6489d12a400e",
   "metadata": {},
   "outputs": [],
   "source": [
    "#I (CH) referenced this article for a refresher on ANOVA and to find the libraries to use for each test\n",
    "#https://www.pythonfordatascience.org/anova-python/#anova-test\n",
    "#I referenced these pages for a refresher on ANOVA vs. Kruskall-Wallace and the impact of a non-normal distribution\n",
    "# https://stats.stackexchange.com/questions/76059/difference-between-anova-and-kruskal-wallis-test\n",
    "# http://www.biostathandbook.com/kruskalwallis.html"
   ]
  },
  {
   "cell_type": "code",
   "execution_count": 4,
   "id": "dbbecbdc-9f8b-4c92-bd13-a88876457694",
   "metadata": {},
   "outputs": [
    {
     "data": {
      "text/plain": [
       "F_onewayResult(statistic=8.688793448084233, pvalue=0.00017439777178230329)"
      ]
     },
     "execution_count": 4,
     "metadata": {},
     "output_type": "execute_result"
    }
   ],
   "source": [
    "#Spring DST Time Change ANOVA\n",
    "stats.f_oneway(chi_df['severity'][chi_df['week'] == 10],\n",
    "              chi_df['severity'][chi_df['week'] == 11],\n",
    "              chi_df['severity'][chi_df['week'] == 12])"
   ]
  },
  {
   "cell_type": "code",
   "execution_count": 5,
   "id": "981ac290-f64e-43e7-ac8e-18bfcbcd5ede",
   "metadata": {},
   "outputs": [
    {
     "data": {
      "text/plain": [
       "KruskalResult(statistic=16.609003084980962, pvalue=0.000247400632235319)"
      ]
     },
     "execution_count": 5,
     "metadata": {},
     "output_type": "execute_result"
    }
   ],
   "source": [
    "#Spring DST Time Change Kruskall-Wallace\n",
    "stats.kruskal(chi_df['severity'][chi_df['week'] == 10],\n",
    "              chi_df['severity'][chi_df['week'] == 11],\n",
    "              chi_df['severity'][chi_df['week'] == 12])"
   ]
  },
  {
   "cell_type": "code",
   "execution_count": 6,
   "id": "b6a02df5-cdb0-48a5-b19a-6aadd8870d8c",
   "metadata": {},
   "outputs": [
    {
     "data": {
      "text/plain": [
       "F_onewayResult(statistic=0.20600694424410165, pvalue=0.8138414290480289)"
      ]
     },
     "execution_count": 6,
     "metadata": {},
     "output_type": "execute_result"
    }
   ],
   "source": [
    "#Fall DST Time Change ANOVA\n",
    "stats.f_oneway(chi_df['severity'][chi_df['week'] == 44],\n",
    "              chi_df['severity'][chi_df['week'] == 45],\n",
    "              chi_df['severity'][chi_df['week'] == 46])"
   ]
  },
  {
   "cell_type": "code",
   "execution_count": 7,
   "id": "1438d8e7-210b-46ec-8344-6800487bc710",
   "metadata": {},
   "outputs": [
    {
     "data": {
      "text/plain": [
       "KruskalResult(statistic=0.023728434732062008, pvalue=0.9882058849505668)"
      ]
     },
     "execution_count": 7,
     "metadata": {},
     "output_type": "execute_result"
    }
   ],
   "source": [
    "#Fall DST Time Change Kruskall-Wallace\n",
    "stats.kruskal(chi_df['severity'][chi_df['week'] == 44],\n",
    "              chi_df['severity'][chi_df['week'] == 45],\n",
    "              chi_df['severity'][chi_df['week'] == 46])"
   ]
  },
  {
   "cell_type": "code",
   "execution_count": 8,
   "id": "5b0b37b4-b9ab-4e30-b727-0977c96cc805",
   "metadata": {},
   "outputs": [
    {
     "data": {
      "text/plain": [
       "11    918\n",
       "12    714\n",
       "10    540\n",
       "Name: week, dtype: int64"
      ]
     },
     "execution_count": 8,
     "metadata": {},
     "output_type": "execute_result"
    }
   ],
   "source": [
    "chi_df_spring_dst =  chi_df[(chi_df['week'] == 10) | (chi_df['week'] == 11) | (chi_df['week'] == 12)]\n",
    "chi_df_spring_dst['week'].value_counts()"
   ]
  },
  {
   "cell_type": "code",
   "execution_count": 29,
   "id": "9efd26a8-8f5a-4d5d-b099-d6c5fb777ccf",
   "metadata": {},
   "outputs": [
    {
     "name": "stdout",
     "output_type": "stream",
     "text": [
      "dof=0\n",
      "[3. 3. 3. ... 3. 3. 3.]\n",
      "Independent (fail to reject H0)\n"
     ]
    }
   ],
   "source": [
    "#from https://machinelearningmastery.com/chi-squared-test-for-machine-learning/\n",
    "stat, p, dof, expected = stats.chi2_contingency(chi_df_spring_dst['severity'])\n",
    "print('dof=%d' % dof)\n",
    "print(expected)\n",
    "\n",
    "prob = 0.95\n",
    "critical = stats.chi2.ppf(prob, dof)\n",
    "if abs(stat) >= critical:\n",
    "    print('Dependent (reject H0)')\n",
    "else:\n",
    "    print('Independent (fail to reject H0)')"
   ]
  },
  {
   "cell_type": "code",
   "execution_count": 9,
   "id": "b35c3f67-edea-47fe-93e9-e41f7cba607c",
   "metadata": {},
   "outputs": [
    {
     "data": {
      "text/plain": [
       "45    889\n",
       "44    859\n",
       "46    721\n",
       "Name: week, dtype: int64"
      ]
     },
     "execution_count": 9,
     "metadata": {},
     "output_type": "execute_result"
    }
   ],
   "source": [
    "chi_df_fall_dst = chi_df[(chi_df['week'] == 44) | (chi_df['week'] == 45) | (chi_df['week'] == 46)]\n",
    "chi_df_fall_dst['week'].value_counts()"
   ]
  },
  {
   "cell_type": "code",
   "execution_count": 15,
   "id": "96e308d2-6194-456f-845a-6408df651930",
   "metadata": {},
   "outputs": [
    {
     "data": {
      "text/plain": [
       "KruskalResult(statistic=16.609003084980962, pvalue=0.000247400632235319)"
      ]
     },
     "execution_count": 15,
     "metadata": {},
     "output_type": "execute_result"
    }
   ],
   "source": [
    "stats.kruskal(chi_df['severity'][chi_df['week'] == 10],\n",
    "              chi_df['severity'][chi_df['week'] == 11],\n",
    "              chi_df['severity'][chi_df['week'] == 12])"
   ]
  },
  {
   "cell_type": "code",
   "execution_count": 10,
   "id": "220dad13-48de-463b-a4a0-797344de5cad",
   "metadata": {},
   "outputs": [
    {
     "data": {
      "text/html": [
       "<div>\n",
       "<style scoped>\n",
       "    .dataframe tbody tr th:only-of-type {\n",
       "        vertical-align: middle;\n",
       "    }\n",
       "\n",
       "    .dataframe tbody tr th {\n",
       "        vertical-align: top;\n",
       "    }\n",
       "\n",
       "    .dataframe thead th {\n",
       "        text-align: right;\n",
       "    }\n",
       "</style>\n",
       "<table border=\"1\" class=\"dataframe\">\n",
       "  <thead>\n",
       "    <tr style=\"text-align: right;\">\n",
       "      <th></th>\n",
       "      <th>sum_sq</th>\n",
       "      <th>df</th>\n",
       "      <th>F</th>\n",
       "      <th>PR(&gt;F)</th>\n",
       "    </tr>\n",
       "  </thead>\n",
       "  <tbody>\n",
       "    <tr>\n",
       "      <th>C(week)</th>\n",
       "      <td>6.234790</td>\n",
       "      <td>2.0</td>\n",
       "      <td>8.688793</td>\n",
       "      <td>0.000174</td>\n",
       "    </tr>\n",
       "    <tr>\n",
       "      <th>Residual</th>\n",
       "      <td>778.201214</td>\n",
       "      <td>2169.0</td>\n",
       "      <td>NaN</td>\n",
       "      <td>NaN</td>\n",
       "    </tr>\n",
       "  </tbody>\n",
       "</table>\n",
       "</div>"
      ],
      "text/plain": [
       "              sum_sq      df         F    PR(>F)\n",
       "C(week)     6.234790     2.0  8.688793  0.000174\n",
       "Residual  778.201214  2169.0       NaN       NaN"
      ]
     },
     "execution_count": 10,
     "metadata": {},
     "output_type": "execute_result"
    }
   ],
   "source": [
    "#Statsmodel ANOVA for cleaner tables and use in multiple comparison tests\n",
    "chi_spring_anova = ols(\"severity ~C(week)\", data=chi_df_spring_dst).fit()\n",
    "chi_spr_aov_table = sm.stats.anova_lm(chi_spring_anova, typ=2)\n",
    "chi_spr_aov_table"
   ]
  },
  {
   "cell_type": "code",
   "execution_count": 25,
   "id": "17036dd1-2d6f-4ac0-a4d0-fd7a61c113e5",
   "metadata": {},
   "outputs": [],
   "source": [
    "chi_spr_aov_table.to_clipboard()"
   ]
  },
  {
   "cell_type": "code",
   "execution_count": 11,
   "id": "555f94c5-e1a2-413d-949b-b75a93ec9f5d",
   "metadata": {},
   "outputs": [
    {
     "data": {
      "text/html": [
       "<div>\n",
       "<style scoped>\n",
       "    .dataframe tbody tr th:only-of-type {\n",
       "        vertical-align: middle;\n",
       "    }\n",
       "\n",
       "    .dataframe tbody tr th {\n",
       "        vertical-align: top;\n",
       "    }\n",
       "\n",
       "    .dataframe thead th {\n",
       "        text-align: right;\n",
       "    }\n",
       "</style>\n",
       "<table border=\"1\" class=\"dataframe\">\n",
       "  <thead>\n",
       "    <tr style=\"text-align: right;\">\n",
       "      <th></th>\n",
       "      <th>sum_sq</th>\n",
       "      <th>df</th>\n",
       "      <th>F</th>\n",
       "      <th>PR(&gt;F)</th>\n",
       "    </tr>\n",
       "  </thead>\n",
       "  <tbody>\n",
       "    <tr>\n",
       "      <th>C(week)</th>\n",
       "      <td>0.150841</td>\n",
       "      <td>2.0</td>\n",
       "      <td>0.206007</td>\n",
       "      <td>0.813841</td>\n",
       "    </tr>\n",
       "    <tr>\n",
       "      <th>Residual</th>\n",
       "      <td>902.821212</td>\n",
       "      <td>2466.0</td>\n",
       "      <td>NaN</td>\n",
       "      <td>NaN</td>\n",
       "    </tr>\n",
       "  </tbody>\n",
       "</table>\n",
       "</div>"
      ],
      "text/plain": [
       "              sum_sq      df         F    PR(>F)\n",
       "C(week)     0.150841     2.0  0.206007  0.813841\n",
       "Residual  902.821212  2466.0       NaN       NaN"
      ]
     },
     "execution_count": 11,
     "metadata": {},
     "output_type": "execute_result"
    }
   ],
   "source": [
    "#Recheck of initial results from scipy.stats\n",
    "#Reaffirms there is no difference between the weeks, so no reason to run a comparison test\n",
    "chi_fall_anova = ols(\"severity ~C(week)\", data=chi_df_fall_dst).fit()\n",
    "chi_fall_aov_table = sm.stats.anova_lm(chi_fall_anova, typ=2)\n",
    "chi_fall_aov_table"
   ]
  },
  {
   "cell_type": "code",
   "execution_count": 40,
   "id": "569ddc87-bf2c-4185-8885-3187813f391d",
   "metadata": {},
   "outputs": [
    {
     "data": {
      "text/plain": [
       "C(week)    0.007948\n",
       "Name: sum_sq, dtype: float64"
      ]
     },
     "execution_count": 40,
     "metadata": {},
     "output_type": "execute_result"
    }
   ],
   "source": [
    "eta_square = chi_spr_aov_table[:-1]['sum_sq'] / sum(chi_spr_aov_table['sum_sq'])\n",
    "eta_square"
   ]
  },
  {
   "cell_type": "code",
   "execution_count": 12,
   "id": "75596336-67e8-4ae8-8ea8-8212c262d65a",
   "metadata": {},
   "outputs": [
    {
     "data": {
      "text/plain": [
       "ShapiroResult(statistic=0.8185059428215027, pvalue=3.363116314379561e-44)"
      ]
     },
     "execution_count": 12,
     "metadata": {},
     "output_type": "execute_result"
    }
   ],
   "source": [
    "#Shapiro test of normality, failed as the severity of accidents is not normally distributed\n",
    "stats.shapiro(chi_spring_anova.resid)"
   ]
  },
  {
   "cell_type": "code",
   "execution_count": 13,
   "id": "2bed5654-691a-46db-a108-ef4acbbd5589",
   "metadata": {},
   "outputs": [
    {
     "data": {
      "image/png": "[encoded data removed]",
      "text/plain": [
       "<Figure size 432x288 with 1 Axes>"
      ]
     },
     "metadata": {
      "needs_background": "light"
     },
     "output_type": "display_data"
    }
   ],
   "source": [
    "#QQ plot to conform lack of normality\n",
    "sm.qqplot(chi_df_spring_dst['severity'], line='s');"
   ]
  },
  {
   "cell_type": "code",
   "execution_count": 14,
   "id": "a79f17c3-b833-478a-bb9d-5c784992d0c4",
   "metadata": {
    "tags": []
   },
   "outputs": [
    {
     "data": {
      "text/plain": [
       "LeveneResult(statistic=2.2096940010363624, pvalue=0.10998119275827695)"
      ]
     },
     "execution_count": 14,
     "metadata": {},
     "output_type": "execute_result"
    }
   ],
   "source": [
    "#Levene's test of \n",
    "stats.levene(chi_df['severity'][chi_df['week'] == 10],\n",
    "              chi_df['severity'][chi_df['week'] == 11],\n",
    "              chi_df['severity'][chi_df['week'] == 12])"
   ]
  },
  {
   "cell_type": "markdown",
   "id": "796ec272-25e3-4d86-b467-20bab71c9b3d",
   "metadata": {},
   "source": [
    "### Tukey Honestly Significant Difference (HSD) Test"
   ]
  },
  {
   "cell_type": "code",
   "execution_count": 16,
   "id": "a91f9a02-ca12-4b61-a2c8-ecc2e7bd12ce",
   "metadata": {},
   "outputs": [
    {
     "name": "stderr",
     "output_type": "stream",
     "text": [
      "<ipython-input-16-ddc561bb7eaa>:1: SettingWithCopyWarning: \n",
      "A value is trying to be set on a copy of a slice from a DataFrame.\n",
      "Try using .loc[row_indexer,col_indexer] = value instead\n",
      "\n",
      "See the caveats in the documentation: https://pandas.pydata.org/pandas-docs/stable/user_guide/indexing.html#returning-a-view-versus-a-copy\n",
      "  chi_df_spring_dst['week'] = chi_df_spring_dst.week.map({10 : 'Week Before', 11 : 'Week of DST', 12: 'Week After'})\n"
     ]
    },
    {
     "data": {
      "text/html": [
       "<div>\n",
       "<style scoped>\n",
       "    .dataframe tbody tr th:only-of-type {\n",
       "        vertical-align: middle;\n",
       "    }\n",
       "\n",
       "    .dataframe tbody tr th {\n",
       "        vertical-align: top;\n",
       "    }\n",
       "\n",
       "    .dataframe thead th {\n",
       "        text-align: right;\n",
       "    }\n",
       "</style>\n",
       "<table border=\"1\" class=\"dataframe\">\n",
       "  <thead>\n",
       "    <tr style=\"text-align: right;\">\n",
       "      <th></th>\n",
       "      <th>severity</th>\n",
       "      <th>start_lat</th>\n",
       "      <th>start_lng</th>\n",
       "      <th>end_lat</th>\n",
       "      <th>end_lng</th>\n",
       "      <th>distance(mi)</th>\n",
       "      <th>temperature(f)</th>\n",
       "      <th>wind_chill(f)</th>\n",
       "      <th>humidity(%)</th>\n",
       "      <th>pressure(in)</th>\n",
       "      <th>...</th>\n",
       "      <th>hour_22</th>\n",
       "      <th>hour_23</th>\n",
       "      <th>weather_condition_Light Snow with Thunder</th>\n",
       "      <th>weather_condition_Smoke / Windy</th>\n",
       "      <th>weather_condition_Light Snow and Sleet</th>\n",
       "      <th>weather_condition_Haze / Windy</th>\n",
       "      <th>weather_condition_Heavy Snow / Windy</th>\n",
       "      <th>weather_condition_Blowing Dust / Windy</th>\n",
       "      <th>weather_condition_Heavy Blowing Snow</th>\n",
       "      <th>is_DST</th>\n",
       "    </tr>\n",
       "  </thead>\n",
       "  <tbody>\n",
       "    <tr>\n",
       "      <th>10029</th>\n",
       "      <td>3</td>\n",
       "      <td>41.95184</td>\n",
       "      <td>-87.72775</td>\n",
       "      <td>41.94999</td>\n",
       "      <td>-87.72449</td>\n",
       "      <td>0.211</td>\n",
       "      <td>33.1</td>\n",
       "      <td>22.6</td>\n",
       "      <td>72.0</td>\n",
       "      <td>30.35</td>\n",
       "      <td>...</td>\n",
       "      <td>0</td>\n",
       "      <td>0</td>\n",
       "      <td>0</td>\n",
       "      <td>0</td>\n",
       "      <td>0</td>\n",
       "      <td>0</td>\n",
       "      <td>0</td>\n",
       "      <td>0</td>\n",
       "      <td>0</td>\n",
       "      <td>0</td>\n",
       "    </tr>\n",
       "    <tr>\n",
       "      <th>10030</th>\n",
       "      <td>3</td>\n",
       "      <td>41.72170</td>\n",
       "      <td>-87.62416</td>\n",
       "      <td>41.72734</td>\n",
       "      <td>-87.62431</td>\n",
       "      <td>0.390</td>\n",
       "      <td>34.0</td>\n",
       "      <td>25.0</td>\n",
       "      <td>64.0</td>\n",
       "      <td>30.38</td>\n",
       "      <td>...</td>\n",
       "      <td>0</td>\n",
       "      <td>0</td>\n",
       "      <td>0</td>\n",
       "      <td>0</td>\n",
       "      <td>0</td>\n",
       "      <td>0</td>\n",
       "      <td>0</td>\n",
       "      <td>0</td>\n",
       "      <td>0</td>\n",
       "      <td>0</td>\n",
       "    </tr>\n",
       "    <tr>\n",
       "      <th>10031</th>\n",
       "      <td>3</td>\n",
       "      <td>41.65813</td>\n",
       "      <td>-87.58708</td>\n",
       "      <td>41.66223</td>\n",
       "      <td>-87.59059</td>\n",
       "      <td>0.336</td>\n",
       "      <td>33.4</td>\n",
       "      <td>23.5</td>\n",
       "      <td>67.0</td>\n",
       "      <td>30.31</td>\n",
       "      <td>...</td>\n",
       "      <td>0</td>\n",
       "      <td>0</td>\n",
       "      <td>0</td>\n",
       "      <td>0</td>\n",
       "      <td>0</td>\n",
       "      <td>0</td>\n",
       "      <td>0</td>\n",
       "      <td>0</td>\n",
       "      <td>0</td>\n",
       "      <td>0</td>\n",
       "    </tr>\n",
       "    <tr>\n",
       "      <th>10032</th>\n",
       "      <td>2</td>\n",
       "      <td>41.81494</td>\n",
       "      <td>-87.74954</td>\n",
       "      <td>41.81904</td>\n",
       "      <td>-87.73663</td>\n",
       "      <td>0.723</td>\n",
       "      <td>33.1</td>\n",
       "      <td>23.9</td>\n",
       "      <td>66.0</td>\n",
       "      <td>30.31</td>\n",
       "      <td>...</td>\n",
       "      <td>0</td>\n",
       "      <td>0</td>\n",
       "      <td>0</td>\n",
       "      <td>0</td>\n",
       "      <td>0</td>\n",
       "      <td>0</td>\n",
       "      <td>0</td>\n",
       "      <td>0</td>\n",
       "      <td>0</td>\n",
       "      <td>0</td>\n",
       "    </tr>\n",
       "    <tr>\n",
       "      <th>10033</th>\n",
       "      <td>2</td>\n",
       "      <td>41.94842</td>\n",
       "      <td>-87.72163</td>\n",
       "      <td>41.94331</td>\n",
       "      <td>-87.71689</td>\n",
       "      <td>0.429</td>\n",
       "      <td>37.0</td>\n",
       "      <td>28.9</td>\n",
       "      <td>65.0</td>\n",
       "      <td>30.25</td>\n",
       "      <td>...</td>\n",
       "      <td>0</td>\n",
       "      <td>0</td>\n",
       "      <td>0</td>\n",
       "      <td>0</td>\n",
       "      <td>0</td>\n",
       "      <td>0</td>\n",
       "      <td>0</td>\n",
       "      <td>0</td>\n",
       "      <td>0</td>\n",
       "      <td>0</td>\n",
       "    </tr>\n",
       "  </tbody>\n",
       "</table>\n",
       "<p>5 rows × 119 columns</p>\n",
       "</div>"
      ],
      "text/plain": [
       "       severity  start_lat  start_lng   end_lat   end_lng  distance(mi)  \\\n",
       "10029         3   41.95184  -87.72775  41.94999 -87.72449         0.211   \n",
       "10030         3   41.72170  -87.62416  41.72734 -87.62431         0.390   \n",
       "10031         3   41.65813  -87.58708  41.66223 -87.59059         0.336   \n",
       "10032         2   41.81494  -87.74954  41.81904 -87.73663         0.723   \n",
       "10033         2   41.94842  -87.72163  41.94331 -87.71689         0.429   \n",
       "\n",
       "       temperature(f)  wind_chill(f)  humidity(%)  pressure(in)  ...  hour_22  \\\n",
       "10029            33.1           22.6         72.0         30.35  ...        0   \n",
       "10030            34.0           25.0         64.0         30.38  ...        0   \n",
       "10031            33.4           23.5         67.0         30.31  ...        0   \n",
       "10032            33.1           23.9         66.0         30.31  ...        0   \n",
       "10033            37.0           28.9         65.0         30.25  ...        0   \n",
       "\n",
       "       hour_23  weather_condition_Light Snow with Thunder  \\\n",
       "10029        0                                          0   \n",
       "10030        0                                          0   \n",
       "10031        0                                          0   \n",
       "10032        0                                          0   \n",
       "10033        0                                          0   \n",
       "\n",
       "       weather_condition_Smoke / Windy  \\\n",
       "10029                                0   \n",
       "10030                                0   \n",
       "10031                                0   \n",
       "10032                                0   \n",
       "10033                                0   \n",
       "\n",
       "       weather_condition_Light Snow and Sleet  weather_condition_Haze / Windy  \\\n",
       "10029                                       0                               0   \n",
       "10030                                       0                               0   \n",
       "10031                                       0                               0   \n",
       "10032                                       0                               0   \n",
       "10033                                       0                               0   \n",
       "\n",
       "       weather_condition_Heavy Snow / Windy  \\\n",
       "10029                                     0   \n",
       "10030                                     0   \n",
       "10031                                     0   \n",
       "10032                                     0   \n",
       "10033                                     0   \n",
       "\n",
       "       weather_condition_Blowing Dust / Windy  \\\n",
       "10029                                       0   \n",
       "10030                                       0   \n",
       "10031                                       0   \n",
       "10032                                       0   \n",
       "10033                                       0   \n",
       "\n",
       "       weather_condition_Heavy Blowing Snow  is_DST  \n",
       "10029                                     0       0  \n",
       "10030                                     0       0  \n",
       "10031                                     0       0  \n",
       "10032                                     0       0  \n",
       "10033                                     0       0  \n",
       "\n",
       "[5 rows x 119 columns]"
      ]
     },
     "execution_count": 16,
     "metadata": {},
     "output_type": "execute_result"
    }
   ],
   "source": [
    "chi_df_spring_dst['week'] = chi_df_spring_dst.week.map({10 : 'Week Before', 11 : 'Week of DST', 12: 'Week After'})\n",
    "chi_df_spring_dst.head()"
   ]
  },
  {
   "cell_type": "code",
   "execution_count": 17,
   "id": "c06ea81e-f46b-4daa-9be2-1fd6e330a44e",
   "metadata": {},
   "outputs": [
    {
     "data": {
      "text/plain": [
       "Week of DST    918\n",
       "Week After     714\n",
       "Week Before    540\n",
       "Name: week, dtype: int64"
      ]
     },
     "execution_count": 17,
     "metadata": {},
     "output_type": "execute_result"
    }
   ],
   "source": [
    "chi_df_spring_dst['week'].value_counts()"
   ]
  },
  {
   "cell_type": "code",
   "execution_count": 18,
   "id": "86cf09e3-0eb2-48a1-afe1-11c22aad0b85",
   "metadata": {},
   "outputs": [
    {
     "data": {
      "text/html": [
       "<table class=\"simpletable\">\n",
       "<caption>Multiple Comparison of Means - Tukey HSD, FWER=0.05</caption>\n",
       "<tr>\n",
       "    <th>group1</th>      <th>group2</th>    <th>meandiff</th>  <th>p-adj</th>  <th>lower</th>   <th>upper</th>  <th>reject</th>\n",
       "</tr>\n",
       "<tr>\n",
       "  <td>Week Before</td> <td>Week of DST</td>  <td>-0.1329</td>  <td>0.001</td> <td>-0.2091</td> <td>-0.0567</td>  <td>True</td> \n",
       "</tr>\n",
       "<tr>\n",
       "  <td>Week Before</td> <td>Week After</td>   <td>-0.0618</td> <td>0.1672</td> <td>-0.1419</td> <td>0.0183</td>   <td>False</td>\n",
       "</tr>\n",
       "<tr>\n",
       "  <td>Week of DST</td> <td>Week After</td>   <td>0.0711</td>  <td>0.0459</td>  <td>0.001</td>  <td>0.1412</td>   <td>True</td> \n",
       "</tr>\n",
       "</table>"
      ],
      "text/plain": [
       "<class 'statsmodels.iolib.table.SimpleTable'>"
      ]
     },
     "execution_count": 18,
     "metadata": {},
     "output_type": "execute_result"
    }
   ],
   "source": [
    "comp = mc.MultiComparison(chi_df_spring_dst['severity'], chi_df_spring_dst['week'], \n",
    "                         group_order=['Week Before', 'Week of DST', 'Week After'])\n",
    "post_hoc = comp.tukeyhsd()\n",
    "post_hoc.summary()"
   ]
  },
  {
   "cell_type": "code",
   "execution_count": 19,
   "id": "910528cb-da18-4cc9-98fd-403c4c256503",
   "metadata": {},
   "outputs": [
    {
     "data": {
      "image/png": "[encoded data removed]",
      "text/plain": [
       "<Figure size 720x432 with 1 Axes>"
      ]
     },
     "metadata": {
      "needs_background": "light"
     },
     "output_type": "display_data"
    }
   ],
   "source": [
    "post_hoc.plot_simultaneous(ylabel='Week', xlabel='Score Difference');"
   ]
  },
  {
   "cell_type": "markdown",
   "id": "70029247-2590-4eb8-9423-099585317f6b",
   "metadata": {},
   "source": [
    "### Bonferroni Correction"
   ]
  },
  {
   "cell_type": "code",
   "execution_count": 20,
   "id": "bcc4cd3d-33d6-4b4f-b5c1-b8cd9e4ddb43",
   "metadata": {},
   "outputs": [
    {
     "data": {
      "text/html": [
       "<table class=\"simpletable\">\n",
       "<caption>Test Multiple Comparison ttest_ind \n",
       "FWER=0.05 method=bonf\n",
       "alphacSidak=0.02, alphacBonf=0.017</caption>\n",
       "<tr>\n",
       "    <th>group1</th>      <th>group2</th>     <th>stat</th>    <th>pval</th>  <th>pval_corr</th> <th>reject</th>\n",
       "</tr>\n",
       "<tr>\n",
       "  <td>Week Before</td> <td>Week of DST</td> <td>4.0866</td>    <td>0.0</td>   <td>0.0001</td>    <td>True</td> \n",
       "</tr>\n",
       "<tr>\n",
       "  <td>Week Before</td> <td>Week After</td>  <td>1.7884</td>  <td>0.0739</td>  <td>0.2218</td>    <td>False</td>\n",
       "</tr>\n",
       "<tr>\n",
       "  <td>Week of DST</td> <td>Week After</td>  <td>-2.4028</td> <td>0.0164</td>  <td>0.0491</td>    <td>True</td> \n",
       "</tr>\n",
       "</table>"
      ],
      "text/plain": [
       "<class 'statsmodels.iolib.table.SimpleTable'>"
      ]
     },
     "execution_count": 20,
     "metadata": {},
     "output_type": "execute_result"
    }
   ],
   "source": [
    "tbl, a1, a2 = comp.allpairtest(stats.ttest_ind, method='bonf')\n",
    "tbl"
   ]
  },
  {
   "cell_type": "code",
   "execution_count": 21,
   "id": "037ae9fe-fc95-4ba0-81ce-b078159b3a8d",
   "metadata": {},
   "outputs": [
    {
     "data": {
      "text/html": [
       "<div>\n",
       "<style scoped>\n",
       "    .dataframe tbody tr th:only-of-type {\n",
       "        vertical-align: middle;\n",
       "    }\n",
       "\n",
       "    .dataframe tbody tr th {\n",
       "        vertical-align: top;\n",
       "    }\n",
       "\n",
       "    .dataframe thead th {\n",
       "        text-align: right;\n",
       "    }\n",
       "</style>\n",
       "<table border=\"1\" class=\"dataframe\">\n",
       "  <thead>\n",
       "    <tr style=\"text-align: right;\">\n",
       "      <th></th>\n",
       "      <th>severity</th>\n",
       "      <th>start_lat</th>\n",
       "      <th>start_lng</th>\n",
       "      <th>end_lat</th>\n",
       "      <th>end_lng</th>\n",
       "      <th>distance(mi)</th>\n",
       "      <th>temperature(f)</th>\n",
       "      <th>wind_chill(f)</th>\n",
       "      <th>humidity(%)</th>\n",
       "      <th>pressure(in)</th>\n",
       "      <th>...</th>\n",
       "      <th>hour_22</th>\n",
       "      <th>hour_23</th>\n",
       "      <th>weather_condition_Light Snow with Thunder</th>\n",
       "      <th>weather_condition_Smoke / Windy</th>\n",
       "      <th>weather_condition_Light Snow and Sleet</th>\n",
       "      <th>weather_condition_Haze / Windy</th>\n",
       "      <th>weather_condition_Heavy Snow / Windy</th>\n",
       "      <th>weather_condition_Blowing Dust / Windy</th>\n",
       "      <th>weather_condition_Heavy Blowing Snow</th>\n",
       "      <th>is_DST</th>\n",
       "    </tr>\n",
       "    <tr>\n",
       "      <th>week</th>\n",
       "      <th></th>\n",
       "      <th></th>\n",
       "      <th></th>\n",
       "      <th></th>\n",
       "      <th></th>\n",
       "      <th></th>\n",
       "      <th></th>\n",
       "      <th></th>\n",
       "      <th></th>\n",
       "      <th></th>\n",
       "      <th></th>\n",
       "      <th></th>\n",
       "      <th></th>\n",
       "      <th></th>\n",
       "      <th></th>\n",
       "      <th></th>\n",
       "      <th></th>\n",
       "      <th></th>\n",
       "      <th></th>\n",
       "      <th></th>\n",
       "      <th></th>\n",
       "    </tr>\n",
       "  </thead>\n",
       "  <tbody>\n",
       "    <tr>\n",
       "      <th>Week After</th>\n",
       "      <td>2.697479</td>\n",
       "      <td>41.938544</td>\n",
       "      <td>-87.859321</td>\n",
       "      <td>41.938944</td>\n",
       "      <td>-87.859486</td>\n",
       "      <td>0.228887</td>\n",
       "      <td>44.143137</td>\n",
       "      <td>40.588095</td>\n",
       "      <td>70.200280</td>\n",
       "      <td>29.822913</td>\n",
       "      <td>...</td>\n",
       "      <td>0.019608</td>\n",
       "      <td>0.036415</td>\n",
       "      <td>0.0</td>\n",
       "      <td>0.0</td>\n",
       "      <td>0.0</td>\n",
       "      <td>0.0</td>\n",
       "      <td>0.0</td>\n",
       "      <td>0.0</td>\n",
       "      <td>0.0</td>\n",
       "      <td>0.000000</td>\n",
       "    </tr>\n",
       "    <tr>\n",
       "      <th>Week Before</th>\n",
       "      <td>2.759259</td>\n",
       "      <td>41.971090</td>\n",
       "      <td>-87.844087</td>\n",
       "      <td>41.971160</td>\n",
       "      <td>-87.844042</td>\n",
       "      <td>0.378793</td>\n",
       "      <td>41.404630</td>\n",
       "      <td>36.361667</td>\n",
       "      <td>61.195683</td>\n",
       "      <td>29.898611</td>\n",
       "      <td>...</td>\n",
       "      <td>0.029630</td>\n",
       "      <td>0.027778</td>\n",
       "      <td>0.0</td>\n",
       "      <td>0.0</td>\n",
       "      <td>0.0</td>\n",
       "      <td>0.0</td>\n",
       "      <td>0.0</td>\n",
       "      <td>0.0</td>\n",
       "      <td>0.0</td>\n",
       "      <td>0.644444</td>\n",
       "    </tr>\n",
       "    <tr>\n",
       "      <th>Week of DST</th>\n",
       "      <td>2.626362</td>\n",
       "      <td>41.956557</td>\n",
       "      <td>-87.859411</td>\n",
       "      <td>41.956819</td>\n",
       "      <td>-87.859643</td>\n",
       "      <td>0.278264</td>\n",
       "      <td>34.605338</td>\n",
       "      <td>27.270479</td>\n",
       "      <td>73.103486</td>\n",
       "      <td>30.017669</td>\n",
       "      <td>...</td>\n",
       "      <td>0.028322</td>\n",
       "      <td>0.028322</td>\n",
       "      <td>0.0</td>\n",
       "      <td>0.0</td>\n",
       "      <td>0.0</td>\n",
       "      <td>0.0</td>\n",
       "      <td>0.0</td>\n",
       "      <td>0.0</td>\n",
       "      <td>0.0</td>\n",
       "      <td>0.464052</td>\n",
       "    </tr>\n",
       "  </tbody>\n",
       "</table>\n",
       "<p>3 rows × 118 columns</p>\n",
       "</div>"
      ],
      "text/plain": [
       "             severity  start_lat  start_lng    end_lat    end_lng  \\\n",
       "week                                                                \n",
       "Week After   2.697479  41.938544 -87.859321  41.938944 -87.859486   \n",
       "Week Before  2.759259  41.971090 -87.844087  41.971160 -87.844042   \n",
       "Week of DST  2.626362  41.956557 -87.859411  41.956819 -87.859643   \n",
       "\n",
       "             distance(mi)  temperature(f)  wind_chill(f)  humidity(%)  \\\n",
       "week                                                                    \n",
       "Week After       0.228887       44.143137      40.588095    70.200280   \n",
       "Week Before      0.378793       41.404630      36.361667    61.195683   \n",
       "Week of DST      0.278264       34.605338      27.270479    73.103486   \n",
       "\n",
       "             pressure(in)  ...   hour_22   hour_23  \\\n",
       "week                       ...                       \n",
       "Week After      29.822913  ...  0.019608  0.036415   \n",
       "Week Before     29.898611  ...  0.029630  0.027778   \n",
       "Week of DST     30.017669  ...  0.028322  0.028322   \n",
       "\n",
       "             weather_condition_Light Snow with Thunder  \\\n",
       "week                                                     \n",
       "Week After                                         0.0   \n",
       "Week Before                                        0.0   \n",
       "Week of DST                                        0.0   \n",
       "\n",
       "             weather_condition_Smoke / Windy  \\\n",
       "week                                           \n",
       "Week After                               0.0   \n",
       "Week Before                              0.0   \n",
       "Week of DST                              0.0   \n",
       "\n",
       "             weather_condition_Light Snow and Sleet  \\\n",
       "week                                                  \n",
       "Week After                                      0.0   \n",
       "Week Before                                     0.0   \n",
       "Week of DST                                     0.0   \n",
       "\n",
       "             weather_condition_Haze / Windy  \\\n",
       "week                                          \n",
       "Week After                              0.0   \n",
       "Week Before                             0.0   \n",
       "Week of DST                             0.0   \n",
       "\n",
       "             weather_condition_Heavy Snow / Windy  \\\n",
       "week                                                \n",
       "Week After                                    0.0   \n",
       "Week Before                                   0.0   \n",
       "Week of DST                                   0.0   \n",
       "\n",
       "             weather_condition_Blowing Dust / Windy  \\\n",
       "week                                                  \n",
       "Week After                                      0.0   \n",
       "Week Before                                     0.0   \n",
       "Week of DST                                     0.0   \n",
       "\n",
       "             weather_condition_Heavy Blowing Snow    is_DST  \n",
       "week                                                         \n",
       "Week After                                    0.0  0.000000  \n",
       "Week Before                                   0.0  0.644444  \n",
       "Week of DST                                   0.0  0.464052  \n",
       "\n",
       "[3 rows x 118 columns]"
      ]
     },
     "execution_count": 21,
     "metadata": {},
     "output_type": "execute_result"
    }
   ],
   "source": [
    "chi_df_spring_dst.groupby('week').mean()"
   ]
  },
  {
   "cell_type": "markdown",
   "id": "4683a9ea-6c96-4b53-a238-7682cbb59931",
   "metadata": {},
   "source": [
    "### Sidak Correction "
   ]
  },
  {
   "cell_type": "code",
   "execution_count": 22,
   "id": "b16be0e6-b3fe-4027-829d-9892262037c0",
   "metadata": {},
   "outputs": [
    {
     "data": {
      "text/html": [
       "<table class=\"simpletable\">\n",
       "<caption>Test Multiple Comparison ttest_ind \n",
       "FWER=0.05 method=sidak\n",
       "alphacSidak=0.02, alphacBonf=0.017</caption>\n",
       "<tr>\n",
       "    <th>group1</th>      <th>group2</th>     <th>stat</th>    <th>pval</th>  <th>pval_corr</th> <th>reject</th>\n",
       "</tr>\n",
       "<tr>\n",
       "  <td>Week Before</td> <td>Week of DST</td> <td>4.0866</td>    <td>0.0</td>   <td>0.0001</td>    <td>True</td> \n",
       "</tr>\n",
       "<tr>\n",
       "  <td>Week Before</td> <td>Week After</td>  <td>1.7884</td>  <td>0.0739</td>  <td>0.2058</td>    <td>False</td>\n",
       "</tr>\n",
       "<tr>\n",
       "  <td>Week of DST</td> <td>Week After</td>  <td>-2.4028</td> <td>0.0164</td>  <td>0.0483</td>    <td>True</td> \n",
       "</tr>\n",
       "</table>"
      ],
      "text/plain": [
       "<class 'statsmodels.iolib.table.SimpleTable'>"
      ]
     },
     "execution_count": 22,
     "metadata": {},
     "output_type": "execute_result"
    }
   ],
   "source": [
    "tbl, a1, a2 = comp.allpairtest(stats.ttest_ind, method='sidak')\n",
    "tbl"
   ]
  },
  {
   "cell_type": "code",
   "execution_count": null,
   "id": "8248a584-5eb6-4f37-b601-28dd23340d57",
   "metadata": {},
   "outputs": [],
   "source": [
    "def sd()"
   ]
  },
  {
   "cell_type": "code",
   "execution_count": 41,
   "id": "35f08062-ea2f-40e5-b8a2-5f962700288d",
   "metadata": {},
   "outputs": [],
   "source": [
    "def cohens_d(mean1, mean2, sd):\n",
    "    return (mean1 - mean2)/sd"
   ]
  },
  {
   "cell_type": "code",
   "execution_count": 23,
   "id": "4d67c0d0-9a22-40b6-9e4b-5c3f92b2ec74",
   "metadata": {},
   "outputs": [
    {
     "data": {
      "text/plain": [
       "''"
      ]
     },
     "execution_count": 23,
     "metadata": {},
     "output_type": "execute_result"
    },
    {
     "data": {
      "image/png": "[encoded data removed]",
      "text/plain": [
       "<Figure size 432x288 with 1 Axes>"
      ]
     },
     "metadata": {
      "needs_background": "light"
     },
     "output_type": "display_data"
    }
   ],
   "source": [
    "sns.boxplot(x=chi_df_spring_dst['severity'], y=chi_df_spring_dst['week'])\n",
    ";"
   ]
  },
  {
   "cell_type": "code",
   "execution_count": 24,
   "id": "8701301e-b1b1-4190-a241-9d8d1a623728",
   "metadata": {},
   "outputs": [
    {
     "data": {
      "text/plain": [
       "Week of DST    918\n",
       "Week After     714\n",
       "Week Before    540\n",
       "Name: week, dtype: int64"
      ]
     },
     "execution_count": 24,
     "metadata": {},
     "output_type": "execute_result"
    }
   ],
   "source": [
    "chi_df_spring_dst['week'].value_counts()"
   ]
  },
  {
   "cell_type": "code",
   "execution_count": 33,
   "id": "e1330f56-ab0a-4800-b487-516c4d7f3835",
   "metadata": {},
   "outputs": [
    {
     "data": {
      "text/html": [
       "<div>\n",
       "<style scoped>\n",
       "    .dataframe tbody tr th:only-of-type {\n",
       "        vertical-align: middle;\n",
       "    }\n",
       "\n",
       "    .dataframe tbody tr th {\n",
       "        vertical-align: top;\n",
       "    }\n",
       "\n",
       "    .dataframe thead th {\n",
       "        text-align: right;\n",
       "    }\n",
       "</style>\n",
       "<table border=\"1\" class=\"dataframe\">\n",
       "  <thead>\n",
       "    <tr style=\"text-align: right;\">\n",
       "      <th>severity</th>\n",
       "      <th>1</th>\n",
       "      <th>2</th>\n",
       "      <th>3</th>\n",
       "      <th>4</th>\n",
       "    </tr>\n",
       "    <tr>\n",
       "      <th>week</th>\n",
       "      <th></th>\n",
       "      <th></th>\n",
       "      <th></th>\n",
       "      <th></th>\n",
       "    </tr>\n",
       "  </thead>\n",
       "  <tbody>\n",
       "    <tr>\n",
       "      <th>Week After</th>\n",
       "      <td>1</td>\n",
       "      <td>265</td>\n",
       "      <td>397</td>\n",
       "      <td>51</td>\n",
       "    </tr>\n",
       "    <tr>\n",
       "      <th>Week Before</th>\n",
       "      <td>0</td>\n",
       "      <td>183</td>\n",
       "      <td>304</td>\n",
       "      <td>53</td>\n",
       "    </tr>\n",
       "    <tr>\n",
       "      <th>Week of DST</th>\n",
       "      <td>0</td>\n",
       "      <td>395</td>\n",
       "      <td>471</td>\n",
       "      <td>52</td>\n",
       "    </tr>\n",
       "  </tbody>\n",
       "</table>\n",
       "</div>"
      ],
      "text/plain": [
       "severity     1    2    3   4\n",
       "week                        \n",
       "Week After   1  265  397  51\n",
       "Week Before  0  183  304  53\n",
       "Week of DST  0  395  471  52"
      ]
     },
     "execution_count": 33,
     "metadata": {},
     "output_type": "execute_result"
    }
   ],
   "source": [
    "pd.crosstab(chi_df_spring_dst['week'], chi_df_spring_dst['severity'])"
   ]
  },
  {
   "cell_type": "code",
   "execution_count": 34,
   "id": "5f64fd04-72c2-4f92-9855-4a14fb7cf0d3",
   "metadata": {},
   "outputs": [
    {
     "data": {
      "text/plain": [
       "2.682780847145488"
      ]
     },
     "execution_count": 34,
     "metadata": {},
     "output_type": "execute_result"
    }
   ],
   "source": [
    "chi_df_spring_dst['severity']"
   ]
  },
  {
   "cell_type": "code",
   "execution_count": 37,
   "id": "438c42c0-1c25-426f-a899-934d483263cd",
   "metadata": {},
   "outputs": [
    {
     "data": {
      "text/plain": [
       "2.759259259259259"
      ]
     },
     "execution_count": 37,
     "metadata": {},
     "output_type": "execute_result"
    }
   ],
   "source": [
    "chi_df['severity'][chi_df['week'] == 10].mean()"
   ]
  },
  {
   "cell_type": "code",
   "execution_count": 38,
   "id": "177477ea-4a47-4383-95fb-87c5a9ab8132",
   "metadata": {},
   "outputs": [
    {
     "data": {
      "text/plain": [
       "2.6263616557734206"
      ]
     },
     "execution_count": 38,
     "metadata": {},
     "output_type": "execute_result"
    }
   ],
   "source": [
    "chi_df['severity'][chi_df['week'] == 11].mean()"
   ]
  },
  {
   "cell_type": "code",
   "execution_count": 39,
   "id": "dad7869c-24f6-4da1-a016-63c7054f41fc",
   "metadata": {},
   "outputs": [
    {
     "data": {
      "text/plain": [
       "2.697478991596639"
      ]
     },
     "execution_count": 39,
     "metadata": {},
     "output_type": "execute_result"
    }
   ],
   "source": [
    "chi_df['severity'][chi_df['week'] == 12].mean()"
   ]
  },
  {
   "cell_type": "markdown",
   "id": "1855f008-c529-4d3d-aa40-91f6933f1608",
   "metadata": {},
   "source": [
    "### Interpretation"
   ]
  },
  {
   "cell_type": "markdown",
   "id": "51f6d2c4-111c-4a4e-81e4-5a938d11cc07",
   "metadata": {},
   "source": [
    "* Based on the results of the ANOVA and Kruskall-Wallace tests we can see that there is a significant difference in the severity of traffic accidents before, during the week of DST, and after the week of DST.\n",
    "* Based on the results from each multiple comparisons test we can see that there is a significant difference in severity score between the week before DST and the week of DST and the week of DST and the week after DST. Suggesting that something about the time change is leading to an increase in severity."
   ]
  },
  {
   "cell_type": "code",
   "execution_count": null,
   "id": "36646ae2-6ef4-44a1-b180-5b4eea5e5e93",
   "metadata": {},
   "outputs": [],
   "source": []
  }
 ],
 "metadata": {
  "kernelspec": {
   "display_name": "Python 3",
   "language": "python",
   "name": "python3"
  },
  "language_info": {
   "codemirror_mode": {
    "name": "ipython",
    "version": 3
   },
   "file_extension": ".py",
   "mimetype": "text/x-python",
   "name": "python",
   "nbconvert_exporter": "python",
   "pygments_lexer": "ipython3",
   "version": "3.8.8"
  }
 },
 "nbformat": 4,
 "nbformat_minor": 5
}
