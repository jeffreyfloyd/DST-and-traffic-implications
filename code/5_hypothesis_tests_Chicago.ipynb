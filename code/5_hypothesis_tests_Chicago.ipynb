{
 "cells": [
  {
   "cell_type": "code",
   "execution_count": 1,
   "id": "83bf3ecd-c5ec-464c-bf9a-b6e26db54a38",
   "metadata": {},
   "outputs": [],
   "source": [
    "#Standard python imports\n",
    "import pandas as pd \n",
    "import numpy as np\n",
    "import matplotlib.pyplot as plt\n",
    "import seaborn as sns\n",
    "\n",
    "#Stats imports\n",
    "import statsmodels.api as sm\n",
    "from statsmodels.formula.api import ols\n",
    "from statsmodels.stats.anova import anova_lm\n",
    "import statsmodels.stats.multicomp as mc\n",
    "import scipy.stats as stats\n",
    "\n",
    "#random seed for replicability\n",
    "np.random.seed(seed=42)"
   ]
  },
  {
   "cell_type": "code",
   "execution_count": 2,
   "id": "8e481a47-17f4-4969-a813-47946276e17a",
   "metadata": {},
   "outputs": [
    {
     "data": {
      "text/html": [
       "<div>\n",
       "<style scoped>\n",
       "    .dataframe tbody tr th:only-of-type {\n",
       "        vertical-align: middle;\n",
       "    }\n",
       "\n",
       "    .dataframe tbody tr th {\n",
       "        vertical-align: top;\n",
       "    }\n",
       "\n",
       "    .dataframe thead th {\n",
       "        text-align: right;\n",
       "    }\n",
       "</style>\n",
       "<table border=\"1\" class=\"dataframe\">\n",
       "  <thead>\n",
       "    <tr style=\"text-align: right;\">\n",
       "      <th></th>\n",
       "      <th>severity</th>\n",
       "      <th>start_lat</th>\n",
       "      <th>start_lng</th>\n",
       "      <th>end_lat</th>\n",
       "      <th>end_lng</th>\n",
       "      <th>distance(mi)</th>\n",
       "      <th>temperature(f)</th>\n",
       "      <th>wind_chill(f)</th>\n",
       "      <th>humidity(%)</th>\n",
       "      <th>pressure(in)</th>\n",
       "      <th>...</th>\n",
       "      <th>hour_22</th>\n",
       "      <th>hour_23</th>\n",
       "      <th>weather_condition_Light Snow with Thunder</th>\n",
       "      <th>weather_condition_Smoke / Windy</th>\n",
       "      <th>weather_condition_Light Snow and Sleet</th>\n",
       "      <th>weather_condition_Haze / Windy</th>\n",
       "      <th>weather_condition_Heavy Snow / Windy</th>\n",
       "      <th>weather_condition_Blowing Dust / Windy</th>\n",
       "      <th>weather_condition_Heavy Blowing Snow</th>\n",
       "      <th>is_DST</th>\n",
       "    </tr>\n",
       "  </thead>\n",
       "  <tbody>\n",
       "    <tr>\n",
       "      <th>0</th>\n",
       "      <td>2</td>\n",
       "      <td>42.30596</td>\n",
       "      <td>-87.96015</td>\n",
       "      <td>42.306916</td>\n",
       "      <td>-87.960918</td>\n",
       "      <td>0.077</td>\n",
       "      <td>37.0</td>\n",
       "      <td>31.0</td>\n",
       "      <td>79.0</td>\n",
       "      <td>29.59</td>\n",
       "      <td>...</td>\n",
       "      <td>0</td>\n",
       "      <td>0</td>\n",
       "      <td>0</td>\n",
       "      <td>0</td>\n",
       "      <td>0</td>\n",
       "      <td>0</td>\n",
       "      <td>0</td>\n",
       "      <td>0</td>\n",
       "      <td>0</td>\n",
       "      <td>0</td>\n",
       "    </tr>\n",
       "    <tr>\n",
       "      <th>1</th>\n",
       "      <td>2</td>\n",
       "      <td>42.17587</td>\n",
       "      <td>-88.13577</td>\n",
       "      <td>42.174620</td>\n",
       "      <td>-88.135794</td>\n",
       "      <td>0.086</td>\n",
       "      <td>37.0</td>\n",
       "      <td>28.1</td>\n",
       "      <td>76.0</td>\n",
       "      <td>29.62</td>\n",
       "      <td>...</td>\n",
       "      <td>0</td>\n",
       "      <td>0</td>\n",
       "      <td>0</td>\n",
       "      <td>0</td>\n",
       "      <td>0</td>\n",
       "      <td>0</td>\n",
       "      <td>0</td>\n",
       "      <td>0</td>\n",
       "      <td>0</td>\n",
       "      <td>0</td>\n",
       "    </tr>\n",
       "  </tbody>\n",
       "</table>\n",
       "<p>2 rows × 119 columns</p>\n",
       "</div>"
      ],
      "text/plain": [
       "   severity  start_lat  start_lng    end_lat    end_lng  distance(mi)  \\\n",
       "0         2   42.30596  -87.96015  42.306916 -87.960918         0.077   \n",
       "1         2   42.17587  -88.13577  42.174620 -88.135794         0.086   \n",
       "\n",
       "   temperature(f)  wind_chill(f)  humidity(%)  pressure(in)  ...  hour_22  \\\n",
       "0            37.0           31.0         79.0         29.59  ...        0   \n",
       "1            37.0           28.1         76.0         29.62  ...        0   \n",
       "\n",
       "   hour_23  weather_condition_Light Snow with Thunder  \\\n",
       "0        0                                          0   \n",
       "1        0                                          0   \n",
       "\n",
       "   weather_condition_Smoke / Windy  weather_condition_Light Snow and Sleet  \\\n",
       "0                                0                                       0   \n",
       "1                                0                                       0   \n",
       "\n",
       "   weather_condition_Haze / Windy  weather_condition_Heavy Snow / Windy  \\\n",
       "0                               0                                     0   \n",
       "1                               0                                     0   \n",
       "\n",
       "   weather_condition_Blowing Dust / Windy  \\\n",
       "0                                       0   \n",
       "1                                       0   \n",
       "\n",
       "   weather_condition_Heavy Blowing Snow  is_DST  \n",
       "0                                     0       0  \n",
       "1                                     0       0  \n",
       "\n",
       "[2 rows x 119 columns]"
      ]
     },
     "execution_count": 2,
     "metadata": {},
     "output_type": "execute_result"
    }
   ],
   "source": [
    "chi_df = pd.read_csv('../data/chi_df_cleaned.csv')\n",
    "chi_df.head(2)"
   ]
  },
  {
   "cell_type": "markdown",
   "id": "203a5bda-96b4-4e8c-80a8-d541d69672de",
   "metadata": {},
   "source": [
    "## Research Hypotheses "
   ]
  },
  {
   "cell_type": "markdown",
   "id": "84373e95-40c8-4cb3-9df8-59b60e32086f",
   "metadata": {},
   "source": [
    "For the purposes of answering our problem statement on the impact of the fall and spring time changes associated with Daylight Savings Time (DST), we have created two sets of research hypotheses:\n",
    "* For the spring time change:\n",
    "    * H0: There is not a statistically significant difference in the average severity of accidents in Chicago in the weeks before, during, and after the spring time change.\n",
    "    * Ha: There is a statistically significant difference in the average severity of accidents in Chicago in the weeks before, during, and after the spring time change.\n",
    "* For the fall time change:\n",
    "    * H0: There is not a statistically significant difference in the average severity of accidents in Chicago in the weeks before, during, and after the fall time change.\n",
    "    * Ha: There is a statistically significant difference in the average severity of accidents in Chicago in the weeks before, during, and after the fall time change.\n",
    "    \n",
    "To test each research hypothesis we will run an ANOVA for the severity of accidents on the week before, week of, and week after each time change. Our alpha for each test will be set as 0.05, meaning that a p-value <0.05 would be considered significant and a rejection of the null hypothesis.\n",
    "\n",
    "For the spring time change those weeks are respectively:\n",
    "* Week 10 as the week prior to the time change.\n",
    "* Week 11 as the week of the time change.\n",
    "* Week 12 as the week after the time change.\n",
    "\n",
    "For the fall time change those weeks are respectively:\n",
    "* Week 44 as the week prior to the time change.\n",
    "* Week 45 as the week of the time change. \n",
    "* Week 46 as the week after the time change."
   ]
  },
  {
   "cell_type": "markdown",
   "id": "14bf27b8-dc09-41a7-b0d7-faa68571c778",
   "metadata": {},
   "source": [
    "## ANOVA on Severity of Chi Accidents for Spring DST Time Change"
   ]
  },
  {
   "cell_type": "code",
   "execution_count": 3,
   "id": "e2596143-72e0-41d8-a0a2-6489d12a400e",
   "metadata": {},
   "outputs": [],
   "source": [
    "#We referenced this article for a refresher on ANOVA and to find the libraries to use for each test\n",
    "#https://www.pythonfordatascience.org/anova-python/#anova-test\n",
    "#We referenced these pages for a refresher on ANOVA vs. Kruskall-Wallis and the impact of a non-normal distribution\n",
    "# https://stats.stackexchange.com/questions/76059/difference-between-anova-and-kruskal-wallis-test\n",
    "# http://www.biostathandbook.com/kruskalwallis.html"
   ]
  },
  {
   "cell_type": "code",
   "execution_count": 4,
   "id": "dbbecbdc-9f8b-4c92-bd13-a88876457694",
   "metadata": {},
   "outputs": [
    {
     "data": {
      "text/plain": [
       "F_onewayResult(statistic=8.688793448084233, pvalue=0.00017439777178230329)"
      ]
     },
     "execution_count": 4,
     "metadata": {},
     "output_type": "execute_result"
    }
   ],
   "source": [
    "#Spring DST Time Change ANOVA\n",
    "stats.f_oneway(chi_df['severity'][chi_df['week'] == 10],\n",
    "              chi_df['severity'][chi_df['week'] == 11],\n",
    "              chi_df['severity'][chi_df['week'] == 12])"
   ]
  },
  {
   "cell_type": "code",
   "execution_count": 5,
   "id": "5b0b37b4-b9ab-4e30-b727-0977c96cc805",
   "metadata": {},
   "outputs": [
    {
     "data": {
      "text/plain": [
       "11    918\n",
       "12    714\n",
       "10    540\n",
       "Name: week, dtype: int64"
      ]
     },
     "execution_count": 5,
     "metadata": {},
     "output_type": "execute_result"
    }
   ],
   "source": [
    "chi_df_spring_dst =  chi_df[(chi_df['week'] == 10) | (chi_df['week'] == 11) | (chi_df['week'] == 12)]\n",
    "chi_df_spring_dst['week'].value_counts()"
   ]
  },
  {
   "cell_type": "code",
   "execution_count": 6,
   "id": "220dad13-48de-463b-a4a0-797344de5cad",
   "metadata": {},
   "outputs": [
    {
     "data": {
      "text/html": [
       "<div>\n",
       "<style scoped>\n",
       "    .dataframe tbody tr th:only-of-type {\n",
       "        vertical-align: middle;\n",
       "    }\n",
       "\n",
       "    .dataframe tbody tr th {\n",
       "        vertical-align: top;\n",
       "    }\n",
       "\n",
       "    .dataframe thead th {\n",
       "        text-align: right;\n",
       "    }\n",
       "</style>\n",
       "<table border=\"1\" class=\"dataframe\">\n",
       "  <thead>\n",
       "    <tr style=\"text-align: right;\">\n",
       "      <th></th>\n",
       "      <th>sum_sq</th>\n",
       "      <th>df</th>\n",
       "      <th>F</th>\n",
       "      <th>PR(&gt;F)</th>\n",
       "    </tr>\n",
       "  </thead>\n",
       "  <tbody>\n",
       "    <tr>\n",
       "      <th>C(week)</th>\n",
       "      <td>6.234790</td>\n",
       "      <td>2.0</td>\n",
       "      <td>8.688793</td>\n",
       "      <td>0.000174</td>\n",
       "    </tr>\n",
       "    <tr>\n",
       "      <th>Residual</th>\n",
       "      <td>778.201214</td>\n",
       "      <td>2169.0</td>\n",
       "      <td>NaN</td>\n",
       "      <td>NaN</td>\n",
       "    </tr>\n",
       "  </tbody>\n",
       "</table>\n",
       "</div>"
      ],
      "text/plain": [
       "              sum_sq      df         F    PR(>F)\n",
       "C(week)     6.234790     2.0  8.688793  0.000174\n",
       "Residual  778.201214  2169.0       NaN       NaN"
      ]
     },
     "execution_count": 6,
     "metadata": {},
     "output_type": "execute_result"
    }
   ],
   "source": [
    "#Statsmodel ANOVA for cleaner tables and use in multiple comparison tests\n",
    "chi_spring_anova = ols(\"severity ~C(week)\", data=chi_df_spring_dst).fit()\n",
    "chi_spr_aov_table = sm.stats.anova_lm(chi_spring_anova, typ=2)\n",
    "chi_spr_aov_table"
   ]
  },
  {
   "cell_type": "code",
   "execution_count": 7,
   "id": "a79f17c3-b833-478a-bb9d-5c784992d0c4",
   "metadata": {
    "tags": []
   },
   "outputs": [
    {
     "data": {
      "text/plain": [
       "LeveneResult(statistic=2.2096940010363624, pvalue=0.10998119275827695)"
      ]
     },
     "execution_count": 7,
     "metadata": {},
     "output_type": "execute_result"
    }
   ],
   "source": [
    "#Levene's test of homogeneity, \n",
    "#non-significant meaning the weeks have non-significant differences in their variability\n",
    "stats.levene(chi_df['severity'][chi_df['week'] == 10],\n",
    "              chi_df['severity'][chi_df['week'] == 11],\n",
    "              chi_df['severity'][chi_df['week'] == 12])"
   ]
  },
  {
   "cell_type": "code",
   "execution_count": 8,
   "id": "75596336-67e8-4ae8-8ea8-8212c262d65a",
   "metadata": {},
   "outputs": [
    {
     "data": {
      "text/plain": [
       "ShapiroResult(statistic=0.8185059428215027, pvalue=3.363116314379561e-44)"
      ]
     },
     "execution_count": 8,
     "metadata": {},
     "output_type": "execute_result"
    }
   ],
   "source": [
    "#Shapiro test of normality, failed as the severity of accidents is not normally distributed\n",
    "stats.shapiro(chi_spring_anova.resid)"
   ]
  },
  {
   "cell_type": "code",
   "execution_count": 9,
   "id": "2bed5654-691a-46db-a108-ef4acbbd5589",
   "metadata": {},
   "outputs": [
    {
     "data": {
      "image/png": "[encoded data removed]",
      "text/plain": [
       "<Figure size 432x288 with 1 Axes>"
      ]
     },
     "metadata": {
      "needs_background": "light"
     },
     "output_type": "display_data"
    }
   ],
   "source": [
    "#QQ plot to conform lack of normality\n",
    "sm.qqplot(chi_df_spring_dst['severity'], line='s');"
   ]
  },
  {
   "cell_type": "markdown",
   "id": "f4ce4875-4e04-463a-a57c-8477d0b5a75f",
   "metadata": {},
   "source": [
    "The above tests of normality illustrate that the distribution of accident severity is non-normal. Due to this we have also ran the Kruskal-Wallis non-parametric test which is an ANOVA analog, as normality is an assumption of ANOVA.\n",
    "\n",
    "With that said some statisticians find that violating the assumption of normality is not very impactful on changing the rate of type-1 errors or false positives. One argument for this point of view is from John H. Macdonald [here](http://www.biostathandbook.com/kruskalwallis.html) .\n",
    "\n",
    "For the purposes of this project we have ran both ANOVA and Kruskal-Wallis when testing our research hypotheses."
   ]
  },
  {
   "cell_type": "code",
   "execution_count": 10,
   "id": "981ac290-f64e-43e7-ac8e-18bfcbcd5ede",
   "metadata": {},
   "outputs": [
    {
     "data": {
      "text/plain": [
       "KruskalResult(statistic=16.609003084980962, pvalue=0.000247400632235319)"
      ]
     },
     "execution_count": 10,
     "metadata": {},
     "output_type": "execute_result"
    }
   ],
   "source": [
    "#Spring DST Time Change Kruskall-Wallic\n",
    "stats.kruskal(chi_df['severity'][chi_df['week'] == 10],\n",
    "              chi_df['severity'][chi_df['week'] == 11],\n",
    "              chi_df['severity'][chi_df['week'] == 12])"
   ]
  },
  {
   "cell_type": "code",
   "execution_count": 11,
   "id": "569ddc87-bf2c-4185-8885-3187813f391d",
   "metadata": {},
   "outputs": [
    {
     "data": {
      "text/plain": [
       "C(week)    0.007948\n",
       "Name: sum_sq, dtype: float64"
      ]
     },
     "execution_count": 11,
     "metadata": {},
     "output_type": "execute_result"
    }
   ],
   "source": [
    "eta_square = chi_spr_aov_table[:-1]['sum_sq'] / sum(chi_spr_aov_table['sum_sq'])\n",
    "eta_square"
   ]
  },
  {
   "cell_type": "markdown",
   "id": "9c18f9b5-d4b9-43fe-8f1b-32364ee4b0a3",
   "metadata": {},
   "source": [
    "### Interpretation\n",
    "* The results of the above ANOVA and Kruskal-Wallis tests on accident severity for the spring time change show strong  evidence for statistical significance as both p-values (KW = 0.0002, ANOVA = 0.0001) are smaller then our alpha of 0.05. \n",
    "* Given this we can reject our null hypothesis and state that there is a statistically significant difference in the average severity of accidents in Chicago during the weeks before, during, and after the fall time change.\n",
    "* In addition to the ANOVA and Kruskal-Wallis we also calculated the Eta squared effect size, finding that the effect of the difference found was of a small size at eta = 0.008."
   ]
  },
  {
   "cell_type": "markdown",
   "id": "a5c6b709-40c7-4be6-9138-c76f2a7316e5",
   "metadata": {},
   "source": [
    "## Multiple Comparison Tests"
   ]
  },
  {
   "cell_type": "markdown",
   "id": "796ec272-25e3-4d86-b467-20bab71c9b3d",
   "metadata": {},
   "source": [
    "### Tukey Honestly Significant Difference (HSD) Test"
   ]
  },
  {
   "cell_type": "code",
   "execution_count": 12,
   "id": "a91f9a02-ca12-4b61-a2c8-ecc2e7bd12ce",
   "metadata": {},
   "outputs": [
    {
     "name": "stderr",
     "output_type": "stream",
     "text": [
      "<ipython-input-12-2f3d9b8e17f3>:2: SettingWithCopyWarning: \n",
      "A value is trying to be set on a copy of a slice from a DataFrame.\n",
      "Try using .loc[row_indexer,col_indexer] = value instead\n",
      "\n",
      "See the caveats in the documentation: https://pandas.pydata.org/pandas-docs/stable/user_guide/indexing.html#returning-a-view-versus-a-copy\n",
      "  chi_df_spring_dst['week'] = chi_df_spring_dst.week.map({10 : 'Week Before', 11 : 'Week of DST', 12: 'Week After'})\n"
     ]
    },
    {
     "data": {
      "text/plain": [
       "Week of DST    918\n",
       "Week After     714\n",
       "Week Before    540\n",
       "Name: week, dtype: int64"
      ]
     },
     "execution_count": 12,
     "metadata": {},
     "output_type": "execute_result"
    }
   ],
   "source": [
    "#Updating the weeks to wording of week before, of, after for ease of table reading.\n",
    "chi_df_spring_dst['week'] = chi_df_spring_dst.week.map({10 : 'Week Before', 11 : 'Week of DST', 12: 'Week After'})\n",
    "chi_df_spring_dst['week'].value_counts()"
   ]
  },
  {
   "cell_type": "code",
   "execution_count": 13,
   "id": "86cf09e3-0eb2-48a1-afe1-11c22aad0b85",
   "metadata": {},
   "outputs": [
    {
     "data": {
      "text/html": [
       "<table class=\"simpletable\">\n",
       "<caption>Multiple Comparison of Means - Tukey HSD, FWER=0.05</caption>\n",
       "<tr>\n",
       "    <th>group1</th>      <th>group2</th>    <th>meandiff</th>  <th>p-adj</th>  <th>lower</th>   <th>upper</th>  <th>reject</th>\n",
       "</tr>\n",
       "<tr>\n",
       "  <td>Week Before</td> <td>Week of DST</td>  <td>-0.1329</td>  <td>0.001</td> <td>-0.2091</td> <td>-0.0567</td>  <td>True</td> \n",
       "</tr>\n",
       "<tr>\n",
       "  <td>Week Before</td> <td>Week After</td>   <td>-0.0618</td> <td>0.1672</td> <td>-0.1419</td> <td>0.0183</td>   <td>False</td>\n",
       "</tr>\n",
       "<tr>\n",
       "  <td>Week of DST</td> <td>Week After</td>   <td>0.0711</td>  <td>0.0459</td>  <td>0.001</td>  <td>0.1412</td>   <td>True</td> \n",
       "</tr>\n",
       "</table>"
      ],
      "text/plain": [
       "<class 'statsmodels.iolib.table.SimpleTable'>"
      ]
     },
     "execution_count": 13,
     "metadata": {},
     "output_type": "execute_result"
    }
   ],
   "source": [
    "comp = mc.MultiComparison(chi_df_spring_dst['severity'], chi_df_spring_dst['week'], \n",
    "                         group_order=['Week Before', 'Week of DST', 'Week After'])\n",
    "post_hoc = comp.tukeyhsd()\n",
    "post_hoc.summary()"
   ]
  },
  {
   "cell_type": "code",
   "execution_count": 14,
   "id": "910528cb-da18-4cc9-98fd-403c4c256503",
   "metadata": {},
   "outputs": [
    {
     "data": {
      "image/png": "[encoded data removed]",
      "text/plain": [
       "<Figure size 720x432 with 1 Axes>"
      ]
     },
     "metadata": {
      "needs_background": "light"
     },
     "output_type": "display_data"
    }
   ],
   "source": [
    "post_hoc.plot_simultaneous(ylabel='Week', xlabel='Score Difference');"
   ]
  },
  {
   "cell_type": "markdown",
   "id": "70029247-2590-4eb8-9423-099585317f6b",
   "metadata": {},
   "source": [
    "### Bonferroni Correction"
   ]
  },
  {
   "cell_type": "code",
   "execution_count": 15,
   "id": "bcc4cd3d-33d6-4b4f-b5c1-b8cd9e4ddb43",
   "metadata": {},
   "outputs": [
    {
     "data": {
      "text/html": [
       "<table class=\"simpletable\">\n",
       "<caption>Test Multiple Comparison ttest_ind \n",
       "FWER=0.05 method=bonf\n",
       "alphacSidak=0.02, alphacBonf=0.017</caption>\n",
       "<tr>\n",
       "    <th>group1</th>      <th>group2</th>     <th>stat</th>    <th>pval</th>  <th>pval_corr</th> <th>reject</th>\n",
       "</tr>\n",
       "<tr>\n",
       "  <td>Week Before</td> <td>Week of DST</td> <td>4.0866</td>    <td>0.0</td>   <td>0.0001</td>    <td>True</td> \n",
       "</tr>\n",
       "<tr>\n",
       "  <td>Week Before</td> <td>Week After</td>  <td>1.7884</td>  <td>0.0739</td>  <td>0.2218</td>    <td>False</td>\n",
       "</tr>\n",
       "<tr>\n",
       "  <td>Week of DST</td> <td>Week After</td>  <td>-2.4028</td> <td>0.0164</td>  <td>0.0491</td>    <td>True</td> \n",
       "</tr>\n",
       "</table>"
      ],
      "text/plain": [
       "<class 'statsmodels.iolib.table.SimpleTable'>"
      ]
     },
     "execution_count": 15,
     "metadata": {},
     "output_type": "execute_result"
    }
   ],
   "source": [
    "tbl, a1, a2 = comp.allpairtest(stats.ttest_ind, method='bonf')\n",
    "tbl"
   ]
  },
  {
   "cell_type": "markdown",
   "id": "4683a9ea-6c96-4b53-a238-7682cbb59931",
   "metadata": {},
   "source": [
    "### Sidak Correction "
   ]
  },
  {
   "cell_type": "code",
   "execution_count": 16,
   "id": "b16be0e6-b3fe-4027-829d-9892262037c0",
   "metadata": {},
   "outputs": [
    {
     "data": {
      "text/html": [
       "<table class=\"simpletable\">\n",
       "<caption>Test Multiple Comparison ttest_ind \n",
       "FWER=0.05 method=sidak\n",
       "alphacSidak=0.02, alphacBonf=0.017</caption>\n",
       "<tr>\n",
       "    <th>group1</th>      <th>group2</th>     <th>stat</th>    <th>pval</th>  <th>pval_corr</th> <th>reject</th>\n",
       "</tr>\n",
       "<tr>\n",
       "  <td>Week Before</td> <td>Week of DST</td> <td>4.0866</td>    <td>0.0</td>   <td>0.0001</td>    <td>True</td> \n",
       "</tr>\n",
       "<tr>\n",
       "  <td>Week Before</td> <td>Week After</td>  <td>1.7884</td>  <td>0.0739</td>  <td>0.2058</td>    <td>False</td>\n",
       "</tr>\n",
       "<tr>\n",
       "  <td>Week of DST</td> <td>Week After</td>  <td>-2.4028</td> <td>0.0164</td>  <td>0.0483</td>    <td>True</td> \n",
       "</tr>\n",
       "</table>"
      ],
      "text/plain": [
       "<class 'statsmodels.iolib.table.SimpleTable'>"
      ]
     },
     "execution_count": 16,
     "metadata": {},
     "output_type": "execute_result"
    }
   ],
   "source": [
    "tbl, a1, a2 = comp.allpairtest(stats.ttest_ind, method='sidak')\n",
    "tbl"
   ]
  },
  {
   "cell_type": "code",
   "execution_count": 17,
   "id": "47e19dd9-b593-4843-b95c-32745daa487a",
   "metadata": {},
   "outputs": [
    {
     "name": "stdout",
     "output_type": "stream",
     "text": [
      "Week of DST    918\n",
      "Week After     714\n",
      "Week Before    540\n",
      "Name: week, dtype: int64\n"
     ]
    }
   ],
   "source": [
    "print(chi_df_spring_dst['week'].value_counts())"
   ]
  },
  {
   "cell_type": "markdown",
   "id": "bee1ed7f-4e6d-48e8-ba6b-291ca951b21a",
   "metadata": {},
   "source": [
    "### Interpretation\n",
    "* Based on the results from each multiple comparisons test we can see that there is a significant difference in severity score between:\n",
    "    * the week before DST and the week of DST, with higher severity in the week before DST\n",
    "    * and the week of DST and the week after DST, with higher severity in the week after DST.\n",
    "* These results are somewhat counter to what might be expected, however this could be due to the differences in overall accidents for each week as the week of DST had 200 more than the week after and almost 400 more than the week before. More accidents could be lowering the impact of the most sever accidents."
   ]
  },
  {
   "cell_type": "markdown",
   "id": "f70ad306-c290-4be1-b785-b04270917147",
   "metadata": {},
   "source": [
    "## ANOVA on Severity of Chi Accidents for the Fall DST Time Change"
   ]
  },
  {
   "cell_type": "code",
   "execution_count": 18,
   "id": "b6a02df5-cdb0-48a5-b19a-6aadd8870d8c",
   "metadata": {},
   "outputs": [
    {
     "data": {
      "text/plain": [
       "F_onewayResult(statistic=0.20600694424410165, pvalue=0.8138414290480289)"
      ]
     },
     "execution_count": 18,
     "metadata": {},
     "output_type": "execute_result"
    }
   ],
   "source": [
    "#Fall DST Time Change ANOVA\n",
    "stats.f_oneway(chi_df['severity'][chi_df['week'] == 44],\n",
    "              chi_df['severity'][chi_df['week'] == 45],\n",
    "              chi_df['severity'][chi_df['week'] == 46])"
   ]
  },
  {
   "cell_type": "code",
   "execution_count": 19,
   "id": "1438d8e7-210b-46ec-8344-6800487bc710",
   "metadata": {},
   "outputs": [
    {
     "data": {
      "text/plain": [
       "KruskalResult(statistic=0.023728434732062008, pvalue=0.9882058849505668)"
      ]
     },
     "execution_count": 19,
     "metadata": {},
     "output_type": "execute_result"
    }
   ],
   "source": [
    "#Fall DST Time Change Kruskall-Wallace\n",
    "stats.kruskal(chi_df['severity'][chi_df['week'] == 44],\n",
    "              chi_df['severity'][chi_df['week'] == 45],\n",
    "              chi_df['severity'][chi_df['week'] == 46])"
   ]
  },
  {
   "cell_type": "markdown",
   "id": "8c5fdf03-f93d-4a4f-a3e8-34bcb8bc4513",
   "metadata": {},
   "source": [
    "### Interpretation\n",
    "The results of the above ANOVA and Kruskal-Wallis tests on accident severity for the fall time change do not show evidence for statistical significance as neither p-value (0.81, 0.99) are smaller then our alpha set at 0.05. Due to this we cannot reject our null hypothesis that there is not a statistically significant difference in the average severity of accidents in Chicago during the weeks before, during, and after the fall time change."
   ]
  },
  {
   "cell_type": "code",
   "execution_count": null,
   "id": "bfad85a9-b865-4c19-b8ad-d3b70b6907d0",
   "metadata": {},
   "outputs": [],
   "source": []
  }
 ],
 "metadata": {
  "kernelspec": {
   "display_name": "Python 3",
   "language": "python",
   "name": "python3"
  },
  "language_info": {
   "codemirror_mode": {
    "name": "ipython",
    "version": 3
   },
   "file_extension": ".py",
   "mimetype": "text/x-python",
   "name": "python",
   "nbconvert_exporter": "python",
   "pygments_lexer": "ipython3",
   "version": "3.8.8"
  }
 },
 "nbformat": 4,
 "nbformat_minor": 5
}
