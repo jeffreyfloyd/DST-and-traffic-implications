{
 "cells": [
  {
   "cell_type": "code",
   "execution_count": 1,
   "id": "83bf3ecd-c5ec-464c-bf9a-b6e26db54a38",
   "metadata": {},
   "outputs": [],
   "source": [
    "#Standard python imports\n",
    "import pandas as pd \n",
    "import numpy as np\n",
    "import matplotlib.pyplot as plt\n",
    "import seaborn as sns\n",
    "\n",
    "#Stats imports\n",
    "import statsmodels.api as sm\n",
    "from statsmodels.formula.api import ols\n",
    "from statsmodels.stats.anova import anova_lm\n",
    "import statsmodels.stats.multicomp as mc\n",
    "import scipy.stats as stats\n",
    "\n",
    "#random seed for replicability\n",
    "np.random.seed(seed=42)"
   ]
  },
  {
   "cell_type": "code",
   "execution_count": 2,
   "id": "8e481a47-17f4-4969-a813-47946276e17a",
   "metadata": {},
   "outputs": [],
   "source": [
    "atl_df = pd.read_csv('../data/atl_df_cleaned.csv')\n",
    "bos_df = pd.read_csv('../data/bos_df_cleaned.csv')\n",
    "chi_df = pd.read_csv('../data/chi_df_cleaned.csv')\n",
    "den_df = pd.read_csv('../data/bos_df_cleaned.csv')"
   ]
  },
  {
   "cell_type": "code",
   "execution_count": 3,
   "id": "556aec09-65f3-4d06-8bc4-b089eecb3c17",
   "metadata": {},
   "outputs": [],
   "source": [
    "#Subsetting each cities accident data to those of interest for our problem statement\n",
    "#Week 10 is the week before the time change\n",
    "#Week 11 is the week of the time change\n",
    "#Week 12 is the week after the time change\n",
    "atl_df_spring_dst = atl_df[(atl_df['week'] == 10) | (atl_df['week'] == 11) | (atl_df['week'] == 12)]\n",
    "bos_df_spring_dst = bos_df[(bos_df['week'] == 10) | (bos_df['week'] == 11) | (bos_df['week'] == 12)]\n",
    "chi_df_spring_dst = chi_df[(chi_df['week'] == 10) | (chi_df['week'] == 11) | (chi_df['week'] == 12)]\n",
    "den_df_spring_dst = den_df[(den_df['week'] == 10) | (den_df['week'] == 11) | (den_df['week'] == 12)]"
   ]
  },
  {
   "cell_type": "code",
   "execution_count": 4,
   "id": "5edce441-e194-43fd-8666-cdea4d7565b3",
   "metadata": {},
   "outputs": [
    {
     "name": "stdout",
     "output_type": "stream",
     "text": [
      "10    467\n",
      "12    430\n",
      "11    362\n",
      "Name: week, dtype: int64\n",
      "12    301\n",
      "11    273\n",
      "10    196\n",
      "Name: week, dtype: int64\n",
      "11    918\n",
      "12    714\n",
      "10    540\n",
      "Name: week, dtype: int64\n",
      "12    301\n",
      "11    273\n",
      "10    196\n",
      "Name: week, dtype: int64\n"
     ]
    }
   ],
   "source": [
    "#Double check that the spring DST dataframes were created correctly\n",
    "print(atl_df_spring_dst['week'].value_counts())\n",
    "print(bos_df_spring_dst['week'].value_counts())\n",
    "print(chi_df_spring_dst['week'].value_counts())\n",
    "print(den_df_spring_dst['week'].value_counts())"
   ]
  },
  {
   "cell_type": "code",
   "execution_count": 5,
   "id": "74bd2c53-1e2b-457f-a08c-0f03244b770a",
   "metadata": {},
   "outputs": [],
   "source": [
    "#Subsetting each cities accident data to those of interest for our problem statement\n",
    "#Week 44 is the week before the time change\n",
    "#Week 45 is the week of the time change\n",
    "#Week 46 is the week after the time change\n",
    "atl_df_fall_dst = atl_df[(atl_df['week'] == 44) | (atl_df['week'] == 45) | (atl_df['week'] == 46)]\n",
    "bos_df_fall_dst = bos_df[(bos_df['week'] == 44) | (bos_df['week'] == 45) | (bos_df['week'] == 46)]\n",
    "chi_df_fall_dst = chi_df[(chi_df['week'] == 44) | (chi_df['week'] == 45) | (chi_df['week'] == 46)]\n",
    "den_df_fall_dst = den_df[(den_df['week'] == 44) | (den_df['week'] == 45) | (den_df['week'] == 46)]"
   ]
  },
  {
   "cell_type": "code",
   "execution_count": 6,
   "id": "ab2efcc7-9370-4fc5-8cb7-cd2e6b764bfb",
   "metadata": {},
   "outputs": [
    {
     "name": "stdout",
     "output_type": "stream",
     "text": [
      "44    671\n",
      "45    642\n",
      "46    635\n",
      "Name: week, dtype: int64\n",
      "45    261\n",
      "46    233\n",
      "44    205\n",
      "Name: week, dtype: int64\n",
      "45    889\n",
      "44    859\n",
      "46    721\n",
      "Name: week, dtype: int64\n",
      "45    261\n",
      "46    233\n",
      "44    205\n",
      "Name: week, dtype: int64\n"
     ]
    }
   ],
   "source": [
    "#Double check that the spring DST dataframes were created correctly\n",
    "print(atl_df_fall_dst['week'].value_counts())\n",
    "print(bos_df_fall_dst['week'].value_counts())\n",
    "print(chi_df_fall_dst['week'].value_counts())\n",
    "print(den_df_fall_dst['week'].value_counts())"
   ]
  },
  {
   "cell_type": "code",
   "execution_count": 7,
   "id": "920a626f-7d32-4589-994f-380a8fdc549a",
   "metadata": {},
   "outputs": [
    {
     "data": {
      "text/plain": [
       "11    1826\n",
       "12    1746\n",
       "10    1399\n",
       "Name: week, dtype: int64"
      ]
     },
     "execution_count": 7,
     "metadata": {},
     "output_type": "execute_result"
    }
   ],
   "source": [
    "#Combined dataframe of all spring DST accident data \n",
    "spr_dst_comb_df = pd.concat([atl_df_spring_dst, bos_df_spring_dst, chi_df_spring_dst, den_df_spring_dst])\n",
    "spr_dst_comb_df['week'].value_counts()"
   ]
  },
  {
   "cell_type": "code",
   "execution_count": 8,
   "id": "e1a374e9-e072-449b-a520-7e87029a1963",
   "metadata": {},
   "outputs": [
    {
     "data": {
      "text/plain": [
       "45    2053\n",
       "44    1940\n",
       "46    1822\n",
       "Name: week, dtype: int64"
      ]
     },
     "execution_count": 8,
     "metadata": {},
     "output_type": "execute_result"
    }
   ],
   "source": [
    "#Combined dataframe of all Fall DST accident data \n",
    "fall_dst_comb_df = pd.concat([atl_df_fall_dst, bos_df_fall_dst, chi_df_fall_dst, den_df_fall_dst])\n",
    "fall_dst_comb_df['week'].value_counts()"
   ]
  },
  {
   "cell_type": "markdown",
   "id": "14bf27b8-dc09-41a7-b0d7-faa68571c778",
   "metadata": {},
   "source": [
    "## ANOVA on severity of accidents for Spring DST Time Change\n",
    "\n",
    "Equivalent Research Hypotheses were used as those used for the initial Chicago analysis to test the impact of the spring time change and fall time change. For further explanation please reference notebook 5_hypothesis_test_chicago."
   ]
  },
  {
   "cell_type": "code",
   "execution_count": 9,
   "id": "e2596143-72e0-41d8-a0a2-6489d12a400e",
   "metadata": {},
   "outputs": [],
   "source": [
    "#I (CH) referenced this article for a refresher on ANOVA and to find the libraries to use for each test\n",
    "#https://www.pythonfordatascience.org/anova-python/#anova-test\n",
    "#I referenced these pages for a refresher on ANOVA vs. Kruskall-Wallis and the impact of a non-normal distribution\n",
    "# https://stats.stackexchange.com/questions/76059/difference-between-anova-and-kruskal-wallis-test\n",
    "# http://www.biostathandbook.com/kruskalwallis.html"
   ]
  },
  {
   "cell_type": "code",
   "execution_count": 10,
   "id": "dbbecbdc-9f8b-4c92-bd13-a88876457694",
   "metadata": {},
   "outputs": [
    {
     "data": {
      "text/plain": [
       "F_onewayResult(statistic=7.9157344051453835, pvalue=0.00036957803620512523)"
      ]
     },
     "execution_count": 10,
     "metadata": {},
     "output_type": "execute_result"
    }
   ],
   "source": [
    "#Overall comparison of week before, week of DST, and week after DST for traffic accidents in chicago\n",
    "stats.f_oneway(spr_dst_comb_df['severity'][spr_dst_comb_df['week'] == 10],\n",
    "              spr_dst_comb_df['severity'][spr_dst_comb_df['week'] == 11],\n",
    "              spr_dst_comb_df['severity'][spr_dst_comb_df['week'] == 12])"
   ]
  },
  {
   "cell_type": "code",
   "execution_count": 11,
   "id": "220dad13-48de-463b-a4a0-797344de5cad",
   "metadata": {},
   "outputs": [
    {
     "data": {
      "text/html": [
       "<div>\n",
       "<style scoped>\n",
       "    .dataframe tbody tr th:only-of-type {\n",
       "        vertical-align: middle;\n",
       "    }\n",
       "\n",
       "    .dataframe tbody tr th {\n",
       "        vertical-align: top;\n",
       "    }\n",
       "\n",
       "    .dataframe thead th {\n",
       "        text-align: right;\n",
       "    }\n",
       "</style>\n",
       "<table border=\"1\" class=\"dataframe\">\n",
       "  <thead>\n",
       "    <tr style=\"text-align: right;\">\n",
       "      <th></th>\n",
       "      <th>sum_sq</th>\n",
       "      <th>df</th>\n",
       "      <th>F</th>\n",
       "      <th>PR(&gt;F)</th>\n",
       "    </tr>\n",
       "  </thead>\n",
       "  <tbody>\n",
       "    <tr>\n",
       "      <th>C(week)</th>\n",
       "      <td>7.780420</td>\n",
       "      <td>2.0</td>\n",
       "      <td>7.915734</td>\n",
       "      <td>0.00037</td>\n",
       "    </tr>\n",
       "    <tr>\n",
       "      <th>Residual</th>\n",
       "      <td>2441.537625</td>\n",
       "      <td>4968.0</td>\n",
       "      <td>NaN</td>\n",
       "      <td>NaN</td>\n",
       "    </tr>\n",
       "  </tbody>\n",
       "</table>\n",
       "</div>"
      ],
      "text/plain": [
       "               sum_sq      df         F   PR(>F)\n",
       "C(week)      7.780420     2.0  7.915734  0.00037\n",
       "Residual  2441.537625  4968.0       NaN      NaN"
      ]
     },
     "execution_count": 11,
     "metadata": {},
     "output_type": "execute_result"
    }
   ],
   "source": [
    "comb_spr_anova = ols(\"severity ~C(week)\", data=spr_dst_comb_df).fit()\n",
    "comb_aov_table = sm.stats.anova_lm(comb_spr_anova, typ=2)\n",
    "comb_aov_table"
   ]
  },
  {
   "cell_type": "code",
   "execution_count": 12,
   "id": "75596336-67e8-4ae8-8ea8-8212c262d65a",
   "metadata": {},
   "outputs": [
    {
     "data": {
      "text/plain": [
       "ShapiroResult(statistic=0.8242663145065308, pvalue=0.0)"
      ]
     },
     "execution_count": 12,
     "metadata": {},
     "output_type": "execute_result"
    }
   ],
   "source": [
    "#Shapiro test of normality, failed as the severity of accidents is not normally distributed\n",
    "stats.shapiro(comb_spr_anova.resid)"
   ]
  },
  {
   "cell_type": "code",
   "execution_count": 13,
   "id": "2bed5654-691a-46db-a108-ef4acbbd5589",
   "metadata": {},
   "outputs": [
    {
     "data": {
      "image/png": "[encoded data removed]",
      "text/plain": [
       "<Figure size 432x288 with 1 Axes>"
      ]
     },
     "metadata": {
      "needs_background": "light"
     },
     "output_type": "display_data"
    }
   ],
   "source": [
    "#QQ plot to conform lack of normality\n",
    "sm.qqplot(spr_dst_comb_df['severity'], line='s');"
   ]
  },
  {
   "cell_type": "code",
   "execution_count": 14,
   "id": "a79f17c3-b833-478a-bb9d-5c784992d0c4",
   "metadata": {
    "tags": []
   },
   "outputs": [
    {
     "data": {
      "text/plain": [
       "LeveneResult(statistic=2.1533940455338954, pvalue=0.11619782067192008)"
      ]
     },
     "execution_count": 14,
     "metadata": {},
     "output_type": "execute_result"
    }
   ],
   "source": [
    "#Levene's test of homogeneity\n",
    "#Non-significant result\n",
    "stats.levene(spr_dst_comb_df['severity'][spr_dst_comb_df['week'] == 10],\n",
    "              spr_dst_comb_df['severity'][spr_dst_comb_df['week'] == 11],\n",
    "              spr_dst_comb_df['severity'][spr_dst_comb_df['week'] == 12])"
   ]
  },
  {
   "cell_type": "code",
   "execution_count": 15,
   "id": "96e308d2-6194-456f-845a-6408df651930",
   "metadata": {},
   "outputs": [
    {
     "data": {
      "text/plain": [
       "KruskalResult(statistic=8.567155479080224, pvalue=0.013793225135992192)"
      ]
     },
     "execution_count": 15,
     "metadata": {},
     "output_type": "execute_result"
    }
   ],
   "source": [
    "#Kruskal-Wallis\n",
    "stats.kruskal(spr_dst_comb_df['severity'][spr_dst_comb_df['week'] == 10],\n",
    "              spr_dst_comb_df['severity'][spr_dst_comb_df['week'] == 11],\n",
    "              spr_dst_comb_df['severity'][spr_dst_comb_df['week'] == 12])"
   ]
  },
  {
   "cell_type": "code",
   "execution_count": 16,
   "id": "3feeb158-2963-46a1-bad6-19640b6e176b",
   "metadata": {},
   "outputs": [
    {
     "data": {
      "text/plain": [
       "C(week)    0.003177\n",
       "Name: sum_sq, dtype: float64"
      ]
     },
     "execution_count": 16,
     "metadata": {},
     "output_type": "execute_result"
    }
   ],
   "source": [
    "#Hand calculation of the eta squared effect size metric\n",
    "eta_square = comb_aov_table[:-1]['sum_sq'] / sum(comb_aov_table['sum_sq'])\n",
    "eta_square"
   ]
  },
  {
   "cell_type": "markdown",
   "id": "c34c3bc7-430f-4c8e-b47e-99609ca9d13b",
   "metadata": {},
   "source": [
    "### Interpretation\n",
    "* The results of the above ANOVA and Kruskal-Wallis tests on accident severity for the spring time change show strong  evidence for statistical significance as both p-values (KW = 0.0138, ANOVA = 0.00037) are smaller then our alpha of 0.05. \n",
    "* Given this we can reject our null hypothesis and state that there is a statistically significant difference in the average severity of accidents for all cities during the weeks before, during, and after the fall time change.\n",
    "* In addition to the ANOVA and Kruskal-Wallis we also calculated the Eta squared effect size, finding that the effect of the difference found was of a small size at eta = 0.003177."
   ]
  },
  {
   "cell_type": "code",
   "execution_count": 17,
   "id": "14d4dd92-5d5e-4355-a8ce-47c07fbc59de",
   "metadata": {},
   "outputs": [
    {
     "data": {
      "text/plain": [
       "Week of DST    1826\n",
       "Week After     1746\n",
       "Week Before    1399\n",
       "Name: week, dtype: int64"
      ]
     },
     "execution_count": 17,
     "metadata": {},
     "output_type": "execute_result"
    }
   ],
   "source": [
    "#Updating the weeks to wording of week before, of, after for ease of table reading.\n",
    "spr_dst_comb_df['week'] = spr_dst_comb_df.week.map({10 : 'Week Before', 11 : 'Week of DST', 12: 'Week After'})\n",
    "spr_dst_comb_df['week'].value_counts()"
   ]
  },
  {
   "cell_type": "markdown",
   "id": "b28b3153-bdc1-47db-95c4-0a73206d1e29",
   "metadata": {},
   "source": [
    "## Multiple Comparison Tests"
   ]
  },
  {
   "cell_type": "markdown",
   "id": "796ec272-25e3-4d86-b467-20bab71c9b3d",
   "metadata": {},
   "source": [
    "### Tukey Honestly Significant Difference (HSD) Test"
   ]
  },
  {
   "cell_type": "code",
   "execution_count": 18,
   "id": "86cf09e3-0eb2-48a1-afe1-11c22aad0b85",
   "metadata": {},
   "outputs": [
    {
     "data": {
      "text/html": [
       "<table class=\"simpletable\">\n",
       "<caption>Multiple Comparison of Means - Tukey HSD, FWER=0.05</caption>\n",
       "<tr>\n",
       "    <th>group1</th>      <th>group2</th>    <th>meandiff</th>  <th>p-adj</th>  <th>lower</th>   <th>upper</th> <th>reject</th>\n",
       "</tr>\n",
       "<tr>\n",
       "  <td>Week After</td>  <td>Week Before</td>  <td>0.0961</td>   <td>0.001</td> <td>0.0371</td>  <td>0.1551</td>  <td>True</td> \n",
       "</tr>\n",
       "<tr>\n",
       "  <td>Week After</td>  <td>Week of DST</td>  <td>0.0657</td>  <td>0.0142</td> <td>0.0107</td>  <td>0.1207</td>  <td>True</td> \n",
       "</tr>\n",
       "<tr>\n",
       "  <td>Week Before</td> <td>Week of DST</td>  <td>-0.0304</td> <td>0.4426</td> <td>-0.0888</td>  <td>0.028</td>  <td>False</td>\n",
       "</tr>\n",
       "</table>"
      ],
      "text/plain": [
       "<class 'statsmodels.iolib.table.SimpleTable'>"
      ]
     },
     "execution_count": 18,
     "metadata": {},
     "output_type": "execute_result"
    }
   ],
   "source": [
    "comp = mc.MultiComparison(spr_dst_comb_df['severity'], spr_dst_comb_df['week'])\n",
    "post_hoc = comp.tukeyhsd()\n",
    "post_hoc.summary()"
   ]
  },
  {
   "cell_type": "code",
   "execution_count": 19,
   "id": "910528cb-da18-4cc9-98fd-403c4c256503",
   "metadata": {},
   "outputs": [
    {
     "data": {
      "image/png": "[encoded data removed]",
      "text/plain": [
       "<Figure size 720x432 with 1 Axes>"
      ]
     },
     "metadata": {
      "needs_background": "light"
     },
     "output_type": "display_data"
    }
   ],
   "source": [
    "post_hoc.plot_simultaneous(ylabel='Week', xlabel='Score Difference');"
   ]
  },
  {
   "cell_type": "markdown",
   "id": "70029247-2590-4eb8-9423-099585317f6b",
   "metadata": {},
   "source": [
    "### Bonferroni Correction"
   ]
  },
  {
   "cell_type": "code",
   "execution_count": 20,
   "id": "bcc4cd3d-33d6-4b4f-b5c1-b8cd9e4ddb43",
   "metadata": {},
   "outputs": [
    {
     "data": {
      "text/html": [
       "<table class=\"simpletable\">\n",
       "<caption>Test Multiple Comparison ttest_ind \n",
       "FWER=0.05 method=bonf\n",
       "alphacSidak=0.02, alphacBonf=0.017</caption>\n",
       "<tr>\n",
       "    <th>group1</th>      <th>group2</th>     <th>stat</th>    <th>pval</th>  <th>pval_corr</th> <th>reject</th>\n",
       "</tr>\n",
       "<tr>\n",
       "  <td>Week After</td>  <td>Week Before</td> <td>-3.7962</td> <td>0.0001</td>  <td>0.0004</td>    <td>True</td> \n",
       "</tr>\n",
       "<tr>\n",
       "  <td>Week After</td>  <td>Week of DST</td> <td>-2.8516</td> <td>0.0044</td>  <td>0.0131</td>    <td>True</td> \n",
       "</tr>\n",
       "<tr>\n",
       "  <td>Week Before</td> <td>Week of DST</td> <td>1.2044</td>  <td>0.2285</td>  <td>0.6856</td>    <td>False</td>\n",
       "</tr>\n",
       "</table>"
      ],
      "text/plain": [
       "<class 'statsmodels.iolib.table.SimpleTable'>"
      ]
     },
     "execution_count": 20,
     "metadata": {},
     "output_type": "execute_result"
    }
   ],
   "source": [
    "tbl, a1, a2 = comp.allpairtest(stats.ttest_ind, method='bonf')\n",
    "tbl"
   ]
  },
  {
   "cell_type": "markdown",
   "id": "4683a9ea-6c96-4b53-a238-7682cbb59931",
   "metadata": {},
   "source": [
    "### Sidak Correction "
   ]
  },
  {
   "cell_type": "code",
   "execution_count": 21,
   "id": "b16be0e6-b3fe-4027-829d-9892262037c0",
   "metadata": {},
   "outputs": [
    {
     "data": {
      "text/html": [
       "<table class=\"simpletable\">\n",
       "<caption>Test Multiple Comparison ttest_ind \n",
       "FWER=0.05 method=sidak\n",
       "alphacSidak=0.02, alphacBonf=0.017</caption>\n",
       "<tr>\n",
       "    <th>group1</th>      <th>group2</th>     <th>stat</th>    <th>pval</th>  <th>pval_corr</th> <th>reject</th>\n",
       "</tr>\n",
       "<tr>\n",
       "  <td>Week After</td>  <td>Week Before</td> <td>-3.7962</td> <td>0.0001</td>  <td>0.0004</td>    <td>True</td> \n",
       "</tr>\n",
       "<tr>\n",
       "  <td>Week After</td>  <td>Week of DST</td> <td>-2.8516</td> <td>0.0044</td>  <td>0.0131</td>    <td>True</td> \n",
       "</tr>\n",
       "<tr>\n",
       "  <td>Week Before</td> <td>Week of DST</td> <td>1.2044</td>  <td>0.2285</td>  <td>0.5408</td>    <td>False</td>\n",
       "</tr>\n",
       "</table>"
      ],
      "text/plain": [
       "<class 'statsmodels.iolib.table.SimpleTable'>"
      ]
     },
     "execution_count": 21,
     "metadata": {},
     "output_type": "execute_result"
    }
   ],
   "source": [
    "tbl, a1, a2 = comp.allpairtest(stats.ttest_ind, method='sidak')\n",
    "tbl"
   ]
  },
  {
   "cell_type": "code",
   "execution_count": 22,
   "id": "95672c75-49b6-47eb-ae08-df57140b4e0c",
   "metadata": {},
   "outputs": [
    {
     "data": {
      "text/plain": [
       "''"
      ]
     },
     "execution_count": 22,
     "metadata": {},
     "output_type": "execute_result"
    },
    {
     "data": {
      "image/png": "[encoded data removed]",
      "text/plain": [
       "<Figure size 432x288 with 1 Axes>"
      ]
     },
     "metadata": {
      "needs_background": "light"
     },
     "output_type": "display_data"
    }
   ],
   "source": [
    "sns.boxplot(x=spr_dst_comb_df['severity'], y=spr_dst_comb_df['week'])\n",
    ";"
   ]
  },
  {
   "cell_type": "markdown",
   "id": "51f6d2c4-111c-4a4e-81e4-5a938d11cc07",
   "metadata": {},
   "source": [
    "### Interpretation\n",
    "* Based on the results from each multiple comparisons test we can see that there is a significant difference in severity score between:\n",
    "    1. the week before DST and the week after DST, with higher severity in the week before DST\n",
    "    1. and the week of DST and the week after DST, with higher severity in the week of DST.\n",
    "* The second comparison result suggests that the spring time change may lead to higher accident severity in the week of the time change when compared to the week after it. \n",
    "* For practical purposes this can be interpreted as evidence that the hour lost may lead to more severe accidents in the days after the time change. Moving to a standard time that does not involve this spring shift forward and the ensuing loss of an hour for it may likely get rid of this increase in accident severity."
   ]
  },
  {
   "cell_type": "markdown",
   "id": "ea7c431c-cd80-4cb7-89a0-bc9350c8d480",
   "metadata": {},
   "source": [
    "## ANOVA on Severity of Accidents for the Fall DST Time Change"
   ]
  },
  {
   "cell_type": "code",
   "execution_count": 23,
   "id": "1dfc7904-ab26-422a-a7cb-c5d8ffc82e39",
   "metadata": {},
   "outputs": [
    {
     "data": {
      "text/plain": [
       "F_onewayResult(statistic=5.735146412394159, pvalue=0.003248718921727932)"
      ]
     },
     "execution_count": 23,
     "metadata": {},
     "output_type": "execute_result"
    }
   ],
   "source": [
    "#Fall DST Time Change ANOVA\n",
    "stats.f_oneway(fall_dst_comb_df['severity'][fall_dst_comb_df['week'] == 44],\n",
    "              fall_dst_comb_df['severity'][fall_dst_comb_df['week'] == 45],\n",
    "              fall_dst_comb_df['severity'][fall_dst_comb_df['week'] == 46])"
   ]
  },
  {
   "cell_type": "code",
   "execution_count": 24,
   "id": "8b01a927-af34-4e2f-83c6-fc67f3d56064",
   "metadata": {},
   "outputs": [
    {
     "data": {
      "text/html": [
       "<div>\n",
       "<style scoped>\n",
       "    .dataframe tbody tr th:only-of-type {\n",
       "        vertical-align: middle;\n",
       "    }\n",
       "\n",
       "    .dataframe tbody tr th {\n",
       "        vertical-align: top;\n",
       "    }\n",
       "\n",
       "    .dataframe thead th {\n",
       "        text-align: right;\n",
       "    }\n",
       "</style>\n",
       "<table border=\"1\" class=\"dataframe\">\n",
       "  <thead>\n",
       "    <tr style=\"text-align: right;\">\n",
       "      <th></th>\n",
       "      <th>sum_sq</th>\n",
       "      <th>df</th>\n",
       "      <th>F</th>\n",
       "      <th>PR(&gt;F)</th>\n",
       "    </tr>\n",
       "  </thead>\n",
       "  <tbody>\n",
       "    <tr>\n",
       "      <th>C(week)</th>\n",
       "      <td>4.948554</td>\n",
       "      <td>2.0</td>\n",
       "      <td>5.735146</td>\n",
       "      <td>0.003249</td>\n",
       "    </tr>\n",
       "    <tr>\n",
       "      <th>Residual</th>\n",
       "      <td>2507.433218</td>\n",
       "      <td>5812.0</td>\n",
       "      <td>NaN</td>\n",
       "      <td>NaN</td>\n",
       "    </tr>\n",
       "  </tbody>\n",
       "</table>\n",
       "</div>"
      ],
      "text/plain": [
       "               sum_sq      df         F    PR(>F)\n",
       "C(week)      4.948554     2.0  5.735146  0.003249\n",
       "Residual  2507.433218  5812.0       NaN       NaN"
      ]
     },
     "execution_count": 24,
     "metadata": {},
     "output_type": "execute_result"
    }
   ],
   "source": [
    "comb_fall_anova = ols(\"severity ~C(week)\", data=fall_dst_comb_df).fit()\n",
    "comb_fall_aov_table = sm.stats.anova_lm(comb_fall_anova, typ=2)\n",
    "comb_fall_aov_table"
   ]
  },
  {
   "cell_type": "code",
   "execution_count": 25,
   "id": "e7f890f1-9a42-4a30-a98e-90abd91ced84",
   "metadata": {},
   "outputs": [
    {
     "data": {
      "text/plain": [
       "KruskalResult(statistic=12.426038647133936, pvalue=0.002003180075253317)"
      ]
     },
     "execution_count": 25,
     "metadata": {},
     "output_type": "execute_result"
    }
   ],
   "source": [
    "stats.kruskal(fall_dst_comb_df['severity'][fall_dst_comb_df['week'] == 44],\n",
    "              fall_dst_comb_df['severity'][fall_dst_comb_df['week'] == 45],\n",
    "              fall_dst_comb_df['severity'][fall_dst_comb_df['week'] == 46])"
   ]
  },
  {
   "cell_type": "code",
   "execution_count": 26,
   "id": "a562e68c-2f8d-49c7-bef2-5af4ab9551e4",
   "metadata": {},
   "outputs": [
    {
     "data": {
      "text/plain": [
       "C(week)    0.00197\n",
       "Name: sum_sq, dtype: float64"
      ]
     },
     "execution_count": 26,
     "metadata": {},
     "output_type": "execute_result"
    }
   ],
   "source": [
    "eta_square = comb_fall_aov_table[:-1]['sum_sq'] / sum(comb_fall_aov_table['sum_sq'])\n",
    "eta_square"
   ]
  },
  {
   "cell_type": "markdown",
   "id": "f9de43ef-b338-4ed9-9a2e-5137612d8541",
   "metadata": {},
   "source": [
    "### Interpretation\n",
    "* The results of the above ANOVA and Kruskal-Wallis tests on accident severity for the fall time change show strong  evidence for statistical significance as both p-values (KW = 0.0138, ANOVA = 0.00037) are smaller then our alpha of 0.05. \n",
    "* Given this we can reject our null hypothesis and state that there is a statistically significant difference in the average severity of accidents in Chicago during the weeks before, during, and after the fall time change.\n",
    "* In addition to the ANOVA and Kruskal-Wallis we also calculated the Eta squared effect size, finding that the effect of the difference found was of a small size at eta = 0.00197."
   ]
  },
  {
   "cell_type": "markdown",
   "id": "fb5b89a9-9476-475e-bbbd-a02f0fe4a50a",
   "metadata": {},
   "source": [
    "### Multiple Comparisons Test"
   ]
  },
  {
   "cell_type": "code",
   "execution_count": 27,
   "id": "9915ae08-04a6-4e45-a4a2-97f308fc7a11",
   "metadata": {},
   "outputs": [
    {
     "data": {
      "text/plain": [
       "Week of DST    2053\n",
       "Week Before    1940\n",
       "Week After     1822\n",
       "Name: week, dtype: int64"
      ]
     },
     "execution_count": 27,
     "metadata": {},
     "output_type": "execute_result"
    }
   ],
   "source": [
    "#Updating the weeks to wording of week before, of, after for ease of table reading.\n",
    "fall_dst_comb_df['week'] = fall_dst_comb_df.week.map({44 : 'Week Before', 45 : 'Week of DST', 46: 'Week After'})\n",
    "fall_dst_comb_df['week'].value_counts()"
   ]
  },
  {
   "cell_type": "code",
   "execution_count": 28,
   "id": "6be5b43b-5d46-4d11-a0ca-b407a6107f1e",
   "metadata": {},
   "outputs": [
    {
     "data": {
      "text/html": [
       "<table class=\"simpletable\">\n",
       "<caption>Multiple Comparison of Means - Tukey HSD, FWER=0.05</caption>\n",
       "<tr>\n",
       "    <th>group1</th>      <th>group2</th>    <th>meandiff</th>  <th>p-adj</th>  <th>lower</th>   <th>upper</th>  <th>reject</th>\n",
       "</tr>\n",
       "<tr>\n",
       "  <td>Week Before</td> <td>Week of DST</td>  <td>-0.0701</td> <td>0.0022</td> <td>-0.1189</td> <td>-0.0214</td>  <td>True</td> \n",
       "</tr>\n",
       "<tr>\n",
       "  <td>Week Before</td> <td>Week After</td>   <td>-0.0421</td> <td>0.1215</td> <td>-0.0923</td> <td>0.0082</td>   <td>False</td>\n",
       "</tr>\n",
       "<tr>\n",
       "  <td>Week of DST</td> <td>Week After</td>    <td>0.028</td>  <td>0.3822</td> <td>-0.0215</td> <td>0.0776</td>   <td>False</td>\n",
       "</tr>\n",
       "</table>"
      ],
      "text/plain": [
       "<class 'statsmodels.iolib.table.SimpleTable'>"
      ]
     },
     "execution_count": 28,
     "metadata": {},
     "output_type": "execute_result"
    }
   ],
   "source": [
    "comp = mc.MultiComparison(fall_dst_comb_df['severity'], fall_dst_comb_df['week'],\n",
    "                         group_order=['Week Before', 'Week of DST', 'Week After'])\n",
    "post_hoc = comp.tukeyhsd()\n",
    "post_hoc.summary()"
   ]
  },
  {
   "cell_type": "markdown",
   "id": "448e6bc4-14a3-48da-9bc1-e73bcad872ff",
   "metadata": {},
   "source": [
    "### Interpretation\n",
    "* Based on the results from the multiple comparisons test we can see that there is a significant difference in severity score between:\n",
    "    1. the week before DST and the week of DST, with higher severity in the week before the time change\n",
    "* These results suggests that the fall time change may lead to a decrease in accident severity in the week of the time change when compared to the week before it, as most people gain an hour of sleep."
   ]
  },
  {
   "cell_type": "code",
   "execution_count": null,
   "id": "588e9733-ac09-4268-a693-18f3d58c735f",
   "metadata": {},
   "outputs": [],
   "source": []
  }
 ],
 "metadata": {
  "kernelspec": {
   "display_name": "Python 3",
   "language": "python",
   "name": "python3"
  },
  "language_info": {
   "codemirror_mode": {
    "name": "ipython",
    "version": 3
   },
   "file_extension": ".py",
   "mimetype": "text/x-python",
   "name": "python",
   "nbconvert_exporter": "python",
   "pygments_lexer": "ipython3",
   "version": "3.8.8"
  }
 },
 "nbformat": 4,
 "nbformat_minor": 5
}
