{
 "cells": [
  {
   "cell_type": "code",
   "execution_count": 1,
   "id": "83bf3ecd-c5ec-464c-bf9a-b6e26db54a38",
   "metadata": {},
   "outputs": [],
   "source": [
    "#Standard python imports\n",
    "import pandas as pd \n",
    "import numpy as np\n",
    "import matplotlib.pyplot as plt\n",
    "\n",
    "#Stats imports\n",
    "import statsmodels.api as sm\n",
    "from statsmodels.formula.api import ols\n",
    "from statsmodels.stats.anova import anova_lm\n",
    "import statsmodels.stats.multicomp as mc\n",
    "import scipy.stats as stats\n",
    "\n",
    "#random seed for replicability\n",
    "np.random.seed(seed=42)"
   ]
  },
  {
   "cell_type": "code",
   "execution_count": 2,
   "id": "8e481a47-17f4-4969-a813-47946276e17a",
   "metadata": {},
   "outputs": [
    {
     "data": {
      "text/html": [
       "<div>\n",
       "<style scoped>\n",
       "    .dataframe tbody tr th:only-of-type {\n",
       "        vertical-align: middle;\n",
       "    }\n",
       "\n",
       "    .dataframe tbody tr th {\n",
       "        vertical-align: top;\n",
       "    }\n",
       "\n",
       "    .dataframe thead th {\n",
       "        text-align: right;\n",
       "    }\n",
       "</style>\n",
       "<table border=\"1\" class=\"dataframe\">\n",
       "  <thead>\n",
       "    <tr style=\"text-align: right;\">\n",
       "      <th></th>\n",
       "      <th>severity</th>\n",
       "      <th>start_lat</th>\n",
       "      <th>start_lng</th>\n",
       "      <th>end_lat</th>\n",
       "      <th>end_lng</th>\n",
       "      <th>distance(mi)</th>\n",
       "      <th>temperature(f)</th>\n",
       "      <th>wind_chill(f)</th>\n",
       "      <th>humidity(%)</th>\n",
       "      <th>pressure(in)</th>\n",
       "      <th>...</th>\n",
       "      <th>hour_20</th>\n",
       "      <th>hour_21</th>\n",
       "      <th>hour_22</th>\n",
       "      <th>hour_23</th>\n",
       "      <th>weather_condition_Light Freezing Rain</th>\n",
       "      <th>weather_condition_Light Snow and Sleet</th>\n",
       "      <th>weather_condition_Freezing Rain</th>\n",
       "      <th>weather_condition_Light Rain Showers</th>\n",
       "      <th>weather_condition_Light Ice Pellets</th>\n",
       "      <th>is_DST</th>\n",
       "    </tr>\n",
       "  </thead>\n",
       "  <tbody>\n",
       "    <tr>\n",
       "      <th>0</th>\n",
       "      <td>4</td>\n",
       "      <td>38.89700</td>\n",
       "      <td>-104.74707</td>\n",
       "      <td>38.89705</td>\n",
       "      <td>-104.747869</td>\n",
       "      <td>0.043</td>\n",
       "      <td>37.9</td>\n",
       "      <td>32.7</td>\n",
       "      <td>18.0</td>\n",
       "      <td>29.94</td>\n",
       "      <td>...</td>\n",
       "      <td>0</td>\n",
       "      <td>0</td>\n",
       "      <td>0</td>\n",
       "      <td>0</td>\n",
       "      <td>0</td>\n",
       "      <td>0</td>\n",
       "      <td>0</td>\n",
       "      <td>0</td>\n",
       "      <td>0</td>\n",
       "      <td>0</td>\n",
       "    </tr>\n",
       "    <tr>\n",
       "      <th>1</th>\n",
       "      <td>3</td>\n",
       "      <td>39.62951</td>\n",
       "      <td>-104.90471</td>\n",
       "      <td>39.63764</td>\n",
       "      <td>-104.909150</td>\n",
       "      <td>0.609</td>\n",
       "      <td>37.9</td>\n",
       "      <td>30.5</td>\n",
       "      <td>19.0</td>\n",
       "      <td>29.94</td>\n",
       "      <td>...</td>\n",
       "      <td>0</td>\n",
       "      <td>0</td>\n",
       "      <td>0</td>\n",
       "      <td>0</td>\n",
       "      <td>0</td>\n",
       "      <td>0</td>\n",
       "      <td>0</td>\n",
       "      <td>0</td>\n",
       "      <td>0</td>\n",
       "      <td>0</td>\n",
       "    </tr>\n",
       "  </tbody>\n",
       "</table>\n",
       "<p>2 rows × 127 columns</p>\n",
       "</div>"
      ],
      "text/plain": [
       "   severity  start_lat  start_lng   end_lat     end_lng  distance(mi)  \\\n",
       "0         4   38.89700 -104.74707  38.89705 -104.747869         0.043   \n",
       "1         3   39.62951 -104.90471  39.63764 -104.909150         0.609   \n",
       "\n",
       "   temperature(f)  wind_chill(f)  humidity(%)  pressure(in)  ...  hour_20  \\\n",
       "0            37.9           32.7         18.0         29.94  ...        0   \n",
       "1            37.9           30.5         19.0         29.94  ...        0   \n",
       "\n",
       "   hour_21  hour_22  hour_23  weather_condition_Light Freezing Rain  \\\n",
       "0        0        0        0                                      0   \n",
       "1        0        0        0                                      0   \n",
       "\n",
       "   weather_condition_Light Snow and Sleet  weather_condition_Freezing Rain  \\\n",
       "0                                       0                                0   \n",
       "1                                       0                                0   \n",
       "\n",
       "   weather_condition_Light Rain Showers  weather_condition_Light Ice Pellets  \\\n",
       "0                                     0                                    0   \n",
       "1                                     0                                    0   \n",
       "\n",
       "   is_DST  \n",
       "0       0  \n",
       "1       0  \n",
       "\n",
       "[2 rows x 127 columns]"
      ]
     },
     "execution_count": 2,
     "metadata": {},
     "output_type": "execute_result"
    }
   ],
   "source": [
    "den_df = pd.read_csv('../data/dia_df_cleaned.csv')\n",
    "den_df.head(2)"
   ]
  },
  {
   "cell_type": "markdown",
   "id": "14bf27b8-dc09-41a7-b0d7-faa68571c778",
   "metadata": {},
   "source": [
    "## ANOVA on severity of accidents for Spring DST Time Change\n",
    "\n",
    "Equivalent Research Hypotheses were used as those used for the initial Chicago analysis to test the impact of the spring time change and fall time change. For further explanation please reference notebook 5_hypothesis_test_chicago."
   ]
  },
  {
   "cell_type": "code",
   "execution_count": 3,
   "id": "e2596143-72e0-41d8-a0a2-6489d12a400e",
   "metadata": {},
   "outputs": [],
   "source": [
    "#I (CH) referenced this article for a refresher on ANOVA and to find the libraries to use for each test\n",
    "#https://www.pythonfordatascience.org/anova-python/#anova-test\n",
    "#I referenced these pages for a refresher on ANOVA vs. Kruskall-Wallace and the impact of a non-normal distribution\n",
    "# https://stats.stackexchange.com/questions/76059/difference-between-anova-and-kruskal-wallis-test\n",
    "# http://www.biostathandbook.com/kruskalwallis.html"
   ]
  },
  {
   "cell_type": "code",
   "execution_count": 4,
   "id": "dbbecbdc-9f8b-4c92-bd13-a88876457694",
   "metadata": {},
   "outputs": [
    {
     "data": {
      "text/plain": [
       "F_onewayResult(statistic=16.175838540279305, pvalue=1.2123064471768523e-07)"
      ]
     },
     "execution_count": 4,
     "metadata": {},
     "output_type": "execute_result"
    }
   ],
   "source": [
    "#Overall comparison of week before, week of DST, and week after DST for traffic accidents in chicago\n",
    "stats.f_oneway(den_df['severity'][den_df['week'] == 10],\n",
    "              den_df['severity'][den_df['week'] == 11],\n",
    "              den_df['severity'][den_df['week'] == 12])"
   ]
  },
  {
   "cell_type": "code",
   "execution_count": 5,
   "id": "5b0b37b4-b9ab-4e30-b727-0977c96cc805",
   "metadata": {},
   "outputs": [
    {
     "data": {
      "text/plain": [
       "11    467\n",
       "12    341\n",
       "10    219\n",
       "Name: week, dtype: int64"
      ]
     },
     "execution_count": 5,
     "metadata": {},
     "output_type": "execute_result"
    }
   ],
   "source": [
    "den_df_spring_dst =  den_df[(den_df['week'] == 10) | (den_df['week'] == 11) | (den_df['week'] == 12)]\n",
    "den_df_spring_dst['week'].value_counts()"
   ]
  },
  {
   "cell_type": "code",
   "execution_count": 6,
   "id": "220dad13-48de-463b-a4a0-797344de5cad",
   "metadata": {},
   "outputs": [
    {
     "data": {
      "text/html": [
       "<div>\n",
       "<style scoped>\n",
       "    .dataframe tbody tr th:only-of-type {\n",
       "        vertical-align: middle;\n",
       "    }\n",
       "\n",
       "    .dataframe tbody tr th {\n",
       "        vertical-align: top;\n",
       "    }\n",
       "\n",
       "    .dataframe thead th {\n",
       "        text-align: right;\n",
       "    }\n",
       "</style>\n",
       "<table border=\"1\" class=\"dataframe\">\n",
       "  <thead>\n",
       "    <tr style=\"text-align: right;\">\n",
       "      <th></th>\n",
       "      <th>sum_sq</th>\n",
       "      <th>df</th>\n",
       "      <th>F</th>\n",
       "      <th>PR(&gt;F)</th>\n",
       "    </tr>\n",
       "  </thead>\n",
       "  <tbody>\n",
       "    <tr>\n",
       "      <th>C(week)</th>\n",
       "      <td>20.111199</td>\n",
       "      <td>2.0</td>\n",
       "      <td>16.175839</td>\n",
       "      <td>1.212306e-07</td>\n",
       "    </tr>\n",
       "    <tr>\n",
       "      <th>Residual</th>\n",
       "      <td>636.562608</td>\n",
       "      <td>1024.0</td>\n",
       "      <td>NaN</td>\n",
       "      <td>NaN</td>\n",
       "    </tr>\n",
       "  </tbody>\n",
       "</table>\n",
       "</div>"
      ],
      "text/plain": [
       "              sum_sq      df          F        PR(>F)\n",
       "C(week)    20.111199     2.0  16.175839  1.212306e-07\n",
       "Residual  636.562608  1024.0        NaN           NaN"
      ]
     },
     "execution_count": 6,
     "metadata": {},
     "output_type": "execute_result"
    }
   ],
   "source": [
    "den_spring_anova = ols(\"severity ~C(week)\", data=den_df_spring_dst).fit()\n",
    "den_aov_table = sm.stats.anova_lm(den_spring_anova, typ=2)\n",
    "den_aov_table"
   ]
  },
  {
   "cell_type": "code",
   "execution_count": 7,
   "id": "75596336-67e8-4ae8-8ea8-8212c262d65a",
   "metadata": {},
   "outputs": [
    {
     "data": {
      "text/plain": [
       "ShapiroResult(statistic=0.9192718863487244, pvalue=5.442149436728024e-23)"
      ]
     },
     "execution_count": 7,
     "metadata": {},
     "output_type": "execute_result"
    }
   ],
   "source": [
    "#Shapiro test of normality, failed as the severity of accidents is not normally distributed\n",
    "stats.shapiro(den_spring_anova.resid)"
   ]
  },
  {
   "cell_type": "code",
   "execution_count": 8,
   "id": "2bed5654-691a-46db-a108-ef4acbbd5589",
   "metadata": {},
   "outputs": [
    {
     "data": {
      "image/png": "[encoded data removed]",
      "text/plain": [
       "<Figure size 432x288 with 1 Axes>"
      ]
     },
     "metadata": {
      "needs_background": "light"
     },
     "output_type": "display_data"
    }
   ],
   "source": [
    "#QQ plot to conform lack of normality\n",
    "sm.qqplot(den_df_spring_dst['severity'], line='s');"
   ]
  },
  {
   "cell_type": "code",
   "execution_count": 9,
   "id": "a79f17c3-b833-478a-bb9d-5c784992d0c4",
   "metadata": {
    "tags": []
   },
   "outputs": [
    {
     "data": {
      "text/plain": [
       "LeveneResult(statistic=28.202339303625628, pvalue=1.1948468045977898e-12)"
      ]
     },
     "execution_count": 9,
     "metadata": {},
     "output_type": "execute_result"
    }
   ],
   "source": [
    "#Levene's test of homogeneity of variance\n",
    "stats.levene(den_df['severity'][den_df['week'] == 10],\n",
    "              den_df['severity'][den_df['week'] == 11],\n",
    "              den_df['severity'][den_df['week'] == 12])"
   ]
  },
  {
   "cell_type": "code",
   "execution_count": 10,
   "id": "96e308d2-6194-456f-845a-6408df651930",
   "metadata": {},
   "outputs": [
    {
     "data": {
      "text/plain": [
       "KruskalResult(statistic=32.781142848151035, pvalue=7.614918775262036e-08)"
      ]
     },
     "execution_count": 10,
     "metadata": {},
     "output_type": "execute_result"
    }
   ],
   "source": [
    "stats.kruskal(den_df['severity'][den_df['week'] == 10],\n",
    "              den_df['severity'][den_df['week'] == 11],\n",
    "              den_df['severity'][den_df['week'] == 12])"
   ]
  },
  {
   "cell_type": "markdown",
   "id": "beab7fd2-a915-427b-a0db-e5e41fd40e46",
   "metadata": {},
   "source": [
    "### Interpretation\n",
    "* Given the significant results (KW <0.0001 ANOVA <0.0001 are both smaller than a = 0.05) we can reject our null hypothesis and state that there is evidence of a significant difference in accident severity between the weeks before, during, and after the spring time change. "
   ]
  },
  {
   "cell_type": "markdown",
   "id": "669e944d-f444-4501-9042-c9dbc1864f4a",
   "metadata": {},
   "source": [
    "## Multiple Comparison Tests"
   ]
  },
  {
   "cell_type": "markdown",
   "id": "796ec272-25e3-4d86-b467-20bab71c9b3d",
   "metadata": {},
   "source": [
    "### Tukey Honestly Significant Difference (HSD) Test"
   ]
  },
  {
   "cell_type": "code",
   "execution_count": 11,
   "id": "a91f9a02-ca12-4b61-a2c8-ecc2e7bd12ce",
   "metadata": {},
   "outputs": [
    {
     "name": "stderr",
     "output_type": "stream",
     "text": [
      "<ipython-input-11-19ac2ccfb405>:1: SettingWithCopyWarning: \n",
      "A value is trying to be set on a copy of a slice from a DataFrame.\n",
      "Try using .loc[row_indexer,col_indexer] = value instead\n",
      "\n",
      "See the caveats in the documentation: https://pandas.pydata.org/pandas-docs/stable/user_guide/indexing.html#returning-a-view-versus-a-copy\n",
      "  den_df_spring_dst['week'] = den_df_spring_dst.week.map({10 : 'Week Before', 11 : 'Week of DST', 12: 'Week After'})\n"
     ]
    },
    {
     "data": {
      "text/plain": [
       "Week of DST    467\n",
       "Week After     341\n",
       "Week Before    219\n",
       "Name: week, dtype: int64"
      ]
     },
     "execution_count": 11,
     "metadata": {},
     "output_type": "execute_result"
    }
   ],
   "source": [
    "den_df_spring_dst['week'] = den_df_spring_dst.week.map({10 : 'Week Before', 11 : 'Week of DST', 12: 'Week After'})\n",
    "den_df_spring_dst['week'].value_counts()"
   ]
  },
  {
   "cell_type": "code",
   "execution_count": 12,
   "id": "86cf09e3-0eb2-48a1-afe1-11c22aad0b85",
   "metadata": {},
   "outputs": [
    {
     "data": {
      "text/html": [
       "<table class=\"simpletable\">\n",
       "<caption>Multiple Comparison of Means - Tukey HSD, FWER=0.05</caption>\n",
       "<tr>\n",
       "    <th>group1</th>      <th>group2</th>    <th>meandiff</th> <th>p-adj</th>  <th>lower</th>   <th>upper</th>  <th>reject</th>\n",
       "</tr>\n",
       "<tr>\n",
       "  <td>Week Before</td> <td>Week of DST</td>  <td>-0.3478</td> <td>0.001</td> <td>-0.4993</td> <td>-0.1962</td>  <td>True</td> \n",
       "</tr>\n",
       "<tr>\n",
       "  <td>Week Before</td> <td>Week After</td>   <td>-0.3323</td> <td>0.001</td> <td>-0.4926</td> <td>-0.172</td>   <td>True</td> \n",
       "</tr>\n",
       "<tr>\n",
       "  <td>Week of DST</td> <td>Week After</td>   <td>0.0155</td>   <td>0.9</td>  <td>-0.1163</td> <td>0.1473</td>   <td>False</td>\n",
       "</tr>\n",
       "</table>"
      ],
      "text/plain": [
       "<class 'statsmodels.iolib.table.SimpleTable'>"
      ]
     },
     "execution_count": 12,
     "metadata": {},
     "output_type": "execute_result"
    }
   ],
   "source": [
    "comp = mc.MultiComparison(den_df_spring_dst['severity'], den_df_spring_dst['week'], \n",
    "                         group_order=['Week Before', 'Week of DST', 'Week After'])\n",
    "post_hoc = comp.tukeyhsd()\n",
    "post_hoc.summary()"
   ]
  },
  {
   "cell_type": "code",
   "execution_count": 13,
   "id": "910528cb-da18-4cc9-98fd-403c4c256503",
   "metadata": {},
   "outputs": [
    {
     "data": {
      "image/png": "[encoded data removed]",
      "text/plain": [
       "<Figure size 720x432 with 1 Axes>"
      ]
     },
     "metadata": {
      "needs_background": "light"
     },
     "output_type": "display_data"
    }
   ],
   "source": [
    "post_hoc.plot_simultaneous(ylabel='Week', xlabel='Score Difference');"
   ]
  },
  {
   "cell_type": "markdown",
   "id": "70029247-2590-4eb8-9423-099585317f6b",
   "metadata": {},
   "source": [
    "### Bonferroni Correction"
   ]
  },
  {
   "cell_type": "code",
   "execution_count": 14,
   "id": "bcc4cd3d-33d6-4b4f-b5c1-b8cd9e4ddb43",
   "metadata": {},
   "outputs": [
    {
     "data": {
      "text/html": [
       "<table class=\"simpletable\">\n",
       "<caption>Test Multiple Comparison ttest_ind \n",
       "FWER=0.05 method=bonf\n",
       "alphacSidak=0.02, alphacBonf=0.017</caption>\n",
       "<tr>\n",
       "    <th>group1</th>      <th>group2</th>     <th>stat</th>   <th>pval</th>  <th>pval_corr</th> <th>reject</th>\n",
       "</tr>\n",
       "<tr>\n",
       "  <td>Week Before</td> <td>Week of DST</td> <td>5.5974</td>   <td>0.0</td>     <td>0.0</td>     <td>True</td> \n",
       "</tr>\n",
       "<tr>\n",
       "  <td>Week Before</td> <td>Week After</td>  <td>5.0973</td>   <td>0.0</td>     <td>0.0</td>     <td>True</td> \n",
       "</tr>\n",
       "<tr>\n",
       "  <td>Week of DST</td> <td>Week After</td>  <td>-0.2599</td> <td>0.795</td>    <td>1.0</td>     <td>False</td>\n",
       "</tr>\n",
       "</table>"
      ],
      "text/plain": [
       "<class 'statsmodels.iolib.table.SimpleTable'>"
      ]
     },
     "execution_count": 14,
     "metadata": {},
     "output_type": "execute_result"
    }
   ],
   "source": [
    "tbl, a1, a2 = comp.allpairtest(stats.ttest_ind, method='bonf')\n",
    "tbl"
   ]
  },
  {
   "cell_type": "markdown",
   "id": "4683a9ea-6c96-4b53-a238-7682cbb59931",
   "metadata": {},
   "source": [
    "### Sidak Correction "
   ]
  },
  {
   "cell_type": "code",
   "execution_count": 15,
   "id": "b16be0e6-b3fe-4027-829d-9892262037c0",
   "metadata": {},
   "outputs": [
    {
     "data": {
      "text/html": [
       "<table class=\"simpletable\">\n",
       "<caption>Test Multiple Comparison ttest_ind \n",
       "FWER=0.05 method=sidak\n",
       "alphacSidak=0.02, alphacBonf=0.017</caption>\n",
       "<tr>\n",
       "    <th>group1</th>      <th>group2</th>     <th>stat</th>   <th>pval</th>  <th>pval_corr</th> <th>reject</th>\n",
       "</tr>\n",
       "<tr>\n",
       "  <td>Week Before</td> <td>Week of DST</td> <td>5.5974</td>   <td>0.0</td>     <td>0.0</td>     <td>True</td> \n",
       "</tr>\n",
       "<tr>\n",
       "  <td>Week Before</td> <td>Week After</td>  <td>5.0973</td>   <td>0.0</td>     <td>0.0</td>     <td>True</td> \n",
       "</tr>\n",
       "<tr>\n",
       "  <td>Week of DST</td> <td>Week After</td>  <td>-0.2599</td> <td>0.795</td>  <td>0.9914</td>    <td>False</td>\n",
       "</tr>\n",
       "</table>"
      ],
      "text/plain": [
       "<class 'statsmodels.iolib.table.SimpleTable'>"
      ]
     },
     "execution_count": 15,
     "metadata": {},
     "output_type": "execute_result"
    }
   ],
   "source": [
    "tbl, a1, a2 = comp.allpairtest(stats.ttest_ind, method='sidak')\n",
    "tbl"
   ]
  },
  {
   "cell_type": "markdown",
   "id": "1855f008-c529-4d3d-aa40-91f6933f1608",
   "metadata": {},
   "source": [
    "### Interpretation"
   ]
  },
  {
   "cell_type": "markdown",
   "id": "51f6d2c4-111c-4a4e-81e4-5a938d11cc07",
   "metadata": {},
   "source": [
    "The results of the above multiple comparison results suggest that differences found by the ANOVA and Kruskall-Wallis occur as follows:\n",
    "* The week before DSt and the week of DST, with a higher severity the week before\n",
    "* The week before DST and the week after DST, with a higher severity the week before\n",
    "\n",
    "These results run counter to our initial supposition that DST leads to an increase in severity."
   ]
  },
  {
   "cell_type": "markdown",
   "id": "f7723447-bc6c-426d-a898-0ca3d58b70c6",
   "metadata": {},
   "source": [
    "## ANOVA on severity of accidents for Fall DST Time Change"
   ]
  },
  {
   "cell_type": "code",
   "execution_count": 16,
   "id": "949d0787-3de9-4264-adf4-cba2f0275b79",
   "metadata": {},
   "outputs": [
    {
     "data": {
      "text/plain": [
       "45    399\n",
       "44    343\n",
       "46    305\n",
       "Name: week, dtype: int64"
      ]
     },
     "execution_count": 16,
     "metadata": {},
     "output_type": "execute_result"
    }
   ],
   "source": [
    "den_df_fall_dst =  den_df[(den_df['week'] == 44) | (den_df['week'] == 45) | (den_df['week'] == 46)]\n",
    "den_df_fall_dst['week'].value_counts()"
   ]
  },
  {
   "cell_type": "code",
   "execution_count": 17,
   "id": "e3271ea5-5370-414f-a39f-ef9c4a7164c3",
   "metadata": {},
   "outputs": [
    {
     "data": {
      "text/plain": [
       "F_onewayResult(statistic=2.1213440648394606, pvalue=0.12038681450249894)"
      ]
     },
     "execution_count": 17,
     "metadata": {},
     "output_type": "execute_result"
    }
   ],
   "source": [
    "stats.f_oneway(den_df['severity'][den_df['week'] == 44],\n",
    "              den_df['severity'][den_df['week'] == 45],\n",
    "              den_df['severity'][den_df['week'] == 46])"
   ]
  },
  {
   "cell_type": "code",
   "execution_count": 18,
   "id": "c2852d8d-5ad4-4b67-92fa-891958a55456",
   "metadata": {},
   "outputs": [
    {
     "data": {
      "text/plain": [
       "KruskalResult(statistic=4.8901437636328255, pvalue=0.08671990109367533)"
      ]
     },
     "execution_count": 18,
     "metadata": {},
     "output_type": "execute_result"
    }
   ],
   "source": [
    "stats.kruskal(den_df['severity'][den_df['week'] == 44],\n",
    "              den_df['severity'][den_df['week'] == 45],\n",
    "              den_df['severity'][den_df['week'] == 46])"
   ]
  },
  {
   "cell_type": "markdown",
   "id": "1f9b12f7-f431-4985-bb61-177601fa12ce",
   "metadata": {},
   "source": [
    "### Interpretation\n",
    "The above ANOVA and Kruskal-Wallis test results both fail to meet our level of significance for our research hypotheses and as such we are unable to reject the null hypothesis that there is no statistically significant difference between the weeks before, during, and after the fall time change."
   ]
  },
  {
   "cell_type": "code",
   "execution_count": null,
   "id": "207db670-3acb-4f26-bffa-96512beb8da9",
   "metadata": {},
   "outputs": [],
   "source": []
  }
 ],
 "metadata": {
  "kernelspec": {
   "display_name": "Python 3",
   "language": "python",
   "name": "python3"
  },
  "language_info": {
   "codemirror_mode": {
    "name": "ipython",
    "version": 3
   },
   "file_extension": ".py",
   "mimetype": "text/x-python",
   "name": "python",
   "nbconvert_exporter": "python",
   "pygments_lexer": "ipython3",
   "version": "3.8.8"
  }
 },
 "nbformat": 4,
 "nbformat_minor": 5
}
