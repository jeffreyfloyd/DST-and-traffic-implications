{
 "cells": [
  {
   "cell_type": "markdown",
   "id": "35d14d2e-f517-4d6b-b418-8d34b095f837",
   "metadata": {},
   "source": [
    "### Data Cleaning ###"
   ]
  },
  {
   "cell_type": "markdown",
   "id": "24c19e60-65a7-4f3f-bce6-f195a9c7b553",
   "metadata": {},
   "source": [
    "**Imports**"
   ]
  },
  {
   "cell_type": "code",
   "execution_count": 1,
   "id": "67d48770-15da-43ba-82b6-fc4fa25c5e6a",
   "metadata": {},
   "outputs": [],
   "source": [
    "import datetime as dt\n",
    "\n",
    "import pandas as pd\n",
    "pd.set_option(\"display.max_columns\", None)\n",
    "\n",
    "import numpy as np\n",
    "import seaborn as sns\n",
    "import matplotlib.pyplot as plt"
   ]
  },
  {
   "cell_type": "markdown",
   "id": "a0677675-6789-4e7b-9d6f-4dc6102977eb",
   "metadata": {},
   "source": [
    "### Chicago ###"
   ]
  },
  {
   "cell_type": "markdown",
   "id": "64962058-06de-4975-ace2-52ed4217f7d4",
   "metadata": {},
   "source": [
    "**Reading In Data**"
   ]
  },
  {
   "cell_type": "code",
   "execution_count": 2,
   "id": "b8e8ac6e-061d-4d7e-b46b-ec5b1770d4d9",
   "metadata": {},
   "outputs": [],
   "source": [
    "#reading in city-specific data\n",
    "chi_df = pd.read_csv('../data/chi_accidents.csv')"
   ]
  },
  {
   "cell_type": "code",
   "execution_count": 3,
   "id": "d2ce5e11-5507-4fb6-a16a-ddab5eb8bbd3",
   "metadata": {},
   "outputs": [
    {
     "data": {
      "text/html": [
       "<div>\n",
       "<style scoped>\n",
       "    .dataframe tbody tr th:only-of-type {\n",
       "        vertical-align: middle;\n",
       "    }\n",
       "\n",
       "    .dataframe tbody tr th {\n",
       "        vertical-align: top;\n",
       "    }\n",
       "\n",
       "    .dataframe thead th {\n",
       "        text-align: right;\n",
       "    }\n",
       "</style>\n",
       "<table border=\"1\" class=\"dataframe\">\n",
       "  <thead>\n",
       "    <tr style=\"text-align: right;\">\n",
       "      <th></th>\n",
       "      <th>id</th>\n",
       "      <th>severity</th>\n",
       "      <th>start_time</th>\n",
       "      <th>end_time</th>\n",
       "      <th>start_lat</th>\n",
       "      <th>start_lng</th>\n",
       "      <th>end_lat</th>\n",
       "      <th>end_lng</th>\n",
       "      <th>distance(mi)</th>\n",
       "      <th>description</th>\n",
       "      <th>number</th>\n",
       "      <th>street</th>\n",
       "      <th>side</th>\n",
       "      <th>city</th>\n",
       "      <th>county</th>\n",
       "      <th>state</th>\n",
       "      <th>zipcode</th>\n",
       "      <th>country</th>\n",
       "      <th>timezone</th>\n",
       "      <th>airport_code</th>\n",
       "      <th>weather_timestamp</th>\n",
       "      <th>temperature(f)</th>\n",
       "      <th>wind_chill(f)</th>\n",
       "      <th>humidity(%)</th>\n",
       "      <th>pressure(in)</th>\n",
       "      <th>visibility(mi)</th>\n",
       "      <th>wind_direction</th>\n",
       "      <th>wind_speed(mph)</th>\n",
       "      <th>precipitation(in)</th>\n",
       "      <th>weather_condition</th>\n",
       "      <th>amenity</th>\n",
       "      <th>bump</th>\n",
       "      <th>crossing</th>\n",
       "      <th>give_way</th>\n",
       "      <th>junction</th>\n",
       "      <th>no_exit</th>\n",
       "      <th>railway</th>\n",
       "      <th>roundabout</th>\n",
       "      <th>station</th>\n",
       "      <th>stop</th>\n",
       "      <th>traffic_calming</th>\n",
       "      <th>traffic_signal</th>\n",
       "      <th>turning_loop</th>\n",
       "      <th>sunrise_sunset</th>\n",
       "      <th>civil_twilight</th>\n",
       "      <th>nautical_twilight</th>\n",
       "      <th>astronomical_twilight</th>\n",
       "    </tr>\n",
       "  </thead>\n",
       "  <tbody>\n",
       "    <tr>\n",
       "      <th>0</th>\n",
       "      <td>A-2749141</td>\n",
       "      <td>2</td>\n",
       "      <td>2016-11-30 14:46:48</td>\n",
       "      <td>2016-11-30 20:46:48</td>\n",
       "      <td>42.305960</td>\n",
       "      <td>-87.960150</td>\n",
       "      <td>42.306916</td>\n",
       "      <td>-87.960918</td>\n",
       "      <td>0.077</td>\n",
       "      <td>Between IL-137/Buckley Rd/Peterson Rd and IL-1...</td>\n",
       "      <td>NaN</td>\n",
       "      <td>N Milwaukee Ave</td>\n",
       "      <td>R</td>\n",
       "      <td>Libertyville</td>\n",
       "      <td>Lake</td>\n",
       "      <td>IL</td>\n",
       "      <td>60048</td>\n",
       "      <td>US</td>\n",
       "      <td>US/Central</td>\n",
       "      <td>KUGN</td>\n",
       "      <td>2016-11-30 14:55:00</td>\n",
       "      <td>37.0</td>\n",
       "      <td>31.0</td>\n",
       "      <td>79.0</td>\n",
       "      <td>29.59</td>\n",
       "      <td>10.0</td>\n",
       "      <td>West</td>\n",
       "      <td>8.1</td>\n",
       "      <td>NaN</td>\n",
       "      <td>Overcast</td>\n",
       "      <td>False</td>\n",
       "      <td>False</td>\n",
       "      <td>False</td>\n",
       "      <td>False</td>\n",
       "      <td>False</td>\n",
       "      <td>False</td>\n",
       "      <td>False</td>\n",
       "      <td>False</td>\n",
       "      <td>False</td>\n",
       "      <td>False</td>\n",
       "      <td>False</td>\n",
       "      <td>True</td>\n",
       "      <td>False</td>\n",
       "      <td>Day</td>\n",
       "      <td>Day</td>\n",
       "      <td>Day</td>\n",
       "      <td>Day</td>\n",
       "    </tr>\n",
       "    <tr>\n",
       "      <th>1</th>\n",
       "      <td>A-2749152</td>\n",
       "      <td>2</td>\n",
       "      <td>2016-11-30 14:58:59</td>\n",
       "      <td>2016-11-30 20:58:59</td>\n",
       "      <td>42.175870</td>\n",
       "      <td>-88.135770</td>\n",
       "      <td>42.174620</td>\n",
       "      <td>-88.135794</td>\n",
       "      <td>0.086</td>\n",
       "      <td>At US-14/Northwest Hwy - Accident.</td>\n",
       "      <td>21500.0</td>\n",
       "      <td>N IL Route 59</td>\n",
       "      <td>L</td>\n",
       "      <td>Barrington</td>\n",
       "      <td>Lake</td>\n",
       "      <td>IL</td>\n",
       "      <td>60010-2457</td>\n",
       "      <td>US</td>\n",
       "      <td>US/Central</td>\n",
       "      <td>KPWK</td>\n",
       "      <td>2016-11-30 14:52:00</td>\n",
       "      <td>37.0</td>\n",
       "      <td>28.1</td>\n",
       "      <td>76.0</td>\n",
       "      <td>29.62</td>\n",
       "      <td>10.0</td>\n",
       "      <td>West</td>\n",
       "      <td>15.0</td>\n",
       "      <td>NaN</td>\n",
       "      <td>Overcast</td>\n",
       "      <td>False</td>\n",
       "      <td>False</td>\n",
       "      <td>False</td>\n",
       "      <td>False</td>\n",
       "      <td>False</td>\n",
       "      <td>False</td>\n",
       "      <td>False</td>\n",
       "      <td>False</td>\n",
       "      <td>False</td>\n",
       "      <td>False</td>\n",
       "      <td>False</td>\n",
       "      <td>True</td>\n",
       "      <td>False</td>\n",
       "      <td>Day</td>\n",
       "      <td>Day</td>\n",
       "      <td>Day</td>\n",
       "      <td>Day</td>\n",
       "    </tr>\n",
       "    <tr>\n",
       "      <th>2</th>\n",
       "      <td>A-2749158</td>\n",
       "      <td>3</td>\n",
       "      <td>2016-11-30 15:14:24</td>\n",
       "      <td>2016-11-30 21:29:48</td>\n",
       "      <td>42.175897</td>\n",
       "      <td>-88.135769</td>\n",
       "      <td>42.174612</td>\n",
       "      <td>-88.135794</td>\n",
       "      <td>0.089</td>\n",
       "      <td>Between IL-22 and US-14/Northwest Hwy - Accident.</td>\n",
       "      <td>21501.0</td>\n",
       "      <td>N IL Route 59</td>\n",
       "      <td>R</td>\n",
       "      <td>Barrington</td>\n",
       "      <td>Lake</td>\n",
       "      <td>IL</td>\n",
       "      <td>60010-2456</td>\n",
       "      <td>US</td>\n",
       "      <td>US/Central</td>\n",
       "      <td>KPWK</td>\n",
       "      <td>2016-11-30 14:52:00</td>\n",
       "      <td>37.0</td>\n",
       "      <td>28.1</td>\n",
       "      <td>76.0</td>\n",
       "      <td>29.62</td>\n",
       "      <td>10.0</td>\n",
       "      <td>West</td>\n",
       "      <td>15.0</td>\n",
       "      <td>NaN</td>\n",
       "      <td>Overcast</td>\n",
       "      <td>False</td>\n",
       "      <td>False</td>\n",
       "      <td>False</td>\n",
       "      <td>False</td>\n",
       "      <td>False</td>\n",
       "      <td>False</td>\n",
       "      <td>False</td>\n",
       "      <td>False</td>\n",
       "      <td>False</td>\n",
       "      <td>False</td>\n",
       "      <td>False</td>\n",
       "      <td>True</td>\n",
       "      <td>False</td>\n",
       "      <td>Day</td>\n",
       "      <td>Day</td>\n",
       "      <td>Day</td>\n",
       "      <td>Day</td>\n",
       "    </tr>\n",
       "  </tbody>\n",
       "</table>\n",
       "</div>"
      ],
      "text/plain": [
       "          id  severity           start_time             end_time  start_lat  \\\n",
       "0  A-2749141         2  2016-11-30 14:46:48  2016-11-30 20:46:48  42.305960   \n",
       "1  A-2749152         2  2016-11-30 14:58:59  2016-11-30 20:58:59  42.175870   \n",
       "2  A-2749158         3  2016-11-30 15:14:24  2016-11-30 21:29:48  42.175897   \n",
       "\n",
       "   start_lng    end_lat    end_lng  distance(mi)  \\\n",
       "0 -87.960150  42.306916 -87.960918         0.077   \n",
       "1 -88.135770  42.174620 -88.135794         0.086   \n",
       "2 -88.135769  42.174612 -88.135794         0.089   \n",
       "\n",
       "                                         description   number  \\\n",
       "0  Between IL-137/Buckley Rd/Peterson Rd and IL-1...      NaN   \n",
       "1                 At US-14/Northwest Hwy - Accident.  21500.0   \n",
       "2  Between IL-22 and US-14/Northwest Hwy - Accident.  21501.0   \n",
       "\n",
       "            street side          city county state     zipcode country  \\\n",
       "0  N Milwaukee Ave    R  Libertyville   Lake    IL       60048      US   \n",
       "1    N IL Route 59    L    Barrington   Lake    IL  60010-2457      US   \n",
       "2    N IL Route 59    R    Barrington   Lake    IL  60010-2456      US   \n",
       "\n",
       "     timezone airport_code    weather_timestamp  temperature(f)  \\\n",
       "0  US/Central         KUGN  2016-11-30 14:55:00            37.0   \n",
       "1  US/Central         KPWK  2016-11-30 14:52:00            37.0   \n",
       "2  US/Central         KPWK  2016-11-30 14:52:00            37.0   \n",
       "\n",
       "   wind_chill(f)  humidity(%)  pressure(in)  visibility(mi) wind_direction  \\\n",
       "0           31.0         79.0         29.59            10.0           West   \n",
       "1           28.1         76.0         29.62            10.0           West   \n",
       "2           28.1         76.0         29.62            10.0           West   \n",
       "\n",
       "   wind_speed(mph)  precipitation(in) weather_condition  amenity   bump  \\\n",
       "0              8.1                NaN          Overcast    False  False   \n",
       "1             15.0                NaN          Overcast    False  False   \n",
       "2             15.0                NaN          Overcast    False  False   \n",
       "\n",
       "   crossing  give_way  junction  no_exit  railway  roundabout  station   stop  \\\n",
       "0     False     False     False    False    False       False    False  False   \n",
       "1     False     False     False    False    False       False    False  False   \n",
       "2     False     False     False    False    False       False    False  False   \n",
       "\n",
       "   traffic_calming  traffic_signal  turning_loop sunrise_sunset  \\\n",
       "0            False            True         False            Day   \n",
       "1            False            True         False            Day   \n",
       "2            False            True         False            Day   \n",
       "\n",
       "  civil_twilight nautical_twilight astronomical_twilight  \n",
       "0            Day               Day                   Day  \n",
       "1            Day               Day                   Day  \n",
       "2            Day               Day                   Day  "
      ]
     },
     "execution_count": 3,
     "metadata": {},
     "output_type": "execute_result"
    }
   ],
   "source": [
    "chi_df.head(3)"
   ]
  },
  {
   "cell_type": "code",
   "execution_count": 4,
   "id": "39b26c16-bb8e-4cdb-b1c5-33857c77a2d0",
   "metadata": {},
   "outputs": [
    {
     "data": {
      "text/plain": [
       "Index(['id', 'severity', 'start_time', 'end_time', 'start_lat', 'start_lng',\n",
       "       'end_lat', 'end_lng', 'distance(mi)', 'description', 'number', 'street',\n",
       "       'side', 'city', 'county', 'state', 'zipcode', 'country', 'timezone',\n",
       "       'airport_code', 'weather_timestamp', 'temperature(f)', 'wind_chill(f)',\n",
       "       'humidity(%)', 'pressure(in)', 'visibility(mi)', 'wind_direction',\n",
       "       'wind_speed(mph)', 'precipitation(in)', 'weather_condition', 'amenity',\n",
       "       'bump', 'crossing', 'give_way', 'junction', 'no_exit', 'railway',\n",
       "       'roundabout', 'station', 'stop', 'traffic_calming', 'traffic_signal',\n",
       "       'turning_loop', 'sunrise_sunset', 'civil_twilight', 'nautical_twilight',\n",
       "       'astronomical_twilight'],\n",
       "      dtype='object')"
      ]
     },
     "execution_count": 4,
     "metadata": {},
     "output_type": "execute_result"
    }
   ],
   "source": [
    "chi_df.columns"
   ]
  },
  {
   "cell_type": "code",
   "execution_count": 5,
   "id": "834b5a94-2256-41f8-8bad-831024de047d",
   "metadata": {},
   "outputs": [
    {
     "data": {
      "text/plain": [
       "(42472, 47)"
      ]
     },
     "execution_count": 5,
     "metadata": {},
     "output_type": "execute_result"
    }
   ],
   "source": [
    "chi_df.shape"
   ]
  },
  {
   "cell_type": "code",
   "execution_count": 6,
   "id": "1e197542-3dcc-44ec-a72a-268cd86008c4",
   "metadata": {},
   "outputs": [
    {
     "name": "stdout",
     "output_type": "stream",
     "text": [
      "<class 'pandas.core.frame.DataFrame'>\n",
      "RangeIndex: 42472 entries, 0 to 42471\n",
      "Data columns (total 47 columns):\n",
      " #   Column                 Non-Null Count  Dtype  \n",
      "---  ------                 --------------  -----  \n",
      " 0   id                     42472 non-null  object \n",
      " 1   severity               42472 non-null  int64  \n",
      " 2   start_time             42472 non-null  object \n",
      " 3   end_time               42472 non-null  object \n",
      " 4   start_lat              42472 non-null  float64\n",
      " 5   start_lng              42472 non-null  float64\n",
      " 6   end_lat                42472 non-null  float64\n",
      " 7   end_lng                42472 non-null  float64\n",
      " 8   distance(mi)           42472 non-null  float64\n",
      " 9   description            42472 non-null  object \n",
      " 10  number                 15879 non-null  float64\n",
      " 11  street                 42472 non-null  object \n",
      " 12  side                   42472 non-null  object \n",
      " 13  city                   42471 non-null  object \n",
      " 14  county                 42472 non-null  object \n",
      " 15  state                  42472 non-null  object \n",
      " 16  zipcode                42472 non-null  object \n",
      " 17  country                42472 non-null  object \n",
      " 18  timezone               42470 non-null  object \n",
      " 19  airport_code           42470 non-null  object \n",
      " 20  weather_timestamp      42408 non-null  object \n",
      " 21  temperature(f)         42353 non-null  float64\n",
      " 22  wind_chill(f)          26140 non-null  float64\n",
      " 23  humidity(%)            42228 non-null  float64\n",
      " 24  pressure(in)           42404 non-null  float64\n",
      " 25  visibility(mi)         42352 non-null  float64\n",
      " 26  wind_direction         42162 non-null  object \n",
      " 27  wind_speed(mph)        40448 non-null  float64\n",
      " 28  precipitation(in)      19343 non-null  float64\n",
      " 29  weather_condition      42356 non-null  object \n",
      " 30  amenity                42472 non-null  bool   \n",
      " 31  bump                   42472 non-null  bool   \n",
      " 32  crossing               42472 non-null  bool   \n",
      " 33  give_way               42472 non-null  bool   \n",
      " 34  junction               42472 non-null  bool   \n",
      " 35  no_exit                42472 non-null  bool   \n",
      " 36  railway                42472 non-null  bool   \n",
      " 37  roundabout             42472 non-null  bool   \n",
      " 38  station                42472 non-null  bool   \n",
      " 39  stop                   42472 non-null  bool   \n",
      " 40  traffic_calming        42472 non-null  bool   \n",
      " 41  traffic_signal         42472 non-null  bool   \n",
      " 42  turning_loop           42472 non-null  bool   \n",
      " 43  sunrise_sunset         42471 non-null  object \n",
      " 44  civil_twilight         42471 non-null  object \n",
      " 45  nautical_twilight      42471 non-null  object \n",
      " 46  astronomical_twilight  42471 non-null  object \n",
      "dtypes: bool(13), float64(13), int64(1), object(20)\n",
      "memory usage: 11.5+ MB\n"
     ]
    }
   ],
   "source": [
    "chi_df.info()"
   ]
  },
  {
   "cell_type": "markdown",
   "id": "afb0f430-b707-465a-9426-98fa452190c1",
   "metadata": {},
   "source": [
    "- Going to drop the column 'id' outright"
   ]
  },
  {
   "cell_type": "markdown",
   "id": "88fe51e9-c2bc-4d2a-b6bf-f5f04dbc3f09",
   "metadata": {},
   "source": [
    "**Addressing Null Counts**"
   ]
  },
  {
   "cell_type": "code",
   "execution_count": 7,
   "id": "8ec47063-d6dc-4c0e-b6c4-9c7ac557cf3d",
   "metadata": {
    "tags": []
   },
   "outputs": [
    {
     "data": {
      "text/plain": [
       "number                   26593\n",
       "precipitation(in)        23129\n",
       "wind_chill(f)            16332\n",
       "wind_speed(mph)           2024\n",
       "wind_direction             310\n",
       "humidity(%)                244\n",
       "visibility(mi)             120\n",
       "temperature(f)             119\n",
       "weather_condition          116\n",
       "pressure(in)                68\n",
       "weather_timestamp           64\n",
       "timezone                     2\n",
       "airport_code                 2\n",
       "nautical_twilight            1\n",
       "civil_twilight               1\n",
       "sunrise_sunset               1\n",
       "astronomical_twilight        1\n",
       "city                         1\n",
       "country                      0\n",
       "give_way                     0\n",
       "dtype: int64"
      ]
     },
     "execution_count": 7,
     "metadata": {},
     "output_type": "execute_result"
    }
   ],
   "source": [
    "chi_df.isna().sum().sort_values(ascending = False)[:20]\n",
    "#will replace null values"
   ]
  },
  {
   "cell_type": "code",
   "execution_count": 8,
   "id": "76e4650d-edc0-4dfd-9470-5e12e061bd23",
   "metadata": {},
   "outputs": [
    {
     "data": {
      "text/html": [
       "<div>\n",
       "<style scoped>\n",
       "    .dataframe tbody tr th:only-of-type {\n",
       "        vertical-align: middle;\n",
       "    }\n",
       "\n",
       "    .dataframe tbody tr th {\n",
       "        vertical-align: top;\n",
       "    }\n",
       "\n",
       "    .dataframe thead th {\n",
       "        text-align: right;\n",
       "    }\n",
       "</style>\n",
       "<table border=\"1\" class=\"dataframe\">\n",
       "  <thead>\n",
       "    <tr style=\"text-align: right;\">\n",
       "      <th></th>\n",
       "      <th>number</th>\n",
       "    </tr>\n",
       "  </thead>\n",
       "  <tbody>\n",
       "    <tr>\n",
       "      <th>0</th>\n",
       "      <td>NaN</td>\n",
       "    </tr>\n",
       "    <tr>\n",
       "      <th>1</th>\n",
       "      <td>21500.0</td>\n",
       "    </tr>\n",
       "    <tr>\n",
       "      <th>2</th>\n",
       "      <td>21501.0</td>\n",
       "    </tr>\n",
       "    <tr>\n",
       "      <th>3</th>\n",
       "      <td>1194.0</td>\n",
       "    </tr>\n",
       "    <tr>\n",
       "      <th>4</th>\n",
       "      <td>7899.0</td>\n",
       "    </tr>\n",
       "    <tr>\n",
       "      <th>5</th>\n",
       "      <td>7899.0</td>\n",
       "    </tr>\n",
       "    <tr>\n",
       "      <th>6</th>\n",
       "      <td>14425.0</td>\n",
       "    </tr>\n",
       "    <tr>\n",
       "      <th>7</th>\n",
       "      <td>14424.0</td>\n",
       "    </tr>\n",
       "    <tr>\n",
       "      <th>8</th>\n",
       "      <td>970.0</td>\n",
       "    </tr>\n",
       "    <tr>\n",
       "      <th>9</th>\n",
       "      <td>976.0</td>\n",
       "    </tr>\n",
       "  </tbody>\n",
       "</table>\n",
       "</div>"
      ],
      "text/plain": [
       "    number\n",
       "0      NaN\n",
       "1  21500.0\n",
       "2  21501.0\n",
       "3   1194.0\n",
       "4   7899.0\n",
       "5   7899.0\n",
       "6  14425.0\n",
       "7  14424.0\n",
       "8    970.0\n",
       "9    976.0"
      ]
     },
     "execution_count": 8,
     "metadata": {},
     "output_type": "execute_result"
    }
   ],
   "source": [
    "chi_df[['number']][0:10]\n",
    "#number represents street address,\n",
    "#going to drop column"
   ]
  },
  {
   "cell_type": "code",
   "execution_count": 9,
   "id": "bd490fc9-b730-45ff-801d-687f1b47c235",
   "metadata": {},
   "outputs": [
    {
     "data": {
      "text/plain": [
       "precipitation(in)\n",
       "0.00                 16032\n",
       "0.01                  1012\n",
       "0.02                   483\n",
       "0.03                   312\n",
       "0.04                   234\n",
       "                     ...  \n",
       "1.06                     1\n",
       "1.19                     1\n",
       "1.20                     2\n",
       "1.76                     1\n",
       "1.95                     1\n",
       "Length: 78, dtype: int64"
      ]
     },
     "execution_count": 9,
     "metadata": {},
     "output_type": "execute_result"
    }
   ],
   "source": [
    "#precipitation(in)\n",
    "chi_df[['precipitation(in)']].value_counts().sort_index()"
   ]
  },
  {
   "cell_type": "code",
   "execution_count": 10,
   "id": "b35d11c7-882d-476c-955c-0725a7b5a320",
   "metadata": {},
   "outputs": [
    {
     "data": {
      "image/png": "[encoded data removed]",
      "text/plain": [
       "<Figure size 576x288 with 1 Axes>"
      ]
     },
     "metadata": {
      "needs_background": "light"
     },
     "output_type": "display_data"
    }
   ],
   "source": [
    "plt.figure(figsize = (8, 4))\n",
    "sns.histplot(chi_df[['precipitation(in)']], bins = 100);"
   ]
  },
  {
   "cell_type": "code",
   "execution_count": 11,
   "id": "e0be6063-234c-4989-93b7-566548c9ec62",
   "metadata": {},
   "outputs": [
    {
     "data": {
      "text/plain": [
       "(precipitation(in)    0.011642\n",
       " dtype: float64,\n",
       " precipitation(in)    0.0\n",
       " dtype: float64)"
      ]
     },
     "execution_count": 11,
     "metadata": {},
     "output_type": "execute_result"
    }
   ],
   "source": [
    "mean_precip = chi_df[['precipitation(in)']].mean()\n",
    "median_precip = chi_df[['precipitation(in)']].median()\n",
    "\n",
    "mean_precip, median_precip\n",
    "#setting precipitation(in) nulls to median"
   ]
  },
  {
   "cell_type": "code",
   "execution_count": 12,
   "id": "6999279a-61ef-4c82-b1a8-c656c53b59bd",
   "metadata": {},
   "outputs": [
    {
     "data": {
      "image/png": "[encoded data removed]",
      "text/plain": [
       "<Figure size 576x288 with 1 Axes>"
      ]
     },
     "metadata": {
      "needs_background": "light"
     },
     "output_type": "display_data"
    }
   ],
   "source": [
    "plt.figure(figsize = (8, 4))\n",
    "sns.histplot(chi_df[['precipitation(in)']].value_counts().sort_index(), bins = 100);"
   ]
  },
  {
   "cell_type": "code",
   "execution_count": 13,
   "id": "810e8f6e-f969-44c3-981b-6560fc46ff73",
   "metadata": {},
   "outputs": [
    {
     "data": {
      "text/plain": [
       "wind_chill(f)\n",
       "-51.3             1\n",
       "-50.5             1\n",
       "-50.1             1\n",
       "-48.5             1\n",
       "-47.7             1\n",
       "                 ..\n",
       " 91.0            32\n",
       " 92.0            35\n",
       " 93.0            29\n",
       " 94.0            26\n",
       " 95.0             4\n",
       "Length: 694, dtype: int64"
      ]
     },
     "execution_count": 13,
     "metadata": {},
     "output_type": "execute_result"
    }
   ],
   "source": [
    "chi_df[['wind_chill(f)']].value_counts().sort_index()"
   ]
  },
  {
   "cell_type": "code",
   "execution_count": 14,
   "id": "d8524317-850d-4222-bb05-910831e9aaac",
   "metadata": {},
   "outputs": [
    {
     "data": {
      "image/png": "[encoded data removed]",
      "text/plain": [
       "<Figure size 576x288 with 1 Axes>"
      ]
     },
     "metadata": {
      "needs_background": "light"
     },
     "output_type": "display_data"
    }
   ],
   "source": [
    "plt.figure(figsize = (8, 4))\n",
    "sns.histplot(chi_df[['wind_chill(f)']], bins = 100);"
   ]
  },
  {
   "cell_type": "code",
   "execution_count": 15,
   "id": "3461bf1b-50a9-4f4b-9297-443436dfaeb7",
   "metadata": {},
   "outputs": [
    {
     "data": {
      "image/png": "[encoded data removed]",
      "text/plain": [
       "<Figure size 576x288 with 1 Axes>"
      ]
     },
     "metadata": {
      "needs_background": "light"
     },
     "output_type": "display_data"
    }
   ],
   "source": [
    "plt.figure(figsize = (8, 4))\n",
    "sns.histplot(chi_df[['wind_chill(f)']].value_counts().sort_values(), bins = 100);"
   ]
  },
  {
   "cell_type": "code",
   "execution_count": 16,
   "id": "4d5eb838-98ca-4ee2-810e-ea450548ef21",
   "metadata": {},
   "outputs": [
    {
     "data": {
      "text/plain": [
       "(wind_chill(f)    39.650593\n",
       " dtype: float64,\n",
       " wind_chill(f)    35.25\n",
       " dtype: float64)"
      ]
     },
     "execution_count": 16,
     "metadata": {},
     "output_type": "execute_result"
    }
   ],
   "source": [
    "mean_wind_chill = chi_df[['wind_chill(f)']].mean()\n",
    "median_wind_chill = chi_df[['wind_chill(f)']].median()\n",
    "\n",
    "mean_wind_chill, median_wind_chill\n",
    "#setting wind_chill nulls to temperature(f)"
   ]
  },
  {
   "cell_type": "code",
   "execution_count": 17,
   "id": "ee6e0ceb-5c77-482b-87c1-66d728a60d14",
   "metadata": {},
   "outputs": [
    {
     "data": {
      "text/plain": [
       "wind_speed(mph)\n",
       "0.0                1079\n",
       "5.8                2260\n",
       "8.1                2549\n",
       "11.5               2168\n",
       "14.0                784\n",
       "17.3                704\n",
       "20.7                256\n",
       "24.0                 46\n",
       "26.5                 47\n",
       "29.9                 13\n",
       "32.2                  4\n",
       "38.0                  1\n",
       "dtype: int64"
      ]
     },
     "execution_count": 17,
     "metadata": {},
     "output_type": "execute_result"
    }
   ],
   "source": [
    "#wind_speed(mph)\n",
    "chi_df[['wind_speed(mph)']].value_counts().sort_index()[0::5]"
   ]
  },
  {
   "cell_type": "code",
   "execution_count": 18,
   "id": "9065cff3-9023-4bad-9a43-96d6e8132bcc",
   "metadata": {},
   "outputs": [
    {
     "data": {
      "text/plain": [
       "(wind_speed(mph)    10.003125\n",
       " dtype: float64,\n",
       " wind_speed(mph)    9.2\n",
       " dtype: float64)"
      ]
     },
     "execution_count": 18,
     "metadata": {},
     "output_type": "execute_result"
    }
   ],
   "source": [
    "mean_wind_speed = chi_df[['wind_speed(mph)']].mean()\n",
    "median_wind_speed = chi_df[['wind_speed(mph)']].median()\n",
    "\n",
    "mean_wind_speed, median_wind_speed\n",
    "#setting precipitation(in) nulls to median"
   ]
  },
  {
   "cell_type": "code",
   "execution_count": 19,
   "id": "e99df94a-aa07-4b61-b050-6bfe3c86f45c",
   "metadata": {},
   "outputs": [
    {
     "data": {
      "image/png": "[encoded data removed]",
      "text/plain": [
       "<Figure size 576x288 with 1 Axes>"
      ]
     },
     "metadata": {
      "needs_background": "light"
     },
     "output_type": "display_data"
    }
   ],
   "source": [
    "plt.figure(figsize = (8, 4))\n",
    "sns.histplot(chi_df[['wind_speed(mph)']], bins = 100);"
   ]
  },
  {
   "cell_type": "code",
   "execution_count": 20,
   "id": "9a2f602d-17b5-4980-abb7-6e6c9b3634fc",
   "metadata": {},
   "outputs": [
    {
     "data": {
      "image/png": "[encoded data removed]",
      "text/plain": [
       "<Figure size 576x288 with 1 Axes>"
      ]
     },
     "metadata": {
      "needs_background": "light"
     },
     "output_type": "display_data"
    }
   ],
   "source": [
    "plt.figure(figsize = (8, 4))\n",
    "sns.histplot(chi_df[['wind_speed(mph)']].value_counts().sort_index(), bins = 100);"
   ]
  },
  {
   "cell_type": "code",
   "execution_count": 21,
   "id": "a09a1774-a735-4103-87ed-e8a125556979",
   "metadata": {},
   "outputs": [
    {
     "data": {
      "text/plain": [
       "number                   26593\n",
       "precipitation(in)        23129\n",
       "wind_chill(f)            16332\n",
       "wind_speed(mph)           2024\n",
       "wind_direction             310\n",
       "humidity(%)                244\n",
       "visibility(mi)             120\n",
       "temperature(f)             119\n",
       "weather_condition          116\n",
       "pressure(in)                68\n",
       "weather_timestamp           64\n",
       "timezone                     2\n",
       "airport_code                 2\n",
       "nautical_twilight            1\n",
       "civil_twilight               1\n",
       "sunrise_sunset               1\n",
       "astronomical_twilight        1\n",
       "city                         1\n",
       "dtype: int64"
      ]
     },
     "execution_count": 21,
     "metadata": {},
     "output_type": "execute_result"
    }
   ],
   "source": [
    "#for frame of reference:\n",
    "chi_df.isna().sum().sort_values(ascending = False)[:18]"
   ]
  },
  {
   "cell_type": "code",
   "execution_count": 22,
   "id": "369136e4-a436-4f3d-b04e-8f6194c769d2",
   "metadata": {},
   "outputs": [
    {
     "data": {
      "text/plain": [
       "wind_direction\n",
       "SSW               3110\n",
       "West              2968\n",
       "WSW               2767\n",
       "SW                2546\n",
       "South             2419\n",
       "WNW               2412\n",
       "NNE               2356\n",
       "NE                2119\n",
       "NW                2036\n",
       "ENE               1979\n",
       "NNW               1699\n",
       "Calm              1658\n",
       "North             1647\n",
       "SSE               1645\n",
       "East              1597\n",
       "SE                1500\n",
       "ESE               1485\n",
       "W                 1295\n",
       "S                 1190\n",
       "E                 1190\n",
       "CALM              1079\n",
       "N                  609\n",
       "Variable           579\n",
       "VAR                277\n",
       "dtype: int64"
      ]
     },
     "execution_count": 22,
     "metadata": {},
     "output_type": "execute_result"
    }
   ],
   "source": [
    "#wind_direction\n",
    "chi_df[['wind_direction']].value_counts(ascending = False)\n",
    "\n",
    "#going to get dummies for this variable, including the nulls"
   ]
  },
  {
   "cell_type": "code",
   "execution_count": 23,
   "id": "53b7e80b-daf7-4fa4-8228-572b7e3629c9",
   "metadata": {},
   "outputs": [],
   "source": [
    "#https://stackoverflow.com/questions/44231598/python-pandas-get-dataframe-value-counts-result-as-list\n",
    "\n",
    "#making dictionary of weather_conditions\n",
    "chi_df['wind_direction'].value_counts()\n",
    "chi_wind = chi_df['wind_direction'].value_counts()\n",
    "chi_wind_dict = dict(chi_wind)\n",
    "\n",
    "#creating values and labels for pieplot\n",
    "chi_wind_names = chi_wind_dict.keys()\n",
    "chi_wind_values = chi_wind_dict.values()"
   ]
  },
  {
   "cell_type": "code",
   "execution_count": 24,
   "id": "da054d61-0285-4b60-8a6c-3c8e5f3031a5",
   "metadata": {},
   "outputs": [],
   "source": [
    "#Colors for pie charts:\n",
    "#https://stackoverflow.com/questions/21034830/how-can-i-generate-more-colors-on-pie-chart-matplotlib\n",
    "import random\n",
    "import matplotlib.colors as mcolors\n",
    "\n",
    "colors = random.choices(list(mcolors.CSS4_COLORS.values()), k = 25)"
   ]
  },
  {
   "cell_type": "code",
   "execution_count": 25,
   "id": "a29336fb-45d0-4664-bae8-5e4cecea9d75",
   "metadata": {},
   "outputs": [
    {
     "data": {
      "image/png": "[encoded data removed]",
      "text/plain": [
       "<Figure size 720x720 with 1 Axes>"
      ]
     },
     "metadata": {},
     "output_type": "display_data"
    }
   ],
   "source": [
    "#https://www.python-graph-gallery.com/pie-plot-matplotlib-basic\n",
    "plt.rcParams[\"figure.figsize\"] = (10, 10)\n",
    "\n",
    "# Create a pieplot\n",
    "plt.pie(chi_wind_values, labels = chi_wind_names, colors = colors, \n",
    "        labeldistance = 1.1, wedgeprops = { 'linewidth' : 2, 'edgecolor' : 'white' });\n",
    "plt.show()"
   ]
  },
  {
   "cell_type": "code",
   "execution_count": 26,
   "id": "b004eef8-ae65-4ec1-a557-8dd84c4c2eda",
   "metadata": {},
   "outputs": [
    {
     "data": {
      "text/plain": [
       "humidity(%)\n",
       "6.0              1\n",
       "13.0             2\n",
       "14.0             1\n",
       "16.0             4\n",
       "17.0             2\n",
       "              ... \n",
       "96.0           755\n",
       "97.0           460\n",
       "98.0            66\n",
       "99.0            89\n",
       "100.0          945\n",
       "Length: 88, dtype: int64"
      ]
     },
     "execution_count": 26,
     "metadata": {},
     "output_type": "execute_result"
    }
   ],
   "source": [
    "#'humidity(%)'\n",
    "chi_df[['humidity(%)']].value_counts().sort_index()"
   ]
  },
  {
   "cell_type": "code",
   "execution_count": 27,
   "id": "e00fe5b5-8d5f-419e-adb0-5f1ba892a1ea",
   "metadata": {},
   "outputs": [
    {
     "data": {
      "text/plain": [
       "(humidity(%)    67.334375\n",
       " dtype: float64,\n",
       " humidity(%)    68.0\n",
       " dtype: float64)"
      ]
     },
     "execution_count": 27,
     "metadata": {},
     "output_type": "execute_result"
    }
   ],
   "source": [
    "mean_humid = chi_df[['humidity(%)']].mean() \n",
    "median_humid = chi_df[['humidity(%)']].median()\n",
    "\n",
    "mean_humid, median_humid\n",
    "#setting humidity(%) nulls to median"
   ]
  },
  {
   "cell_type": "code",
   "execution_count": 28,
   "id": "0ea5377e-41ee-4d17-a541-61930ff80235",
   "metadata": {},
   "outputs": [
    {
     "data": {
      "image/png": "[encoded data removed]",
      "text/plain": [
       "<Figure size 576x288 with 1 Axes>"
      ]
     },
     "metadata": {
      "needs_background": "light"
     },
     "output_type": "display_data"
    }
   ],
   "source": [
    "plt.figure(figsize = (8, 4))\n",
    "sns.histplot(chi_df[['humidity(%)']], bins = 100);"
   ]
  },
  {
   "cell_type": "code",
   "execution_count": 29,
   "id": "83ffdcff-749e-438b-b93d-be2215967ea7",
   "metadata": {},
   "outputs": [
    {
     "data": {
      "image/png": "[encoded data removed]",
      "text/plain": [
       "<Figure size 576x288 with 1 Axes>"
      ]
     },
     "metadata": {
      "needs_background": "light"
     },
     "output_type": "display_data"
    }
   ],
   "source": [
    "plt.figure(figsize = (8, 4))\n",
    "sns.histplot(chi_df[['humidity(%)']].value_counts().sort_index(), bins = 100);"
   ]
  },
  {
   "cell_type": "code",
   "execution_count": 30,
   "id": "fd6a4f49-c68c-4238-986e-95a13464e03e",
   "metadata": {},
   "outputs": [
    {
     "data": {
      "text/plain": [
       "visibility(mi)\n",
       "0.0                 12\n",
       "0.1                 24\n",
       "0.2                100\n",
       "0.5                199\n",
       "0.8                142\n",
       "1.1                  4\n",
       "1.5                228\n",
       "2.0                625\n",
       "3.0                795\n",
       "5.0               1061\n",
       "7.0               1296\n",
       "9.0               1278\n",
       "12.0                 9\n",
       "20.0                64\n",
       "dtype: int64"
      ]
     },
     "execution_count": 30,
     "metadata": {},
     "output_type": "execute_result"
    }
   ],
   "source": [
    "#'visibility(mi)'\n",
    "chi_df[['visibility(mi)']].value_counts().sort_index()[0::2]"
   ]
  },
  {
   "cell_type": "code",
   "execution_count": 31,
   "id": "9e873bcb-814b-4e41-a2c6-dcb4cd0e12c2",
   "metadata": {},
   "outputs": [
    {
     "data": {
      "text/plain": [
       "(visibility(mi)    8.896925\n",
       " dtype: float64,\n",
       " visibility(mi)    10.0\n",
       " dtype: float64)"
      ]
     },
     "execution_count": 31,
     "metadata": {},
     "output_type": "execute_result"
    }
   ],
   "source": [
    "mean_vis = chi_df[['visibility(mi)']].mean()\n",
    "median_vis = chi_df[['visibility(mi)']].median()\n",
    "\n",
    "mean_vis, median_vis\n",
    "#setting visibility(mi) nulls to median"
   ]
  },
  {
   "cell_type": "code",
   "execution_count": 32,
   "id": "f04c9de9-e75e-4758-904c-0c050a6f7796",
   "metadata": {},
   "outputs": [
    {
     "data": {
      "image/png": "[encoded data removed]",
      "text/plain": [
       "<Figure size 576x288 with 1 Axes>"
      ]
     },
     "metadata": {
      "needs_background": "light"
     },
     "output_type": "display_data"
    }
   ],
   "source": [
    "plt.figure(figsize = (8, 4))\n",
    "sns.histplot(chi_df[['visibility(mi)']], bins = 100);"
   ]
  },
  {
   "cell_type": "code",
   "execution_count": 33,
   "id": "0559c711-eda3-4763-9c4e-7ee31bca93cc",
   "metadata": {},
   "outputs": [
    {
     "data": {
      "image/png": "[encoded data removed]",
      "text/plain": [
       "<Figure size 576x288 with 1 Axes>"
      ]
     },
     "metadata": {
      "needs_background": "light"
     },
     "output_type": "display_data"
    }
   ],
   "source": [
    "plt.figure(figsize = (8, 4))\n",
    "sns.histplot(chi_df[['visibility(mi)']].value_counts().sort_index(), bins = 100);"
   ]
  },
  {
   "cell_type": "code",
   "execution_count": 34,
   "id": "849ef3d4-fe87-432d-b9e4-652414431d2f",
   "metadata": {},
   "outputs": [
    {
     "data": {
      "text/plain": [
       "temperature(f)\n",
       "-22.4              1\n",
       "-21.1              1\n",
       "-20.9              4\n",
       "-20.2              1\n",
       "-20.0              2\n",
       "                  ..\n",
       " 93.9             21\n",
       " 94.0             26\n",
       " 95.0             13\n",
       " 96.1              2\n",
       " 168.8             1\n",
       "Length: 558, dtype: int64"
      ]
     },
     "execution_count": 34,
     "metadata": {},
     "output_type": "execute_result"
    }
   ],
   "source": [
    "#temperature(f)\n",
    "chi_df[['temperature(f)']].value_counts().sort_index()"
   ]
  },
  {
   "cell_type": "code",
   "execution_count": 35,
   "id": "49551763-ecf6-474c-a760-34d4d242590b",
   "metadata": {},
   "outputs": [
    {
     "data": {
      "text/plain": [
       "(temperature(f)    53.024249\n",
       " dtype: float64,\n",
       " temperature(f)    53.1\n",
       " dtype: float64)"
      ]
     },
     "execution_count": 35,
     "metadata": {},
     "output_type": "execute_result"
    }
   ],
   "source": [
    "mean_temp = chi_df[['temperature(f)']].mean()\n",
    "median_temp = chi_df[['temperature(f)']].median()\n",
    "\n",
    "mean_temp, median_temp\n",
    "#setting temperature(f) nulls to median"
   ]
  },
  {
   "cell_type": "code",
   "execution_count": 36,
   "id": "74f5c86d-4572-4b3c-990b-274f448aa1f3",
   "metadata": {},
   "outputs": [
    {
     "data": {
      "image/png": "[encoded data removed]",
      "text/plain": [
       "<Figure size 576x288 with 1 Axes>"
      ]
     },
     "metadata": {
      "needs_background": "light"
     },
     "output_type": "display_data"
    }
   ],
   "source": [
    "plt.figure(figsize = (8, 4))\n",
    "sns.histplot(chi_df[['temperature(f)']], bins = 100);"
   ]
  },
  {
   "cell_type": "code",
   "execution_count": 37,
   "id": "b18e216b-c0f8-4036-bdd0-ff892f832acb",
   "metadata": {},
   "outputs": [
    {
     "data": {
      "image/png": "[encoded data removed]",
      "text/plain": [
       "<Figure size 576x288 with 1 Axes>"
      ]
     },
     "metadata": {
      "needs_background": "light"
     },
     "output_type": "display_data"
    }
   ],
   "source": [
    "plt.figure(figsize = (8, 4))\n",
    "sns.histplot(chi_df[['temperature(f)']].value_counts().sort_index(), bins = 100);"
   ]
  },
  {
   "cell_type": "code",
   "execution_count": 38,
   "id": "3ac76aea-4a37-450c-a651-ecd69ba5fe0c",
   "metadata": {},
   "outputs": [
    {
     "data": {
      "text/plain": [
       "number               26593\n",
       "precipitation(in)    23129\n",
       "wind_chill(f)        16332\n",
       "wind_speed(mph)       2024\n",
       "wind_direction         310\n",
       "humidity(%)            244\n",
       "visibility(mi)         120\n",
       "temperature(f)         119\n",
       "weather_condition      116\n",
       "pressure(in)            68\n",
       "weather_timestamp       64\n",
       "timezone                 2\n",
       "dtype: int64"
      ]
     },
     "execution_count": 38,
     "metadata": {},
     "output_type": "execute_result"
    }
   ],
   "source": [
    "#for frame of reference:\n",
    "chi_df.isna().sum().sort_values(ascending = False)[:12]"
   ]
  },
  {
   "cell_type": "code",
   "execution_count": 39,
   "id": "0b2ba675-79eb-4d9b-a993-9faaf942d6b1",
   "metadata": {},
   "outputs": [
    {
     "data": {
      "text/plain": [
       "weather_condition           \n",
       "Clear                           6931\n",
       "Mostly Cloudy                   6876\n",
       "Overcast                        6509\n",
       "Fair                            5160\n",
       "Partly Cloudy                   4574\n",
       "Cloudy                          3447\n",
       "Scattered Clouds                2374\n",
       "Light Rain                      2193\n",
       "Light Snow                      1610\n",
       "Haze                             357\n",
       "Rain                             341\n",
       "Fog                              292\n",
       "Light Drizzle                    242\n",
       "Fair / Windy                     130\n",
       "Mostly Cloudy / Windy            122\n",
       "Cloudy / Windy                   114\n",
       "Snow                             108\n",
       "Light Thunderstorms and Rain     108\n",
       "Heavy Rain                        94\n",
       "Light Rain with Thunder           77\n",
       "dtype: int64"
      ]
     },
     "execution_count": 39,
     "metadata": {},
     "output_type": "execute_result"
    }
   ],
   "source": [
    "#top 20 frequent weather conditions:\n",
    "chi_df[['weather_condition']].value_counts()[:20]\n",
    "\n",
    "#getting dummies for this variable, including the nulls"
   ]
  },
  {
   "cell_type": "code",
   "execution_count": 40,
   "id": "5f896565-a6f3-4ce3-a89d-8ae3d8b2be0e",
   "metadata": {},
   "outputs": [],
   "source": [
    "#making dictionary of weather_conditions\n",
    "chi_df['weather_condition'].value_counts()[:20]\n",
    "chi_weather = chi_df['weather_condition'].value_counts()[:20]\n",
    "chi_weather_dict = dict(chi_weather)\n",
    "\n",
    "#creating values and labels for pieplot\n",
    "chi_weather_names = chi_weather_dict.keys()\n",
    "chi_weather_values = chi_weather_dict.values()\n",
    "\n",
    "#Colors for pie charts\n",
    "colors = random.choices(list(mcolors.CSS4_COLORS.values()), k = 20)"
   ]
  },
  {
   "cell_type": "code",
   "execution_count": 41,
   "id": "2cd20679-c507-45c6-a867-d7467633d21d",
   "metadata": {},
   "outputs": [
    {
     "data": {
      "image/png": "[encoded data removed]",
      "text/plain": [
       "<Figure size 864x864 with 1 Axes>"
      ]
     },
     "metadata": {},
     "output_type": "display_data"
    }
   ],
   "source": [
    "plt.rcParams[\"figure.figsize\"] = (12, 12)\n",
    "\n",
    "# Create a pieplot\n",
    "plt.pie(chi_weather_values, labels = chi_weather_names, colors = colors, \n",
    "        labeldistance = None, wedgeprops = { 'linewidth' : 2, 'edgecolor' : 'white' });\n",
    "plt.legend(loc = 0)\n",
    "plt.show();"
   ]
  },
  {
   "cell_type": "code",
   "execution_count": 42,
   "id": "99a692fd-0dcd-434c-94d6-44375bc8d52c",
   "metadata": {},
   "outputs": [
    {
     "data": {
      "text/plain": [
       "pressure(in)\n",
       "20.41           1\n",
       "28.54           1\n",
       "28.59           2\n",
       "28.60           1\n",
       "28.61           1\n",
       "               ..\n",
       "30.83           9\n",
       "30.84           4\n",
       "30.86           1\n",
       "30.91           2\n",
       "30.96           1\n",
       "Length: 230, dtype: int64"
      ]
     },
     "execution_count": 42,
     "metadata": {},
     "output_type": "execute_result"
    }
   ],
   "source": [
    "#pressure\n",
    "chi_df[['pressure(in)']].value_counts().sort_index()"
   ]
  },
  {
   "cell_type": "code",
   "execution_count": 43,
   "id": "c393f771-c6ee-4129-81de-e2b425029b21",
   "metadata": {},
   "outputs": [
    {
     "data": {
      "text/plain": [
       "(pressure(in)    29.768081\n",
       " dtype: float64,\n",
       " pressure(in)    29.88\n",
       " dtype: float64)"
      ]
     },
     "execution_count": 43,
     "metadata": {},
     "output_type": "execute_result"
    }
   ],
   "source": [
    "mean_pres = chi_df[['pressure(in)']].mean()\n",
    "median_pres = chi_df[['pressure(in)']].median()\n",
    "\n",
    "mean_pres, median_pres \n",
    "#setting pressure(in) nulls to median"
   ]
  },
  {
   "cell_type": "code",
   "execution_count": 44,
   "id": "b7ccea25-c525-4499-b677-02a1a543b6d1",
   "metadata": {},
   "outputs": [
    {
     "data": {
      "image/png": "[encoded data removed]",
      "text/plain": [
       "<Figure size 576x288 with 1 Axes>"
      ]
     },
     "metadata": {
      "needs_background": "light"
     },
     "output_type": "display_data"
    }
   ],
   "source": [
    "plt.figure(figsize = (8, 4))\n",
    "sns.histplot(chi_df[['pressure(in)']], bins = 100);"
   ]
  },
  {
   "cell_type": "code",
   "execution_count": 45,
   "id": "fbed523f-0628-4763-925a-7cc21ba8bf0e",
   "metadata": {},
   "outputs": [
    {
     "data": {
      "image/png": "[encoded data removed]",
      "text/plain": [
       "<Figure size 576x288 with 1 Axes>"
      ]
     },
     "metadata": {
      "needs_background": "light"
     },
     "output_type": "display_data"
    }
   ],
   "source": [
    "plt.figure(figsize = (8, 4))\n",
    "sns.histplot(chi_df[['pressure(in)']].value_counts().sort_index(), bins = 100);"
   ]
  },
  {
   "cell_type": "code",
   "execution_count": 46,
   "id": "4dc3ed0f-5694-417e-9e2a-21c7c40b9acb",
   "metadata": {},
   "outputs": [
    {
     "data": {
      "text/plain": [
       "weather_timestamp  \n",
       "2016-06-17 14:51:00    5\n",
       "2016-06-17 14:52:00    1\n",
       "2016-06-17 14:53:00    1\n",
       "2016-06-17 15:52:00    1\n",
       "2016-06-17 15:53:00    3\n",
       "                      ..\n",
       "2020-12-31 17:15:00    1\n",
       "2020-12-31 17:35:00    1\n",
       "2020-12-31 19:45:00    5\n",
       "2020-12-31 20:52:00    4\n",
       "2020-12-31 21:55:00    2\n",
       "Length: 27922, dtype: int64"
      ]
     },
     "execution_count": 46,
     "metadata": {},
     "output_type": "execute_result"
    }
   ],
   "source": [
    "#weather_timestamp\n",
    "chi_df[['weather_timestamp']].value_counts().sort_index()\n",
    "\n",
    "#going to drop nas from chi_df['weather_timestap']"
   ]
  },
  {
   "cell_type": "code",
   "execution_count": 47,
   "id": "cb2735c1-d338-45e8-8964-c2d6b7e80cfd",
   "metadata": {},
   "outputs": [
    {
     "data": {
      "text/plain": [
       "number                   26593\n",
       "precipitation(in)        23129\n",
       "wind_chill(f)            16332\n",
       "wind_speed(mph)           2024\n",
       "wind_direction             310\n",
       "humidity(%)                244\n",
       "visibility(mi)             120\n",
       "temperature(f)             119\n",
       "weather_condition          116\n",
       "pressure(in)                68\n",
       "weather_timestamp           64\n",
       "timezone                     2\n",
       "airport_code                 2\n",
       "nautical_twilight            1\n",
       "civil_twilight               1\n",
       "sunrise_sunset               1\n",
       "astronomical_twilight        1\n",
       "city                         1\n",
       "country                      0\n",
       "give_way                     0\n",
       "start_time                   0\n",
       "end_time                     0\n",
       "start_lat                    0\n",
       "turning_loop                 0\n",
       "traffic_signal               0\n",
       "traffic_calming              0\n",
       "stop                         0\n",
       "station                      0\n",
       "roundabout                   0\n",
       "railway                      0\n",
       "no_exit                      0\n",
       "junction                     0\n",
       "crossing                     0\n",
       "zipcode                      0\n",
       "bump                         0\n",
       "amenity                      0\n",
       "start_lng                    0\n",
       "end_lat                      0\n",
       "end_lng                      0\n",
       "distance(mi)                 0\n",
       "description                  0\n",
       "street                       0\n",
       "severity                     0\n",
       "side                         0\n",
       "county                       0\n",
       "state                        0\n",
       "id                           0\n",
       "dtype: int64"
      ]
     },
     "execution_count": 47,
     "metadata": {},
     "output_type": "execute_result"
    }
   ],
   "source": [
    "#checking null counts\n",
    "chi_df.isna().sum().sort_values(ascending = False)"
   ]
  },
  {
   "cell_type": "markdown",
   "id": "627fd4fa-7f57-4564-b080-072f50465ef7",
   "metadata": {},
   "source": [
    "- Due to the small instances of null values in the following columns I'm going to dropna:\n",
    "    - city\n",
    "    - sunrise_sunset\n",
    "    - astronomical_twilight\n",
    "    - nautical_twilight\n",
    "    - civil_twilight"
   ]
  },
  {
   "cell_type": "markdown",
   "id": "ded25925-8c48-4ab9-81a8-96b2f93ac77b",
   "metadata": {},
   "source": [
    "**Addressing non-date Objects**"
   ]
  },
  {
   "cell_type": "code",
   "execution_count": 48,
   "id": "e6ddb44c-3333-4453-8a48-3ef25aff5b13",
   "metadata": {},
   "outputs": [],
   "source": [
    "#Consider dropping all of 'street', 'side', 'city', 'county', 'state', 'zipcode', 'country', 'timezone', 'airport_code'"
   ]
  },
  {
   "cell_type": "code",
   "execution_count": 49,
   "id": "96e9dcfa-bd1a-4d4c-ae24-f6bab9901e2a",
   "metadata": {},
   "outputs": [
    {
     "data": {
      "text/plain": [
       "sunrise_sunset\n",
       "Day               28772\n",
       "Night             13699\n",
       "dtype: int64"
      ]
     },
     "execution_count": 49,
     "metadata": {},
     "output_type": "execute_result"
    }
   ],
   "source": [
    "#sunrise_sunset\n",
    "chi_df[['sunrise_sunset']].value_counts()"
   ]
  },
  {
   "cell_type": "code",
   "execution_count": 50,
   "id": "9a703d89-4982-4332-a39a-2f572f68bfab",
   "metadata": {},
   "outputs": [
    {
     "data": {
      "text/plain": [
       "civil_twilight\n",
       "Day               30767\n",
       "Night             11704\n",
       "dtype: int64"
      ]
     },
     "execution_count": 50,
     "metadata": {},
     "output_type": "execute_result"
    }
   ],
   "source": [
    "#civil_twilight\n",
    "chi_df[['civil_twilight']].value_counts()"
   ]
  },
  {
   "cell_type": "code",
   "execution_count": 51,
   "id": "4f04a0aa-6690-4759-869d-b87ae7faf8ac",
   "metadata": {},
   "outputs": [
    {
     "data": {
      "text/plain": [
       "nautical_twilight\n",
       "Day                  32932\n",
       "Night                 9539\n",
       "dtype: int64"
      ]
     },
     "execution_count": 51,
     "metadata": {},
     "output_type": "execute_result"
    }
   ],
   "source": [
    "#civil_twilight\n",
    "chi_df[['nautical_twilight']].value_counts()"
   ]
  },
  {
   "cell_type": "code",
   "execution_count": 52,
   "id": "92c7a619-9eb2-4419-878e-445192ff20c6",
   "metadata": {},
   "outputs": [
    {
     "data": {
      "text/plain": [
       "astronomical_twilight\n",
       "Day                      34700\n",
       "Night                     7771\n",
       "dtype: int64"
      ]
     },
     "execution_count": 52,
     "metadata": {},
     "output_type": "execute_result"
    }
   ],
   "source": [
    "#astronomical_twilight\n",
    "chi_df[['astronomical_twilight']].value_counts()"
   ]
  },
  {
   "cell_type": "code",
   "execution_count": 53,
   "id": "ece67d7c-6bff-4c09-a500-d2765a41e194",
   "metadata": {},
   "outputs": [],
   "source": [
    "obj_cols = ['sunrise_sunset', 'civil_twilight',\n",
    "            'nautical_twilight', 'astronomical_twilight']\n",
    "for col in obj_cols:\n",
    "    chi_df[col] = chi_df[col].replace({'Day': 0,\n",
    "                                       'Night': 1})"
   ]
  },
  {
   "cell_type": "code",
   "execution_count": 54,
   "id": "0c49730a-5805-4453-896e-88cd63b3d1f1",
   "metadata": {},
   "outputs": [
    {
     "data": {
      "text/plain": [
       "0.0    28772\n",
       "1.0    13699\n",
       "Name: sunrise_sunset, dtype: int64"
      ]
     },
     "execution_count": 54,
     "metadata": {},
     "output_type": "execute_result"
    }
   ],
   "source": [
    "chi_df['sunrise_sunset'].value_counts()"
   ]
  },
  {
   "cell_type": "code",
   "execution_count": 55,
   "id": "9e8b52da-aed8-49cd-a2d3-9d0f5f6ba523",
   "metadata": {},
   "outputs": [
    {
     "data": {
      "image/png": "[encoded data removed]",
      "text/plain": [
       "<Figure size 576x576 with 4 Axes>"
      ]
     },
     "metadata": {
      "needs_background": "light"
     },
     "output_type": "display_data"
    }
   ],
   "source": [
    "fig, ax = plt.subplots(2, 2, figsize=(8, 8))\n",
    "\n",
    "sns.histplot(data = chi_df, x = 'sunrise_sunset', bins = 2, ax = ax[0, 0])\n",
    "sns.histplot(data = chi_df, x = 'civil_twilight', bins = 2, ax = ax[0,1])\n",
    "sns.histplot(data = chi_df, x = 'nautical_twilight', bins = 2, ax = ax[1,0])\n",
    "sns.histplot(data = chi_df, x = 'astronomical_twilight', bins = 2, ax = ax[1,1]);"
   ]
  },
  {
   "cell_type": "markdown",
   "id": "56b79c05-e6d4-4ef6-b9a0-f7e1b5acf0c5",
   "metadata": {},
   "source": [
    "- Going to get dummies for these variables, including the nulls"
   ]
  },
  {
   "cell_type": "markdown",
   "id": "6d4b5768-3d07-40aa-acbf-ffc9bc0f15d8",
   "metadata": {},
   "source": [
    "**Looking At Categorical Variables** "
   ]
  },
  {
   "cell_type": "code",
   "execution_count": 56,
   "id": "c6cc38b0-1a03-415a-8c9d-7bf870444f18",
   "metadata": {},
   "outputs": [
    {
     "data": {
      "text/html": [
       "<div>\n",
       "<style scoped>\n",
       "    .dataframe tbody tr th:only-of-type {\n",
       "        vertical-align: middle;\n",
       "    }\n",
       "\n",
       "    .dataframe tbody tr th {\n",
       "        vertical-align: top;\n",
       "    }\n",
       "\n",
       "    .dataframe thead th {\n",
       "        text-align: right;\n",
       "    }\n",
       "</style>\n",
       "<table border=\"1\" class=\"dataframe\">\n",
       "  <thead>\n",
       "    <tr style=\"text-align: right;\">\n",
       "      <th></th>\n",
       "      <th>id</th>\n",
       "      <th>start_time</th>\n",
       "      <th>end_time</th>\n",
       "      <th>description</th>\n",
       "      <th>street</th>\n",
       "      <th>side</th>\n",
       "      <th>city</th>\n",
       "      <th>county</th>\n",
       "      <th>state</th>\n",
       "      <th>zipcode</th>\n",
       "      <th>country</th>\n",
       "      <th>timezone</th>\n",
       "      <th>airport_code</th>\n",
       "      <th>weather_timestamp</th>\n",
       "      <th>wind_direction</th>\n",
       "      <th>weather_condition</th>\n",
       "    </tr>\n",
       "  </thead>\n",
       "  <tbody>\n",
       "    <tr>\n",
       "      <th>0</th>\n",
       "      <td>A-2749141</td>\n",
       "      <td>2016-11-30 14:46:48</td>\n",
       "      <td>2016-11-30 20:46:48</td>\n",
       "      <td>Between IL-137/Buckley Rd/Peterson Rd and IL-1...</td>\n",
       "      <td>N Milwaukee Ave</td>\n",
       "      <td>R</td>\n",
       "      <td>Libertyville</td>\n",
       "      <td>Lake</td>\n",
       "      <td>IL</td>\n",
       "      <td>60048</td>\n",
       "      <td>US</td>\n",
       "      <td>US/Central</td>\n",
       "      <td>KUGN</td>\n",
       "      <td>2016-11-30 14:55:00</td>\n",
       "      <td>West</td>\n",
       "      <td>Overcast</td>\n",
       "    </tr>\n",
       "    <tr>\n",
       "      <th>1</th>\n",
       "      <td>A-2749152</td>\n",
       "      <td>2016-11-30 14:58:59</td>\n",
       "      <td>2016-11-30 20:58:59</td>\n",
       "      <td>At US-14/Northwest Hwy - Accident.</td>\n",
       "      <td>N IL Route 59</td>\n",
       "      <td>L</td>\n",
       "      <td>Barrington</td>\n",
       "      <td>Lake</td>\n",
       "      <td>IL</td>\n",
       "      <td>60010-2457</td>\n",
       "      <td>US</td>\n",
       "      <td>US/Central</td>\n",
       "      <td>KPWK</td>\n",
       "      <td>2016-11-30 14:52:00</td>\n",
       "      <td>West</td>\n",
       "      <td>Overcast</td>\n",
       "    </tr>\n",
       "    <tr>\n",
       "      <th>2</th>\n",
       "      <td>A-2749158</td>\n",
       "      <td>2016-11-30 15:14:24</td>\n",
       "      <td>2016-11-30 21:29:48</td>\n",
       "      <td>Between IL-22 and US-14/Northwest Hwy - Accident.</td>\n",
       "      <td>N IL Route 59</td>\n",
       "      <td>R</td>\n",
       "      <td>Barrington</td>\n",
       "      <td>Lake</td>\n",
       "      <td>IL</td>\n",
       "      <td>60010-2456</td>\n",
       "      <td>US</td>\n",
       "      <td>US/Central</td>\n",
       "      <td>KPWK</td>\n",
       "      <td>2016-11-30 14:52:00</td>\n",
       "      <td>West</td>\n",
       "      <td>Overcast</td>\n",
       "    </tr>\n",
       "  </tbody>\n",
       "</table>\n",
       "</div>"
      ],
      "text/plain": [
       "          id           start_time             end_time  \\\n",
       "0  A-2749141  2016-11-30 14:46:48  2016-11-30 20:46:48   \n",
       "1  A-2749152  2016-11-30 14:58:59  2016-11-30 20:58:59   \n",
       "2  A-2749158  2016-11-30 15:14:24  2016-11-30 21:29:48   \n",
       "\n",
       "                                         description           street side  \\\n",
       "0  Between IL-137/Buckley Rd/Peterson Rd and IL-1...  N Milwaukee Ave    R   \n",
       "1                 At US-14/Northwest Hwy - Accident.    N IL Route 59    L   \n",
       "2  Between IL-22 and US-14/Northwest Hwy - Accident.    N IL Route 59    R   \n",
       "\n",
       "           city county state     zipcode country    timezone airport_code  \\\n",
       "0  Libertyville   Lake    IL       60048      US  US/Central         KUGN   \n",
       "1    Barrington   Lake    IL  60010-2457      US  US/Central         KPWK   \n",
       "2    Barrington   Lake    IL  60010-2456      US  US/Central         KPWK   \n",
       "\n",
       "     weather_timestamp wind_direction weather_condition  \n",
       "0  2016-11-30 14:55:00           West          Overcast  \n",
       "1  2016-11-30 14:52:00           West          Overcast  \n",
       "2  2016-11-30 14:52:00           West          Overcast  "
      ]
     },
     "execution_count": 56,
     "metadata": {},
     "output_type": "execute_result"
    }
   ],
   "source": [
    "#https://pandas.pydata.org/docs/reference/api/pandas.DataFrame.select_dtypes.html\n",
    "chi_df.select_dtypes('O').head(3)"
   ]
  },
  {
   "cell_type": "code",
   "execution_count": 57,
   "id": "83e2f074-fefa-4afa-b140-29d777d2e12f",
   "metadata": {},
   "outputs": [
    {
     "data": {
      "text/plain": [
       "Index(['id', 'start_time', 'end_time', 'description', 'street', 'side', 'city',\n",
       "       'county', 'state', 'zipcode', 'country', 'timezone', 'airport_code',\n",
       "       'weather_timestamp', 'wind_direction', 'weather_condition'],\n",
       "      dtype='object')"
      ]
     },
     "execution_count": 57,
     "metadata": {},
     "output_type": "execute_result"
    }
   ],
   "source": [
    "chi_df.select_dtypes('O').columns"
   ]
  },
  {
   "cell_type": "code",
   "execution_count": 58,
   "id": "47d41bbe-aa33-4708-8cc3-f736aff3883d",
   "metadata": {},
   "outputs": [
    {
     "data": {
      "text/html": [
       "<div>\n",
       "<style scoped>\n",
       "    .dataframe tbody tr th:only-of-type {\n",
       "        vertical-align: middle;\n",
       "    }\n",
       "\n",
       "    .dataframe tbody tr th {\n",
       "        vertical-align: top;\n",
       "    }\n",
       "\n",
       "    .dataframe thead th {\n",
       "        text-align: right;\n",
       "    }\n",
       "</style>\n",
       "<table border=\"1\" class=\"dataframe\">\n",
       "  <thead>\n",
       "    <tr style=\"text-align: right;\">\n",
       "      <th></th>\n",
       "      <th>severity</th>\n",
       "      <th>description</th>\n",
       "    </tr>\n",
       "  </thead>\n",
       "  <tbody>\n",
       "    <tr>\n",
       "      <th>0</th>\n",
       "      <td>2</td>\n",
       "      <td>Between IL-137/Buckley Rd/Peterson Rd and IL-1...</td>\n",
       "    </tr>\n",
       "    <tr>\n",
       "      <th>1</th>\n",
       "      <td>2</td>\n",
       "      <td>At US-14/Northwest Hwy - Accident.</td>\n",
       "    </tr>\n",
       "    <tr>\n",
       "      <th>2</th>\n",
       "      <td>3</td>\n",
       "      <td>Between IL-22 and US-14/Northwest Hwy - Accident.</td>\n",
       "    </tr>\n",
       "  </tbody>\n",
       "</table>\n",
       "</div>"
      ],
      "text/plain": [
       "   severity                                        description\n",
       "0         2  Between IL-137/Buckley Rd/Peterson Rd and IL-1...\n",
       "1         2                 At US-14/Northwest Hwy - Accident.\n",
       "2         3  Between IL-22 and US-14/Northwest Hwy - Accident."
      ]
     },
     "execution_count": 58,
     "metadata": {},
     "output_type": "execute_result"
    }
   ],
   "source": [
    "chi_df_for_nlp = chi_df[['severity', 'description']]\n",
    "chi_df_for_nlp.head(3)"
   ]
  },
  {
   "cell_type": "code",
   "execution_count": 59,
   "id": "2d2d12c6-6bb5-4261-9839-9d576ee66dda",
   "metadata": {},
   "outputs": [],
   "source": [
    "chi_df_for_nlp.to_csv('../data/chi_df_for_nlp.csv', index=False)"
   ]
  },
  {
   "cell_type": "markdown",
   "id": "d99293a7-6149-4611-84c6-3350f97dd1f3",
   "metadata": {},
   "source": [
    "**Addressing the datetime Variables**"
   ]
  },
  {
   "cell_type": "markdown",
   "id": "32d78f8b-7e4b-4eb4-8ab0-c4f57cfb20fc",
   "metadata": {},
   "source": [
    "- Going to convert datetime variables into integers via epoch time"
   ]
  },
  {
   "cell_type": "code",
   "execution_count": 60,
   "id": "eb706aeb-e5f8-49a2-9eeb-f229d9f17a55",
   "metadata": {},
   "outputs": [
    {
     "data": {
      "text/html": [
       "<div>\n",
       "<style scoped>\n",
       "    .dataframe tbody tr th:only-of-type {\n",
       "        vertical-align: middle;\n",
       "    }\n",
       "\n",
       "    .dataframe tbody tr th {\n",
       "        vertical-align: top;\n",
       "    }\n",
       "\n",
       "    .dataframe thead th {\n",
       "        text-align: right;\n",
       "    }\n",
       "</style>\n",
       "<table border=\"1\" class=\"dataframe\">\n",
       "  <thead>\n",
       "    <tr style=\"text-align: right;\">\n",
       "      <th></th>\n",
       "      <th>start_time</th>\n",
       "      <th>end_time</th>\n",
       "      <th>weather_timestamp</th>\n",
       "    </tr>\n",
       "  </thead>\n",
       "  <tbody>\n",
       "    <tr>\n",
       "      <th>0</th>\n",
       "      <td>2016-11-30 14:46:48</td>\n",
       "      <td>2016-11-30 20:46:48</td>\n",
       "      <td>2016-11-30 14:55:00</td>\n",
       "    </tr>\n",
       "    <tr>\n",
       "      <th>1</th>\n",
       "      <td>2016-11-30 14:58:59</td>\n",
       "      <td>2016-11-30 20:58:59</td>\n",
       "      <td>2016-11-30 14:52:00</td>\n",
       "    </tr>\n",
       "    <tr>\n",
       "      <th>2</th>\n",
       "      <td>2016-11-30 15:14:24</td>\n",
       "      <td>2016-11-30 21:29:48</td>\n",
       "      <td>2016-11-30 14:52:00</td>\n",
       "    </tr>\n",
       "  </tbody>\n",
       "</table>\n",
       "</div>"
      ],
      "text/plain": [
       "            start_time             end_time    weather_timestamp\n",
       "0  2016-11-30 14:46:48  2016-11-30 20:46:48  2016-11-30 14:55:00\n",
       "1  2016-11-30 14:58:59  2016-11-30 20:58:59  2016-11-30 14:52:00\n",
       "2  2016-11-30 15:14:24  2016-11-30 21:29:48  2016-11-30 14:52:00"
      ]
     },
     "execution_count": 60,
     "metadata": {},
     "output_type": "execute_result"
    }
   ],
   "source": [
    "#https://www.unixtimestamp.com/index.php\n",
    "chi_df[['start_time', 'end_time', 'weather_timestamp']].head(3)"
   ]
  },
  {
   "cell_type": "code",
   "execution_count": 61,
   "id": "b88b598e-5524-492c-a129-524a1fd2bd99",
   "metadata": {},
   "outputs": [
    {
     "data": {
      "text/plain": [
       "start_time           object\n",
       "end_time             object\n",
       "weather_timestamp    object\n",
       "dtype: object"
      ]
     },
     "execution_count": 61,
     "metadata": {},
     "output_type": "execute_result"
    }
   ],
   "source": [
    "chi_df[['start_time', 'end_time', 'weather_timestamp']].dtypes\n",
    "\n",
    "#going to convert these columns to numbers/floats\n",
    "##https://stackoverflow.com/questions/35630098/convert-a-column-of-datetimes-to-epoch-in-python"
   ]
  },
  {
   "cell_type": "markdown",
   "id": "67ebd1b2-4723-44d2-8f39-544d930b5d1c",
   "metadata": {},
   "source": [
    "- Going to feature engineer a column 'accident_duration' that's the difference between start_time and end_time"
   ]
  },
  {
   "cell_type": "code",
   "execution_count": 62,
   "id": "22f68fde-43e2-4d4d-ab56-e4277fda7497",
   "metadata": {},
   "outputs": [
    {
     "data": {
      "text/html": [
       "<div>\n",
       "<style scoped>\n",
       "    .dataframe tbody tr th:only-of-type {\n",
       "        vertical-align: middle;\n",
       "    }\n",
       "\n",
       "    .dataframe tbody tr th {\n",
       "        vertical-align: top;\n",
       "    }\n",
       "\n",
       "    .dataframe thead th {\n",
       "        text-align: right;\n",
       "    }\n",
       "</style>\n",
       "<table border=\"1\" class=\"dataframe\">\n",
       "  <thead>\n",
       "    <tr style=\"text-align: right;\">\n",
       "      <th></th>\n",
       "      <th>id</th>\n",
       "      <th>severity</th>\n",
       "      <th>start_time</th>\n",
       "      <th>end_time</th>\n",
       "      <th>start_lat</th>\n",
       "      <th>start_lng</th>\n",
       "      <th>end_lat</th>\n",
       "      <th>end_lng</th>\n",
       "      <th>distance(mi)</th>\n",
       "      <th>description</th>\n",
       "      <th>number</th>\n",
       "      <th>street</th>\n",
       "      <th>side</th>\n",
       "      <th>city</th>\n",
       "      <th>county</th>\n",
       "      <th>state</th>\n",
       "      <th>zipcode</th>\n",
       "      <th>country</th>\n",
       "      <th>timezone</th>\n",
       "      <th>airport_code</th>\n",
       "      <th>weather_timestamp</th>\n",
       "      <th>temperature(f)</th>\n",
       "      <th>wind_chill(f)</th>\n",
       "      <th>humidity(%)</th>\n",
       "      <th>pressure(in)</th>\n",
       "      <th>visibility(mi)</th>\n",
       "      <th>wind_direction</th>\n",
       "      <th>wind_speed(mph)</th>\n",
       "      <th>precipitation(in)</th>\n",
       "      <th>weather_condition</th>\n",
       "      <th>amenity</th>\n",
       "      <th>bump</th>\n",
       "      <th>crossing</th>\n",
       "      <th>give_way</th>\n",
       "      <th>junction</th>\n",
       "      <th>no_exit</th>\n",
       "      <th>railway</th>\n",
       "      <th>roundabout</th>\n",
       "      <th>station</th>\n",
       "      <th>stop</th>\n",
       "      <th>traffic_calming</th>\n",
       "      <th>traffic_signal</th>\n",
       "      <th>turning_loop</th>\n",
       "      <th>sunrise_sunset</th>\n",
       "      <th>civil_twilight</th>\n",
       "      <th>nautical_twilight</th>\n",
       "      <th>astronomical_twilight</th>\n",
       "    </tr>\n",
       "  </thead>\n",
       "  <tbody>\n",
       "    <tr>\n",
       "      <th>0</th>\n",
       "      <td>A-2749141</td>\n",
       "      <td>2</td>\n",
       "      <td>2016-11-30 14:46:48</td>\n",
       "      <td>2016-11-30 20:46:48</td>\n",
       "      <td>42.305960</td>\n",
       "      <td>-87.960150</td>\n",
       "      <td>42.306916</td>\n",
       "      <td>-87.960918</td>\n",
       "      <td>0.077</td>\n",
       "      <td>Between IL-137/Buckley Rd/Peterson Rd and IL-1...</td>\n",
       "      <td>NaN</td>\n",
       "      <td>N Milwaukee Ave</td>\n",
       "      <td>R</td>\n",
       "      <td>Libertyville</td>\n",
       "      <td>Lake</td>\n",
       "      <td>IL</td>\n",
       "      <td>60048</td>\n",
       "      <td>US</td>\n",
       "      <td>US/Central</td>\n",
       "      <td>KUGN</td>\n",
       "      <td>2016-11-30 14:55:00</td>\n",
       "      <td>37.0</td>\n",
       "      <td>31.0</td>\n",
       "      <td>79.0</td>\n",
       "      <td>29.59</td>\n",
       "      <td>10.0</td>\n",
       "      <td>West</td>\n",
       "      <td>8.1</td>\n",
       "      <td>NaN</td>\n",
       "      <td>Overcast</td>\n",
       "      <td>False</td>\n",
       "      <td>False</td>\n",
       "      <td>False</td>\n",
       "      <td>False</td>\n",
       "      <td>False</td>\n",
       "      <td>False</td>\n",
       "      <td>False</td>\n",
       "      <td>False</td>\n",
       "      <td>False</td>\n",
       "      <td>False</td>\n",
       "      <td>False</td>\n",
       "      <td>True</td>\n",
       "      <td>False</td>\n",
       "      <td>0.0</td>\n",
       "      <td>0.0</td>\n",
       "      <td>0.0</td>\n",
       "      <td>0.0</td>\n",
       "    </tr>\n",
       "    <tr>\n",
       "      <th>1</th>\n",
       "      <td>A-2749152</td>\n",
       "      <td>2</td>\n",
       "      <td>2016-11-30 14:58:59</td>\n",
       "      <td>2016-11-30 20:58:59</td>\n",
       "      <td>42.175870</td>\n",
       "      <td>-88.135770</td>\n",
       "      <td>42.174620</td>\n",
       "      <td>-88.135794</td>\n",
       "      <td>0.086</td>\n",
       "      <td>At US-14/Northwest Hwy - Accident.</td>\n",
       "      <td>21500.0</td>\n",
       "      <td>N IL Route 59</td>\n",
       "      <td>L</td>\n",
       "      <td>Barrington</td>\n",
       "      <td>Lake</td>\n",
       "      <td>IL</td>\n",
       "      <td>60010-2457</td>\n",
       "      <td>US</td>\n",
       "      <td>US/Central</td>\n",
       "      <td>KPWK</td>\n",
       "      <td>2016-11-30 14:52:00</td>\n",
       "      <td>37.0</td>\n",
       "      <td>28.1</td>\n",
       "      <td>76.0</td>\n",
       "      <td>29.62</td>\n",
       "      <td>10.0</td>\n",
       "      <td>West</td>\n",
       "      <td>15.0</td>\n",
       "      <td>NaN</td>\n",
       "      <td>Overcast</td>\n",
       "      <td>False</td>\n",
       "      <td>False</td>\n",
       "      <td>False</td>\n",
       "      <td>False</td>\n",
       "      <td>False</td>\n",
       "      <td>False</td>\n",
       "      <td>False</td>\n",
       "      <td>False</td>\n",
       "      <td>False</td>\n",
       "      <td>False</td>\n",
       "      <td>False</td>\n",
       "      <td>True</td>\n",
       "      <td>False</td>\n",
       "      <td>0.0</td>\n",
       "      <td>0.0</td>\n",
       "      <td>0.0</td>\n",
       "      <td>0.0</td>\n",
       "    </tr>\n",
       "    <tr>\n",
       "      <th>2</th>\n",
       "      <td>A-2749158</td>\n",
       "      <td>3</td>\n",
       "      <td>2016-11-30 15:14:24</td>\n",
       "      <td>2016-11-30 21:29:48</td>\n",
       "      <td>42.175897</td>\n",
       "      <td>-88.135769</td>\n",
       "      <td>42.174612</td>\n",
       "      <td>-88.135794</td>\n",
       "      <td>0.089</td>\n",
       "      <td>Between IL-22 and US-14/Northwest Hwy - Accident.</td>\n",
       "      <td>21501.0</td>\n",
       "      <td>N IL Route 59</td>\n",
       "      <td>R</td>\n",
       "      <td>Barrington</td>\n",
       "      <td>Lake</td>\n",
       "      <td>IL</td>\n",
       "      <td>60010-2456</td>\n",
       "      <td>US</td>\n",
       "      <td>US/Central</td>\n",
       "      <td>KPWK</td>\n",
       "      <td>2016-11-30 14:52:00</td>\n",
       "      <td>37.0</td>\n",
       "      <td>28.1</td>\n",
       "      <td>76.0</td>\n",
       "      <td>29.62</td>\n",
       "      <td>10.0</td>\n",
       "      <td>West</td>\n",
       "      <td>15.0</td>\n",
       "      <td>NaN</td>\n",
       "      <td>Overcast</td>\n",
       "      <td>False</td>\n",
       "      <td>False</td>\n",
       "      <td>False</td>\n",
       "      <td>False</td>\n",
       "      <td>False</td>\n",
       "      <td>False</td>\n",
       "      <td>False</td>\n",
       "      <td>False</td>\n",
       "      <td>False</td>\n",
       "      <td>False</td>\n",
       "      <td>False</td>\n",
       "      <td>True</td>\n",
       "      <td>False</td>\n",
       "      <td>0.0</td>\n",
       "      <td>0.0</td>\n",
       "      <td>0.0</td>\n",
       "      <td>0.0</td>\n",
       "    </tr>\n",
       "  </tbody>\n",
       "</table>\n",
       "</div>"
      ],
      "text/plain": [
       "          id  severity           start_time             end_time  start_lat  \\\n",
       "0  A-2749141         2  2016-11-30 14:46:48  2016-11-30 20:46:48  42.305960   \n",
       "1  A-2749152         2  2016-11-30 14:58:59  2016-11-30 20:58:59  42.175870   \n",
       "2  A-2749158         3  2016-11-30 15:14:24  2016-11-30 21:29:48  42.175897   \n",
       "\n",
       "   start_lng    end_lat    end_lng  distance(mi)  \\\n",
       "0 -87.960150  42.306916 -87.960918         0.077   \n",
       "1 -88.135770  42.174620 -88.135794         0.086   \n",
       "2 -88.135769  42.174612 -88.135794         0.089   \n",
       "\n",
       "                                         description   number  \\\n",
       "0  Between IL-137/Buckley Rd/Peterson Rd and IL-1...      NaN   \n",
       "1                 At US-14/Northwest Hwy - Accident.  21500.0   \n",
       "2  Between IL-22 and US-14/Northwest Hwy - Accident.  21501.0   \n",
       "\n",
       "            street side          city county state     zipcode country  \\\n",
       "0  N Milwaukee Ave    R  Libertyville   Lake    IL       60048      US   \n",
       "1    N IL Route 59    L    Barrington   Lake    IL  60010-2457      US   \n",
       "2    N IL Route 59    R    Barrington   Lake    IL  60010-2456      US   \n",
       "\n",
       "     timezone airport_code    weather_timestamp  temperature(f)  \\\n",
       "0  US/Central         KUGN  2016-11-30 14:55:00            37.0   \n",
       "1  US/Central         KPWK  2016-11-30 14:52:00            37.0   \n",
       "2  US/Central         KPWK  2016-11-30 14:52:00            37.0   \n",
       "\n",
       "   wind_chill(f)  humidity(%)  pressure(in)  visibility(mi) wind_direction  \\\n",
       "0           31.0         79.0         29.59            10.0           West   \n",
       "1           28.1         76.0         29.62            10.0           West   \n",
       "2           28.1         76.0         29.62            10.0           West   \n",
       "\n",
       "   wind_speed(mph)  precipitation(in) weather_condition  amenity   bump  \\\n",
       "0              8.1                NaN          Overcast    False  False   \n",
       "1             15.0                NaN          Overcast    False  False   \n",
       "2             15.0                NaN          Overcast    False  False   \n",
       "\n",
       "   crossing  give_way  junction  no_exit  railway  roundabout  station   stop  \\\n",
       "0     False     False     False    False    False       False    False  False   \n",
       "1     False     False     False    False    False       False    False  False   \n",
       "2     False     False     False    False    False       False    False  False   \n",
       "\n",
       "   traffic_calming  traffic_signal  turning_loop  sunrise_sunset  \\\n",
       "0            False            True         False             0.0   \n",
       "1            False            True         False             0.0   \n",
       "2            False            True         False             0.0   \n",
       "\n",
       "   civil_twilight  nautical_twilight  astronomical_twilight  \n",
       "0             0.0                0.0                    0.0  \n",
       "1             0.0                0.0                    0.0  \n",
       "2             0.0                0.0                    0.0  "
      ]
     },
     "execution_count": 62,
     "metadata": {},
     "output_type": "execute_result"
    }
   ],
   "source": [
    "#for frame of reference\n",
    "chi_df.head(3)"
   ]
  },
  {
   "cell_type": "code",
   "execution_count": 63,
   "id": "4f701eea-45d3-4190-8fde-b4ae743d9d7d",
   "metadata": {},
   "outputs": [
    {
     "data": {
      "text/plain": [
       "False    40043\n",
       "True      2429\n",
       "Name: crossing, dtype: int64"
      ]
     },
     "execution_count": 63,
     "metadata": {},
     "output_type": "execute_result"
    }
   ],
   "source": [
    "chi_df['crossing'].value_counts()"
   ]
  },
  {
   "cell_type": "code",
   "execution_count": 64,
   "id": "73ec54d7-b477-4f29-a989-968411f7414a",
   "metadata": {},
   "outputs": [],
   "source": [
    "bool_cols = ['amenity','bump','crossing','give_way','junction','no_exit','railway','roundabout','station','stop','traffic_calming','traffic_signal','turning_loop']\n",
    "for col in bool_cols:\n",
    "    chi_df[col] = chi_df[col].astype('int')"
   ]
  },
  {
   "cell_type": "code",
   "execution_count": 65,
   "id": "7812d0a3-28a9-4877-906e-c9a1e699b934",
   "metadata": {},
   "outputs": [
    {
     "data": {
      "text/html": [
       "<div>\n",
       "<style scoped>\n",
       "    .dataframe tbody tr th:only-of-type {\n",
       "        vertical-align: middle;\n",
       "    }\n",
       "\n",
       "    .dataframe tbody tr th {\n",
       "        vertical-align: top;\n",
       "    }\n",
       "\n",
       "    .dataframe thead th {\n",
       "        text-align: right;\n",
       "    }\n",
       "</style>\n",
       "<table border=\"1\" class=\"dataframe\">\n",
       "  <thead>\n",
       "    <tr style=\"text-align: right;\">\n",
       "      <th></th>\n",
       "      <th>id</th>\n",
       "      <th>severity</th>\n",
       "      <th>start_time</th>\n",
       "      <th>end_time</th>\n",
       "      <th>start_lat</th>\n",
       "      <th>start_lng</th>\n",
       "      <th>end_lat</th>\n",
       "      <th>end_lng</th>\n",
       "      <th>distance(mi)</th>\n",
       "      <th>description</th>\n",
       "      <th>number</th>\n",
       "      <th>street</th>\n",
       "      <th>side</th>\n",
       "      <th>city</th>\n",
       "      <th>county</th>\n",
       "      <th>state</th>\n",
       "      <th>zipcode</th>\n",
       "      <th>country</th>\n",
       "      <th>timezone</th>\n",
       "      <th>airport_code</th>\n",
       "      <th>weather_timestamp</th>\n",
       "      <th>temperature(f)</th>\n",
       "      <th>wind_chill(f)</th>\n",
       "      <th>humidity(%)</th>\n",
       "      <th>pressure(in)</th>\n",
       "      <th>visibility(mi)</th>\n",
       "      <th>wind_direction</th>\n",
       "      <th>wind_speed(mph)</th>\n",
       "      <th>precipitation(in)</th>\n",
       "      <th>weather_condition</th>\n",
       "      <th>amenity</th>\n",
       "      <th>bump</th>\n",
       "      <th>crossing</th>\n",
       "      <th>give_way</th>\n",
       "      <th>junction</th>\n",
       "      <th>no_exit</th>\n",
       "      <th>railway</th>\n",
       "      <th>roundabout</th>\n",
       "      <th>station</th>\n",
       "      <th>stop</th>\n",
       "      <th>traffic_calming</th>\n",
       "      <th>traffic_signal</th>\n",
       "      <th>turning_loop</th>\n",
       "      <th>sunrise_sunset</th>\n",
       "      <th>civil_twilight</th>\n",
       "      <th>nautical_twilight</th>\n",
       "      <th>astronomical_twilight</th>\n",
       "    </tr>\n",
       "  </thead>\n",
       "  <tbody>\n",
       "    <tr>\n",
       "      <th>0</th>\n",
       "      <td>A-2749141</td>\n",
       "      <td>2</td>\n",
       "      <td>2016-11-30 14:46:48</td>\n",
       "      <td>2016-11-30 20:46:48</td>\n",
       "      <td>42.305960</td>\n",
       "      <td>-87.960150</td>\n",
       "      <td>42.306916</td>\n",
       "      <td>-87.960918</td>\n",
       "      <td>0.077</td>\n",
       "      <td>Between IL-137/Buckley Rd/Peterson Rd and IL-1...</td>\n",
       "      <td>NaN</td>\n",
       "      <td>N Milwaukee Ave</td>\n",
       "      <td>R</td>\n",
       "      <td>Libertyville</td>\n",
       "      <td>Lake</td>\n",
       "      <td>IL</td>\n",
       "      <td>60048</td>\n",
       "      <td>US</td>\n",
       "      <td>US/Central</td>\n",
       "      <td>KUGN</td>\n",
       "      <td>2016-11-30 14:55:00</td>\n",
       "      <td>37.0</td>\n",
       "      <td>31.0</td>\n",
       "      <td>79.0</td>\n",
       "      <td>29.59</td>\n",
       "      <td>10.0</td>\n",
       "      <td>West</td>\n",
       "      <td>8.1</td>\n",
       "      <td>NaN</td>\n",
       "      <td>Overcast</td>\n",
       "      <td>0</td>\n",
       "      <td>0</td>\n",
       "      <td>0</td>\n",
       "      <td>0</td>\n",
       "      <td>0</td>\n",
       "      <td>0</td>\n",
       "      <td>0</td>\n",
       "      <td>0</td>\n",
       "      <td>0</td>\n",
       "      <td>0</td>\n",
       "      <td>0</td>\n",
       "      <td>1</td>\n",
       "      <td>0</td>\n",
       "      <td>0.0</td>\n",
       "      <td>0.0</td>\n",
       "      <td>0.0</td>\n",
       "      <td>0.0</td>\n",
       "    </tr>\n",
       "    <tr>\n",
       "      <th>1</th>\n",
       "      <td>A-2749152</td>\n",
       "      <td>2</td>\n",
       "      <td>2016-11-30 14:58:59</td>\n",
       "      <td>2016-11-30 20:58:59</td>\n",
       "      <td>42.175870</td>\n",
       "      <td>-88.135770</td>\n",
       "      <td>42.174620</td>\n",
       "      <td>-88.135794</td>\n",
       "      <td>0.086</td>\n",
       "      <td>At US-14/Northwest Hwy - Accident.</td>\n",
       "      <td>21500.0</td>\n",
       "      <td>N IL Route 59</td>\n",
       "      <td>L</td>\n",
       "      <td>Barrington</td>\n",
       "      <td>Lake</td>\n",
       "      <td>IL</td>\n",
       "      <td>60010-2457</td>\n",
       "      <td>US</td>\n",
       "      <td>US/Central</td>\n",
       "      <td>KPWK</td>\n",
       "      <td>2016-11-30 14:52:00</td>\n",
       "      <td>37.0</td>\n",
       "      <td>28.1</td>\n",
       "      <td>76.0</td>\n",
       "      <td>29.62</td>\n",
       "      <td>10.0</td>\n",
       "      <td>West</td>\n",
       "      <td>15.0</td>\n",
       "      <td>NaN</td>\n",
       "      <td>Overcast</td>\n",
       "      <td>0</td>\n",
       "      <td>0</td>\n",
       "      <td>0</td>\n",
       "      <td>0</td>\n",
       "      <td>0</td>\n",
       "      <td>0</td>\n",
       "      <td>0</td>\n",
       "      <td>0</td>\n",
       "      <td>0</td>\n",
       "      <td>0</td>\n",
       "      <td>0</td>\n",
       "      <td>1</td>\n",
       "      <td>0</td>\n",
       "      <td>0.0</td>\n",
       "      <td>0.0</td>\n",
       "      <td>0.0</td>\n",
       "      <td>0.0</td>\n",
       "    </tr>\n",
       "    <tr>\n",
       "      <th>2</th>\n",
       "      <td>A-2749158</td>\n",
       "      <td>3</td>\n",
       "      <td>2016-11-30 15:14:24</td>\n",
       "      <td>2016-11-30 21:29:48</td>\n",
       "      <td>42.175897</td>\n",
       "      <td>-88.135769</td>\n",
       "      <td>42.174612</td>\n",
       "      <td>-88.135794</td>\n",
       "      <td>0.089</td>\n",
       "      <td>Between IL-22 and US-14/Northwest Hwy - Accident.</td>\n",
       "      <td>21501.0</td>\n",
       "      <td>N IL Route 59</td>\n",
       "      <td>R</td>\n",
       "      <td>Barrington</td>\n",
       "      <td>Lake</td>\n",
       "      <td>IL</td>\n",
       "      <td>60010-2456</td>\n",
       "      <td>US</td>\n",
       "      <td>US/Central</td>\n",
       "      <td>KPWK</td>\n",
       "      <td>2016-11-30 14:52:00</td>\n",
       "      <td>37.0</td>\n",
       "      <td>28.1</td>\n",
       "      <td>76.0</td>\n",
       "      <td>29.62</td>\n",
       "      <td>10.0</td>\n",
       "      <td>West</td>\n",
       "      <td>15.0</td>\n",
       "      <td>NaN</td>\n",
       "      <td>Overcast</td>\n",
       "      <td>0</td>\n",
       "      <td>0</td>\n",
       "      <td>0</td>\n",
       "      <td>0</td>\n",
       "      <td>0</td>\n",
       "      <td>0</td>\n",
       "      <td>0</td>\n",
       "      <td>0</td>\n",
       "      <td>0</td>\n",
       "      <td>0</td>\n",
       "      <td>0</td>\n",
       "      <td>1</td>\n",
       "      <td>0</td>\n",
       "      <td>0.0</td>\n",
       "      <td>0.0</td>\n",
       "      <td>0.0</td>\n",
       "      <td>0.0</td>\n",
       "    </tr>\n",
       "    <tr>\n",
       "      <th>3</th>\n",
       "      <td>A-2749175</td>\n",
       "      <td>3</td>\n",
       "      <td>2016-11-30 16:13:53</td>\n",
       "      <td>2016-11-30 22:13:53</td>\n",
       "      <td>41.860591</td>\n",
       "      <td>-87.992749</td>\n",
       "      <td>41.860590</td>\n",
       "      <td>-87.992700</td>\n",
       "      <td>0.003</td>\n",
       "      <td>At CR-25/Meyers Rd/Westmore-Meyers Rd - Accident.</td>\n",
       "      <td>1194.0</td>\n",
       "      <td>Westmore Meyers Rd</td>\n",
       "      <td>R</td>\n",
       "      <td>Lombard</td>\n",
       "      <td>Dupage</td>\n",
       "      <td>IL</td>\n",
       "      <td>60148-4777</td>\n",
       "      <td>US</td>\n",
       "      <td>US/Central</td>\n",
       "      <td>KORD</td>\n",
       "      <td>2016-11-30 16:08:00</td>\n",
       "      <td>37.0</td>\n",
       "      <td>30.4</td>\n",
       "      <td>76.0</td>\n",
       "      <td>29.61</td>\n",
       "      <td>10.0</td>\n",
       "      <td>WSW</td>\n",
       "      <td>9.2</td>\n",
       "      <td>NaN</td>\n",
       "      <td>Overcast</td>\n",
       "      <td>0</td>\n",
       "      <td>0</td>\n",
       "      <td>0</td>\n",
       "      <td>0</td>\n",
       "      <td>0</td>\n",
       "      <td>0</td>\n",
       "      <td>0</td>\n",
       "      <td>0</td>\n",
       "      <td>0</td>\n",
       "      <td>0</td>\n",
       "      <td>0</td>\n",
       "      <td>1</td>\n",
       "      <td>0</td>\n",
       "      <td>0.0</td>\n",
       "      <td>0.0</td>\n",
       "      <td>0.0</td>\n",
       "      <td>0.0</td>\n",
       "    </tr>\n",
       "    <tr>\n",
       "      <th>4</th>\n",
       "      <td>A-2749188</td>\n",
       "      <td>3</td>\n",
       "      <td>2016-11-30 16:33:05</td>\n",
       "      <td>2016-11-30 22:33:05</td>\n",
       "      <td>41.750330</td>\n",
       "      <td>-87.663440</td>\n",
       "      <td>41.750330</td>\n",
       "      <td>-87.663440</td>\n",
       "      <td>0.000</td>\n",
       "      <td>At Ashland Ave - Accident.</td>\n",
       "      <td>7899.0</td>\n",
       "      <td>S Ashland Ave</td>\n",
       "      <td>L</td>\n",
       "      <td>Chicago</td>\n",
       "      <td>Cook</td>\n",
       "      <td>IL</td>\n",
       "      <td>60620-4253</td>\n",
       "      <td>US</td>\n",
       "      <td>US/Central</td>\n",
       "      <td>KMDW</td>\n",
       "      <td>2016-11-30 16:39:00</td>\n",
       "      <td>37.9</td>\n",
       "      <td>30.0</td>\n",
       "      <td>73.0</td>\n",
       "      <td>29.65</td>\n",
       "      <td>10.0</td>\n",
       "      <td>SW</td>\n",
       "      <td>12.7</td>\n",
       "      <td>0.0</td>\n",
       "      <td>Overcast</td>\n",
       "      <td>0</td>\n",
       "      <td>0</td>\n",
       "      <td>0</td>\n",
       "      <td>0</td>\n",
       "      <td>0</td>\n",
       "      <td>0</td>\n",
       "      <td>0</td>\n",
       "      <td>0</td>\n",
       "      <td>1</td>\n",
       "      <td>0</td>\n",
       "      <td>0</td>\n",
       "      <td>1</td>\n",
       "      <td>0</td>\n",
       "      <td>1.0</td>\n",
       "      <td>0.0</td>\n",
       "      <td>0.0</td>\n",
       "      <td>0.0</td>\n",
       "    </tr>\n",
       "  </tbody>\n",
       "</table>\n",
       "</div>"
      ],
      "text/plain": [
       "          id  severity           start_time             end_time  start_lat  \\\n",
       "0  A-2749141         2  2016-11-30 14:46:48  2016-11-30 20:46:48  42.305960   \n",
       "1  A-2749152         2  2016-11-30 14:58:59  2016-11-30 20:58:59  42.175870   \n",
       "2  A-2749158         3  2016-11-30 15:14:24  2016-11-30 21:29:48  42.175897   \n",
       "3  A-2749175         3  2016-11-30 16:13:53  2016-11-30 22:13:53  41.860591   \n",
       "4  A-2749188         3  2016-11-30 16:33:05  2016-11-30 22:33:05  41.750330   \n",
       "\n",
       "   start_lng    end_lat    end_lng  distance(mi)  \\\n",
       "0 -87.960150  42.306916 -87.960918         0.077   \n",
       "1 -88.135770  42.174620 -88.135794         0.086   \n",
       "2 -88.135769  42.174612 -88.135794         0.089   \n",
       "3 -87.992749  41.860590 -87.992700         0.003   \n",
       "4 -87.663440  41.750330 -87.663440         0.000   \n",
       "\n",
       "                                         description   number  \\\n",
       "0  Between IL-137/Buckley Rd/Peterson Rd and IL-1...      NaN   \n",
       "1                 At US-14/Northwest Hwy - Accident.  21500.0   \n",
       "2  Between IL-22 and US-14/Northwest Hwy - Accident.  21501.0   \n",
       "3  At CR-25/Meyers Rd/Westmore-Meyers Rd - Accident.   1194.0   \n",
       "4                         At Ashland Ave - Accident.   7899.0   \n",
       "\n",
       "                street side          city  county state     zipcode country  \\\n",
       "0      N Milwaukee Ave    R  Libertyville    Lake    IL       60048      US   \n",
       "1        N IL Route 59    L    Barrington    Lake    IL  60010-2457      US   \n",
       "2        N IL Route 59    R    Barrington    Lake    IL  60010-2456      US   \n",
       "3   Westmore Meyers Rd    R       Lombard  Dupage    IL  60148-4777      US   \n",
       "4        S Ashland Ave    L       Chicago    Cook    IL  60620-4253      US   \n",
       "\n",
       "     timezone airport_code    weather_timestamp  temperature(f)  \\\n",
       "0  US/Central         KUGN  2016-11-30 14:55:00            37.0   \n",
       "1  US/Central         KPWK  2016-11-30 14:52:00            37.0   \n",
       "2  US/Central         KPWK  2016-11-30 14:52:00            37.0   \n",
       "3  US/Central         KORD  2016-11-30 16:08:00            37.0   \n",
       "4  US/Central         KMDW  2016-11-30 16:39:00            37.9   \n",
       "\n",
       "   wind_chill(f)  humidity(%)  pressure(in)  visibility(mi) wind_direction  \\\n",
       "0           31.0         79.0         29.59            10.0           West   \n",
       "1           28.1         76.0         29.62            10.0           West   \n",
       "2           28.1         76.0         29.62            10.0           West   \n",
       "3           30.4         76.0         29.61            10.0            WSW   \n",
       "4           30.0         73.0         29.65            10.0             SW   \n",
       "\n",
       "   wind_speed(mph)  precipitation(in) weather_condition  amenity  bump  \\\n",
       "0              8.1                NaN          Overcast        0     0   \n",
       "1             15.0                NaN          Overcast        0     0   \n",
       "2             15.0                NaN          Overcast        0     0   \n",
       "3              9.2                NaN          Overcast        0     0   \n",
       "4             12.7                0.0          Overcast        0     0   \n",
       "\n",
       "   crossing  give_way  junction  no_exit  railway  roundabout  station  stop  \\\n",
       "0         0         0         0        0        0           0        0     0   \n",
       "1         0         0         0        0        0           0        0     0   \n",
       "2         0         0         0        0        0           0        0     0   \n",
       "3         0         0         0        0        0           0        0     0   \n",
       "4         0         0         0        0        0           0        1     0   \n",
       "\n",
       "   traffic_calming  traffic_signal  turning_loop  sunrise_sunset  \\\n",
       "0                0               1             0             0.0   \n",
       "1                0               1             0             0.0   \n",
       "2                0               1             0             0.0   \n",
       "3                0               1             0             0.0   \n",
       "4                0               1             0             1.0   \n",
       "\n",
       "   civil_twilight  nautical_twilight  astronomical_twilight  \n",
       "0             0.0                0.0                    0.0  \n",
       "1             0.0                0.0                    0.0  \n",
       "2             0.0                0.0                    0.0  \n",
       "3             0.0                0.0                    0.0  \n",
       "4             0.0                0.0                    0.0  "
      ]
     },
     "execution_count": 65,
     "metadata": {},
     "output_type": "execute_result"
    }
   ],
   "source": [
    "chi_df.head()"
   ]
  },
  {
   "cell_type": "code",
   "execution_count": 66,
   "id": "06b03a21-6433-4475-b237-7b9e3e268cc2",
   "metadata": {},
   "outputs": [
    {
     "data": {
      "text/plain": [
       "0    40043\n",
       "1     2429\n",
       "Name: crossing, dtype: int64"
      ]
     },
     "execution_count": 66,
     "metadata": {},
     "output_type": "execute_result"
    }
   ],
   "source": [
    "chi_df['crossing'].value_counts()"
   ]
  },
  {
   "cell_type": "markdown",
   "id": "de00ddd6-11a7-4d59-801d-4bd8ced42c48",
   "metadata": {},
   "source": [
    "**Writing a Cleaning Function**"
   ]
  },
  {
   "cell_type": "code",
   "execution_count": 67,
   "id": "57f6ae35-df9a-463b-812f-b1ab72d95e98",
   "metadata": {},
   "outputs": [
    {
     "data": {
      "text/plain": [
       "id                        object\n",
       "severity                   int64\n",
       "start_time                object\n",
       "end_time                  object\n",
       "start_lat                float64\n",
       "start_lng                float64\n",
       "end_lat                  float64\n",
       "end_lng                  float64\n",
       "distance(mi)             float64\n",
       "description               object\n",
       "number                   float64\n",
       "street                    object\n",
       "side                      object\n",
       "city                      object\n",
       "county                    object\n",
       "state                     object\n",
       "zipcode                   object\n",
       "country                   object\n",
       "timezone                  object\n",
       "airport_code              object\n",
       "weather_timestamp         object\n",
       "temperature(f)           float64\n",
       "wind_chill(f)            float64\n",
       "humidity(%)              float64\n",
       "pressure(in)             float64\n",
       "visibility(mi)           float64\n",
       "wind_direction            object\n",
       "wind_speed(mph)          float64\n",
       "precipitation(in)        float64\n",
       "weather_condition         object\n",
       "amenity                    int32\n",
       "bump                       int32\n",
       "crossing                   int32\n",
       "give_way                   int32\n",
       "junction                   int32\n",
       "no_exit                    int32\n",
       "railway                    int32\n",
       "roundabout                 int32\n",
       "station                    int32\n",
       "stop                       int32\n",
       "traffic_calming            int32\n",
       "traffic_signal             int32\n",
       "turning_loop               int32\n",
       "sunrise_sunset           float64\n",
       "civil_twilight           float64\n",
       "nautical_twilight        float64\n",
       "astronomical_twilight    float64\n",
       "dtype: object"
      ]
     },
     "execution_count": 67,
     "metadata": {},
     "output_type": "execute_result"
    }
   ],
   "source": [
    "chi_df.dtypes"
   ]
  },
  {
   "cell_type": "code",
   "execution_count": 68,
   "id": "eadf3eac-9ae1-41de-ba7c-5e36270ca83d",
   "metadata": {},
   "outputs": [
    {
     "data": {
      "text/plain": [
       "['id',\n",
       " 'start_time',\n",
       " 'end_time',\n",
       " 'description',\n",
       " 'street',\n",
       " 'side',\n",
       " 'city',\n",
       " 'county',\n",
       " 'state',\n",
       " 'zipcode',\n",
       " 'country',\n",
       " 'timezone',\n",
       " 'airport_code',\n",
       " 'weather_timestamp',\n",
       " 'wind_direction',\n",
       " 'weather_condition']"
      ]
     },
     "execution_count": 68,
     "metadata": {},
     "output_type": "execute_result"
    }
   ],
   "source": [
    "#example for frame of reference:\n",
    "list(chi_df.select_dtypes('object').columns)"
   ]
  },
  {
   "cell_type": "code",
   "execution_count": 69,
   "id": "18179f90-628c-4fe0-b8a9-3c15511954c9",
   "metadata": {},
   "outputs": [
    {
     "data": {
      "text/plain": [
       "number                   26593\n",
       "precipitation(in)        23129\n",
       "wind_chill(f)            16332\n",
       "wind_speed(mph)           2024\n",
       "wind_direction             310\n",
       "humidity(%)                244\n",
       "visibility(mi)             120\n",
       "temperature(f)             119\n",
       "weather_condition          116\n",
       "pressure(in)                68\n",
       "weather_timestamp           64\n",
       "timezone                     2\n",
       "airport_code                 2\n",
       "nautical_twilight            1\n",
       "civil_twilight               1\n",
       "sunrise_sunset               1\n",
       "astronomical_twilight        1\n",
       "city                         1\n",
       "country                      0\n",
       "give_way                     0\n",
       "start_time                   0\n",
       "end_time                     0\n",
       "start_lat                    0\n",
       "turning_loop                 0\n",
       "traffic_signal               0\n",
       "traffic_calming              0\n",
       "stop                         0\n",
       "station                      0\n",
       "roundabout                   0\n",
       "railway                      0\n",
       "no_exit                      0\n",
       "junction                     0\n",
       "crossing                     0\n",
       "zipcode                      0\n",
       "bump                         0\n",
       "amenity                      0\n",
       "start_lng                    0\n",
       "end_lat                      0\n",
       "end_lng                      0\n",
       "distance(mi)                 0\n",
       "description                  0\n",
       "street                       0\n",
       "severity                     0\n",
       "side                         0\n",
       "county                       0\n",
       "state                        0\n",
       "id                           0\n",
       "dtype: int64"
      ]
     },
     "execution_count": 69,
     "metadata": {},
     "output_type": "execute_result"
    }
   ],
   "source": [
    "#for frame of reference:\n",
    "chi_df.isna().sum().sort_values(ascending = False)"
   ]
  },
  {
   "cell_type": "code",
   "execution_count": 70,
   "id": "3a595e37-a270-400c-a7cc-2eb125674c9e",
   "metadata": {},
   "outputs": [
    {
     "data": {
      "text/plain": [
       "Light Thunderstorms and Snow       1\n",
       "Light Drizzle / Windy              1\n",
       "Blowing Snow                       1\n",
       "Snow / Windy                       1\n",
       "Squalls                            1\n",
       "Light Rain Showers                 1\n",
       "Squalls / Windy                    1\n",
       "Patches of Fog                     1\n",
       "Light Snow and Sleet / Windy       2\n",
       "Wintry Mix / Windy                 2\n",
       "T-Storm / Windy                    2\n",
       "N/A Precipitation                  2\n",
       "Heavy Drizzle                      2\n",
       "Freezing Rain                      2\n",
       "Light Freezing Rain / Windy        3\n",
       "Heavy T-Storm / Windy              3\n",
       "Heavy Rain / Windy                 4\n",
       "Smoke                              5\n",
       "Light Freezing Fog                 6\n",
       "Rain / Windy                       8\n",
       "Light Ice Pellets                  9\n",
       "Heavy Snow                        10\n",
       "Mist                              18\n",
       "Light Freezing Drizzle            20\n",
       "Drizzle                           23\n",
       "Heavy T-Storm                     26\n",
       "Thunder                           26\n",
       "Thunder in the Vicinity           37\n",
       "Light Snow / Windy                38\n",
       "Heavy Thunderstorms and Rain      42\n",
       "Partly Cloudy / Windy             43\n",
       "Thunderstorms and Rain            50\n",
       "Light Rain / Windy                50\n",
       "Thunderstorm                      56\n",
       "Light Freezing Rain               57\n",
       "Wintry Mix                        70\n",
       "T-Storm                           73\n",
       "Light Rain with Thunder           77\n",
       "Heavy Rain                        94\n",
       "Light Thunderstorms and Rain     108\n",
       "Snow                             108\n",
       "Cloudy / Windy                   114\n",
       "Mostly Cloudy / Windy            122\n",
       "Fair / Windy                     130\n",
       "Light Drizzle                    242\n",
       "Fog                              292\n",
       "Rain                             341\n",
       "Haze                             357\n",
       "Light Snow                      1610\n",
       "Light Rain                      2193\n",
       "Scattered Clouds                2374\n",
       "Cloudy                          3447\n",
       "Partly Cloudy                   4574\n",
       "Fair                            5160\n",
       "Overcast                        6509\n",
       "Mostly Cloudy                   6876\n",
       "Clear                           6931\n",
       "Name: weather_condition, dtype: int64"
      ]
     },
     "execution_count": 70,
     "metadata": {},
     "output_type": "execute_result"
    }
   ],
   "source": [
    "chi_df['weather_condition'].value_counts().sort_values()"
   ]
  },
  {
   "cell_type": "code",
   "execution_count": 100,
   "id": "197150c1-2637-46fc-a042-ce3767afdf5a",
   "metadata": {},
   "outputs": [],
   "source": [
    "#made by MS with the advice of JF:\n",
    "def defn_weather_cols(dataframe):\n",
    "    dataframe['weather_condition_Clear'] = dataframe['weather_condition_Clear'] + \\\n",
    "                                        dataframe['weather_condition_Fair'] + \\\n",
    "                                        dataframe['weather_condition_Fair / Windy'] + \\\n",
    "                                        dataframe['weather_condition_N/A Precipitation']\n",
    "\n",
    "    dataframe['weather_condition_Cloudy'] = dataframe['weather_condition_Cloudy'] + \\\n",
    "                                        dataframe['weather_condition_Cloudy / Windy'] + \\\n",
    "                                        dataframe['weather_condition_Mostly Cloudy'] + \\\n",
    "                                        dataframe['weather_condition_Mostly Cloudy / Windy']\n",
    "\n",
    "    dataframe['weather_condition_Fog'] = dataframe['weather_condition_Fog'] + \\\n",
    "                                        dataframe['weather_condition_Haze'] + \\\n",
    "                                        dataframe['weather_condition_Smoke']\n",
    "\n",
    "    dataframe['weather_condition_Heavy Rain'] = dataframe['weather_condition_Heavy Rain'] + \\\n",
    "                                            dataframe['weather_condition_Heavy Rain / Windy'] + \\\n",
    "                                            dataframe['weather_condition_Heavy Drizzle'] + \\\n",
    "                                            dataframe['weather_condition_Squalls'] + \\\n",
    "                                            dataframe['weather_condition_Squalls / Windy']\n",
    "\n",
    "    dataframe['weather_condition_Light_Drizzle'] = dataframe['weather_condition_Light Drizzle'] + \\\n",
    "                                                dataframe['weather_condition_Light Drizzle / Windy']\n",
    "\n",
    "    dataframe['weather_condition_Light Freezing Rain'] = dataframe['weather_condition_Light Freezing Rain'] + \\\n",
    "                                                        dataframe['weather_condition_Light Freezing Rain / Windy']\n",
    "\n",
    "    dataframe['weather_condition_Light Rain'] = dataframe['weather_condition_Light Rain'] + \\\n",
    "                                            dataframe['weather_condition_Light Rain / Windy']\n",
    "\n",
    "    dataframe['weather_condition_Light Snow'] = dataframe['weather_condition_Light Snow'] + \\\n",
    "                                            dataframe['weather_condition_Light Snow / Windy']\n",
    "\n",
    "    dataframe['weather_condition_Light Snow and Sleet / Windy'] = dataframe['weather_condition_Light Snow and Sleet / Windy'] + \\\n",
    "                                                                dataframe['weather_condition_Wintry Mix'] + \\\n",
    "                                                                dataframe['weather_condition_Wintry Mix / Windy']\n",
    "\n",
    "    dataframe['weather_condition_Partly Cloudy'] = dataframe['weather_condition_Partly Cloudy'] + \\\n",
    "                                                dataframe['weather_condition_Partly Cloudy / Windy'] + \\\n",
    "                                                dataframe['weather_condition_Scattered Clouds']\n",
    "\n",
    "    dataframe['weather_condition_Rain'] = dataframe['weather_condition_Rain'] + \\\n",
    "                                        dataframe['weather_condition_Rain / Windy'] + \\\n",
    "                                        dataframe['weather_condition_Drizzle']\n",
    "\n",
    "    dataframe['weather_condition_Snow'] = dataframe['weather_condition_Snow'] + \\\n",
    "                                        dataframe['weather_condition_Snow / Windy']\n",
    "\n",
    "    dataframe['weather_condition_Thunderstorms and Rain'] = dataframe['weather_condition_Thunderstorms and Rain'] + \\\n",
    "                                                        dataframe['weather_condition_Thunderstorm'] + \\\n",
    "                                                        dataframe['weather_condition_T-Storm / Windy'] + \\\n",
    "                                                        dataframe['weather_condition_Heavy T-Storm'] + \\\n",
    "                                                        dataframe['weather_condition_Heavy T-Storm / Windy'] + \\\n",
    "                                                        dataframe['weather_condition_Heavy Thunderstorms and Rain']\n",
    "\n",
    "    dataframe['weather_condition_Light Rain with Thunder'] = dataframe['weather_condition_Light Rain with Thunder'] + dataframe['weather_condition_Light Thunderstorms and Rain']\n",
    "\n",
    "    dataframe['weather_condition_Thunder'] = dataframe['weather_condition_Thunder'] + dataframe['weather_condition_Thunder in the Vicinity']\n",
    "\n",
    "    weather_drop = ['weather_condition_Fair','weather_condition_Fair / Windy','weather_condition_N/A Precipitation',\n",
    "                    'weather_condition_Cloudy / Windy','weather_condition_Mostly Cloudy','weather_condition_Haze',\n",
    "                    'weather_condition_Smoke','weather_condition_Heavy Rain / Windy','weather_condition_Heavy Drizzle',\n",
    "                    'weather_condition_Squalls','weather_condition_Squalls / Windy','weather_condition_Light Drizzle / Windy',\n",
    "                    'weather_condition_Light Freezing Rain / Windy','weather_condition_Light Rain / Windy','weather_condition_Light Snow / Windy',\n",
    "                    'weather_condition_Wintry Mix','weather_condition_Wintry Mix / Windy','weather_condition_Partly Cloudy / Windy',\n",
    "                    'weather_condition_Scattered Clouds','weather_condition_Rain / Windy','weather_condition_Drizzle',\n",
    "                    'weather_condition_Snow / Windy','weather_condition_Thunderstorm','weather_condition_T-Storm / Windy',\n",
    "                    'weather_condition_Heavy T-Storm','weather_condition_Heavy T-Storm / Windy','weather_condition_Heavy Thunderstorms and Rain',\n",
    "                    'weather_condition_Light Thunderstorms and Rain','weather_condition_Thunder in the Vicinity']\n",
    "\n",
    "    dataframe = dataframe.drop(columns = weather_drop)\n",
    "    \n",
    "    return dataframe"
   ]
  },
  {
   "cell_type": "code",
   "execution_count": 101,
   "id": "934d8468-889e-4cbd-a177-771081d4a63c",
   "metadata": {},
   "outputs": [],
   "source": [
    "def mrclean(dataframe):\n",
    "    \n",
    "    #dropping unnecessary:\n",
    "    dataframe = dataframe.drop(columns = ['id', 'description', 'number', 'street', 'city', 'county',\n",
    "                                          'state', 'zipcode', 'country', 'timezone', 'airport_code'])\n",
    "    \n",
    "    \n",
    "    #converting to datetime:\n",
    "    dataframe['start_time'] = pd.to_datetime(dataframe['start_time'])\n",
    "    dataframe['end_time'] = pd.to_datetime(dataframe['end_time'])\n",
    "    dataframe['weather_timestamp'] = pd.to_datetime(dataframe['weather_timestamp'])\n",
    "\n",
    "    #creating epoch time categories:\n",
    "    dataframe['start_time_ep'] = (dataframe['start_time'] - dt.datetime(1970,1,1))\n",
    "    dataframe['start_time_ep'] = [date.total_seconds() for date in dataframe['start_time_ep']]\n",
    "    \n",
    "    dataframe['end_time_ep'] = (dataframe['end_time'] - dt.datetime(1970,1,1))\n",
    "    dataframe['end_time_ep'] = [date.total_seconds() for date in dataframe['end_time_ep']]\n",
    "    \n",
    "    dataframe['weather_timestamp_ep'] = (dataframe['weather_timestamp'] - dt.datetime(1970,1,1))\n",
    "    dataframe['weather_timestamp_ep'] = [date.total_seconds() for date in dataframe['weather_timestamp_ep']]\n",
    "    \n",
    "    \n",
    "    #dropping nas from datetime:\n",
    "    dataframe = dataframe.dropna(subset = ['start_time', 'end_time', 'weather_timestamp'])\n",
    "    \n",
    "    \n",
    "    #dealing with dates/times:\n",
    "    dataframe['year'] = [int(date.strftime('%Y')) for date in dataframe['start_time']] # accident year\n",
    "    dataframe['month'] = [int(date.strftime('%m')) for date in dataframe['start_time']] # accident year\n",
    "    dataframe['week'] = [int(date.strftime('%U')) for date in dataframe['start_time']] # accident week of the year (week 0 is the days before the first sunday of the year)\n",
    "    dataframe['day'] = [date.strftime('%A') for date in dataframe['start_time']] # accident day of the week\n",
    "    dataframe['hour'] = [date.strftime('%H') for date in dataframe['start_time']] # 0 through 23, 24-hour cycle\n",
    "    \n",
    "    \n",
    "    #creating duration variable:\n",
    "    dataframe['accident_duration'] = dataframe['end_time'] - dataframe['start_time']\n",
    "    dataframe['accident_duration'] = [date.total_seconds() for date in dataframe['accident_duration']]\n",
    "    \n",
    "    \n",
    "    #dropping original start_time/end_time variables:\n",
    "    dataframe.drop(columns = ['start_time', 'end_time', 'weather_timestamp'], inplace = True)\n",
    "    \n",
    "    \n",
    "    #before dealing with object dtypes I need to address 'N's and 'North's in 'wind_direction':\n",
    "    dataframe['wind_direction'].replace({\n",
    "        'North': 'N',\n",
    "        'South': 'S',\n",
    "        'West' : 'W',\n",
    "        'East' : 'E',\n",
    "        'Calm' : 'CALM',\n",
    "        'Variable': 'VAR'\n",
    "    }, inplace = True)\n",
    "    \n",
    "    \n",
    "    #also need to address instances of the same weather condition in 'weather condition',\n",
    "    #only addressing some:\n",
    "#     dataframe['weather_condition'].replace({\n",
    "#         'Patches of Fog': 'Fog', \n",
    "#         'Light Rain Showers': 'Light Rain',\n",
    "#         'T-Storm': 'Thunderstorm',\n",
    "#     }, inplace = True)\n",
    "    \n",
    "    \n",
    "    #dealing with object dtypes:\n",
    "    dataframe = pd.get_dummies(dataframe, columns = list(dataframe.select_dtypes('object').columns), dummy_na = True)\n",
    "    dataframe = defn_weather_cols(dataframe)\n",
    "    \n",
    "    dataframe = dataframe.drop(columns = ['side_nan', 'wind_direction_nan', 'weather_condition_nan', 'day_nan', 'hour_nan'])\n",
    "    \n",
    "    #dealing with booleans:\n",
    "    ##https://stackoverflow.com/questions/17383094/how-can-i-map-true-false-to-1-0-in-a-pandas-dataframe\n",
    "    dataframe[dataframe.select_dtypes('bool').columns] = dataframe.select_dtypes('bool').astype(int)\n",
    "    \n",
    "    \n",
    "    #fill appropriate null values:\n",
    "    dataframe['precipitation(in)'] = dataframe['precipitation(in)'].fillna(0)\n",
    "    dataframe['wind_chill(f)'] = dataframe['wind_chill(f)'].fillna(dataframe['temperature(f)'])\n",
    "    dataframe['wind_speed(mph)'] = dataframe['wind_speed(mph)'].fillna(dataframe['wind_speed(mph)'].mean())\n",
    "    dataframe['humidity(%)'] = dataframe['humidity(%)'].fillna(dataframe['humidity(%)'].mean())\n",
    "    dataframe['temperature(f)'] = dataframe['temperature(f)'].fillna(dataframe['temperature(f)'].mean())\n",
    "\n",
    "    \n",
    "    #dropping null values:\n",
    "    dataframe = dataframe.dropna()\n",
    "    \n",
    "    \n",
    "    #dropping duplicate rows:\n",
    "    dataframe.drop_duplicates(inplace = True)\n",
    "    \n",
    "    \n",
    "    #any additional feature engineering:\n",
    "\n",
    "    return dataframe"
   ]
  },
  {
   "cell_type": "code",
   "execution_count": 102,
   "id": "c0570577-b604-47a7-98f1-78477b6efd46",
   "metadata": {},
   "outputs": [
    {
     "ename": "KeyError",
     "evalue": "\"['id' 'description' 'number' 'street' 'city' 'county' 'state' 'zipcode'\\n 'country' 'timezone' 'airport_code'] not found in axis\"",
     "output_type": "error",
     "traceback": [
      "\u001b[1;31m---------------------------------------------------------------------------\u001b[0m",
      "\u001b[1;31mKeyError\u001b[0m                                  Traceback (most recent call last)",
      "\u001b[1;32m<ipython-input-102-8a05fa2ab682>\u001b[0m in \u001b[0;36m<module>\u001b[1;34m\u001b[0m\n\u001b[0;32m      1\u001b[0m \u001b[1;31m#applying mrclean\u001b[0m\u001b[1;33m\u001b[0m\u001b[1;33m\u001b[0m\u001b[1;33m\u001b[0m\u001b[0m\n\u001b[1;32m----> 2\u001b[1;33m \u001b[0mchi_df\u001b[0m \u001b[1;33m=\u001b[0m \u001b[0mmrclean\u001b[0m\u001b[1;33m(\u001b[0m\u001b[0mchi_df\u001b[0m\u001b[1;33m)\u001b[0m\u001b[1;33m\u001b[0m\u001b[1;33m\u001b[0m\u001b[0m\n\u001b[0m\u001b[0;32m      3\u001b[0m \u001b[0mchi_df\u001b[0m\u001b[1;33m\u001b[0m\u001b[1;33m\u001b[0m\u001b[0m\n",
      "\u001b[1;32m<ipython-input-101-9f5e23e5b39e>\u001b[0m in \u001b[0;36mmrclean\u001b[1;34m(dataframe)\u001b[0m\n\u001b[0;32m      2\u001b[0m \u001b[1;33m\u001b[0m\u001b[0m\n\u001b[0;32m      3\u001b[0m     \u001b[1;31m#dropping unnecessary:\u001b[0m\u001b[1;33m\u001b[0m\u001b[1;33m\u001b[0m\u001b[1;33m\u001b[0m\u001b[0m\n\u001b[1;32m----> 4\u001b[1;33m     dataframe = dataframe.drop(columns = ['id', 'description', 'number', 'street', 'city', 'county',\n\u001b[0m\u001b[0;32m      5\u001b[0m                                           'state', 'zipcode', 'country', 'timezone', 'airport_code'])\n\u001b[0;32m      6\u001b[0m \u001b[1;33m\u001b[0m\u001b[0m\n",
      "\u001b[1;32m~\\anaconda3\\lib\\site-packages\\pandas\\core\\frame.py\u001b[0m in \u001b[0;36mdrop\u001b[1;34m(self, labels, axis, index, columns, level, inplace, errors)\u001b[0m\n\u001b[0;32m   4306\u001b[0m                 \u001b[0mweight\u001b[0m  \u001b[1;36m1.0\u001b[0m     \u001b[1;36m0.8\u001b[0m\u001b[1;33m\u001b[0m\u001b[1;33m\u001b[0m\u001b[0m\n\u001b[0;32m   4307\u001b[0m         \"\"\"\n\u001b[1;32m-> 4308\u001b[1;33m         return super().drop(\n\u001b[0m\u001b[0;32m   4309\u001b[0m             \u001b[0mlabels\u001b[0m\u001b[1;33m=\u001b[0m\u001b[0mlabels\u001b[0m\u001b[1;33m,\u001b[0m\u001b[1;33m\u001b[0m\u001b[1;33m\u001b[0m\u001b[0m\n\u001b[0;32m   4310\u001b[0m             \u001b[0maxis\u001b[0m\u001b[1;33m=\u001b[0m\u001b[0maxis\u001b[0m\u001b[1;33m,\u001b[0m\u001b[1;33m\u001b[0m\u001b[1;33m\u001b[0m\u001b[0m\n",
      "\u001b[1;32m~\\anaconda3\\lib\\site-packages\\pandas\\core\\generic.py\u001b[0m in \u001b[0;36mdrop\u001b[1;34m(self, labels, axis, index, columns, level, inplace, errors)\u001b[0m\n\u001b[0;32m   4151\u001b[0m         \u001b[1;32mfor\u001b[0m \u001b[0maxis\u001b[0m\u001b[1;33m,\u001b[0m \u001b[0mlabels\u001b[0m \u001b[1;32min\u001b[0m \u001b[0maxes\u001b[0m\u001b[1;33m.\u001b[0m\u001b[0mitems\u001b[0m\u001b[1;33m(\u001b[0m\u001b[1;33m)\u001b[0m\u001b[1;33m:\u001b[0m\u001b[1;33m\u001b[0m\u001b[1;33m\u001b[0m\u001b[0m\n\u001b[0;32m   4152\u001b[0m             \u001b[1;32mif\u001b[0m \u001b[0mlabels\u001b[0m \u001b[1;32mis\u001b[0m \u001b[1;32mnot\u001b[0m \u001b[1;32mNone\u001b[0m\u001b[1;33m:\u001b[0m\u001b[1;33m\u001b[0m\u001b[1;33m\u001b[0m\u001b[0m\n\u001b[1;32m-> 4153\u001b[1;33m                 \u001b[0mobj\u001b[0m \u001b[1;33m=\u001b[0m \u001b[0mobj\u001b[0m\u001b[1;33m.\u001b[0m\u001b[0m_drop_axis\u001b[0m\u001b[1;33m(\u001b[0m\u001b[0mlabels\u001b[0m\u001b[1;33m,\u001b[0m \u001b[0maxis\u001b[0m\u001b[1;33m,\u001b[0m \u001b[0mlevel\u001b[0m\u001b[1;33m=\u001b[0m\u001b[0mlevel\u001b[0m\u001b[1;33m,\u001b[0m \u001b[0merrors\u001b[0m\u001b[1;33m=\u001b[0m\u001b[0merrors\u001b[0m\u001b[1;33m)\u001b[0m\u001b[1;33m\u001b[0m\u001b[1;33m\u001b[0m\u001b[0m\n\u001b[0m\u001b[0;32m   4154\u001b[0m \u001b[1;33m\u001b[0m\u001b[0m\n\u001b[0;32m   4155\u001b[0m         \u001b[1;32mif\u001b[0m \u001b[0minplace\u001b[0m\u001b[1;33m:\u001b[0m\u001b[1;33m\u001b[0m\u001b[1;33m\u001b[0m\u001b[0m\n",
      "\u001b[1;32m~\\anaconda3\\lib\\site-packages\\pandas\\core\\generic.py\u001b[0m in \u001b[0;36m_drop_axis\u001b[1;34m(self, labels, axis, level, errors)\u001b[0m\n\u001b[0;32m   4186\u001b[0m                 \u001b[0mnew_axis\u001b[0m \u001b[1;33m=\u001b[0m \u001b[0maxis\u001b[0m\u001b[1;33m.\u001b[0m\u001b[0mdrop\u001b[0m\u001b[1;33m(\u001b[0m\u001b[0mlabels\u001b[0m\u001b[1;33m,\u001b[0m \u001b[0mlevel\u001b[0m\u001b[1;33m=\u001b[0m\u001b[0mlevel\u001b[0m\u001b[1;33m,\u001b[0m \u001b[0merrors\u001b[0m\u001b[1;33m=\u001b[0m\u001b[0merrors\u001b[0m\u001b[1;33m)\u001b[0m\u001b[1;33m\u001b[0m\u001b[1;33m\u001b[0m\u001b[0m\n\u001b[0;32m   4187\u001b[0m             \u001b[1;32melse\u001b[0m\u001b[1;33m:\u001b[0m\u001b[1;33m\u001b[0m\u001b[1;33m\u001b[0m\u001b[0m\n\u001b[1;32m-> 4188\u001b[1;33m                 \u001b[0mnew_axis\u001b[0m \u001b[1;33m=\u001b[0m \u001b[0maxis\u001b[0m\u001b[1;33m.\u001b[0m\u001b[0mdrop\u001b[0m\u001b[1;33m(\u001b[0m\u001b[0mlabels\u001b[0m\u001b[1;33m,\u001b[0m \u001b[0merrors\u001b[0m\u001b[1;33m=\u001b[0m\u001b[0merrors\u001b[0m\u001b[1;33m)\u001b[0m\u001b[1;33m\u001b[0m\u001b[1;33m\u001b[0m\u001b[0m\n\u001b[0m\u001b[0;32m   4189\u001b[0m             \u001b[0mresult\u001b[0m \u001b[1;33m=\u001b[0m \u001b[0mself\u001b[0m\u001b[1;33m.\u001b[0m\u001b[0mreindex\u001b[0m\u001b[1;33m(\u001b[0m\u001b[1;33m**\u001b[0m\u001b[1;33m{\u001b[0m\u001b[0maxis_name\u001b[0m\u001b[1;33m:\u001b[0m \u001b[0mnew_axis\u001b[0m\u001b[1;33m}\u001b[0m\u001b[1;33m)\u001b[0m\u001b[1;33m\u001b[0m\u001b[1;33m\u001b[0m\u001b[0m\n\u001b[0;32m   4190\u001b[0m \u001b[1;33m\u001b[0m\u001b[0m\n",
      "\u001b[1;32m~\\anaconda3\\lib\\site-packages\\pandas\\core\\indexes\\base.py\u001b[0m in \u001b[0;36mdrop\u001b[1;34m(self, labels, errors)\u001b[0m\n\u001b[0;32m   5589\u001b[0m         \u001b[1;32mif\u001b[0m \u001b[0mmask\u001b[0m\u001b[1;33m.\u001b[0m\u001b[0many\u001b[0m\u001b[1;33m(\u001b[0m\u001b[1;33m)\u001b[0m\u001b[1;33m:\u001b[0m\u001b[1;33m\u001b[0m\u001b[1;33m\u001b[0m\u001b[0m\n\u001b[0;32m   5590\u001b[0m             \u001b[1;32mif\u001b[0m \u001b[0merrors\u001b[0m \u001b[1;33m!=\u001b[0m \u001b[1;34m\"ignore\"\u001b[0m\u001b[1;33m:\u001b[0m\u001b[1;33m\u001b[0m\u001b[1;33m\u001b[0m\u001b[0m\n\u001b[1;32m-> 5591\u001b[1;33m                 \u001b[1;32mraise\u001b[0m \u001b[0mKeyError\u001b[0m\u001b[1;33m(\u001b[0m\u001b[1;34mf\"{labels[mask]} not found in axis\"\u001b[0m\u001b[1;33m)\u001b[0m\u001b[1;33m\u001b[0m\u001b[1;33m\u001b[0m\u001b[0m\n\u001b[0m\u001b[0;32m   5592\u001b[0m             \u001b[0mindexer\u001b[0m \u001b[1;33m=\u001b[0m \u001b[0mindexer\u001b[0m\u001b[1;33m[\u001b[0m\u001b[1;33m~\u001b[0m\u001b[0mmask\u001b[0m\u001b[1;33m]\u001b[0m\u001b[1;33m\u001b[0m\u001b[1;33m\u001b[0m\u001b[0m\n\u001b[0;32m   5593\u001b[0m         \u001b[1;32mreturn\u001b[0m \u001b[0mself\u001b[0m\u001b[1;33m.\u001b[0m\u001b[0mdelete\u001b[0m\u001b[1;33m(\u001b[0m\u001b[0mindexer\u001b[0m\u001b[1;33m)\u001b[0m\u001b[1;33m\u001b[0m\u001b[1;33m\u001b[0m\u001b[0m\n",
      "\u001b[1;31mKeyError\u001b[0m: \"['id' 'description' 'number' 'street' 'city' 'county' 'state' 'zipcode'\\n 'country' 'timezone' 'airport_code'] not found in axis\""
     ]
    }
   ],
   "source": [
    "#applying mrclean\n",
    "chi_df = mrclean(chi_df)\n",
    "chi_df"
   ]
  },
  {
   "cell_type": "code",
   "execution_count": 74,
   "id": "b1f68844-abba-444f-89cc-5707f556d708",
   "metadata": {},
   "outputs": [
    {
     "data": {
      "text/plain": [
       "Index(['week', 'accident_duration', 'side_L', 'side_R', 'wind_direction_CALM',\n",
       "       'wind_direction_E', 'wind_direction_ENE', 'wind_direction_ESE',\n",
       "       'wind_direction_N', 'wind_direction_NE', 'wind_direction_NNE',\n",
       "       'wind_direction_NNW', 'wind_direction_NW', 'wind_direction_S',\n",
       "       'wind_direction_SE', 'wind_direction_SSE', 'wind_direction_SSW',\n",
       "       'wind_direction_SW'],\n",
       "      dtype='object')"
      ]
     },
     "execution_count": 74,
     "metadata": {},
     "output_type": "execute_result"
    }
   ],
   "source": [
    "chi_df.columns[35:53]"
   ]
  },
  {
   "cell_type": "code",
   "execution_count": 75,
   "id": "646e3698-4df9-4e6c-9b2e-6849b72709dd",
   "metadata": {},
   "outputs": [],
   "source": [
    "#saving new, cleaned dataframe\n",
    "chi_df.to_csv('../data/chi_df_cleaned.csv', index = False)"
   ]
  },
  {
   "cell_type": "markdown",
   "id": "6a7a0c22-c318-4e4f-b132-f7b713ae31d1",
   "metadata": {},
   "source": [
    "**Cleaning the Other Cities' Data**"
   ]
  },
  {
   "cell_type": "markdown",
   "id": "1313fcd3-4a37-410b-afe6-13cb1aff6b5a",
   "metadata": {},
   "source": [
    "- Atlanta"
   ]
  },
  {
   "cell_type": "code",
   "execution_count": 76,
   "id": "c459c01a-a815-49cd-8aa0-d03207571f97",
   "metadata": {},
   "outputs": [],
   "source": [
    "#reading in Atlanta\n",
    "atl_df = pd.read_csv('../data/atl_accidents.csv')"
   ]
  },
  {
   "cell_type": "code",
   "execution_count": 77,
   "id": "c2bf0971-07d6-46ea-9935-f85857a1c0bd",
   "metadata": {},
   "outputs": [
    {
     "data": {
      "text/html": [
       "<div>\n",
       "<style scoped>\n",
       "    .dataframe tbody tr th:only-of-type {\n",
       "        vertical-align: middle;\n",
       "    }\n",
       "\n",
       "    .dataframe tbody tr th {\n",
       "        vertical-align: top;\n",
       "    }\n",
       "\n",
       "    .dataframe thead th {\n",
       "        text-align: right;\n",
       "    }\n",
       "</style>\n",
       "<table border=\"1\" class=\"dataframe\">\n",
       "  <thead>\n",
       "    <tr style=\"text-align: right;\">\n",
       "      <th></th>\n",
       "      <th>id</th>\n",
       "      <th>severity</th>\n",
       "      <th>start_time</th>\n",
       "      <th>end_time</th>\n",
       "      <th>start_lat</th>\n",
       "      <th>start_lng</th>\n",
       "      <th>end_lat</th>\n",
       "      <th>end_lng</th>\n",
       "      <th>distance(mi)</th>\n",
       "      <th>description</th>\n",
       "      <th>number</th>\n",
       "      <th>street</th>\n",
       "      <th>side</th>\n",
       "      <th>city</th>\n",
       "      <th>county</th>\n",
       "      <th>state</th>\n",
       "      <th>zipcode</th>\n",
       "      <th>country</th>\n",
       "      <th>timezone</th>\n",
       "      <th>airport_code</th>\n",
       "      <th>weather_timestamp</th>\n",
       "      <th>temperature(f)</th>\n",
       "      <th>wind_chill(f)</th>\n",
       "      <th>humidity(%)</th>\n",
       "      <th>pressure(in)</th>\n",
       "      <th>visibility(mi)</th>\n",
       "      <th>wind_direction</th>\n",
       "      <th>wind_speed(mph)</th>\n",
       "      <th>precipitation(in)</th>\n",
       "      <th>weather_condition</th>\n",
       "      <th>amenity</th>\n",
       "      <th>bump</th>\n",
       "      <th>crossing</th>\n",
       "      <th>give_way</th>\n",
       "      <th>junction</th>\n",
       "      <th>no_exit</th>\n",
       "      <th>railway</th>\n",
       "      <th>roundabout</th>\n",
       "      <th>station</th>\n",
       "      <th>stop</th>\n",
       "      <th>traffic_calming</th>\n",
       "      <th>traffic_signal</th>\n",
       "      <th>turning_loop</th>\n",
       "      <th>sunrise_sunset</th>\n",
       "      <th>civil_twilight</th>\n",
       "      <th>nautical_twilight</th>\n",
       "      <th>astronomical_twilight</th>\n",
       "    </tr>\n",
       "  </thead>\n",
       "  <tbody>\n",
       "    <tr>\n",
       "      <th>0</th>\n",
       "      <td>A-2749192</td>\n",
       "      <td>3</td>\n",
       "      <td>2016-11-30 17:35:55</td>\n",
       "      <td>2016-11-30 23:35:55</td>\n",
       "      <td>32.83752</td>\n",
       "      <td>-83.64864</td>\n",
       "      <td>32.840424</td>\n",
       "      <td>-83.646307</td>\n",
       "      <td>0.242</td>\n",
       "      <td>At US-41-BR/Forsyth St/Exit 164 - Accident.</td>\n",
       "      <td>NaN</td>\n",
       "      <td>I-75 N</td>\n",
       "      <td>R</td>\n",
       "      <td>Macon</td>\n",
       "      <td>Bibb</td>\n",
       "      <td>GA</td>\n",
       "      <td>31201</td>\n",
       "      <td>US</td>\n",
       "      <td>US/Eastern</td>\n",
       "      <td>KMCN</td>\n",
       "      <td>2016-11-30 17:53:00</td>\n",
       "      <td>66.0</td>\n",
       "      <td>NaN</td>\n",
       "      <td>90.0</td>\n",
       "      <td>29.79</td>\n",
       "      <td>4.0</td>\n",
       "      <td>West</td>\n",
       "      <td>9.2</td>\n",
       "      <td>0.24</td>\n",
       "      <td>Rain</td>\n",
       "      <td>False</td>\n",
       "      <td>False</td>\n",
       "      <td>False</td>\n",
       "      <td>False</td>\n",
       "      <td>True</td>\n",
       "      <td>False</td>\n",
       "      <td>False</td>\n",
       "      <td>False</td>\n",
       "      <td>False</td>\n",
       "      <td>False</td>\n",
       "      <td>False</td>\n",
       "      <td>False</td>\n",
       "      <td>False</td>\n",
       "      <td>Night</td>\n",
       "      <td>Day</td>\n",
       "      <td>Day</td>\n",
       "      <td>Day</td>\n",
       "    </tr>\n",
       "    <tr>\n",
       "      <th>1</th>\n",
       "      <td>A-2749196</td>\n",
       "      <td>2</td>\n",
       "      <td>2016-11-30 17:39:56</td>\n",
       "      <td>2016-11-30 23:39:56</td>\n",
       "      <td>33.74153</td>\n",
       "      <td>-84.41434</td>\n",
       "      <td>33.746580</td>\n",
       "      <td>-84.430340</td>\n",
       "      <td>0.983</td>\n",
       "      <td>Between Ashby St/Exit 55 and Langhorn St/Exit ...</td>\n",
       "      <td>NaN</td>\n",
       "      <td>GA-402 W</td>\n",
       "      <td>R</td>\n",
       "      <td>Atlanta</td>\n",
       "      <td>Fulton</td>\n",
       "      <td>GA</td>\n",
       "      <td>30310</td>\n",
       "      <td>US</td>\n",
       "      <td>US/Eastern</td>\n",
       "      <td>KATL</td>\n",
       "      <td>2016-11-30 17:46:00</td>\n",
       "      <td>62.6</td>\n",
       "      <td>NaN</td>\n",
       "      <td>100.0</td>\n",
       "      <td>29.80</td>\n",
       "      <td>8.0</td>\n",
       "      <td>West</td>\n",
       "      <td>9.2</td>\n",
       "      <td>0.00</td>\n",
       "      <td>Mostly Cloudy</td>\n",
       "      <td>False</td>\n",
       "      <td>False</td>\n",
       "      <td>False</td>\n",
       "      <td>False</td>\n",
       "      <td>False</td>\n",
       "      <td>False</td>\n",
       "      <td>False</td>\n",
       "      <td>False</td>\n",
       "      <td>False</td>\n",
       "      <td>False</td>\n",
       "      <td>False</td>\n",
       "      <td>False</td>\n",
       "      <td>False</td>\n",
       "      <td>Night</td>\n",
       "      <td>Day</td>\n",
       "      <td>Day</td>\n",
       "      <td>Day</td>\n",
       "    </tr>\n",
       "    <tr>\n",
       "      <th>2</th>\n",
       "      <td>A-2749218</td>\n",
       "      <td>2</td>\n",
       "      <td>2016-11-30 18:09:52</td>\n",
       "      <td>2016-12-01 00:09:52</td>\n",
       "      <td>33.91220</td>\n",
       "      <td>-84.38390</td>\n",
       "      <td>33.911380</td>\n",
       "      <td>-84.372580</td>\n",
       "      <td>0.652</td>\n",
       "      <td>At US-19/Roswell Rd/Exit 25 - Accident.</td>\n",
       "      <td>NaN</td>\n",
       "      <td>I-285 E</td>\n",
       "      <td>R</td>\n",
       "      <td>Atlanta</td>\n",
       "      <td>Fulton</td>\n",
       "      <td>GA</td>\n",
       "      <td>30342</td>\n",
       "      <td>US</td>\n",
       "      <td>US/Eastern</td>\n",
       "      <td>KPDK</td>\n",
       "      <td>2016-11-30 18:04:00</td>\n",
       "      <td>63.0</td>\n",
       "      <td>NaN</td>\n",
       "      <td>90.0</td>\n",
       "      <td>29.80</td>\n",
       "      <td>10.0</td>\n",
       "      <td>West</td>\n",
       "      <td>9.2</td>\n",
       "      <td>NaN</td>\n",
       "      <td>Overcast</td>\n",
       "      <td>False</td>\n",
       "      <td>False</td>\n",
       "      <td>False</td>\n",
       "      <td>False</td>\n",
       "      <td>True</td>\n",
       "      <td>False</td>\n",
       "      <td>False</td>\n",
       "      <td>False</td>\n",
       "      <td>False</td>\n",
       "      <td>False</td>\n",
       "      <td>False</td>\n",
       "      <td>False</td>\n",
       "      <td>False</td>\n",
       "      <td>Night</td>\n",
       "      <td>Night</td>\n",
       "      <td>Day</td>\n",
       "      <td>Day</td>\n",
       "    </tr>\n",
       "  </tbody>\n",
       "</table>\n",
       "</div>"
      ],
      "text/plain": [
       "          id  severity           start_time             end_time  start_lat  \\\n",
       "0  A-2749192         3  2016-11-30 17:35:55  2016-11-30 23:35:55   32.83752   \n",
       "1  A-2749196         2  2016-11-30 17:39:56  2016-11-30 23:39:56   33.74153   \n",
       "2  A-2749218         2  2016-11-30 18:09:52  2016-12-01 00:09:52   33.91220   \n",
       "\n",
       "   start_lng    end_lat    end_lng  distance(mi)  \\\n",
       "0  -83.64864  32.840424 -83.646307         0.242   \n",
       "1  -84.41434  33.746580 -84.430340         0.983   \n",
       "2  -84.38390  33.911380 -84.372580         0.652   \n",
       "\n",
       "                                         description  number    street side  \\\n",
       "0        At US-41-BR/Forsyth St/Exit 164 - Accident.     NaN    I-75 N    R   \n",
       "1  Between Ashby St/Exit 55 and Langhorn St/Exit ...     NaN  GA-402 W    R   \n",
       "2            At US-19/Roswell Rd/Exit 25 - Accident.     NaN   I-285 E    R   \n",
       "\n",
       "      city  county state zipcode country    timezone airport_code  \\\n",
       "0    Macon    Bibb    GA   31201      US  US/Eastern         KMCN   \n",
       "1  Atlanta  Fulton    GA   30310      US  US/Eastern         KATL   \n",
       "2  Atlanta  Fulton    GA   30342      US  US/Eastern         KPDK   \n",
       "\n",
       "     weather_timestamp  temperature(f)  wind_chill(f)  humidity(%)  \\\n",
       "0  2016-11-30 17:53:00            66.0            NaN         90.0   \n",
       "1  2016-11-30 17:46:00            62.6            NaN        100.0   \n",
       "2  2016-11-30 18:04:00            63.0            NaN         90.0   \n",
       "\n",
       "   pressure(in)  visibility(mi) wind_direction  wind_speed(mph)  \\\n",
       "0         29.79             4.0           West              9.2   \n",
       "1         29.80             8.0           West              9.2   \n",
       "2         29.80            10.0           West              9.2   \n",
       "\n",
       "   precipitation(in) weather_condition  amenity   bump  crossing  give_way  \\\n",
       "0               0.24              Rain    False  False     False     False   \n",
       "1               0.00     Mostly Cloudy    False  False     False     False   \n",
       "2                NaN          Overcast    False  False     False     False   \n",
       "\n",
       "   junction  no_exit  railway  roundabout  station   stop  traffic_calming  \\\n",
       "0      True    False    False       False    False  False            False   \n",
       "1     False    False    False       False    False  False            False   \n",
       "2      True    False    False       False    False  False            False   \n",
       "\n",
       "   traffic_signal  turning_loop sunrise_sunset civil_twilight  \\\n",
       "0           False         False          Night            Day   \n",
       "1           False         False          Night            Day   \n",
       "2           False         False          Night          Night   \n",
       "\n",
       "  nautical_twilight astronomical_twilight  \n",
       "0               Day                   Day  \n",
       "1               Day                   Day  \n",
       "2               Day                   Day  "
      ]
     },
     "execution_count": 77,
     "metadata": {},
     "output_type": "execute_result"
    }
   ],
   "source": [
    "atl_df.head(3)"
   ]
  },
  {
   "cell_type": "code",
   "execution_count": 78,
   "id": "93ed9fce-1253-467e-a254-361e2c077d10",
   "metadata": {},
   "outputs": [
    {
     "data": {
      "text/plain": [
       "(26114, 47)"
      ]
     },
     "execution_count": 78,
     "metadata": {},
     "output_type": "execute_result"
    }
   ],
   "source": [
    "atl_df.shape"
   ]
  },
  {
   "cell_type": "code",
   "execution_count": 79,
   "id": "9e12d7c8-dc4a-4d58-acab-bbfb9a03628a",
   "metadata": {},
   "outputs": [
    {
     "name": "stdout",
     "output_type": "stream",
     "text": [
      "<class 'pandas.core.frame.DataFrame'>\n",
      "RangeIndex: 26114 entries, 0 to 26113\n",
      "Data columns (total 47 columns):\n",
      " #   Column                 Non-Null Count  Dtype  \n",
      "---  ------                 --------------  -----  \n",
      " 0   id                     26114 non-null  object \n",
      " 1   severity               26114 non-null  int64  \n",
      " 2   start_time             26114 non-null  object \n",
      " 3   end_time               26114 non-null  object \n",
      " 4   start_lat              26114 non-null  float64\n",
      " 5   start_lng              26114 non-null  float64\n",
      " 6   end_lat                26114 non-null  float64\n",
      " 7   end_lng                26114 non-null  float64\n",
      " 8   distance(mi)           26114 non-null  float64\n",
      " 9   description            26114 non-null  object \n",
      " 10  number                 4337 non-null   float64\n",
      " 11  street                 26114 non-null  object \n",
      " 12  side                   26114 non-null  object \n",
      " 13  city                   26114 non-null  object \n",
      " 14  county                 26114 non-null  object \n",
      " 15  state                  26114 non-null  object \n",
      " 16  zipcode                26114 non-null  object \n",
      " 17  country                26114 non-null  object \n",
      " 18  timezone               26114 non-null  object \n",
      " 19  airport_code           26114 non-null  object \n",
      " 20  weather_timestamp      25788 non-null  object \n",
      " 21  temperature(f)         25633 non-null  float64\n",
      " 22  wind_chill(f)          14262 non-null  float64\n",
      " 23  humidity(%)            25605 non-null  float64\n",
      " 24  pressure(in)           25716 non-null  float64\n",
      " 25  visibility(mi)         25736 non-null  float64\n",
      " 26  wind_direction         25736 non-null  object \n",
      " 27  wind_speed(mph)        22950 non-null  float64\n",
      " 28  precipitation(in)      13803 non-null  float64\n",
      " 29  weather_condition      25749 non-null  object \n",
      " 30  amenity                26114 non-null  bool   \n",
      " 31  bump                   26114 non-null  bool   \n",
      " 32  crossing               26114 non-null  bool   \n",
      " 33  give_way               26114 non-null  bool   \n",
      " 34  junction               26114 non-null  bool   \n",
      " 35  no_exit                26114 non-null  bool   \n",
      " 36  railway                26114 non-null  bool   \n",
      " 37  roundabout             26114 non-null  bool   \n",
      " 38  station                26114 non-null  bool   \n",
      " 39  stop                   26114 non-null  bool   \n",
      " 40  traffic_calming        26114 non-null  bool   \n",
      " 41  traffic_signal         26114 non-null  bool   \n",
      " 42  turning_loop           26114 non-null  bool   \n",
      " 43  sunrise_sunset         26114 non-null  object \n",
      " 44  civil_twilight         26114 non-null  object \n",
      " 45  nautical_twilight      26114 non-null  object \n",
      " 46  astronomical_twilight  26114 non-null  object \n",
      "dtypes: bool(13), float64(13), int64(1), object(20)\n",
      "memory usage: 7.1+ MB\n"
     ]
    }
   ],
   "source": [
    "atl_df.info()"
   ]
  },
  {
   "cell_type": "code",
   "execution_count": 80,
   "id": "b9707cc5-a60e-443e-bab7-68346c826f4f",
   "metadata": {},
   "outputs": [
    {
     "data": {
      "text/plain": [
       "number               21777\n",
       "precipitation(in)    12311\n",
       "wind_chill(f)        11852\n",
       "wind_speed(mph)       3164\n",
       "humidity(%)            509\n",
       "temperature(f)         481\n",
       "pressure(in)           398\n",
       "visibility(mi)         378\n",
       "wind_direction         378\n",
       "weather_condition      365\n",
       "weather_timestamp      326\n",
       "station                  0\n",
       "dtype: int64"
      ]
     },
     "execution_count": 80,
     "metadata": {},
     "output_type": "execute_result"
    }
   ],
   "source": [
    "atl_df.isna().sum().sort_values(ascending = False)[0:12]"
   ]
  },
  {
   "cell_type": "code",
   "execution_count": 94,
   "id": "e3d4863a-dae8-4331-970c-05809c8d7962",
   "metadata": {},
   "outputs": [
    {
     "ename": "KeyError",
     "evalue": "'weather_condition_Light Snow and Sleet / Windy'",
     "output_type": "error",
     "traceback": [
      "\u001b[1;31m---------------------------------------------------------------------------\u001b[0m",
      "\u001b[1;31mKeyError\u001b[0m                                  Traceback (most recent call last)",
      "\u001b[1;32m~\\anaconda3\\lib\\site-packages\\pandas\\core\\indexes\\base.py\u001b[0m in \u001b[0;36mget_loc\u001b[1;34m(self, key, method, tolerance)\u001b[0m\n\u001b[0;32m   3079\u001b[0m             \u001b[1;32mtry\u001b[0m\u001b[1;33m:\u001b[0m\u001b[1;33m\u001b[0m\u001b[1;33m\u001b[0m\u001b[0m\n\u001b[1;32m-> 3080\u001b[1;33m                 \u001b[1;32mreturn\u001b[0m \u001b[0mself\u001b[0m\u001b[1;33m.\u001b[0m\u001b[0m_engine\u001b[0m\u001b[1;33m.\u001b[0m\u001b[0mget_loc\u001b[0m\u001b[1;33m(\u001b[0m\u001b[0mcasted_key\u001b[0m\u001b[1;33m)\u001b[0m\u001b[1;33m\u001b[0m\u001b[1;33m\u001b[0m\u001b[0m\n\u001b[0m\u001b[0;32m   3081\u001b[0m             \u001b[1;32mexcept\u001b[0m \u001b[0mKeyError\u001b[0m \u001b[1;32mas\u001b[0m \u001b[0merr\u001b[0m\u001b[1;33m:\u001b[0m\u001b[1;33m\u001b[0m\u001b[1;33m\u001b[0m\u001b[0m\n",
      "\u001b[1;32mpandas\\_libs\\index.pyx\u001b[0m in \u001b[0;36mpandas._libs.index.IndexEngine.get_loc\u001b[1;34m()\u001b[0m\n",
      "\u001b[1;32mpandas\\_libs\\index.pyx\u001b[0m in \u001b[0;36mpandas._libs.index.IndexEngine.get_loc\u001b[1;34m()\u001b[0m\n",
      "\u001b[1;32mpandas\\_libs\\hashtable_class_helper.pxi\u001b[0m in \u001b[0;36mpandas._libs.hashtable.PyObjectHashTable.get_item\u001b[1;34m()\u001b[0m\n",
      "\u001b[1;32mpandas\\_libs\\hashtable_class_helper.pxi\u001b[0m in \u001b[0;36mpandas._libs.hashtable.PyObjectHashTable.get_item\u001b[1;34m()\u001b[0m\n",
      "\u001b[1;31mKeyError\u001b[0m: 'weather_condition_Light Snow and Sleet / Windy'",
      "\nThe above exception was the direct cause of the following exception:\n",
      "\u001b[1;31mKeyError\u001b[0m                                  Traceback (most recent call last)",
      "\u001b[1;32m<ipython-input-94-ead554a541ed>\u001b[0m in \u001b[0;36m<module>\u001b[1;34m\u001b[0m\n\u001b[0;32m      1\u001b[0m \u001b[1;31m#applying mrclean\u001b[0m\u001b[1;33m\u001b[0m\u001b[1;33m\u001b[0m\u001b[1;33m\u001b[0m\u001b[0m\n\u001b[1;32m----> 2\u001b[1;33m \u001b[0matl_df\u001b[0m \u001b[1;33m=\u001b[0m \u001b[0mmrclean\u001b[0m\u001b[1;33m(\u001b[0m\u001b[0matl_df\u001b[0m\u001b[1;33m)\u001b[0m\u001b[1;33m\u001b[0m\u001b[1;33m\u001b[0m\u001b[0m\n\u001b[0m\u001b[0;32m      3\u001b[0m \u001b[0matl_df\u001b[0m\u001b[1;33m\u001b[0m\u001b[1;33m\u001b[0m\u001b[0m\n",
      "\u001b[1;32m<ipython-input-93-9f5e23e5b39e>\u001b[0m in \u001b[0;36mmrclean\u001b[1;34m(dataframe)\u001b[0m\n\u001b[0;32m     65\u001b[0m     \u001b[1;31m#dealing with object dtypes:\u001b[0m\u001b[1;33m\u001b[0m\u001b[1;33m\u001b[0m\u001b[1;33m\u001b[0m\u001b[0m\n\u001b[0;32m     66\u001b[0m     \u001b[0mdataframe\u001b[0m \u001b[1;33m=\u001b[0m \u001b[0mpd\u001b[0m\u001b[1;33m.\u001b[0m\u001b[0mget_dummies\u001b[0m\u001b[1;33m(\u001b[0m\u001b[0mdataframe\u001b[0m\u001b[1;33m,\u001b[0m \u001b[0mcolumns\u001b[0m \u001b[1;33m=\u001b[0m \u001b[0mlist\u001b[0m\u001b[1;33m(\u001b[0m\u001b[0mdataframe\u001b[0m\u001b[1;33m.\u001b[0m\u001b[0mselect_dtypes\u001b[0m\u001b[1;33m(\u001b[0m\u001b[1;34m'object'\u001b[0m\u001b[1;33m)\u001b[0m\u001b[1;33m.\u001b[0m\u001b[0mcolumns\u001b[0m\u001b[1;33m)\u001b[0m\u001b[1;33m,\u001b[0m \u001b[0mdummy_na\u001b[0m \u001b[1;33m=\u001b[0m \u001b[1;32mTrue\u001b[0m\u001b[1;33m)\u001b[0m\u001b[1;33m\u001b[0m\u001b[1;33m\u001b[0m\u001b[0m\n\u001b[1;32m---> 67\u001b[1;33m     \u001b[0mdataframe\u001b[0m \u001b[1;33m=\u001b[0m \u001b[0mdefn_weather_cols\u001b[0m\u001b[1;33m(\u001b[0m\u001b[0mdataframe\u001b[0m\u001b[1;33m)\u001b[0m\u001b[1;33m\u001b[0m\u001b[1;33m\u001b[0m\u001b[0m\n\u001b[0m\u001b[0;32m     68\u001b[0m \u001b[1;33m\u001b[0m\u001b[0m\n\u001b[0;32m     69\u001b[0m     \u001b[0mdataframe\u001b[0m \u001b[1;33m=\u001b[0m \u001b[0mdataframe\u001b[0m\u001b[1;33m.\u001b[0m\u001b[0mdrop\u001b[0m\u001b[1;33m(\u001b[0m\u001b[0mcolumns\u001b[0m \u001b[1;33m=\u001b[0m \u001b[1;33m[\u001b[0m\u001b[1;34m'side_nan'\u001b[0m\u001b[1;33m,\u001b[0m \u001b[1;34m'wind_direction_nan'\u001b[0m\u001b[1;33m,\u001b[0m \u001b[1;34m'weather_condition_nan'\u001b[0m\u001b[1;33m,\u001b[0m \u001b[1;34m'day_nan'\u001b[0m\u001b[1;33m,\u001b[0m \u001b[1;34m'hour_nan'\u001b[0m\u001b[1;33m]\u001b[0m\u001b[1;33m)\u001b[0m\u001b[1;33m\u001b[0m\u001b[1;33m\u001b[0m\u001b[0m\n",
      "\u001b[1;32m<ipython-input-92-1d94c6a7443e>\u001b[0m in \u001b[0;36mdefn_weather_cols\u001b[1;34m(dataframe)\u001b[0m\n\u001b[0;32m     33\u001b[0m                                             \u001b[0mdataframe\u001b[0m\u001b[1;33m[\u001b[0m\u001b[1;34m'weather_condition_Light Snow / Windy'\u001b[0m\u001b[1;33m]\u001b[0m\u001b[1;33m\u001b[0m\u001b[1;33m\u001b[0m\u001b[0m\n\u001b[0;32m     34\u001b[0m \u001b[1;33m\u001b[0m\u001b[0m\n\u001b[1;32m---> 35\u001b[1;33m     \u001b[0mdataframe\u001b[0m\u001b[1;33m[\u001b[0m\u001b[1;34m'weather_condition_Light Snow and Sleet / Windy'\u001b[0m\u001b[1;33m]\u001b[0m \u001b[1;33m=\u001b[0m \u001b[0mdataframe\u001b[0m\u001b[1;33m[\u001b[0m\u001b[1;34m'weather_condition_Light Snow and Sleet / Windy'\u001b[0m\u001b[1;33m]\u001b[0m \u001b[1;33m+\u001b[0m\u001b[0;31m \u001b[0m\u001b[0;31m\\\u001b[0m\u001b[1;33m\u001b[0m\u001b[1;33m\u001b[0m\u001b[0m\n\u001b[0m\u001b[0;32m     36\u001b[0m                                                                 \u001b[0mdataframe\u001b[0m\u001b[1;33m[\u001b[0m\u001b[1;34m'weather_condition_Wintry Mix'\u001b[0m\u001b[1;33m]\u001b[0m \u001b[1;33m+\u001b[0m\u001b[0;31m \u001b[0m\u001b[0;31m\\\u001b[0m\u001b[1;33m\u001b[0m\u001b[1;33m\u001b[0m\u001b[0m\n\u001b[0;32m     37\u001b[0m                                                                 \u001b[0mdataframe\u001b[0m\u001b[1;33m[\u001b[0m\u001b[1;34m'weather_condition_Wintry Mix / Windy'\u001b[0m\u001b[1;33m]\u001b[0m\u001b[1;33m\u001b[0m\u001b[1;33m\u001b[0m\u001b[0m\n",
      "\u001b[1;32m~\\anaconda3\\lib\\site-packages\\pandas\\core\\frame.py\u001b[0m in \u001b[0;36m__getitem__\u001b[1;34m(self, key)\u001b[0m\n\u001b[0;32m   3022\u001b[0m             \u001b[1;32mif\u001b[0m \u001b[0mself\u001b[0m\u001b[1;33m.\u001b[0m\u001b[0mcolumns\u001b[0m\u001b[1;33m.\u001b[0m\u001b[0mnlevels\u001b[0m \u001b[1;33m>\u001b[0m \u001b[1;36m1\u001b[0m\u001b[1;33m:\u001b[0m\u001b[1;33m\u001b[0m\u001b[1;33m\u001b[0m\u001b[0m\n\u001b[0;32m   3023\u001b[0m                 \u001b[1;32mreturn\u001b[0m \u001b[0mself\u001b[0m\u001b[1;33m.\u001b[0m\u001b[0m_getitem_multilevel\u001b[0m\u001b[1;33m(\u001b[0m\u001b[0mkey\u001b[0m\u001b[1;33m)\u001b[0m\u001b[1;33m\u001b[0m\u001b[1;33m\u001b[0m\u001b[0m\n\u001b[1;32m-> 3024\u001b[1;33m             \u001b[0mindexer\u001b[0m \u001b[1;33m=\u001b[0m \u001b[0mself\u001b[0m\u001b[1;33m.\u001b[0m\u001b[0mcolumns\u001b[0m\u001b[1;33m.\u001b[0m\u001b[0mget_loc\u001b[0m\u001b[1;33m(\u001b[0m\u001b[0mkey\u001b[0m\u001b[1;33m)\u001b[0m\u001b[1;33m\u001b[0m\u001b[1;33m\u001b[0m\u001b[0m\n\u001b[0m\u001b[0;32m   3025\u001b[0m             \u001b[1;32mif\u001b[0m \u001b[0mis_integer\u001b[0m\u001b[1;33m(\u001b[0m\u001b[0mindexer\u001b[0m\u001b[1;33m)\u001b[0m\u001b[1;33m:\u001b[0m\u001b[1;33m\u001b[0m\u001b[1;33m\u001b[0m\u001b[0m\n\u001b[0;32m   3026\u001b[0m                 \u001b[0mindexer\u001b[0m \u001b[1;33m=\u001b[0m \u001b[1;33m[\u001b[0m\u001b[0mindexer\u001b[0m\u001b[1;33m]\u001b[0m\u001b[1;33m\u001b[0m\u001b[1;33m\u001b[0m\u001b[0m\n",
      "\u001b[1;32m~\\anaconda3\\lib\\site-packages\\pandas\\core\\indexes\\base.py\u001b[0m in \u001b[0;36mget_loc\u001b[1;34m(self, key, method, tolerance)\u001b[0m\n\u001b[0;32m   3080\u001b[0m                 \u001b[1;32mreturn\u001b[0m \u001b[0mself\u001b[0m\u001b[1;33m.\u001b[0m\u001b[0m_engine\u001b[0m\u001b[1;33m.\u001b[0m\u001b[0mget_loc\u001b[0m\u001b[1;33m(\u001b[0m\u001b[0mcasted_key\u001b[0m\u001b[1;33m)\u001b[0m\u001b[1;33m\u001b[0m\u001b[1;33m\u001b[0m\u001b[0m\n\u001b[0;32m   3081\u001b[0m             \u001b[1;32mexcept\u001b[0m \u001b[0mKeyError\u001b[0m \u001b[1;32mas\u001b[0m \u001b[0merr\u001b[0m\u001b[1;33m:\u001b[0m\u001b[1;33m\u001b[0m\u001b[1;33m\u001b[0m\u001b[0m\n\u001b[1;32m-> 3082\u001b[1;33m                 \u001b[1;32mraise\u001b[0m \u001b[0mKeyError\u001b[0m\u001b[1;33m(\u001b[0m\u001b[0mkey\u001b[0m\u001b[1;33m)\u001b[0m \u001b[1;32mfrom\u001b[0m \u001b[0merr\u001b[0m\u001b[1;33m\u001b[0m\u001b[1;33m\u001b[0m\u001b[0m\n\u001b[0m\u001b[0;32m   3083\u001b[0m \u001b[1;33m\u001b[0m\u001b[0m\n\u001b[0;32m   3084\u001b[0m         \u001b[1;32mif\u001b[0m \u001b[0mtolerance\u001b[0m \u001b[1;32mis\u001b[0m \u001b[1;32mnot\u001b[0m \u001b[1;32mNone\u001b[0m\u001b[1;33m:\u001b[0m\u001b[1;33m\u001b[0m\u001b[1;33m\u001b[0m\u001b[0m\n",
      "\u001b[1;31mKeyError\u001b[0m: 'weather_condition_Light Snow and Sleet / Windy'"
     ]
    }
   ],
   "source": [
    "#applying mrclean\n",
    "atl_df = mrclean(atl_df)\n",
    "atl_df"
   ]
  },
  {
   "cell_type": "code",
   "execution_count": null,
   "id": "ece0b804-da8a-430e-9bc2-fa7dc88eefe6",
   "metadata": {},
   "outputs": [],
   "source": [
    "atl_df.isna().sum().sort_values(ascending = False)"
   ]
  },
  {
   "cell_type": "code",
   "execution_count": null,
   "id": "04889c05-a329-4bdb-9361-b5254ceabeb9",
   "metadata": {},
   "outputs": [],
   "source": [
    "#saving new, cleaned dataframe\n",
    "atl_df.to_csv('../data/atl_df_cleaned.csv', index = False)"
   ]
  },
  {
   "cell_type": "markdown",
   "id": "ea06deca-166e-47b4-98a6-9274aa236d80",
   "metadata": {},
   "source": [
    "- Boston"
   ]
  },
  {
   "cell_type": "code",
   "execution_count": null,
   "id": "e6f142b9-3d3c-4964-b04c-2b664ebf506b",
   "metadata": {},
   "outputs": [],
   "source": [
    "#reading in Boston\n",
    "bos_df = pd.read_csv('../data/bos_accidents.csv')"
   ]
  },
  {
   "cell_type": "code",
   "execution_count": null,
   "id": "3af6f6a4-2310-42ce-8278-9e7d32b01d53",
   "metadata": {},
   "outputs": [],
   "source": [
    "bos_df.head(3)"
   ]
  },
  {
   "cell_type": "code",
   "execution_count": null,
   "id": "e62387be-3194-4f31-9ee5-6fbae6f9cf9f",
   "metadata": {},
   "outputs": [],
   "source": [
    "bos_df.shape"
   ]
  },
  {
   "cell_type": "code",
   "execution_count": null,
   "id": "80e36bb8-3a48-48d2-a5df-5bb2317455a6",
   "metadata": {},
   "outputs": [],
   "source": [
    "bos_df.info()"
   ]
  },
  {
   "cell_type": "code",
   "execution_count": null,
   "id": "34a41009-86a8-4a89-8372-c9dbbcfbc566",
   "metadata": {},
   "outputs": [],
   "source": [
    "bos_df.isna().sum().sort_values(ascending = False)[0:12]"
   ]
  },
  {
   "cell_type": "code",
   "execution_count": null,
   "id": "d00efae5-493f-430d-8b41-0c3a77d7ffc3",
   "metadata": {},
   "outputs": [],
   "source": [
    "#applying mrclean\n",
    "bos_df = mrclean(bos_df)\n",
    "bos_df"
   ]
  },
  {
   "cell_type": "code",
   "execution_count": null,
   "id": "6b158e88-81c8-4c05-89a0-a251012bcf14",
   "metadata": {},
   "outputs": [],
   "source": [
    "bos_df.isna().sum().sort_values(ascending = False)"
   ]
  },
  {
   "cell_type": "code",
   "execution_count": null,
   "id": "a6038643-ea20-4b81-8892-7de28d3f3e38",
   "metadata": {},
   "outputs": [],
   "source": [
    "#saving new, cleaned dataframe\n",
    "bos_df.to_csv('../data/bos_df_cleaned.csv', index = False)"
   ]
  },
  {
   "cell_type": "markdown",
   "id": "f47335f6-5641-408e-b997-5c2dbdfad5e5",
   "metadata": {},
   "source": [
    "- Denver"
   ]
  },
  {
   "cell_type": "code",
   "execution_count": null,
   "id": "66ee907c-8b60-4e7a-aa2a-25768aaa16d5",
   "metadata": {},
   "outputs": [],
   "source": [
    "#reading in Denver\n",
    "dia_df = pd.read_csv('../data/dia_accidents.csv')"
   ]
  },
  {
   "cell_type": "code",
   "execution_count": null,
   "id": "34b664d0-c2fb-486f-9c5c-f54fb5e0e613",
   "metadata": {},
   "outputs": [],
   "source": [
    "dia_df.head()"
   ]
  },
  {
   "cell_type": "code",
   "execution_count": null,
   "id": "399cd60c-8be2-4185-a78a-ad6b0a28e561",
   "metadata": {},
   "outputs": [],
   "source": [
    "dia_df.shape"
   ]
  },
  {
   "cell_type": "code",
   "execution_count": null,
   "id": "272b5d49-bbd1-4612-ab83-a291ac499066",
   "metadata": {},
   "outputs": [],
   "source": [
    "dia_df.info()"
   ]
  },
  {
   "cell_type": "code",
   "execution_count": null,
   "id": "fa93fc39-1965-42ae-8522-d0a8b7b89348",
   "metadata": {},
   "outputs": [],
   "source": [
    "dia_df.isna().sum().sort_values(ascending = False)[0:20]"
   ]
  },
  {
   "cell_type": "code",
   "execution_count": null,
   "id": "a9cc37fc-a941-40b7-915c-e47c25875843",
   "metadata": {},
   "outputs": [],
   "source": [
    "#applying mrclean\n",
    "dia_df = mrclean(dia_df)\n",
    "dia_df"
   ]
  },
  {
   "cell_type": "code",
   "execution_count": null,
   "id": "a2bf3f0d-5998-4685-ae91-204691fcbf45",
   "metadata": {},
   "outputs": [],
   "source": [
    "dia_df.isna().sum().sort_values(ascending = False)"
   ]
  },
  {
   "cell_type": "code",
   "execution_count": null,
   "id": "8709644d-203b-4b5d-8d66-cd6552ec0248",
   "metadata": {},
   "outputs": [],
   "source": [
    "#saving new, cleaned dataframe\n",
    "dia_df.to_csv('../data/dia_df_cleaned.csv', index = False)"
   ]
  },
  {
   "cell_type": "code",
   "execution_count": null,
   "id": "3ad589ef-e749-41bf-b9a1-f52a2aa1d6a8",
   "metadata": {},
   "outputs": [],
   "source": []
  }
 ],
 "metadata": {
  "kernelspec": {
   "display_name": "Python 3",
   "language": "python",
   "name": "python3"
  },
  "language_info": {
   "codemirror_mode": {
    "name": "ipython",
    "version": 3
   },
   "file_extension": ".py",
   "mimetype": "text/x-python",
   "name": "python",
   "nbconvert_exporter": "python",
   "pygments_lexer": "ipython3",
   "version": "3.8.8"
  }
 },
 "nbformat": 4,
 "nbformat_minor": 5
}
