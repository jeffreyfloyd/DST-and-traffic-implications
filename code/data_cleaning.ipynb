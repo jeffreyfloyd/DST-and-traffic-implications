{
 "cells": [
  {
   "cell_type": "markdown",
   "id": "24c19e60-65a7-4f3f-bce6-f195a9c7b553",
   "metadata": {},
   "source": [
    "**Imports**"
   ]
  },
  {
   "cell_type": "code",
   "execution_count": 1,
   "id": "67d48770-15da-43ba-82b6-fc4fa25c5e6a",
   "metadata": {},
   "outputs": [],
   "source": [
    "import pandas as pd\n",
    "import numpy as np\n",
    "import seaborn as sns\n",
    "import matplotlib.pyplot as plt"
   ]
  },
  {
   "cell_type": "markdown",
   "id": "a0677675-6789-4e7b-9d6f-4dc6102977eb",
   "metadata": {},
   "source": [
    "### Chicago ###"
   ]
  },
  {
   "cell_type": "markdown",
   "id": "64962058-06de-4975-ace2-52ed4217f7d4",
   "metadata": {},
   "source": [
    "**Reading In Data**"
   ]
  },
  {
   "cell_type": "code",
   "execution_count": 2,
   "id": "b8e8ac6e-061d-4d7e-b46b-ec5b1770d4d9",
   "metadata": {},
   "outputs": [],
   "source": [
    "chi_df = pd.read_csv('./working_data_DEL_LATER/chi_accidents.csv')"
   ]
  },
  {
   "cell_type": "code",
   "execution_count": 3,
   "id": "d2ce5e11-5507-4fb6-a16a-ddab5eb8bbd3",
   "metadata": {},
   "outputs": [
    {
     "data": {
      "text/html": [
       "<div>\n",
       "<style scoped>\n",
       "    .dataframe tbody tr th:only-of-type {\n",
       "        vertical-align: middle;\n",
       "    }\n",
       "\n",
       "    .dataframe tbody tr th {\n",
       "        vertical-align: top;\n",
       "    }\n",
       "\n",
       "    .dataframe thead th {\n",
       "        text-align: right;\n",
       "    }\n",
       "</style>\n",
       "<table border=\"1\" class=\"dataframe\">\n",
       "  <thead>\n",
       "    <tr style=\"text-align: right;\">\n",
       "      <th></th>\n",
       "      <th>id</th>\n",
       "      <th>severity</th>\n",
       "      <th>start_time</th>\n",
       "      <th>end_time</th>\n",
       "      <th>start_lat</th>\n",
       "      <th>start_lng</th>\n",
       "      <th>end_lat</th>\n",
       "      <th>end_lng</th>\n",
       "      <th>distance(mi)</th>\n",
       "      <th>description</th>\n",
       "      <th>...</th>\n",
       "      <th>roundabout</th>\n",
       "      <th>station</th>\n",
       "      <th>stop</th>\n",
       "      <th>traffic_calming</th>\n",
       "      <th>traffic_signal</th>\n",
       "      <th>turning_loop</th>\n",
       "      <th>sunrise_sunset</th>\n",
       "      <th>civil_twilight</th>\n",
       "      <th>nautical_twilight</th>\n",
       "      <th>astronomical_twilight</th>\n",
       "    </tr>\n",
       "  </thead>\n",
       "  <tbody>\n",
       "    <tr>\n",
       "      <th>0</th>\n",
       "      <td>A-2749141</td>\n",
       "      <td>2</td>\n",
       "      <td>2016-11-30 14:46:48</td>\n",
       "      <td>2016-11-30 20:46:48</td>\n",
       "      <td>42.305960</td>\n",
       "      <td>-87.960150</td>\n",
       "      <td>42.306916</td>\n",
       "      <td>-87.960918</td>\n",
       "      <td>0.077</td>\n",
       "      <td>Between IL-137/Buckley Rd/Peterson Rd and IL-1...</td>\n",
       "      <td>...</td>\n",
       "      <td>False</td>\n",
       "      <td>False</td>\n",
       "      <td>False</td>\n",
       "      <td>False</td>\n",
       "      <td>True</td>\n",
       "      <td>False</td>\n",
       "      <td>Day</td>\n",
       "      <td>Day</td>\n",
       "      <td>Day</td>\n",
       "      <td>Day</td>\n",
       "    </tr>\n",
       "    <tr>\n",
       "      <th>1</th>\n",
       "      <td>A-2749152</td>\n",
       "      <td>2</td>\n",
       "      <td>2016-11-30 14:58:59</td>\n",
       "      <td>2016-11-30 20:58:59</td>\n",
       "      <td>42.175870</td>\n",
       "      <td>-88.135770</td>\n",
       "      <td>42.174620</td>\n",
       "      <td>-88.135794</td>\n",
       "      <td>0.086</td>\n",
       "      <td>At US-14/Northwest Hwy - Accident.</td>\n",
       "      <td>...</td>\n",
       "      <td>False</td>\n",
       "      <td>False</td>\n",
       "      <td>False</td>\n",
       "      <td>False</td>\n",
       "      <td>True</td>\n",
       "      <td>False</td>\n",
       "      <td>Day</td>\n",
       "      <td>Day</td>\n",
       "      <td>Day</td>\n",
       "      <td>Day</td>\n",
       "    </tr>\n",
       "    <tr>\n",
       "      <th>2</th>\n",
       "      <td>A-2749158</td>\n",
       "      <td>3</td>\n",
       "      <td>2016-11-30 15:14:24</td>\n",
       "      <td>2016-11-30 21:29:48</td>\n",
       "      <td>42.175897</td>\n",
       "      <td>-88.135769</td>\n",
       "      <td>42.174612</td>\n",
       "      <td>-88.135794</td>\n",
       "      <td>0.089</td>\n",
       "      <td>Between IL-22 and US-14/Northwest Hwy - Accident.</td>\n",
       "      <td>...</td>\n",
       "      <td>False</td>\n",
       "      <td>False</td>\n",
       "      <td>False</td>\n",
       "      <td>False</td>\n",
       "      <td>True</td>\n",
       "      <td>False</td>\n",
       "      <td>Day</td>\n",
       "      <td>Day</td>\n",
       "      <td>Day</td>\n",
       "      <td>Day</td>\n",
       "    </tr>\n",
       "  </tbody>\n",
       "</table>\n",
       "<p>3 rows × 47 columns</p>\n",
       "</div>"
      ],
      "text/plain": [
       "          id  severity           start_time             end_time  start_lat  \\\n",
       "0  A-2749141         2  2016-11-30 14:46:48  2016-11-30 20:46:48  42.305960   \n",
       "1  A-2749152         2  2016-11-30 14:58:59  2016-11-30 20:58:59  42.175870   \n",
       "2  A-2749158         3  2016-11-30 15:14:24  2016-11-30 21:29:48  42.175897   \n",
       "\n",
       "   start_lng    end_lat    end_lng  distance(mi)  \\\n",
       "0 -87.960150  42.306916 -87.960918         0.077   \n",
       "1 -88.135770  42.174620 -88.135794         0.086   \n",
       "2 -88.135769  42.174612 -88.135794         0.089   \n",
       "\n",
       "                                         description  ...  roundabout station  \\\n",
       "0  Between IL-137/Buckley Rd/Peterson Rd and IL-1...  ...       False   False   \n",
       "1                 At US-14/Northwest Hwy - Accident.  ...       False   False   \n",
       "2  Between IL-22 and US-14/Northwest Hwy - Accident.  ...       False   False   \n",
       "\n",
       "    stop traffic_calming traffic_signal turning_loop sunrise_sunset  \\\n",
       "0  False           False           True        False            Day   \n",
       "1  False           False           True        False            Day   \n",
       "2  False           False           True        False            Day   \n",
       "\n",
       "  civil_twilight nautical_twilight astronomical_twilight  \n",
       "0            Day               Day                   Day  \n",
       "1            Day               Day                   Day  \n",
       "2            Day               Day                   Day  \n",
       "\n",
       "[3 rows x 47 columns]"
      ]
     },
     "execution_count": 3,
     "metadata": {},
     "output_type": "execute_result"
    }
   ],
   "source": [
    "chi_df.head(3)"
   ]
  },
  {
   "cell_type": "code",
   "execution_count": 4,
   "id": "39b26c16-bb8e-4cdb-b1c5-33857c77a2d0",
   "metadata": {},
   "outputs": [
    {
     "data": {
      "text/plain": [
       "Index(['id', 'severity', 'start_time', 'end_time', 'start_lat', 'start_lng',\n",
       "       'end_lat', 'end_lng', 'distance(mi)', 'description', 'number', 'street',\n",
       "       'side', 'city', 'county', 'state', 'zipcode', 'country', 'timezone',\n",
       "       'airport_code', 'weather_timestamp', 'temperature(f)', 'wind_chill(f)',\n",
       "       'humidity(%)', 'pressure(in)', 'visibility(mi)', 'wind_direction',\n",
       "       'wind_speed(mph)', 'precipitation(in)', 'weather_condition', 'amenity',\n",
       "       'bump', 'crossing', 'give_way', 'junction', 'no_exit', 'railway',\n",
       "       'roundabout', 'station', 'stop', 'traffic_calming', 'traffic_signal',\n",
       "       'turning_loop', 'sunrise_sunset', 'civil_twilight', 'nautical_twilight',\n",
       "       'astronomical_twilight'],\n",
       "      dtype='object')"
      ]
     },
     "execution_count": 4,
     "metadata": {},
     "output_type": "execute_result"
    }
   ],
   "source": [
    "chi_df.columns"
   ]
  },
  {
   "cell_type": "code",
   "execution_count": 5,
   "id": "834b5a94-2256-41f8-8bad-831024de047d",
   "metadata": {},
   "outputs": [
    {
     "data": {
      "text/plain": [
       "(42472, 47)"
      ]
     },
     "execution_count": 5,
     "metadata": {},
     "output_type": "execute_result"
    }
   ],
   "source": [
    "chi_df.shape"
   ]
  },
  {
   "cell_type": "code",
   "execution_count": 6,
   "id": "1e197542-3dcc-44ec-a72a-268cd86008c4",
   "metadata": {},
   "outputs": [
    {
     "name": "stdout",
     "output_type": "stream",
     "text": [
      "<class 'pandas.core.frame.DataFrame'>\n",
      "RangeIndex: 42472 entries, 0 to 42471\n",
      "Data columns (total 47 columns):\n",
      " #   Column                 Non-Null Count  Dtype  \n",
      "---  ------                 --------------  -----  \n",
      " 0   id                     42472 non-null  object \n",
      " 1   severity               42472 non-null  int64  \n",
      " 2   start_time             42472 non-null  object \n",
      " 3   end_time               42472 non-null  object \n",
      " 4   start_lat              42472 non-null  float64\n",
      " 5   start_lng              42472 non-null  float64\n",
      " 6   end_lat                42472 non-null  float64\n",
      " 7   end_lng                42472 non-null  float64\n",
      " 8   distance(mi)           42472 non-null  float64\n",
      " 9   description            42472 non-null  object \n",
      " 10  number                 15879 non-null  float64\n",
      " 11  street                 42472 non-null  object \n",
      " 12  side                   42472 non-null  object \n",
      " 13  city                   42471 non-null  object \n",
      " 14  county                 42472 non-null  object \n",
      " 15  state                  42472 non-null  object \n",
      " 16  zipcode                42472 non-null  object \n",
      " 17  country                42472 non-null  object \n",
      " 18  timezone               42470 non-null  object \n",
      " 19  airport_code           42470 non-null  object \n",
      " 20  weather_timestamp      42408 non-null  object \n",
      " 21  temperature(f)         42353 non-null  float64\n",
      " 22  wind_chill(f)          26140 non-null  float64\n",
      " 23  humidity(%)            42228 non-null  float64\n",
      " 24  pressure(in)           42404 non-null  float64\n",
      " 25  visibility(mi)         42352 non-null  float64\n",
      " 26  wind_direction         42162 non-null  object \n",
      " 27  wind_speed(mph)        40448 non-null  float64\n",
      " 28  precipitation(in)      19343 non-null  float64\n",
      " 29  weather_condition      42356 non-null  object \n",
      " 30  amenity                42472 non-null  bool   \n",
      " 31  bump                   42472 non-null  bool   \n",
      " 32  crossing               42472 non-null  bool   \n",
      " 33  give_way               42472 non-null  bool   \n",
      " 34  junction               42472 non-null  bool   \n",
      " 35  no_exit                42472 non-null  bool   \n",
      " 36  railway                42472 non-null  bool   \n",
      " 37  roundabout             42472 non-null  bool   \n",
      " 38  station                42472 non-null  bool   \n",
      " 39  stop                   42472 non-null  bool   \n",
      " 40  traffic_calming        42472 non-null  bool   \n",
      " 41  traffic_signal         42472 non-null  bool   \n",
      " 42  turning_loop           42472 non-null  bool   \n",
      " 43  sunrise_sunset         42471 non-null  object \n",
      " 44  civil_twilight         42471 non-null  object \n",
      " 45  nautical_twilight      42471 non-null  object \n",
      " 46  astronomical_twilight  42471 non-null  object \n",
      "dtypes: bool(13), float64(13), int64(1), object(20)\n",
      "memory usage: 11.5+ MB\n"
     ]
    }
   ],
   "source": [
    "chi_df.info()"
   ]
  },
  {
   "cell_type": "code",
   "execution_count": 7,
   "id": "5de06238-32db-4771-90ae-aa90c2cb2004",
   "metadata": {},
   "outputs": [],
   "source": [
    "chi_df.drop(columns = 'id', inplace = True)"
   ]
  },
  {
   "cell_type": "markdown",
   "id": "88fe51e9-c2bc-4d2a-b6bf-f5f04dbc3f09",
   "metadata": {},
   "source": [
    "**Addressing Null Counts**"
   ]
  },
  {
   "cell_type": "code",
   "execution_count": 8,
   "id": "8ec47063-d6dc-4c0e-b6c4-9c7ac557cf3d",
   "metadata": {
    "tags": []
   },
   "outputs": [
    {
     "data": {
      "text/plain": [
       "number                   26593\n",
       "precipitation(in)        23129\n",
       "wind_chill(f)            16332\n",
       "wind_speed(mph)           2024\n",
       "wind_direction             310\n",
       "humidity(%)                244\n",
       "visibility(mi)             120\n",
       "temperature(f)             119\n",
       "weather_condition          116\n",
       "pressure(in)                68\n",
       "weather_timestamp           64\n",
       "timezone                     2\n",
       "airport_code                 2\n",
       "nautical_twilight            1\n",
       "civil_twilight               1\n",
       "sunrise_sunset               1\n",
       "astronomical_twilight        1\n",
       "city                         1\n",
       "country                      0\n",
       "give_way                     0\n",
       "dtype: int64"
      ]
     },
     "execution_count": 8,
     "metadata": {},
     "output_type": "execute_result"
    }
   ],
   "source": [
    "chi_df.isna().sum().sort_values(ascending = False)[:20]"
   ]
  },
  {
   "cell_type": "code",
   "execution_count": 9,
   "id": "76e4650d-edc0-4dfd-9470-5e12e061bd23",
   "metadata": {},
   "outputs": [
    {
     "data": {
      "text/html": [
       "<div>\n",
       "<style scoped>\n",
       "    .dataframe tbody tr th:only-of-type {\n",
       "        vertical-align: middle;\n",
       "    }\n",
       "\n",
       "    .dataframe tbody tr th {\n",
       "        vertical-align: top;\n",
       "    }\n",
       "\n",
       "    .dataframe thead th {\n",
       "        text-align: right;\n",
       "    }\n",
       "</style>\n",
       "<table border=\"1\" class=\"dataframe\">\n",
       "  <thead>\n",
       "    <tr style=\"text-align: right;\">\n",
       "      <th></th>\n",
       "      <th>number</th>\n",
       "    </tr>\n",
       "  </thead>\n",
       "  <tbody>\n",
       "    <tr>\n",
       "      <th>0</th>\n",
       "      <td>NaN</td>\n",
       "    </tr>\n",
       "    <tr>\n",
       "      <th>1</th>\n",
       "      <td>21500.0</td>\n",
       "    </tr>\n",
       "    <tr>\n",
       "      <th>2</th>\n",
       "      <td>21501.0</td>\n",
       "    </tr>\n",
       "    <tr>\n",
       "      <th>3</th>\n",
       "      <td>1194.0</td>\n",
       "    </tr>\n",
       "    <tr>\n",
       "      <th>4</th>\n",
       "      <td>7899.0</td>\n",
       "    </tr>\n",
       "    <tr>\n",
       "      <th>...</th>\n",
       "      <td>...</td>\n",
       "    </tr>\n",
       "    <tr>\n",
       "      <th>42467</th>\n",
       "      <td>NaN</td>\n",
       "    </tr>\n",
       "    <tr>\n",
       "      <th>42468</th>\n",
       "      <td>NaN</td>\n",
       "    </tr>\n",
       "    <tr>\n",
       "      <th>42469</th>\n",
       "      <td>3799.0</td>\n",
       "    </tr>\n",
       "    <tr>\n",
       "      <th>42470</th>\n",
       "      <td>NaN</td>\n",
       "    </tr>\n",
       "    <tr>\n",
       "      <th>42471</th>\n",
       "      <td>6110.0</td>\n",
       "    </tr>\n",
       "  </tbody>\n",
       "</table>\n",
       "<p>42472 rows × 1 columns</p>\n",
       "</div>"
      ],
      "text/plain": [
       "        number\n",
       "0          NaN\n",
       "1      21500.0\n",
       "2      21501.0\n",
       "3       1194.0\n",
       "4       7899.0\n",
       "...        ...\n",
       "42467      NaN\n",
       "42468      NaN\n",
       "42469   3799.0\n",
       "42470      NaN\n",
       "42471   6110.0\n",
       "\n",
       "[42472 rows x 1 columns]"
      ]
     },
     "execution_count": 9,
     "metadata": {},
     "output_type": "execute_result"
    }
   ],
   "source": [
    "chi_df[['number']]"
   ]
  },
  {
   "cell_type": "code",
   "execution_count": 10,
   "id": "4d3d0ee0-8b71-4825-b622-e1d48ab767d3",
   "metadata": {},
   "outputs": [],
   "source": [
    "#filling nulls in 'number' with 0\n",
    "chi_df['number'].fillna(0, inplace = True)"
   ]
  },
  {
   "cell_type": "code",
   "execution_count": 11,
   "id": "bd490fc9-b730-45ff-801d-687f1b47c235",
   "metadata": {},
   "outputs": [
    {
     "data": {
      "text/plain": [
       "precipitation(in)\n",
       "0.00                 16032\n",
       "0.01                  1012\n",
       "0.02                   483\n",
       "0.03                   312\n",
       "0.04                   234\n",
       "                     ...  \n",
       "0.48                     1\n",
       "0.46                     1\n",
       "0.43                     1\n",
       "0.37                     1\n",
       "1.95                     1\n",
       "Length: 78, dtype: int64"
      ]
     },
     "execution_count": 11,
     "metadata": {},
     "output_type": "execute_result"
    }
   ],
   "source": [
    "#precipitation(in)\n",
    "chi_df[['precipitation(in)']].value_counts()"
   ]
  },
  {
   "cell_type": "code",
   "execution_count": 12,
   "id": "0985e7f4-a29b-4066-baab-3a1883ed7801",
   "metadata": {},
   "outputs": [
    {
     "data": {
      "text/plain": [
       "precipitation(in)    0.011642\n",
       "dtype: float64"
      ]
     },
     "execution_count": 12,
     "metadata": {},
     "output_type": "execute_result"
    }
   ],
   "source": [
    "chi_df[['precipitation(in)']].mean()"
   ]
  },
  {
   "cell_type": "code",
   "execution_count": 13,
   "id": "e0be6063-234c-4989-93b7-566548c9ec62",
   "metadata": {},
   "outputs": [
    {
     "data": {
      "text/plain": [
       "precipitation(in)    0.0\n",
       "dtype: float64"
      ]
     },
     "execution_count": 13,
     "metadata": {},
     "output_type": "execute_result"
    }
   ],
   "source": [
    "chi_df[['precipitation(in)']].median()"
   ]
  },
  {
   "cell_type": "code",
   "execution_count": 14,
   "id": "b35d11c7-882d-476c-955c-0725a7b5a320",
   "metadata": {},
   "outputs": [
    {
     "data": {
      "image/png": "[encoded data removed]",
      "text/plain": [
       "<Figure size 576x288 with 1 Axes>"
      ]
     },
     "metadata": {
      "needs_background": "light"
     },
     "output_type": "display_data"
    }
   ],
   "source": [
    "plt.figure(figsize = (8, 4))\n",
    "sns.histplot(chi_df[['precipitation(in)']], bins = 100);"
   ]
  },
  {
   "cell_type": "code",
   "execution_count": 15,
   "id": "6999279a-61ef-4c82-b1a8-c656c53b59bd",
   "metadata": {},
   "outputs": [
    {
     "data": {
      "image/png": "[encoded data removed]",
      "text/plain": [
       "<Figure size 576x288 with 1 Axes>"
      ]
     },
     "metadata": {
      "needs_background": "light"
     },
     "output_type": "display_data"
    }
   ],
   "source": [
    "plt.figure(figsize = (8, 4))\n",
    "sns.histplot(chi_df[['precipitation(in)']].value_counts().sort_index(), bins = 100);"
   ]
  },
  {
   "cell_type": "code",
   "execution_count": 16,
   "id": "b23c28d9-3a05-40d6-9527-882e302f914b",
   "metadata": {},
   "outputs": [],
   "source": [
    "chi_df['precipitation(in)'].fillna(0.00, inplace = True)"
   ]
  },
  {
   "cell_type": "code",
   "execution_count": 17,
   "id": "4b593143-a650-415d-821d-3f8158d066aa",
   "metadata": {},
   "outputs": [
    {
     "data": {
      "text/plain": [
       "wind_chill(f)\n",
       " 73.0            342\n",
       " 31.0            336\n",
       " 30.0            315\n",
       " 72.0            304\n",
       " 75.0            295\n",
       "                ... \n",
       " 42.1              1\n",
       "-18.3              1\n",
       "-2.1               1\n",
       "-3.1               1\n",
       "-51.3              1\n",
       "Length: 694, dtype: int64"
      ]
     },
     "execution_count": 17,
     "metadata": {},
     "output_type": "execute_result"
    }
   ],
   "source": [
    "#wind_chill(f)\n",
    "chi_df[['wind_chill(f)']].value_counts()"
   ]
  },
  {
   "cell_type": "code",
   "execution_count": 18,
   "id": "810e8f6e-f969-44c3-981b-6560fc46ff73",
   "metadata": {},
   "outputs": [
    {
     "data": {
      "text/plain": [
       "wind_chill(f)\n",
       "-51.3             1\n",
       "-50.5             1\n",
       "-50.1             1\n",
       "-48.5             1\n",
       "-47.7             1\n",
       "                 ..\n",
       " 91.0            32\n",
       " 92.0            35\n",
       " 93.0            29\n",
       " 94.0            26\n",
       " 95.0             4\n",
       "Length: 694, dtype: int64"
      ]
     },
     "execution_count": 18,
     "metadata": {},
     "output_type": "execute_result"
    }
   ],
   "source": [
    "chi_df[['wind_chill(f)']].value_counts().sort_index()"
   ]
  },
  {
   "cell_type": "code",
   "execution_count": 19,
   "id": "9e1ae6fb-e8f8-46fe-b6b6-098795351aae",
   "metadata": {},
   "outputs": [
    {
     "data": {
      "text/plain": [
       "wind_chill(f)    39.650593\n",
       "dtype: float64"
      ]
     },
     "execution_count": 19,
     "metadata": {},
     "output_type": "execute_result"
    }
   ],
   "source": [
    "chi_df[['wind_chill(f)']].mean()"
   ]
  },
  {
   "cell_type": "code",
   "execution_count": 20,
   "id": "4d5eb838-98ca-4ee2-810e-ea450548ef21",
   "metadata": {},
   "outputs": [
    {
     "data": {
      "text/plain": [
       "wind_chill(f)    35.25\n",
       "dtype: float64"
      ]
     },
     "execution_count": 20,
     "metadata": {},
     "output_type": "execute_result"
    }
   ],
   "source": [
    "chi_df[['wind_chill(f)']].median()"
   ]
  },
  {
   "cell_type": "code",
   "execution_count": 21,
   "id": "d8524317-850d-4222-bb05-910831e9aaac",
   "metadata": {},
   "outputs": [
    {
     "data": {
      "image/png": "[encoded data removed]",
      "text/plain": [
       "<Figure size 576x288 with 1 Axes>"
      ]
     },
     "metadata": {
      "needs_background": "light"
     },
     "output_type": "display_data"
    }
   ],
   "source": [
    "plt.figure(figsize = (8, 4))\n",
    "sns.histplot(chi_df[['wind_chill(f)']], bins = 100);"
   ]
  },
  {
   "cell_type": "code",
   "execution_count": 22,
   "id": "3461bf1b-50a9-4f4b-9297-443436dfaeb7",
   "metadata": {},
   "outputs": [
    {
     "data": {
      "image/png": "[encoded data removed]",
      "text/plain": [
       "<Figure size 576x288 with 1 Axes>"
      ]
     },
     "metadata": {
      "needs_background": "light"
     },
     "output_type": "display_data"
    }
   ],
   "source": [
    "plt.figure(figsize = (8, 4))\n",
    "sns.histplot(chi_df[['wind_chill(f)']].value_counts().sort_values(), bins = 100);"
   ]
  },
  {
   "cell_type": "code",
   "execution_count": 23,
   "id": "705d3339-e09a-4617-a383-3d9298974e7b",
   "metadata": {},
   "outputs": [],
   "source": [
    "chi_df['wind_chill(f)'].fillna(35.25, inplace = True)"
   ]
  },
  {
   "cell_type": "code",
   "execution_count": 24,
   "id": "ee6e0ceb-5c77-482b-87c1-66d728a60d14",
   "metadata": {},
   "outputs": [
    {
     "data": {
      "text/plain": [
       "wind_speed(mph)\n",
       "9.2                2718\n",
       "6.9                2522\n",
       "5.8                2260\n",
       "4.6                1903\n",
       "12.7               1764\n",
       "9.0                1373\n",
       "3.5                1349\n",
       "6.0                1276\n",
       "0.0                1079\n",
       "12.0               1072\n",
       "16.1                865\n",
       "14.0                784\n",
       "18.4                505\n",
       "17.0                364\n",
       "18.0                290\n",
       "23.0                241\n",
       "21.9                200\n",
       "22.0                127\n",
       "25.3                 63\n",
       "24.0                 46\n",
       "28.8                 29\n",
       "29.0                 21\n",
       "27.6                 18\n",
       "30.0                 11\n",
       "31.1                  5\n",
       "32.2                  4\n",
       "32.0                  2\n",
       "36.8                  2\n",
       "42.6                  2\n",
       "61.0                  1\n",
       "dtype: int64"
      ]
     },
     "execution_count": 24,
     "metadata": {},
     "output_type": "execute_result"
    }
   ],
   "source": [
    "#wind_speed(mph)\n",
    "chi_df[['wind_speed(mph)']].value_counts()[0::2]"
   ]
  },
  {
   "cell_type": "code",
   "execution_count": 25,
   "id": "4c27d477-3634-4b1c-8840-b3b2b2010a90",
   "metadata": {},
   "outputs": [
    {
     "data": {
      "text/plain": [
       "wind_speed(mph)\n",
       "0.0                1079\n",
       "3.5                1349\n",
       "5.0                1076\n",
       "6.0                1276\n",
       "7.0                1342\n",
       "8.1                2549\n",
       "9.2                2718\n",
       "10.4               2437\n",
       "12.0               1072\n",
       "13.0                896\n",
       "14.0                784\n",
       "16.0                441\n",
       "17.0                364\n",
       "18.0                290\n",
       "19.6                363\n",
       "20.7                256\n",
       "21.9                200\n",
       "23.0                241\n",
       "24.2                 88\n",
       "25.3                 63\n",
       "26.5                 47\n",
       "28.0                 19\n",
       "29.0                 21\n",
       "30.0                 11\n",
       "31.1                  5\n",
       "32.2                  4\n",
       "34.5                  5\n",
       "36.8                  2\n",
       "39.1                  2\n",
       "61.0                  1\n",
       "dtype: int64"
      ]
     },
     "execution_count": 25,
     "metadata": {},
     "output_type": "execute_result"
    }
   ],
   "source": [
    "chi_df[['wind_speed(mph)']].value_counts().sort_index()[0::2]"
   ]
  },
  {
   "cell_type": "code",
   "execution_count": 26,
   "id": "c5ec1628-dc68-4fe9-96a5-fb4c07eaef77",
   "metadata": {},
   "outputs": [
    {
     "data": {
      "text/plain": [
       "wind_speed(mph)    10.003125\n",
       "dtype: float64"
      ]
     },
     "execution_count": 26,
     "metadata": {},
     "output_type": "execute_result"
    }
   ],
   "source": [
    "chi_df[['wind_speed(mph)']].mean()"
   ]
  },
  {
   "cell_type": "code",
   "execution_count": 27,
   "id": "9065cff3-9023-4bad-9a43-96d6e8132bcc",
   "metadata": {},
   "outputs": [
    {
     "data": {
      "text/plain": [
       "wind_speed(mph)    9.2\n",
       "dtype: float64"
      ]
     },
     "execution_count": 27,
     "metadata": {},
     "output_type": "execute_result"
    }
   ],
   "source": [
    "chi_df[['wind_speed(mph)']].median()"
   ]
  },
  {
   "cell_type": "code",
   "execution_count": 28,
   "id": "e99df94a-aa07-4b61-b050-6bfe3c86f45c",
   "metadata": {},
   "outputs": [
    {
     "data": {
      "image/png": "[encoded data removed]",
      "text/plain": [
       "<Figure size 576x288 with 1 Axes>"
      ]
     },
     "metadata": {
      "needs_background": "light"
     },
     "output_type": "display_data"
    }
   ],
   "source": [
    "plt.figure(figsize = (8, 4))\n",
    "sns.histplot(chi_df[['wind_speed(mph)']], bins = 100);"
   ]
  },
  {
   "cell_type": "code",
   "execution_count": 29,
   "id": "9a2f602d-17b5-4980-abb7-6e6c9b3634fc",
   "metadata": {},
   "outputs": [
    {
     "data": {
      "image/png": "[encoded data removed]",
      "text/plain": [
       "<Figure size 576x288 with 1 Axes>"
      ]
     },
     "metadata": {
      "needs_background": "light"
     },
     "output_type": "display_data"
    }
   ],
   "source": [
    "plt.figure(figsize = (8, 4))\n",
    "sns.histplot(chi_df[['wind_speed(mph)']].value_counts().sort_index(), bins = 100);"
   ]
  },
  {
   "cell_type": "code",
   "execution_count": 30,
   "id": "13c9bb22-dec2-43bf-b5d1-8d096c02fc33",
   "metadata": {},
   "outputs": [],
   "source": [
    "chi_df['wind_speed(mph)'].fillna(9.2, inplace = True)"
   ]
  },
  {
   "cell_type": "code",
   "execution_count": 31,
   "id": "a09a1774-a735-4103-87ed-e8a125556979",
   "metadata": {},
   "outputs": [
    {
     "data": {
      "text/plain": [
       "wind_direction           310\n",
       "humidity(%)              244\n",
       "visibility(mi)           120\n",
       "temperature(f)           119\n",
       "weather_condition        116\n",
       "pressure(in)              68\n",
       "weather_timestamp         64\n",
       "timezone                   2\n",
       "airport_code               2\n",
       "nautical_twilight          1\n",
       "civil_twilight             1\n",
       "sunrise_sunset             1\n",
       "astronomical_twilight      1\n",
       "city                       1\n",
       "county                     0\n",
       "dtype: int64"
      ]
     },
     "execution_count": 31,
     "metadata": {},
     "output_type": "execute_result"
    }
   ],
   "source": [
    "#for frame of reference:\n",
    "chi_df.isna().sum().sort_values(ascending = False)[:15]"
   ]
  },
  {
   "cell_type": "code",
   "execution_count": 32,
   "id": "369136e4-a436-4f3d-b04e-8f6194c769d2",
   "metadata": {},
   "outputs": [
    {
     "data": {
      "text/plain": [
       "wind_direction\n",
       "SSW               3110\n",
       "West              2968\n",
       "WSW               2767\n",
       "SW                2546\n",
       "South             2419\n",
       "WNW               2412\n",
       "NNE               2356\n",
       "NE                2119\n",
       "NW                2036\n",
       "ENE               1979\n",
       "NNW               1699\n",
       "Calm              1658\n",
       "North             1647\n",
       "SSE               1645\n",
       "East              1597\n",
       "SE                1500\n",
       "ESE               1485\n",
       "W                 1295\n",
       "S                 1190\n",
       "E                 1190\n",
       "CALM              1079\n",
       "N                  609\n",
       "Variable           579\n",
       "VAR                277\n",
       "dtype: int64"
      ]
     },
     "execution_count": 32,
     "metadata": {},
     "output_type": "execute_result"
    }
   ],
   "source": [
    "#MESSAGE TO GROUP\n",
    "#MESSAGE TO GROUP\n",
    "#MESSAGE TO GROUP\n",
    "#MESSAGE TO GROUP\n",
    "\n",
    "#I wasn't sure what to do with the 'wind_direction' var\n",
    "#Your input would be appreciated\n",
    "\n",
    "#MESSAGE TO GROUP\n",
    "#MESSAGE TO GROUP\n",
    "#MESSAGE TO GROUP\n",
    "#MESSAGE TO GROUP\n",
    "\n",
    "#wind_direction\n",
    "chi_df[['wind_direction']].value_counts(ascending = False)"
   ]
  },
  {
   "cell_type": "code",
   "execution_count": 33,
   "id": "53b7e80b-daf7-4fa4-8228-572b7e3629c9",
   "metadata": {},
   "outputs": [],
   "source": [
    "#https://stackoverflow.com/questions/44231598/python-pandas-get-dataframe-value-counts-result-as-list\n",
    "chi_df['wind_direction'].value_counts()\n",
    "chi_wind = chi_df['wind_direction'].value_counts()\n",
    "chi_wind_dict = dict(chi_wind)\n",
    "\n",
    "chi_wind_names = chi_wind_dict.keys()\n",
    "chi_wind_values = chi_wind_dict.values()"
   ]
  },
  {
   "cell_type": "code",
   "execution_count": 34,
   "id": "da054d61-0285-4b60-8a6c-3c8e5f3031a5",
   "metadata": {},
   "outputs": [],
   "source": [
    "#Colors for pie charts:\n",
    "#https://stackoverflow.com/questions/21034830/how-can-i-generate-more-colors-on-pie-chart-matplotlib\n",
    "import random\n",
    "import matplotlib.colors as mcolors\n",
    "\n",
    "colors = random.choices(list(mcolors.CSS4_COLORS.values()), k = 25)"
   ]
  },
  {
   "cell_type": "code",
   "execution_count": 35,
   "id": "a29336fb-45d0-4664-bae8-5e4cecea9d75",
   "metadata": {},
   "outputs": [
    {
     "data": {
      "image/png": "[encoded data removed]",
      "text/plain": [
       "<Figure size 720x720 with 1 Axes>"
      ]
     },
     "metadata": {},
     "output_type": "display_data"
    }
   ],
   "source": [
    "#https://www.python-graph-gallery.com/pie-plot-matplotlib-basic\n",
    "plt.rcParams[\"figure.figsize\"] = (10, 10)\n",
    "\n",
    "# Create a pieplot\n",
    "plt.pie(chi_wind_values, labels = chi_wind_names, colors = colors, \n",
    "        labeldistance = 1.1, wedgeprops = { 'linewidth' : 2, 'edgecolor' : 'white' });\n",
    "plt.show();"
   ]
  },
  {
   "cell_type": "code",
   "execution_count": 36,
   "id": "b004eef8-ae65-4ec1-a557-8dd84c4c2eda",
   "metadata": {},
   "outputs": [
    {
     "data": {
      "text/plain": [
       "humidity(%)\n",
       "93.0           1446\n",
       "89.0           1034\n",
       "100.0           945\n",
       "76.0            884\n",
       "61.0            845\n",
       "               ... \n",
       "16.0              4\n",
       "17.0              2\n",
       "13.0              2\n",
       "14.0              1\n",
       "6.0               1\n",
       "Length: 88, dtype: int64"
      ]
     },
     "execution_count": 36,
     "metadata": {},
     "output_type": "execute_result"
    }
   ],
   "source": [
    "#'humidity(%)'\n",
    "chi_df[['humidity(%)']].value_counts()"
   ]
  },
  {
   "cell_type": "code",
   "execution_count": 37,
   "id": "b070d32b-9a2b-472a-a73c-31bda997d6c3",
   "metadata": {},
   "outputs": [
    {
     "data": {
      "text/plain": [
       "humidity(%)\n",
       "6.0              1\n",
       "13.0             2\n",
       "14.0             1\n",
       "16.0             4\n",
       "17.0             2\n",
       "              ... \n",
       "96.0           755\n",
       "97.0           460\n",
       "98.0            66\n",
       "99.0            89\n",
       "100.0          945\n",
       "Length: 88, dtype: int64"
      ]
     },
     "execution_count": 37,
     "metadata": {},
     "output_type": "execute_result"
    }
   ],
   "source": [
    "chi_df[['humidity(%)']].value_counts().sort_index()"
   ]
  },
  {
   "cell_type": "code",
   "execution_count": 38,
   "id": "31430f29-2081-435c-b674-cd104cce5f24",
   "metadata": {},
   "outputs": [
    {
     "data": {
      "text/plain": [
       "humidity(%)    67.334375\n",
       "dtype: float64"
      ]
     },
     "execution_count": 38,
     "metadata": {},
     "output_type": "execute_result"
    }
   ],
   "source": [
    "chi_df[['humidity(%)']].mean()"
   ]
  },
  {
   "cell_type": "code",
   "execution_count": 39,
   "id": "e00fe5b5-8d5f-419e-adb0-5f1ba892a1ea",
   "metadata": {},
   "outputs": [
    {
     "data": {
      "text/plain": [
       "humidity(%)    68.0\n",
       "dtype: float64"
      ]
     },
     "execution_count": 39,
     "metadata": {},
     "output_type": "execute_result"
    }
   ],
   "source": [
    "chi_df[['humidity(%)']].median()"
   ]
  },
  {
   "cell_type": "code",
   "execution_count": 40,
   "id": "0ea5377e-41ee-4d17-a541-61930ff80235",
   "metadata": {},
   "outputs": [
    {
     "data": {
      "image/png": "[encoded data removed]",
      "text/plain": [
       "<Figure size 576x288 with 1 Axes>"
      ]
     },
     "metadata": {
      "needs_background": "light"
     },
     "output_type": "display_data"
    }
   ],
   "source": [
    "plt.figure(figsize = (8, 4))\n",
    "sns.histplot(chi_df[['humidity(%)']], bins = 100);"
   ]
  },
  {
   "cell_type": "code",
   "execution_count": 41,
   "id": "83ffdcff-749e-438b-b93d-be2215967ea7",
   "metadata": {},
   "outputs": [
    {
     "data": {
      "image/png": "[encoded data removed]",
      "text/plain": [
       "<Figure size 576x288 with 1 Axes>"
      ]
     },
     "metadata": {
      "needs_background": "light"
     },
     "output_type": "display_data"
    }
   ],
   "source": [
    "plt.figure(figsize = (8, 4))\n",
    "sns.histplot(chi_df[['humidity(%)']].value_counts().sort_index(), bins = 100);"
   ]
  },
  {
   "cell_type": "code",
   "execution_count": 42,
   "id": "9fdf6b72-59d8-4986-a4f1-18e6bd1e0890",
   "metadata": {},
   "outputs": [],
   "source": [
    "chi_df['humidity(%)'].fillna(68.0, inplace = True)"
   ]
  },
  {
   "cell_type": "code",
   "execution_count": 43,
   "id": "fd6a4f49-c68c-4238-986e-95a13464e03e",
   "metadata": {},
   "outputs": [
    {
     "data": {
      "text/plain": [
       "visibility(mi)\n",
       "10.00             32663\n",
       "9.00               1278\n",
       "8.00                935\n",
       "3.00                795\n",
       "2.00                625\n",
       "2.50                328\n",
       "0.50                199\n",
       "1.20                153\n",
       "0.20                100\n",
       "0.75                 66\n",
       "0.10                 24\n",
       "0.00                 12\n",
       "1.10                  4\n",
       "0.06                  2\n",
       "dtype: int64"
      ]
     },
     "execution_count": 43,
     "metadata": {},
     "output_type": "execute_result"
    }
   ],
   "source": [
    "#'visibility(mi)'\n",
    "chi_df[['visibility(mi)']].value_counts()[0::2]"
   ]
  },
  {
   "cell_type": "code",
   "execution_count": 44,
   "id": "fb7a40ee-23fc-4a7e-8d5c-8219a5306050",
   "metadata": {},
   "outputs": [
    {
     "data": {
      "text/plain": [
       "visibility(mi)\n",
       "0.0                 12\n",
       "0.1                 24\n",
       "0.2                100\n",
       "0.5                199\n",
       "0.8                142\n",
       "1.1                  4\n",
       "1.5                228\n",
       "2.0                625\n",
       "3.0                795\n",
       "5.0               1061\n",
       "7.0               1296\n",
       "9.0               1278\n",
       "12.0                 9\n",
       "20.0                64\n",
       "dtype: int64"
      ]
     },
     "execution_count": 44,
     "metadata": {},
     "output_type": "execute_result"
    }
   ],
   "source": [
    "chi_df[['visibility(mi)']].value_counts().sort_index()[0::2]"
   ]
  },
  {
   "cell_type": "code",
   "execution_count": 45,
   "id": "1c3bac16-aaca-4798-ac1e-47067bf0d80a",
   "metadata": {},
   "outputs": [
    {
     "data": {
      "text/plain": [
       "visibility(mi)    8.896925\n",
       "dtype: float64"
      ]
     },
     "execution_count": 45,
     "metadata": {},
     "output_type": "execute_result"
    }
   ],
   "source": [
    "chi_df[['visibility(mi)']].mean()"
   ]
  },
  {
   "cell_type": "code",
   "execution_count": 46,
   "id": "9e873bcb-814b-4e41-a2c6-dcb4cd0e12c2",
   "metadata": {},
   "outputs": [
    {
     "data": {
      "text/plain": [
       "visibility(mi)    10.0\n",
       "dtype: float64"
      ]
     },
     "execution_count": 46,
     "metadata": {},
     "output_type": "execute_result"
    }
   ],
   "source": [
    "chi_df[['visibility(mi)']].median()"
   ]
  },
  {
   "cell_type": "code",
   "execution_count": 47,
   "id": "f04c9de9-e75e-4758-904c-0c050a6f7796",
   "metadata": {},
   "outputs": [
    {
     "data": {
      "image/png": "[encoded data removed]",
      "text/plain": [
       "<Figure size 576x288 with 1 Axes>"
      ]
     },
     "metadata": {
      "needs_background": "light"
     },
     "output_type": "display_data"
    }
   ],
   "source": [
    "plt.figure(figsize = (8, 4))\n",
    "sns.histplot(chi_df[['visibility(mi)']], bins = 100);"
   ]
  },
  {
   "cell_type": "code",
   "execution_count": 48,
   "id": "0559c711-eda3-4763-9c4e-7ee31bca93cc",
   "metadata": {},
   "outputs": [
    {
     "data": {
      "image/png": "[encoded data removed]",
      "text/plain": [
       "<Figure size 576x288 with 1 Axes>"
      ]
     },
     "metadata": {
      "needs_background": "light"
     },
     "output_type": "display_data"
    }
   ],
   "source": [
    "plt.figure(figsize = (8, 4))\n",
    "sns.histplot(chi_df[['visibility(mi)']].value_counts().sort_index(), bins = 100);"
   ]
  },
  {
   "cell_type": "code",
   "execution_count": 49,
   "id": "8bb46192-af15-4370-ab2c-2dbafc2791a4",
   "metadata": {},
   "outputs": [],
   "source": [
    "chi_df['visibility(mi)'].fillna(10.0, inplace = True)"
   ]
  },
  {
   "cell_type": "code",
   "execution_count": 50,
   "id": "849ef3d4-fe87-432d-b9e4-652414431d2f",
   "metadata": {},
   "outputs": [
    {
     "data": {
      "text/plain": [
       "temperature(f)\n",
       "73.0              814\n",
       "72.0              738\n",
       "32.0              707\n",
       "75.0              695\n",
       "79.0              688\n",
       "                 ... \n",
       "14.7                1\n",
       "14.2                1\n",
       "13.8                1\n",
       "13.3                1\n",
       "168.8               1\n",
       "Length: 558, dtype: int64"
      ]
     },
     "execution_count": 50,
     "metadata": {},
     "output_type": "execute_result"
    }
   ],
   "source": [
    "#temperature(f)\n",
    "chi_df[['temperature(f)']].value_counts()"
   ]
  },
  {
   "cell_type": "code",
   "execution_count": 51,
   "id": "a11f23ff-8d2d-4f55-8792-4268a54ba3df",
   "metadata": {},
   "outputs": [
    {
     "data": {
      "text/plain": [
       "temperature(f)\n",
       "-22.4              1\n",
       "-21.1              1\n",
       "-20.9              4\n",
       "-20.2              1\n",
       "-20.0              2\n",
       "                  ..\n",
       " 93.9             21\n",
       " 94.0             26\n",
       " 95.0             13\n",
       " 96.1              2\n",
       " 168.8             1\n",
       "Length: 558, dtype: int64"
      ]
     },
     "execution_count": 51,
     "metadata": {},
     "output_type": "execute_result"
    }
   ],
   "source": [
    "chi_df[['temperature(f)']].value_counts().sort_index()"
   ]
  },
  {
   "cell_type": "code",
   "execution_count": 52,
   "id": "f4424398-c1a6-4b39-9e1f-6269428333dd",
   "metadata": {},
   "outputs": [
    {
     "data": {
      "text/plain": [
       "temperature(f)    53.024249\n",
       "dtype: float64"
      ]
     },
     "execution_count": 52,
     "metadata": {},
     "output_type": "execute_result"
    }
   ],
   "source": [
    "chi_df[['temperature(f)']].mean()"
   ]
  },
  {
   "cell_type": "code",
   "execution_count": 53,
   "id": "49551763-ecf6-474c-a760-34d4d242590b",
   "metadata": {},
   "outputs": [
    {
     "data": {
      "text/plain": [
       "temperature(f)    53.1\n",
       "dtype: float64"
      ]
     },
     "execution_count": 53,
     "metadata": {},
     "output_type": "execute_result"
    }
   ],
   "source": [
    "chi_df[['temperature(f)']].median()"
   ]
  },
  {
   "cell_type": "code",
   "execution_count": 54,
   "id": "74f5c86d-4572-4b3c-990b-274f448aa1f3",
   "metadata": {},
   "outputs": [
    {
     "data": {
      "image/png": "[encoded data removed]",
      "text/plain": [
       "<Figure size 576x288 with 1 Axes>"
      ]
     },
     "metadata": {
      "needs_background": "light"
     },
     "output_type": "display_data"
    }
   ],
   "source": [
    "plt.figure(figsize = (8, 4))\n",
    "sns.histplot(chi_df[['temperature(f)']], bins = 100);"
   ]
  },
  {
   "cell_type": "code",
   "execution_count": 55,
   "id": "b18e216b-c0f8-4036-bdd0-ff892f832acb",
   "metadata": {},
   "outputs": [
    {
     "data": {
      "image/png": "[encoded data removed]",
      "text/plain": [
       "<Figure size 576x288 with 1 Axes>"
      ]
     },
     "metadata": {
      "needs_background": "light"
     },
     "output_type": "display_data"
    }
   ],
   "source": [
    "plt.figure(figsize = (8, 4))\n",
    "sns.histplot(chi_df[['temperature(f)']].value_counts().sort_index(), bins = 100);"
   ]
  },
  {
   "cell_type": "code",
   "execution_count": 56,
   "id": "67adac36-28e3-4fe2-9c16-7962b9d67cdf",
   "metadata": {},
   "outputs": [],
   "source": [
    "chi_df['temperature(f)'].fillna(53.1, inplace = True)"
   ]
  },
  {
   "cell_type": "code",
   "execution_count": 57,
   "id": "3ac76aea-4a37-450c-a651-ecd69ba5fe0c",
   "metadata": {},
   "outputs": [
    {
     "data": {
      "text/plain": [
       "wind_direction           310\n",
       "weather_condition        116\n",
       "pressure(in)              68\n",
       "weather_timestamp         64\n",
       "airport_code               2\n",
       "timezone                   2\n",
       "city                       1\n",
       "nautical_twilight          1\n",
       "civil_twilight             1\n",
       "sunrise_sunset             1\n",
       "astronomical_twilight      1\n",
       "side                       0\n",
       "station                    0\n",
       "dtype: int64"
      ]
     },
     "execution_count": 57,
     "metadata": {},
     "output_type": "execute_result"
    }
   ],
   "source": [
    "#for frame of reference:\n",
    "chi_df.isna().sum().sort_values(ascending = False)[:13]"
   ]
  },
  {
   "cell_type": "code",
   "execution_count": 58,
   "id": "ebc4bde6-a32a-4de3-9821-b5aa77c6e2ac",
   "metadata": {},
   "outputs": [
    {
     "data": {
      "text/plain": [
       "weather_condition           \n",
       "Clear                           6931\n",
       "Mostly Cloudy                   6876\n",
       "Overcast                        6509\n",
       "Fair                            5160\n",
       "Partly Cloudy                   4574\n",
       "Cloudy                          3447\n",
       "Scattered Clouds                2374\n",
       "Light Rain                      2193\n",
       "Light Snow                      1610\n",
       "Haze                             357\n",
       "Rain                             341\n",
       "Fog                              292\n",
       "Light Drizzle                    242\n",
       "Fair / Windy                     130\n",
       "Mostly Cloudy / Windy            122\n",
       "Cloudy / Windy                   114\n",
       "Snow                             108\n",
       "Light Thunderstorms and Rain     108\n",
       "Heavy Rain                        94\n",
       "Light Rain with Thunder           77\n",
       "T-Storm                           73\n",
       "Wintry Mix                        70\n",
       "Light Freezing Rain               57\n",
       "Thunderstorm                      56\n",
       "Light Rain / Windy                50\n",
       "Thunderstorms and Rain            50\n",
       "Partly Cloudy / Windy             43\n",
       "Heavy Thunderstorms and Rain      42\n",
       "Light Snow / Windy                38\n",
       "Thunder in the Vicinity           37\n",
       "Thunder                           26\n",
       "Heavy T-Storm                     26\n",
       "Drizzle                           23\n",
       "Light Freezing Drizzle            20\n",
       "Mist                              18\n",
       "Heavy Snow                        10\n",
       "Light Ice Pellets                  9\n",
       "Rain / Windy                       8\n",
       "Light Freezing Fog                 6\n",
       "Smoke                              5\n",
       "Heavy Rain / Windy                 4\n",
       "Heavy T-Storm / Windy              3\n",
       "Light Freezing Rain / Windy        3\n",
       "T-Storm / Windy                    2\n",
       "Wintry Mix / Windy                 2\n",
       "N/A Precipitation                  2\n",
       "Light Snow and Sleet / Windy       2\n",
       "Heavy Drizzle                      2\n",
       "Freezing Rain                      2\n",
       "Patches of Fog                     1\n",
       "Snow / Windy                       1\n",
       "Squalls                            1\n",
       "Squalls / Windy                    1\n",
       "Light Thunderstorms and Snow       1\n",
       "Light Rain Showers                 1\n",
       "Light Drizzle / Windy              1\n",
       "Blowing Snow                       1\n",
       "dtype: int64"
      ]
     },
     "execution_count": 58,
     "metadata": {},
     "output_type": "execute_result"
    }
   ],
   "source": [
    "#MESSAGE TO GROUP\n",
    "#MESSAGE TO GROUP\n",
    "#MESSAGE TO GROUP\n",
    "#MESSAGE TO GROUP\n",
    "\n",
    "#I wasn't sure what to do with the '#weather_condition' var\n",
    "#Your input would be appreciated\n",
    "\n",
    "#MESSAGE TO GROUP\n",
    "#MESSAGE TO GROUP\n",
    "#MESSAGE TO GROUP\n",
    "#MESSAGE TO GROUP\n",
    "\n",
    "#weather_condition\n",
    "chi_df[['weather_condition']].value_counts()"
   ]
  },
  {
   "cell_type": "code",
   "execution_count": 59,
   "id": "0b2ba675-79eb-4d9b-a993-9faaf942d6b1",
   "metadata": {},
   "outputs": [
    {
     "data": {
      "text/plain": [
       "weather_condition           \n",
       "Clear                           6931\n",
       "Mostly Cloudy                   6876\n",
       "Overcast                        6509\n",
       "Fair                            5160\n",
       "Partly Cloudy                   4574\n",
       "Cloudy                          3447\n",
       "Scattered Clouds                2374\n",
       "Light Rain                      2193\n",
       "Light Snow                      1610\n",
       "Haze                             357\n",
       "Rain                             341\n",
       "Fog                              292\n",
       "Light Drizzle                    242\n",
       "Fair / Windy                     130\n",
       "Mostly Cloudy / Windy            122\n",
       "Cloudy / Windy                   114\n",
       "Snow                             108\n",
       "Light Thunderstorms and Rain     108\n",
       "Heavy Rain                        94\n",
       "Light Rain with Thunder           77\n",
       "T-Storm                           73\n",
       "Wintry Mix                        70\n",
       "Light Freezing Rain               57\n",
       "Thunderstorm                      56\n",
       "Light Rain / Windy                50\n",
       "dtype: int64"
      ]
     },
     "execution_count": 59,
     "metadata": {},
     "output_type": "execute_result"
    }
   ],
   "source": [
    "#top 25 frequent weather conditions:\n",
    "chi_df[['weather_condition']].value_counts()[:25]"
   ]
  },
  {
   "cell_type": "code",
   "execution_count": 60,
   "id": "5f896565-a6f3-4ce3-a89d-8ae3d8b2be0e",
   "metadata": {},
   "outputs": [],
   "source": [
    "chi_df['weather_condition'].value_counts()[:25]\n",
    "chi_weather = chi_df['weather_condition'].value_counts()[:25]\n",
    "chi_weather_dict = dict(chi_weather)\n",
    "\n",
    "chi_weather_names = chi_weather_dict.keys()\n",
    "chi_weather_values = chi_weather_dict.values()\n",
    "\n",
    "colors = random.choices(list(mcolors.CSS4_COLORS.values()), k = 25)"
   ]
  },
  {
   "cell_type": "code",
   "execution_count": 61,
   "id": "2cd20679-c507-45c6-a867-d7467633d21d",
   "metadata": {},
   "outputs": [
    {
     "data": {
      "image/png": "[encoded data removed]",
      "text/plain": [
       "<Figure size 864x864 with 1 Axes>"
      ]
     },
     "metadata": {},
     "output_type": "display_data"
    }
   ],
   "source": [
    "plt.rcParams[\"figure.figsize\"] = (12, 12)\n",
    "\n",
    "# Create a pieplot\n",
    "plt.pie(chi_weather_values, labels = chi_weather_names, colors = colors, \n",
    "        labeldistance = None, wedgeprops = { 'linewidth' : 2, 'edgecolor' : 'white' });\n",
    "plt.legend(loc = 0)\n",
    "plt.show();"
   ]
  },
  {
   "cell_type": "code",
   "execution_count": 62,
   "id": "99a692fd-0dcd-434c-94d6-44375bc8d52c",
   "metadata": {},
   "outputs": [
    {
     "data": {
      "text/plain": [
       "pressure(in)\n",
       "29.94           676\n",
       "29.91           598\n",
       "29.99           568\n",
       "30.06           565\n",
       "30.01           558\n",
       "               ... \n",
       "28.54             1\n",
       "28.64             1\n",
       "28.61             1\n",
       "28.60             1\n",
       "30.96             1\n",
       "Length: 230, dtype: int64"
      ]
     },
     "execution_count": 62,
     "metadata": {},
     "output_type": "execute_result"
    }
   ],
   "source": [
    "#pressure\n",
    "chi_df[['pressure(in)']].value_counts()"
   ]
  },
  {
   "cell_type": "code",
   "execution_count": 63,
   "id": "45bd20e4-e89b-470d-9014-f2d9c1da4905",
   "metadata": {},
   "outputs": [
    {
     "data": {
      "text/plain": [
       "pressure(in)\n",
       "20.41           1\n",
       "28.54           1\n",
       "28.59           2\n",
       "28.60           1\n",
       "28.61           1\n",
       "               ..\n",
       "30.83           9\n",
       "30.84           4\n",
       "30.86           1\n",
       "30.91           2\n",
       "30.96           1\n",
       "Length: 230, dtype: int64"
      ]
     },
     "execution_count": 63,
     "metadata": {},
     "output_type": "execute_result"
    }
   ],
   "source": [
    "chi_df[['pressure(in)']].value_counts().sort_index()"
   ]
  },
  {
   "cell_type": "code",
   "execution_count": 64,
   "id": "5a9cd527-9acd-4075-be34-7615004ea7d4",
   "metadata": {},
   "outputs": [
    {
     "data": {
      "text/plain": [
       "(pressure(in)    29.768081\n",
       " dtype: float64,\n",
       " pressure(in)    29.88\n",
       " dtype: float64)"
      ]
     },
     "execution_count": 64,
     "metadata": {},
     "output_type": "execute_result"
    }
   ],
   "source": [
    "#GO BACK IN CODE AND CHANGE THE REST OF MEAN/MEDIAN TO COMMAS:\n",
    "#GO BACK IN CODE AND CHANGE THE REST OF MEAN/MEDIAN TO COMMAS:\n",
    "#GO BACK IN CODE AND CHANGE THE REST OF MEAN/MEDIAN TO COMMAS:\n",
    "\n",
    "#GO BACK IN CODE AND CHANGE THE REST OF MEAN/MEDIAN TO COMMAS:\n",
    "#GO BACK IN CODE AND CHANGE THE REST OF MEAN/MEDIAN TO COMMAS:\n",
    "#GO BACK IN CODE AND CHANGE THE REST OF MEAN/MEDIAN TO COMMAS:\n",
    "\n",
    "chi_df[['pressure(in)']].mean(), chi_df[['pressure(in)']].median()"
   ]
  },
  {
   "cell_type": "code",
   "execution_count": 65,
   "id": "b7ccea25-c525-4499-b677-02a1a543b6d1",
   "metadata": {},
   "outputs": [
    {
     "data": {
      "image/png": "[encoded data removed]",
      "text/plain": [
       "<Figure size 576x288 with 1 Axes>"
      ]
     },
     "metadata": {
      "needs_background": "light"
     },
     "output_type": "display_data"
    }
   ],
   "source": [
    "plt.figure(figsize = (8, 4))\n",
    "sns.histplot(chi_df[['pressure(in)']], bins = 100);"
   ]
  },
  {
   "cell_type": "code",
   "execution_count": 66,
   "id": "fbed523f-0628-4763-925a-7cc21ba8bf0e",
   "metadata": {},
   "outputs": [
    {
     "data": {
      "image/png": "[encoded data removed]",
      "text/plain": [
       "<Figure size 576x288 with 1 Axes>"
      ]
     },
     "metadata": {
      "needs_background": "light"
     },
     "output_type": "display_data"
    }
   ],
   "source": [
    "plt.figure(figsize = (8, 4))\n",
    "sns.histplot(chi_df[['pressure(in)']].value_counts().sort_index(), bins = 100);"
   ]
  },
  {
   "cell_type": "code",
   "execution_count": 67,
   "id": "e2dbcbe5-3879-4b4b-bc0f-3dbb33eb0c4b",
   "metadata": {},
   "outputs": [],
   "source": [
    "chi_df['pressure(in)'].fillna(29.88, inplace = True)"
   ]
  },
  {
   "cell_type": "code",
   "execution_count": 68,
   "id": "4dc3ed0f-5694-417e-9e2a-21c7c40b9acb",
   "metadata": {},
   "outputs": [
    {
     "data": {
      "text/plain": [
       "weather_timestamp  \n",
       "2020-10-14 11:52:00    20\n",
       "2020-12-29 12:52:00    16\n",
       "2017-12-04 16:52:00    14\n",
       "2020-06-19 15:52:00    14\n",
       "2017-10-12 14:59:00    13\n",
       "                       ..\n",
       "2018-07-13 01:53:00     1\n",
       "2017-01-10 07:29:00     1\n",
       "2018-07-12 16:53:00     1\n",
       "2017-01-10 07:51:00     1\n",
       "2019-02-08 09:51:00     1\n",
       "Length: 27922, dtype: int64"
      ]
     },
     "execution_count": 68,
     "metadata": {},
     "output_type": "execute_result"
    }
   ],
   "source": [
    "#MESSAGE TO GROUP\n",
    "#MESSAGE TO GROUP\n",
    "#MESSAGE TO GROUP\n",
    "#MESSAGE TO GROUP\n",
    "\n",
    "#I wasn't sure what to do with the '#weather_timestamp' var\n",
    "#Your input would be appreciated\n",
    "\n",
    "#MESSAGE TO GROUP\n",
    "#MESSAGE TO GROUP\n",
    "#MESSAGE TO GROUP\n",
    "#MESSAGE TO GROUP\n",
    "\n",
    "#weather_timestamp\n",
    "chi_df[['weather_timestamp']].value_counts()"
   ]
  },
  {
   "cell_type": "code",
   "execution_count": 69,
   "id": "39e86cde-30a3-4b39-a237-19677140cb08",
   "metadata": {},
   "outputs": [
    {
     "data": {
      "text/plain": [
       "weather_timestamp  \n",
       "2016-06-17 14:51:00    5\n",
       "2016-06-17 14:52:00    1\n",
       "2016-06-17 14:53:00    1\n",
       "2016-06-17 15:52:00    1\n",
       "2016-06-17 15:53:00    3\n",
       "                      ..\n",
       "2020-12-31 17:15:00    1\n",
       "2020-12-31 17:35:00    1\n",
       "2020-12-31 19:45:00    5\n",
       "2020-12-31 20:52:00    4\n",
       "2020-12-31 21:55:00    2\n",
       "Length: 27922, dtype: int64"
      ]
     },
     "execution_count": 69,
     "metadata": {},
     "output_type": "execute_result"
    }
   ],
   "source": [
    "chi_df[['weather_timestamp']].value_counts().sort_index()"
   ]
  },
  {
   "cell_type": "code",
   "execution_count": 70,
   "id": "cb2735c1-d338-45e8-8964-c2d6b7e80cfd",
   "metadata": {},
   "outputs": [
    {
     "data": {
      "text/plain": [
       "wind_direction           310\n",
       "weather_condition        116\n",
       "weather_timestamp         64\n",
       "airport_code               2\n",
       "timezone                   2\n",
       "astronomical_twilight      1\n",
       "city                       1\n",
       "nautical_twilight          1\n",
       "civil_twilight             1\n",
       "sunrise_sunset             1\n",
       "traffic_calming            0\n",
       "stop                       0\n",
       "precipitation(in)          0\n",
       "amenity                    0\n",
       "bump                       0\n",
       "turning_loop               0\n",
       "crossing                   0\n",
       "give_way                   0\n",
       "junction                   0\n",
       "no_exit                    0\n",
       "traffic_signal             0\n",
       "railway                    0\n",
       "roundabout                 0\n",
       "station                    0\n",
       "wind_speed(mph)            0\n",
       "severity                   0\n",
       "visibility(mi)             0\n",
       "start_time                 0\n",
       "end_time                   0\n",
       "start_lat                  0\n",
       "start_lng                  0\n",
       "end_lat                    0\n",
       "end_lng                    0\n",
       "distance(mi)               0\n",
       "description                0\n",
       "number                     0\n",
       "street                     0\n",
       "side                       0\n",
       "county                     0\n",
       "state                      0\n",
       "zipcode                    0\n",
       "country                    0\n",
       "temperature(f)             0\n",
       "wind_chill(f)              0\n",
       "humidity(%)                0\n",
       "pressure(in)               0\n",
       "dtype: int64"
      ]
     },
     "execution_count": 70,
     "metadata": {},
     "output_type": "execute_result"
    }
   ],
   "source": [
    "#checking null counts\n",
    "chi_df.isna().sum().sort_values(ascending = False)"
   ]
  },
  {
   "cell_type": "code",
   "execution_count": null,
   "id": "c31b8e63-7ed5-4619-9148-a655df551d1a",
   "metadata": {},
   "outputs": [],
   "source": []
  }
 ],
 "metadata": {
  "kernelspec": {
   "display_name": "Python 3",
   "language": "python",
   "name": "python3"
  },
  "language_info": {
   "codemirror_mode": {
    "name": "ipython",
    "version": 3
   },
   "file_extension": ".py",
   "mimetype": "text/x-python",
   "name": "python",
   "nbconvert_exporter": "python",
   "pygments_lexer": "ipython3",
   "version": "3.8.8"
  }
 },
 "nbformat": 4,
 "nbformat_minor": 5
}
