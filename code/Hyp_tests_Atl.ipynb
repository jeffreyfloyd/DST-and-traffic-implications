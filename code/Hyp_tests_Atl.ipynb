{
 "cells": [
  {
   "cell_type": "code",
   "execution_count": 1,
   "id": "83bf3ecd-c5ec-464c-bf9a-b6e26db54a38",
   "metadata": {},
   "outputs": [],
   "source": [
    "#Standard python imports\n",
    "import pandas as pd \n",
    "import numpy as np\n",
    "import matplotlib.pyplot as plt\n",
    "\n",
    "#Stats imports\n",
    "import statsmodels.api as sm\n",
    "from statsmodels.formula.api import ols\n",
    "from statsmodels.stats.anova import anova_lm\n",
    "import statsmodels.stats.multicomp as mc\n",
    "import scipy.stats as stats\n",
    "\n",
    "#random seed for replicability\n",
    "np.random.seed(seed=42)"
   ]
  },
  {
   "cell_type": "code",
   "execution_count": 2,
   "id": "8e481a47-17f4-4969-a813-47946276e17a",
   "metadata": {},
   "outputs": [
    {
     "data": {
      "text/html": [
       "<div>\n",
       "<style scoped>\n",
       "    .dataframe tbody tr th:only-of-type {\n",
       "        vertical-align: middle;\n",
       "    }\n",
       "\n",
       "    .dataframe tbody tr th {\n",
       "        vertical-align: top;\n",
       "    }\n",
       "\n",
       "    .dataframe thead th {\n",
       "        text-align: right;\n",
       "    }\n",
       "</style>\n",
       "<table border=\"1\" class=\"dataframe\">\n",
       "  <thead>\n",
       "    <tr style=\"text-align: right;\">\n",
       "      <th></th>\n",
       "      <th>severity</th>\n",
       "      <th>start_lat</th>\n",
       "      <th>start_lng</th>\n",
       "      <th>end_lat</th>\n",
       "      <th>end_lng</th>\n",
       "      <th>distance(mi)</th>\n",
       "      <th>temperature(f)</th>\n",
       "      <th>wind_chill(f)</th>\n",
       "      <th>humidity(%)</th>\n",
       "      <th>pressure(in)</th>\n",
       "      <th>...</th>\n",
       "      <th>weather_condition_Light Snow and Sleet</th>\n",
       "      <th>weather_condition_Haze / Windy</th>\n",
       "      <th>weather_condition_Heavy Snow</th>\n",
       "      <th>weather_condition_Freezing Rain</th>\n",
       "      <th>weather_condition_Heavy Snow / Windy</th>\n",
       "      <th>weather_condition_Light Freezing Fog</th>\n",
       "      <th>weather_condition_Blowing Dust / Windy</th>\n",
       "      <th>weather_condition_Heavy Blowing Snow</th>\n",
       "      <th>weather_condition_Light Freezing Drizzle</th>\n",
       "      <th>is_DST</th>\n",
       "    </tr>\n",
       "  </thead>\n",
       "  <tbody>\n",
       "    <tr>\n",
       "      <th>0</th>\n",
       "      <td>3</td>\n",
       "      <td>32.83752</td>\n",
       "      <td>-83.64864</td>\n",
       "      <td>32.840424</td>\n",
       "      <td>-83.646307</td>\n",
       "      <td>0.242</td>\n",
       "      <td>66.0</td>\n",
       "      <td>66.0</td>\n",
       "      <td>90.0</td>\n",
       "      <td>29.79</td>\n",
       "      <td>...</td>\n",
       "      <td>0</td>\n",
       "      <td>0</td>\n",
       "      <td>0</td>\n",
       "      <td>0</td>\n",
       "      <td>0</td>\n",
       "      <td>0</td>\n",
       "      <td>0</td>\n",
       "      <td>0</td>\n",
       "      <td>0</td>\n",
       "      <td>0</td>\n",
       "    </tr>\n",
       "    <tr>\n",
       "      <th>1</th>\n",
       "      <td>2</td>\n",
       "      <td>33.74153</td>\n",
       "      <td>-84.41434</td>\n",
       "      <td>33.746580</td>\n",
       "      <td>-84.430340</td>\n",
       "      <td>0.983</td>\n",
       "      <td>62.6</td>\n",
       "      <td>62.6</td>\n",
       "      <td>100.0</td>\n",
       "      <td>29.80</td>\n",
       "      <td>...</td>\n",
       "      <td>0</td>\n",
       "      <td>0</td>\n",
       "      <td>0</td>\n",
       "      <td>0</td>\n",
       "      <td>0</td>\n",
       "      <td>0</td>\n",
       "      <td>0</td>\n",
       "      <td>0</td>\n",
       "      <td>0</td>\n",
       "      <td>0</td>\n",
       "    </tr>\n",
       "  </tbody>\n",
       "</table>\n",
       "<p>2 rows × 127 columns</p>\n",
       "</div>"
      ],
      "text/plain": [
       "   severity  start_lat  start_lng    end_lat    end_lng  distance(mi)  \\\n",
       "0         3   32.83752  -83.64864  32.840424 -83.646307         0.242   \n",
       "1         2   33.74153  -84.41434  33.746580 -84.430340         0.983   \n",
       "\n",
       "   temperature(f)  wind_chill(f)  humidity(%)  pressure(in)  ...  \\\n",
       "0            66.0           66.0         90.0         29.79  ...   \n",
       "1            62.6           62.6        100.0         29.80  ...   \n",
       "\n",
       "   weather_condition_Light Snow and Sleet  weather_condition_Haze / Windy  \\\n",
       "0                                       0                               0   \n",
       "1                                       0                               0   \n",
       "\n",
       "   weather_condition_Heavy Snow  weather_condition_Freezing Rain  \\\n",
       "0                             0                                0   \n",
       "1                             0                                0   \n",
       "\n",
       "   weather_condition_Heavy Snow / Windy  weather_condition_Light Freezing Fog  \\\n",
       "0                                     0                                     0   \n",
       "1                                     0                                     0   \n",
       "\n",
       "   weather_condition_Blowing Dust / Windy  \\\n",
       "0                                       0   \n",
       "1                                       0   \n",
       "\n",
       "   weather_condition_Heavy Blowing Snow  \\\n",
       "0                                     0   \n",
       "1                                     0   \n",
       "\n",
       "   weather_condition_Light Freezing Drizzle  is_DST  \n",
       "0                                         0       0  \n",
       "1                                         0       0  \n",
       "\n",
       "[2 rows x 127 columns]"
      ]
     },
     "execution_count": 2,
     "metadata": {},
     "output_type": "execute_result"
    }
   ],
   "source": [
    "atl_df = pd.read_csv('../data/atl_df_cleaned.csv')\n",
    "atl_df.head(2)"
   ]
  },
  {
   "cell_type": "markdown",
   "id": "14bf27b8-dc09-41a7-b0d7-faa68571c778",
   "metadata": {},
   "source": [
    "## ANOVA on severity of accidents for Spring DST Time Change"
   ]
  },
  {
   "cell_type": "code",
   "execution_count": 11,
   "id": "e2596143-72e0-41d8-a0a2-6489d12a400e",
   "metadata": {},
   "outputs": [],
   "source": [
    "#I (CH) referenced this article for a refresher on ANOVA and to find the libraries to use for each test\n",
    "#https://www.pythonfordatascience.org/anova-python/#anova-test\n",
    "#I referenced these pages for a refresher on ANOVA vs. Kruskall-Wallace and the impact of a non-normal distribution\n",
    "# https://stats.stackexchange.com/questions/76059/difference-between-anova-and-kruskal-wallis-test\n",
    "# http://www.biostathandbook.com/kruskalwallis.html"
   ]
  },
  {
   "cell_type": "code",
   "execution_count": 3,
   "id": "dbbecbdc-9f8b-4c92-bd13-a88876457694",
   "metadata": {},
   "outputs": [
    {
     "data": {
      "text/plain": [
       "F_onewayResult(statistic=16.368043185500582, pvalue=9.605237788385372e-08)"
      ]
     },
     "execution_count": 3,
     "metadata": {},
     "output_type": "execute_result"
    }
   ],
   "source": [
    "#Overall comparison of week before, week of DST, and week after DST for traffic accidents in chicago\n",
    "stats.f_oneway(atl_df['severity'][atl_df['week'] == 10],\n",
    "              atl_df['severity'][atl_df['week'] == 11],\n",
    "              atl_df['severity'][atl_df['week'] == 12])"
   ]
  },
  {
   "cell_type": "code",
   "execution_count": 16,
   "id": "5b0b37b4-b9ab-4e30-b727-0977c96cc805",
   "metadata": {},
   "outputs": [
    {
     "data": {
      "text/html": [
       "<div>\n",
       "<style scoped>\n",
       "    .dataframe tbody tr th:only-of-type {\n",
       "        vertical-align: middle;\n",
       "    }\n",
       "\n",
       "    .dataframe tbody tr th {\n",
       "        vertical-align: top;\n",
       "    }\n",
       "\n",
       "    .dataframe thead th {\n",
       "        text-align: right;\n",
       "    }\n",
       "</style>\n",
       "<table border=\"1\" class=\"dataframe\">\n",
       "  <thead>\n",
       "    <tr style=\"text-align: right;\">\n",
       "      <th></th>\n",
       "      <th>severity</th>\n",
       "      <th>start_lat</th>\n",
       "      <th>start_lng</th>\n",
       "      <th>end_lat</th>\n",
       "      <th>end_lng</th>\n",
       "      <th>distance(mi)</th>\n",
       "      <th>temperature(f)</th>\n",
       "      <th>wind_chill(f)</th>\n",
       "      <th>humidity(%)</th>\n",
       "      <th>pressure(in)</th>\n",
       "      <th>...</th>\n",
       "      <th>weather_condition_Light Snow and Sleet</th>\n",
       "      <th>weather_condition_Haze / Windy</th>\n",
       "      <th>weather_condition_Heavy Snow</th>\n",
       "      <th>weather_condition_Freezing Rain</th>\n",
       "      <th>weather_condition_Heavy Snow / Windy</th>\n",
       "      <th>weather_condition_Light Freezing Fog</th>\n",
       "      <th>weather_condition_Blowing Dust / Windy</th>\n",
       "      <th>weather_condition_Heavy Blowing Snow</th>\n",
       "      <th>weather_condition_Light Freezing Drizzle</th>\n",
       "      <th>is_DST</th>\n",
       "    </tr>\n",
       "  </thead>\n",
       "  <tbody>\n",
       "    <tr>\n",
       "      <th>3231</th>\n",
       "      <td>4</td>\n",
       "      <td>33.24735</td>\n",
       "      <td>-84.290017</td>\n",
       "      <td>33.24740</td>\n",
       "      <td>-84.284873</td>\n",
       "      <td>0.297</td>\n",
       "      <td>42.8</td>\n",
       "      <td>42.8</td>\n",
       "      <td>76.0</td>\n",
       "      <td>30.48</td>\n",
       "      <td>...</td>\n",
       "      <td>0</td>\n",
       "      <td>0</td>\n",
       "      <td>0</td>\n",
       "      <td>0</td>\n",
       "      <td>0</td>\n",
       "      <td>0</td>\n",
       "      <td>0</td>\n",
       "      <td>0</td>\n",
       "      <td>0</td>\n",
       "      <td>0</td>\n",
       "    </tr>\n",
       "    <tr>\n",
       "      <th>3232</th>\n",
       "      <td>3</td>\n",
       "      <td>33.56161</td>\n",
       "      <td>-84.314500</td>\n",
       "      <td>33.56765</td>\n",
       "      <td>-84.324130</td>\n",
       "      <td>0.694</td>\n",
       "      <td>59.0</td>\n",
       "      <td>59.0</td>\n",
       "      <td>35.0</td>\n",
       "      <td>30.51</td>\n",
       "      <td>...</td>\n",
       "      <td>0</td>\n",
       "      <td>0</td>\n",
       "      <td>0</td>\n",
       "      <td>0</td>\n",
       "      <td>0</td>\n",
       "      <td>0</td>\n",
       "      <td>0</td>\n",
       "      <td>0</td>\n",
       "      <td>0</td>\n",
       "      <td>0</td>\n",
       "    </tr>\n",
       "  </tbody>\n",
       "</table>\n",
       "<p>2 rows × 127 columns</p>\n",
       "</div>"
      ],
      "text/plain": [
       "      severity  start_lat  start_lng   end_lat    end_lng  distance(mi)  \\\n",
       "3231         4   33.24735 -84.290017  33.24740 -84.284873         0.297   \n",
       "3232         3   33.56161 -84.314500  33.56765 -84.324130         0.694   \n",
       "\n",
       "      temperature(f)  wind_chill(f)  humidity(%)  pressure(in)  ...  \\\n",
       "3231            42.8           42.8         76.0         30.48  ...   \n",
       "3232            59.0           59.0         35.0         30.51  ...   \n",
       "\n",
       "      weather_condition_Light Snow and Sleet  weather_condition_Haze / Windy  \\\n",
       "3231                                       0                               0   \n",
       "3232                                       0                               0   \n",
       "\n",
       "      weather_condition_Heavy Snow  weather_condition_Freezing Rain  \\\n",
       "3231                             0                                0   \n",
       "3232                             0                                0   \n",
       "\n",
       "      weather_condition_Heavy Snow / Windy  \\\n",
       "3231                                     0   \n",
       "3232                                     0   \n",
       "\n",
       "      weather_condition_Light Freezing Fog  \\\n",
       "3231                                     0   \n",
       "3232                                     0   \n",
       "\n",
       "      weather_condition_Blowing Dust / Windy  \\\n",
       "3231                                       0   \n",
       "3232                                       0   \n",
       "\n",
       "      weather_condition_Heavy Blowing Snow  \\\n",
       "3231                                     0   \n",
       "3232                                     0   \n",
       "\n",
       "      weather_condition_Light Freezing Drizzle  is_DST  \n",
       "3231                                         0       0  \n",
       "3232                                         0       0  \n",
       "\n",
       "[2 rows x 127 columns]"
      ]
     },
     "execution_count": 16,
     "metadata": {},
     "output_type": "execute_result"
    }
   ],
   "source": [
    "atl_df_spring_dst =  atl_df[(atl_df['week'] == 10) | (atl_df['week'] == 11) | (atl_df['week'] == 12)]\n",
    "atl_df_spring_dst.head(2)"
   ]
  },
  {
   "cell_type": "code",
   "execution_count": 17,
   "id": "b47a050e-1c6b-4b07-b372-166cc8cf9f26",
   "metadata": {},
   "outputs": [
    {
     "data": {
      "text/plain": [
       "10    467\n",
       "12    430\n",
       "11    362\n",
       "Name: week, dtype: int64"
      ]
     },
     "execution_count": 17,
     "metadata": {},
     "output_type": "execute_result"
    }
   ],
   "source": [
    "atl_df_spring_dst['week'].value_counts()"
   ]
  },
  {
   "cell_type": "code",
   "execution_count": 7,
   "id": "220dad13-48de-463b-a4a0-797344de5cad",
   "metadata": {},
   "outputs": [
    {
     "data": {
      "text/html": [
       "<div>\n",
       "<style scoped>\n",
       "    .dataframe tbody tr th:only-of-type {\n",
       "        vertical-align: middle;\n",
       "    }\n",
       "\n",
       "    .dataframe tbody tr th {\n",
       "        vertical-align: top;\n",
       "    }\n",
       "\n",
       "    .dataframe thead th {\n",
       "        text-align: right;\n",
       "    }\n",
       "</style>\n",
       "<table border=\"1\" class=\"dataframe\">\n",
       "  <thead>\n",
       "    <tr style=\"text-align: right;\">\n",
       "      <th></th>\n",
       "      <th>sum_sq</th>\n",
       "      <th>df</th>\n",
       "      <th>F</th>\n",
       "      <th>PR(&gt;F)</th>\n",
       "    </tr>\n",
       "  </thead>\n",
       "  <tbody>\n",
       "    <tr>\n",
       "      <th>C(week)</th>\n",
       "      <td>24.397414</td>\n",
       "      <td>2.0</td>\n",
       "      <td>16.368043</td>\n",
       "      <td>9.605238e-08</td>\n",
       "    </tr>\n",
       "    <tr>\n",
       "      <th>Residual</th>\n",
       "      <td>936.066446</td>\n",
       "      <td>1256.0</td>\n",
       "      <td>NaN</td>\n",
       "      <td>NaN</td>\n",
       "    </tr>\n",
       "  </tbody>\n",
       "</table>\n",
       "</div>"
      ],
      "text/plain": [
       "              sum_sq      df          F        PR(>F)\n",
       "C(week)    24.397414     2.0  16.368043  9.605238e-08\n",
       "Residual  936.066446  1256.0        NaN           NaN"
      ]
     },
     "execution_count": 7,
     "metadata": {},
     "output_type": "execute_result"
    }
   ],
   "source": [
    "atl_spring_anova = ols(\"severity ~C(week)\", data=atl_df_spring_dst).fit()\n",
    "atl_aov_table = sm.stats.anova_lm(atl_spring_anova, typ=2)\n",
    "atl_aov_table"
   ]
  },
  {
   "cell_type": "code",
   "execution_count": 8,
   "id": "75596336-67e8-4ae8-8ea8-8212c262d65a",
   "metadata": {},
   "outputs": [
    {
     "data": {
      "text/plain": [
       "ShapiroResult(statistic=0.8650997281074524, pvalue=1.4344987794016775e-31)"
      ]
     },
     "execution_count": 8,
     "metadata": {},
     "output_type": "execute_result"
    }
   ],
   "source": [
    "#Shapiro test of normality, failed as the severity of accidents is not normally distributed\n",
    "stats.shapiro(atl_spring_anova.resid)"
   ]
  },
  {
   "cell_type": "code",
   "execution_count": 9,
   "id": "2bed5654-691a-46db-a108-ef4acbbd5589",
   "metadata": {},
   "outputs": [
    {
     "data": {
      "image/png": "[encoded data removed]",
      "text/plain": [
       "<Figure size 432x288 with 1 Axes>"
      ]
     },
     "metadata": {
      "needs_background": "light"
     },
     "output_type": "display_data"
    }
   ],
   "source": [
    "#QQ plot to conform lack of normality\n",
    "sm.qqplot(atl_df_spring_dst['severity'], line='s');"
   ]
  },
  {
   "cell_type": "code",
   "execution_count": 10,
   "id": "a79f17c3-b833-478a-bb9d-5c784992d0c4",
   "metadata": {
    "tags": []
   },
   "outputs": [
    {
     "data": {
      "text/plain": [
       "LeveneResult(statistic=10.096230113221944, pvalue=4.468234682486448e-05)"
      ]
     },
     "execution_count": 10,
     "metadata": {},
     "output_type": "execute_result"
    }
   ],
   "source": [
    "#Levene's test of \n",
    "stats.levene(atl_df['severity'][atl_df['week'] == 10],\n",
    "              atl_df['severity'][atl_df['week'] == 11],\n",
    "              atl_df['severity'][atl_df['week'] == 12])"
   ]
  },
  {
   "cell_type": "code",
   "execution_count": 11,
   "id": "96e308d2-6194-456f-845a-6408df651930",
   "metadata": {},
   "outputs": [
    {
     "data": {
      "text/plain": [
       "KruskalResult(statistic=30.020383312312738, pvalue=3.028005024142762e-07)"
      ]
     },
     "execution_count": 11,
     "metadata": {},
     "output_type": "execute_result"
    }
   ],
   "source": [
    "stats.kruskal(atl_df['severity'][atl_df['week'] == 10],\n",
    "              atl_df['severity'][atl_df['week'] == 11],\n",
    "              atl_df['severity'][atl_df['week'] == 12])"
   ]
  },
  {
   "cell_type": "markdown",
   "id": "796ec272-25e3-4d86-b467-20bab71c9b3d",
   "metadata": {},
   "source": [
    "### Tukey Honestly Significant Difference (HSD) Test"
   ]
  },
  {
   "cell_type": "code",
   "execution_count": 18,
   "id": "a91f9a02-ca12-4b61-a2c8-ecc2e7bd12ce",
   "metadata": {},
   "outputs": [
    {
     "name": "stderr",
     "output_type": "stream",
     "text": [
      "<ipython-input-18-1fb9b8ff5698>:1: SettingWithCopyWarning: \n",
      "A value is trying to be set on a copy of a slice from a DataFrame.\n",
      "Try using .loc[row_indexer,col_indexer] = value instead\n",
      "\n",
      "See the caveats in the documentation: https://pandas.pydata.org/pandas-docs/stable/user_guide/indexing.html#returning-a-view-versus-a-copy\n",
      "  atl_df_spring_dst['week'] = atl_df_spring_dst.week.map({10 : 'Week Before', 11 : 'Week of DST', 12: 'Week After'})\n"
     ]
    },
    {
     "data": {
      "text/html": [
       "<div>\n",
       "<style scoped>\n",
       "    .dataframe tbody tr th:only-of-type {\n",
       "        vertical-align: middle;\n",
       "    }\n",
       "\n",
       "    .dataframe tbody tr th {\n",
       "        vertical-align: top;\n",
       "    }\n",
       "\n",
       "    .dataframe thead th {\n",
       "        text-align: right;\n",
       "    }\n",
       "</style>\n",
       "<table border=\"1\" class=\"dataframe\">\n",
       "  <thead>\n",
       "    <tr style=\"text-align: right;\">\n",
       "      <th></th>\n",
       "      <th>severity</th>\n",
       "      <th>start_lat</th>\n",
       "      <th>start_lng</th>\n",
       "      <th>end_lat</th>\n",
       "      <th>end_lng</th>\n",
       "      <th>distance(mi)</th>\n",
       "      <th>temperature(f)</th>\n",
       "      <th>wind_chill(f)</th>\n",
       "      <th>humidity(%)</th>\n",
       "      <th>pressure(in)</th>\n",
       "      <th>...</th>\n",
       "      <th>weather_condition_Light Snow and Sleet</th>\n",
       "      <th>weather_condition_Haze / Windy</th>\n",
       "      <th>weather_condition_Heavy Snow</th>\n",
       "      <th>weather_condition_Freezing Rain</th>\n",
       "      <th>weather_condition_Heavy Snow / Windy</th>\n",
       "      <th>weather_condition_Light Freezing Fog</th>\n",
       "      <th>weather_condition_Blowing Dust / Windy</th>\n",
       "      <th>weather_condition_Heavy Blowing Snow</th>\n",
       "      <th>weather_condition_Light Freezing Drizzle</th>\n",
       "      <th>is_DST</th>\n",
       "    </tr>\n",
       "  </thead>\n",
       "  <tbody>\n",
       "    <tr>\n",
       "      <th>3231</th>\n",
       "      <td>4</td>\n",
       "      <td>33.24735</td>\n",
       "      <td>-84.290017</td>\n",
       "      <td>33.24740</td>\n",
       "      <td>-84.284873</td>\n",
       "      <td>0.297</td>\n",
       "      <td>42.8</td>\n",
       "      <td>42.8</td>\n",
       "      <td>76.0</td>\n",
       "      <td>30.48</td>\n",
       "      <td>...</td>\n",
       "      <td>0</td>\n",
       "      <td>0</td>\n",
       "      <td>0</td>\n",
       "      <td>0</td>\n",
       "      <td>0</td>\n",
       "      <td>0</td>\n",
       "      <td>0</td>\n",
       "      <td>0</td>\n",
       "      <td>0</td>\n",
       "      <td>0</td>\n",
       "    </tr>\n",
       "    <tr>\n",
       "      <th>3232</th>\n",
       "      <td>3</td>\n",
       "      <td>33.56161</td>\n",
       "      <td>-84.314500</td>\n",
       "      <td>33.56765</td>\n",
       "      <td>-84.324130</td>\n",
       "      <td>0.694</td>\n",
       "      <td>59.0</td>\n",
       "      <td>59.0</td>\n",
       "      <td>35.0</td>\n",
       "      <td>30.51</td>\n",
       "      <td>...</td>\n",
       "      <td>0</td>\n",
       "      <td>0</td>\n",
       "      <td>0</td>\n",
       "      <td>0</td>\n",
       "      <td>0</td>\n",
       "      <td>0</td>\n",
       "      <td>0</td>\n",
       "      <td>0</td>\n",
       "      <td>0</td>\n",
       "      <td>0</td>\n",
       "    </tr>\n",
       "  </tbody>\n",
       "</table>\n",
       "<p>2 rows × 127 columns</p>\n",
       "</div>"
      ],
      "text/plain": [
       "      severity  start_lat  start_lng   end_lat    end_lng  distance(mi)  \\\n",
       "3231         4   33.24735 -84.290017  33.24740 -84.284873         0.297   \n",
       "3232         3   33.56161 -84.314500  33.56765 -84.324130         0.694   \n",
       "\n",
       "      temperature(f)  wind_chill(f)  humidity(%)  pressure(in)  ...  \\\n",
       "3231            42.8           42.8         76.0         30.48  ...   \n",
       "3232            59.0           59.0         35.0         30.51  ...   \n",
       "\n",
       "      weather_condition_Light Snow and Sleet  weather_condition_Haze / Windy  \\\n",
       "3231                                       0                               0   \n",
       "3232                                       0                               0   \n",
       "\n",
       "      weather_condition_Heavy Snow  weather_condition_Freezing Rain  \\\n",
       "3231                             0                                0   \n",
       "3232                             0                                0   \n",
       "\n",
       "      weather_condition_Heavy Snow / Windy  \\\n",
       "3231                                     0   \n",
       "3232                                     0   \n",
       "\n",
       "      weather_condition_Light Freezing Fog  \\\n",
       "3231                                     0   \n",
       "3232                                     0   \n",
       "\n",
       "      weather_condition_Blowing Dust / Windy  \\\n",
       "3231                                       0   \n",
       "3232                                       0   \n",
       "\n",
       "      weather_condition_Heavy Blowing Snow  \\\n",
       "3231                                     0   \n",
       "3232                                     0   \n",
       "\n",
       "      weather_condition_Light Freezing Drizzle  is_DST  \n",
       "3231                                         0       0  \n",
       "3232                                         0       0  \n",
       "\n",
       "[2 rows x 127 columns]"
      ]
     },
     "execution_count": 18,
     "metadata": {},
     "output_type": "execute_result"
    }
   ],
   "source": [
    "atl_df_spring_dst['week'] = atl_df_spring_dst.week.map({10 : 'Week Before', 11 : 'Week of DST', 12: 'Week After'})\n",
    "atl_df_spring_dst.head(2)"
   ]
  },
  {
   "cell_type": "code",
   "execution_count": 19,
   "id": "c06ea81e-f46b-4daa-9be2-1fd6e330a44e",
   "metadata": {},
   "outputs": [
    {
     "data": {
      "text/plain": [
       "Week Before    467\n",
       "Week After     430\n",
       "Week of DST    362\n",
       "Name: week, dtype: int64"
      ]
     },
     "execution_count": 19,
     "metadata": {},
     "output_type": "execute_result"
    }
   ],
   "source": [
    "atl_df_spring_dst['week'].value_counts()"
   ]
  },
  {
   "cell_type": "code",
   "execution_count": 20,
   "id": "86cf09e3-0eb2-48a1-afe1-11c22aad0b85",
   "metadata": {},
   "outputs": [
    {
     "data": {
      "text/html": [
       "<table class=\"simpletable\">\n",
       "<caption>Multiple Comparison of Means - Tukey HSD, FWER=0.05</caption>\n",
       "<tr>\n",
       "    <th>group1</th>      <th>group2</th>    <th>meandiff</th> <th>p-adj</th>  <th>lower</th>   <th>upper</th>  <th>reject</th>\n",
       "</tr>\n",
       "<tr>\n",
       "  <td>Week Before</td> <td>Week of DST</td>  <td>-0.0074</td>  <td>0.9</td>  <td>-0.1492</td> <td>0.1345</td>   <td>False</td>\n",
       "</tr>\n",
       "<tr>\n",
       "  <td>Week Before</td> <td>Week After</td>   <td>-0.2967</td> <td>0.001</td> <td>-0.4321</td> <td>-0.1613</td>  <td>True</td> \n",
       "</tr>\n",
       "<tr>\n",
       "  <td>Week of DST</td> <td>Week After</td>   <td>-0.2893</td> <td>0.001</td> <td>-0.4338</td> <td>-0.1448</td>  <td>True</td> \n",
       "</tr>\n",
       "</table>"
      ],
      "text/plain": [
       "<class 'statsmodels.iolib.table.SimpleTable'>"
      ]
     },
     "execution_count": 20,
     "metadata": {},
     "output_type": "execute_result"
    }
   ],
   "source": [
    "comp = mc.MultiComparison(atl_df_spring_dst['severity'], atl_df_spring_dst['week'], \n",
    "                         group_order=['Week Before', 'Week of DST', 'Week After'])\n",
    "post_hoc = comp.tukeyhsd()\n",
    "post_hoc.summary()"
   ]
  },
  {
   "cell_type": "code",
   "execution_count": 21,
   "id": "910528cb-da18-4cc9-98fd-403c4c256503",
   "metadata": {},
   "outputs": [
    {
     "data": {
      "image/png": "[encoded data removed]",
      "text/plain": [
       "<Figure size 720x432 with 1 Axes>"
      ]
     },
     "metadata": {
      "needs_background": "light"
     },
     "output_type": "display_data"
    }
   ],
   "source": [
    "post_hoc.plot_simultaneous(ylabel='Week', xlabel='Score Difference');"
   ]
  },
  {
   "cell_type": "markdown",
   "id": "70029247-2590-4eb8-9423-099585317f6b",
   "metadata": {},
   "source": [
    "### Bonferroni Correction"
   ]
  },
  {
   "cell_type": "code",
   "execution_count": 22,
   "id": "bcc4cd3d-33d6-4b4f-b5c1-b8cd9e4ddb43",
   "metadata": {},
   "outputs": [
    {
     "data": {
      "text/html": [
       "<table class=\"simpletable\">\n",
       "<caption>Test Multiple Comparison ttest_ind \n",
       "FWER=0.05 method=bonf\n",
       "alphacSidak=0.02, alphacBonf=0.017</caption>\n",
       "<tr>\n",
       "    <th>group1</th>      <th>group2</th>     <th>stat</th>   <th>pval</th>  <th>pval_corr</th> <th>reject</th>\n",
       "</tr>\n",
       "<tr>\n",
       "  <td>Week Before</td> <td>Week of DST</td> <td>0.1202</td> <td>0.9043</td>    <td>1.0</td>     <td>False</td>\n",
       "</tr>\n",
       "<tr>\n",
       "  <td>Week Before</td> <td>Week After</td>  <td>5.2435</td>   <td>0.0</td>     <td>0.0</td>     <td>True</td> \n",
       "</tr>\n",
       "<tr>\n",
       "  <td>Week of DST</td> <td>Week After</td>  <td>4.6551</td>   <td>0.0</td>     <td>0.0</td>     <td>True</td> \n",
       "</tr>\n",
       "</table>"
      ],
      "text/plain": [
       "<class 'statsmodels.iolib.table.SimpleTable'>"
      ]
     },
     "execution_count": 22,
     "metadata": {},
     "output_type": "execute_result"
    }
   ],
   "source": [
    "tbl, a1, a2 = comp.allpairtest(stats.ttest_ind, method='bonf')\n",
    "tbl"
   ]
  },
  {
   "cell_type": "code",
   "execution_count": 47,
   "id": "037ae9fe-fc95-4ba0-81ce-b078159b3a8d",
   "metadata": {},
   "outputs": [
    {
     "data": {
      "text/html": [
       "<div>\n",
       "<style scoped>\n",
       "    .dataframe tbody tr th:only-of-type {\n",
       "        vertical-align: middle;\n",
       "    }\n",
       "\n",
       "    .dataframe tbody tr th {\n",
       "        vertical-align: top;\n",
       "    }\n",
       "\n",
       "    .dataframe thead th {\n",
       "        text-align: right;\n",
       "    }\n",
       "</style>\n",
       "<table border=\"1\" class=\"dataframe\">\n",
       "  <thead>\n",
       "    <tr style=\"text-align: right;\">\n",
       "      <th></th>\n",
       "      <th>severity</th>\n",
       "      <th>start_lat</th>\n",
       "      <th>start_lng</th>\n",
       "      <th>end_lat</th>\n",
       "      <th>end_lng</th>\n",
       "      <th>distance(mi)</th>\n",
       "      <th>temperature(f)</th>\n",
       "      <th>wind_chill(f)</th>\n",
       "      <th>humidity(%)</th>\n",
       "      <th>pressure(in)</th>\n",
       "      <th>...</th>\n",
       "      <th>hour_16</th>\n",
       "      <th>hour_17</th>\n",
       "      <th>hour_18</th>\n",
       "      <th>hour_19</th>\n",
       "      <th>hour_20</th>\n",
       "      <th>hour_21</th>\n",
       "      <th>hour_22</th>\n",
       "      <th>hour_23</th>\n",
       "      <th>weather_condition_Light Snow and Sleet</th>\n",
       "      <th>is_DST</th>\n",
       "    </tr>\n",
       "    <tr>\n",
       "      <th>week</th>\n",
       "      <th></th>\n",
       "      <th></th>\n",
       "      <th></th>\n",
       "      <th></th>\n",
       "      <th></th>\n",
       "      <th></th>\n",
       "      <th></th>\n",
       "      <th></th>\n",
       "      <th></th>\n",
       "      <th></th>\n",
       "      <th></th>\n",
       "      <th></th>\n",
       "      <th></th>\n",
       "      <th></th>\n",
       "      <th></th>\n",
       "      <th></th>\n",
       "      <th></th>\n",
       "      <th></th>\n",
       "      <th></th>\n",
       "      <th></th>\n",
       "      <th></th>\n",
       "    </tr>\n",
       "  </thead>\n",
       "  <tbody>\n",
       "    <tr>\n",
       "      <th>10</th>\n",
       "      <td>2.759259</td>\n",
       "      <td>41.971090</td>\n",
       "      <td>-87.844087</td>\n",
       "      <td>41.971160</td>\n",
       "      <td>-87.844042</td>\n",
       "      <td>0.378793</td>\n",
       "      <td>41.404630</td>\n",
       "      <td>36.361667</td>\n",
       "      <td>61.195683</td>\n",
       "      <td>29.898611</td>\n",
       "      <td>...</td>\n",
       "      <td>0.107407</td>\n",
       "      <td>0.118519</td>\n",
       "      <td>0.074074</td>\n",
       "      <td>0.027778</td>\n",
       "      <td>0.020370</td>\n",
       "      <td>0.014815</td>\n",
       "      <td>0.029630</td>\n",
       "      <td>0.027778</td>\n",
       "      <td>0.0</td>\n",
       "      <td>0.644444</td>\n",
       "    </tr>\n",
       "    <tr>\n",
       "      <th>11</th>\n",
       "      <td>2.626362</td>\n",
       "      <td>41.956557</td>\n",
       "      <td>-87.859411</td>\n",
       "      <td>41.956819</td>\n",
       "      <td>-87.859643</td>\n",
       "      <td>0.278264</td>\n",
       "      <td>34.605338</td>\n",
       "      <td>27.270479</td>\n",
       "      <td>73.103486</td>\n",
       "      <td>30.017669</td>\n",
       "      <td>...</td>\n",
       "      <td>0.080610</td>\n",
       "      <td>0.071895</td>\n",
       "      <td>0.049020</td>\n",
       "      <td>0.033769</td>\n",
       "      <td>0.021786</td>\n",
       "      <td>0.025054</td>\n",
       "      <td>0.028322</td>\n",
       "      <td>0.028322</td>\n",
       "      <td>0.0</td>\n",
       "      <td>0.464052</td>\n",
       "    </tr>\n",
       "    <tr>\n",
       "      <th>12</th>\n",
       "      <td>2.697479</td>\n",
       "      <td>41.938544</td>\n",
       "      <td>-87.859321</td>\n",
       "      <td>41.938944</td>\n",
       "      <td>-87.859486</td>\n",
       "      <td>0.228887</td>\n",
       "      <td>44.143137</td>\n",
       "      <td>40.588095</td>\n",
       "      <td>70.200280</td>\n",
       "      <td>29.822913</td>\n",
       "      <td>...</td>\n",
       "      <td>0.078431</td>\n",
       "      <td>0.060224</td>\n",
       "      <td>0.050420</td>\n",
       "      <td>0.023810</td>\n",
       "      <td>0.022409</td>\n",
       "      <td>0.028011</td>\n",
       "      <td>0.019608</td>\n",
       "      <td>0.036415</td>\n",
       "      <td>0.0</td>\n",
       "      <td>0.000000</td>\n",
       "    </tr>\n",
       "  </tbody>\n",
       "</table>\n",
       "<p>3 rows × 112 columns</p>\n",
       "</div>"
      ],
      "text/plain": [
       "      severity  start_lat  start_lng    end_lat    end_lng  distance(mi)  \\\n",
       "week                                                                       \n",
       "10    2.759259  41.971090 -87.844087  41.971160 -87.844042      0.378793   \n",
       "11    2.626362  41.956557 -87.859411  41.956819 -87.859643      0.278264   \n",
       "12    2.697479  41.938544 -87.859321  41.938944 -87.859486      0.228887   \n",
       "\n",
       "      temperature(f)  wind_chill(f)  humidity(%)  pressure(in)  ...   hour_16  \\\n",
       "week                                                            ...             \n",
       "10         41.404630      36.361667    61.195683     29.898611  ...  0.107407   \n",
       "11         34.605338      27.270479    73.103486     30.017669  ...  0.080610   \n",
       "12         44.143137      40.588095    70.200280     29.822913  ...  0.078431   \n",
       "\n",
       "       hour_17   hour_18   hour_19   hour_20   hour_21   hour_22   hour_23  \\\n",
       "week                                                                         \n",
       "10    0.118519  0.074074  0.027778  0.020370  0.014815  0.029630  0.027778   \n",
       "11    0.071895  0.049020  0.033769  0.021786  0.025054  0.028322  0.028322   \n",
       "12    0.060224  0.050420  0.023810  0.022409  0.028011  0.019608  0.036415   \n",
       "\n",
       "      weather_condition_Light Snow and Sleet    is_DST  \n",
       "week                                                    \n",
       "10                                       0.0  0.644444  \n",
       "11                                       0.0  0.464052  \n",
       "12                                       0.0  0.000000  \n",
       "\n",
       "[3 rows x 112 columns]"
      ]
     },
     "execution_count": 47,
     "metadata": {},
     "output_type": "execute_result"
    }
   ],
   "source": [
    "chi_df_spring_dst.groupby('week').mean()"
   ]
  },
  {
   "cell_type": "markdown",
   "id": "4683a9ea-6c96-4b53-a238-7682cbb59931",
   "metadata": {},
   "source": [
    "### Sidak Correction "
   ]
  },
  {
   "cell_type": "code",
   "execution_count": 23,
   "id": "b16be0e6-b3fe-4027-829d-9892262037c0",
   "metadata": {},
   "outputs": [
    {
     "data": {
      "text/html": [
       "<table class=\"simpletable\">\n",
       "<caption>Test Multiple Comparison ttest_ind \n",
       "FWER=0.05 method=sidak\n",
       "alphacSidak=0.02, alphacBonf=0.017</caption>\n",
       "<tr>\n",
       "    <th>group1</th>      <th>group2</th>     <th>stat</th>   <th>pval</th>  <th>pval_corr</th> <th>reject</th>\n",
       "</tr>\n",
       "<tr>\n",
       "  <td>Week Before</td> <td>Week of DST</td> <td>0.1202</td> <td>0.9043</td>  <td>0.9991</td>    <td>False</td>\n",
       "</tr>\n",
       "<tr>\n",
       "  <td>Week Before</td> <td>Week After</td>  <td>5.2435</td>   <td>0.0</td>     <td>0.0</td>     <td>True</td> \n",
       "</tr>\n",
       "<tr>\n",
       "  <td>Week of DST</td> <td>Week After</td>  <td>4.6551</td>   <td>0.0</td>     <td>0.0</td>     <td>True</td> \n",
       "</tr>\n",
       "</table>"
      ],
      "text/plain": [
       "<class 'statsmodels.iolib.table.SimpleTable'>"
      ]
     },
     "execution_count": 23,
     "metadata": {},
     "output_type": "execute_result"
    }
   ],
   "source": [
    "tbl, a1, a2 = comp.allpairtest(stats.ttest_ind, method='sidak')\n",
    "tbl"
   ]
  },
  {
   "cell_type": "markdown",
   "id": "1855f008-c529-4d3d-aa40-91f6933f1608",
   "metadata": {},
   "source": [
    "### Interpretation"
   ]
  },
  {
   "cell_type": "markdown",
   "id": "51f6d2c4-111c-4a4e-81e4-5a938d11cc07",
   "metadata": {},
   "source": [
    "* Based on the results of the ANOVA and Kruskall-Wallace tests we can see that there is a significant difference in the severity of traffic accidents before, during the week of DST, and after the week of DST.\n",
    "* Interestingly in Atlanta we saw a difference in the week before DST and the week after DST and the week of DST and the week after DST. "
   ]
  },
  {
   "cell_type": "code",
   "execution_count": null,
   "id": "36646ae2-6ef4-44a1-b180-5b4eea5e5e93",
   "metadata": {},
   "outputs": [],
   "source": []
  }
 ],
 "metadata": {
  "kernelspec": {
   "display_name": "Python 3",
   "language": "python",
   "name": "python3"
  },
  "language_info": {
   "codemirror_mode": {
    "name": "ipython",
    "version": 3
   },
   "file_extension": ".py",
   "mimetype": "text/x-python",
   "name": "python",
   "nbconvert_exporter": "python",
   "pygments_lexer": "ipython3",
   "version": "3.8.8"
  }
 },
 "nbformat": 4,
 "nbformat_minor": 5
}
